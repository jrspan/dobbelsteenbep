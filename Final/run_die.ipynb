{
 "cells": [
  {
   "cell_type": "code",
   "execution_count": 2,
   "id": "initial_id",
   "metadata": {
    "collapsed": true,
    "ExecuteTime": {
     "end_time": "2024-06-11T12:25:39.854636Z",
     "start_time": "2024-06-11T12:25:29.465301Z"
    }
   },
   "outputs": [],
   "source": [
    "from calibrator import *\n",
    "from analysis import *\n",
    "from dobbel import *\n",
    "import matplotlib.pyplot as plt\n",
    "dob = dobbellogger()"
   ]
  },
  {
   "cell_type": "code",
   "outputs": [],
   "source": [
    "import pandas as pd\n",
    "import numpy as np\n",
    "from help_functies import *\n",
    "from matrix_helper import *\n",
    "\n",
    "\n",
    "def run_analysis(data_df_or_csv_path, cali, std_cali, N, gamma, N_zv, gamma_zv, csv=False, firstlast=False, save_path='results.csv'):\n",
    "    gyro_std = std_cali['gyro stds']\n",
    "    acc_std = std_cali['acc stds']\n",
    "    if csv:\n",
    "        data_nb = pd.read_csv(data_df_or_csv_path)\n",
    "    else:\n",
    "        data_nb = data_df_or_csv_path.copy()\n",
    "    data_nb = remove_nan(data_nb)\n",
    "    rotmat, biasvec, gyro_bias = cali['acc rotmat'], cali['acc bias'], cali['gyro bias']\n",
    "    data_nb['x_gyro'] = data_nb['x_gyro'] - gyro_bias[0]\n",
    "    data_nb['y_gyro'] = data_nb['y_gyro'] - gyro_bias[1]\n",
    "    data_nb['z_gyro'] = data_nb['z_gyro'] - gyro_bias[2]\n",
    "\n",
    "    no_bias_list = []\n",
    "    for i, row in data_nb.iterrows():\n",
    "        meas = np.array([[row['x_acc']], [row['y_acc']], [row['z_acc']]])\n",
    "        no_bias = np.matmul(rotmat, meas) + np.reshape(biasvec, (3, 1))\n",
    "        no_bias_list.append(np.reshape(no_bias, 3))\n",
    "\n",
    "    no_bias = np.reshape(np.concatenate(no_bias_list), (len(no_bias_list), 3))\n",
    "    data_nb['x_acc'] = no_bias[:, 0]\n",
    "    data_nb['y_acc'] = no_bias[:, 1]\n",
    "    data_nb['z_acc'] = no_bias[:, 2]\n",
    "\n",
    "    for i, row in data_nb.iterrows():\n",
    "        data_nb.loc[i, 'x_gyro'], data_nb.loc[i, 'y_gyro'], data_nb.loc[i, 'z_gyro'] = rotate_vector(np.array([row['x_gyro'], row['y_gyro'], row['z_gyro']]), cali['rot quat gyro'])\n",
    "\n",
    "\n",
    "    y11 = np.array([np.mean(data_nb['x_acc'][0:10]), np.mean(data_nb['y_acc'][0:10]), np.mean(data_nb['z_acc'][0:10])])\n",
    "    gb = y11 / np.linalg.norm(y11)\n",
    "    gn = np.array([0, 0, 1])\n",
    "    mn = np.array([1, 0, 0])\n",
    "    ymb= np.array([1, 2, 3])\n",
    "    mb = np.array([1, 0, 0]) #np.cross(gb, np.cross(ymb / np.linalg.norm(ymb), gb))\n",
    "\n",
    "    A = - np.matmul(left_quat_mul(np.array([0, *gn])), right_quat_mul(np.array([0, *gb]))) - np.matmul(left_quat_mul(np.array([0, *mn])), right_quat_mul(np.array([0, *mb])))\n",
    "\n",
    "    # Compute eigenvalues and eigenvectors\n",
    "    eigenvalues, eigenvectors = np.linalg.eigh(A)\n",
    "\n",
    "    # Eigenvalues are sorted in ascending order by np.linalg.eigh,\n",
    "    # and the corresponding eigenvectors are columns of 'eigenvectors'\n",
    "    max_eigenvalue_index = np.argmax(eigenvalues)\n",
    "    max_eigenvector = eigenvectors[:, max_eigenvalue_index]\n",
    "\n",
    "    q11 = max_eigenvector\n",
    "\n",
    "    dqde = np.array([\n",
    "        [0,0,0],\n",
    "        [1,0,0],\n",
    "        [0,1,0],\n",
    "        [0,0,1]\n",
    "    ])\n",
    "\n",
    "    sigma_etha = np.array([\n",
    "        [(np.pi / 9) ** 2, 0, 0],\n",
    "        [0, (np.pi / 9) ** 2, 0],\n",
    "        [0, 0, (np.pi / 9) ** 2]\n",
    "    ])\n",
    "\n",
    "    P11_rot = 0.25 * np.matmul(np.matmul(np.matmul(np.matmul(right_quat_mul(q11), dqde), sigma_etha), dqde.T), right_quat_mul(q11))\n",
    "    v11 = np.array([0,0,0])\n",
    "    p11 = np.array([0,0,0])\n",
    "\n",
    "\n",
    "    # Q_gyro = np.array([\n",
    "    #     [gyro_std[0] ** 2, 0, 0],\n",
    "    #     [0, gyro_std[1] ** 2, 0],\n",
    "    #     [0, 0, gyro_std[2] ** 2]\n",
    "    # ])\n",
    "    # Q_pv_std = 0.0001\n",
    "    # Q_pv = Q_pv_std * np.eye(6)\n",
    "    # Q = np.vstack([np.hstack([Q_pv, np.zeros((6, 3))]), np.hstack([np.zeros((3, 6)), Q_gyro])])\n",
    "\n",
    "    Q = np.array([[acc_std[0] ** 2, 0., 0., 0., 0., 0., 0., 0., 0.],\n",
    "                  [0., acc_std[1] ** 2, 0., 0., 0., 0., 0., 0., 0.],\n",
    "                  [0., 0., acc_std[2] ** 2, 0., 0., 0., 0., 0., 0.],\n",
    "                  [0., 0., 0., acc_std[0] ** 2, 0., 0., 0., 0., 0.],\n",
    "                  [0., 0., 0., 0., acc_std[1] ** 2, 0., 0., 0., 0.],\n",
    "                  [0., 0., 0., 0., 0., acc_std[2] ** 2, 0., 0., 0.],\n",
    "                  [0., 0., 0., 0., 0., 0., gyro_std[0] ** 2, 0., 0.],\n",
    "                  [0., 0., 0., 0., 0., 0., 0., gyro_std[1] ** 2, 0.],\n",
    "                  [0., 0., 0., 0., 0., 0., 0., 0., gyro_std[2] ** 2]])\n",
    "\n",
    "    small_R = 100 * np.array([\n",
    "        [acc_std[0] ** 2, 0, 0],\n",
    "        [0, acc_std[1] ** 2, 0],\n",
    "        [0, 0, acc_std[2] ** 2],\n",
    "    ])\n",
    "\n",
    "    R_pzv_std = 0.0001\n",
    "    R_pzv = R_pzv_std * np.eye(4)\n",
    "    large_R = np.vstack([np.hstack([R_pzv, np.zeros((4, 3))]), np.hstack([np.zeros((3, 4)), small_R])])\n",
    "\n",
    "    Ppvstd = 0\n",
    "    P11 = np.vstack([np.hstack([Ppvstd * np.eye(6), np.zeros((6, 4))]), np.hstack([np.zeros((4, 6)), P11_rot])])\n",
    "\n",
    "\n",
    "    zv_data = zv_checker(data_nb, N_zv, gamma_zv, firstlast)\n",
    "\n",
    "    xtmin1tmin1 = np.concatenate([p11, v11, q11])\n",
    "    Ptmin1tmin1 = P11\n",
    "\n",
    "    x_list = [xtmin1tmin1]\n",
    "    epsilon_list = []\n",
    "    ygnrot_list = []\n",
    "    yab_list = []\n",
    "\n",
    "    K_list = []\n",
    "    P_list = []\n",
    "    an_list = []\n",
    "\n",
    "    for i in range(1, len(zv_data['timestamp'])):\n",
    "        dt = (zv_data['timestamp'][i] - zv_data['timestamp'][i - 1]) / 1000\n",
    "        gyro_measurement = np.array([zv_data['x_gyro'][i], zv_data['y_gyro'][i], zv_data['z_gyro'][i]])\n",
    "        omega = gyro_measurement\n",
    "        expq_omega = expq(omega, 0.5 * dt * np.pi / 180)\n",
    "\n",
    "        ptmin1tmin1 = xtmin1tmin1[:3]\n",
    "        vtmin1tmin1 = xtmin1tmin1[3:6]\n",
    "        qtmin1tmin1 = xtmin1tmin1[6:]\n",
    "\n",
    "        yat_b = np.array([zv_data['x_acc'][i], zv_data['y_acc'][i], zv_data['z_acc'][i]])\n",
    "        yat_n = rotate_vector(gn, quaternion_conjugate(np.reshape(qtmin1tmin1, 4)))\n",
    "        ygnrot_list.append(yat_n)\n",
    "        yab_list.append(yat_b)\n",
    "\n",
    "        an = rotate_vector(yat_b, np.reshape(qtmin1tmin1, 4)) - gn\n",
    "        an_list.append(an)\n",
    "\n",
    "        pttmin1 = ptmin1tmin1 + dt * vtmin1tmin1 + 0.5 * an * 9.81 * dt ** 2\n",
    "        vttmin1 = vtmin1tmin1 + dt * an * 9.81\n",
    "        qttmin1 = quat_mul(qtmin1tmin1, expq_omega)\n",
    "        xttmin1 = np.concatenate([pttmin1, vttmin1, qttmin1])\n",
    "\n",
    "        Ftmin1 = calculate_F(xttmin1, omega, yat_b * 9.81, dt)\n",
    "        Gtmin1 = calculate_G(xttmin1, dt)\n",
    "        Pttmin1 = np.matmul(np.matmul(Ftmin1, Ptmin1tmin1), Ftmin1.T) + np.matmul(np.matmul(Gtmin1, Q), Gtmin1.T)\n",
    "        P_list.append(Ptmin1tmin1)\n",
    "        if zv_data['zero velocity'][i]:\n",
    "            H = calculate_large_H(xttmin1)\n",
    "            S = np.matmul(np.matmul(H, Pttmin1), H.T) + large_R\n",
    "            K = np.matmul(np.matmul(Pttmin1, H.T), np.linalg.inv(S))\n",
    "            yateps_rot = yat_b / np.linalg.norm(yat_b)\n",
    "            yattmin1_rot = rotate_vector(gn, quaternion_conjugate(np.reshape(qttmin1, 4)))\n",
    "            epsilon_rot = yateps_rot - yattmin1_rot\n",
    "            ypzv_est = np.array([pttmin1[2], *vttmin1])\n",
    "            ypzv_mea = np.zeros(4)\n",
    "            epsilon_pos = np.reshape(ypzv_mea - ypzv_est, (4, 1))\n",
    "            epsilon = np.vstack([epsilon_pos, np.reshape(epsilon_rot, (3, 1))])\n",
    "            x_tt_measure = np.reshape(xttmin1, (10, 1)) + np.matmul(K, epsilon)\n",
    "        else:\n",
    "            H = calculate_small_H(xttmin1)\n",
    "            S = np.matmul(np.matmul(H, Pttmin1), H.T) + small_R\n",
    "            K = np.matmul(np.matmul(Pttmin1, H.T), np.linalg.inv(S))\n",
    "\n",
    "            K_list.append(K)\n",
    "\n",
    "            yateps = yat_b / np.linalg.norm(yat_b)\n",
    "            yattmin1 = rotate_vector(gn, quaternion_conjugate(np.reshape(qttmin1, 4)))\n",
    "            epsilon = np.reshape(yateps - yattmin1, (3, 1))\n",
    "            x_tt_measure = np.reshape(xttmin1, (10, 1)) + np.matmul(K, epsilon)\n",
    "\n",
    "        epsilon_list.append(epsilon)\n",
    "\n",
    "        Ptt = Pttmin1 - np.matmul(np.matmul(K, H), Pttmin1)\n",
    "        x_tt_measure = np.reshape(x_tt_measure, 10)\n",
    "        x_tt = np.concatenate([x_tt_measure[:6], x_tt_measure[6:] / np.linalg.norm(x_tt_measure[6:])])\n",
    "\n",
    "        Ptmin1tmin1 = Ptt\n",
    "        xtmin1tmin1 = x_tt\n",
    "        x_list.append(x_tt)\n",
    "\n",
    "    x_array = np.reshape(np.concatenate(x_list), (len(x_list), 10))\n",
    "    kalman_results = pd.DataFrame(x_array, columns=['px', 'py', 'pz', 'vx', 'vy', 'vz', 'q0', 'q1', 'q2', 'q3'])\n",
    "\n",
    "\n",
    "    quat_data = np.array([kalman_results['q0'], kalman_results['q1'], kalman_results['q2'], kalman_results['q3']]).T\n",
    "    euler_data = np.zeros((quat_data.shape[0], 3))\n",
    "\n",
    "    for i, q in enumerate(quat_data):\n",
    "        euler_data[i] = quat_to_euler_tan2(q)\n",
    "    euler_df = pd.DataFrame(euler_data, columns=['psi', 'theta', 'phi'])\n",
    "\n",
    "    luchttijd = []\n",
    "    gooitijd = []\n",
    "\n",
    "    # Oprapen na stilstand op grond\n",
    "    verg_data = zv_data.copy().drop('zero velocity', axis=1) - zv_data.iloc[0, :-1]\n",
    "    gooi_data = zv_data.copy().drop('zero velocity', axis=1)\n",
    "\n",
    "    gooi_data['squared norm'] = verg_data['x_acc'] ** 2 + verg_data['y_acc'] ** 2 + verg_data['z_acc'] ** 2\n",
    "\n",
    "    # Zero acceleration na loslaten\n",
    "    za_data = zv_data.copy()\n",
    "    za_data['squared norm'] = zv_data['x_acc'] ** 2 + zv_data['y_acc'] ** 2 + zv_data['z_acc'] ** 2\n",
    "\n",
    "    total_raap_duration = 0\n",
    "    total_lucht_duration = 0\n",
    "    total_gooi_duration = 0\n",
    "\n",
    "    while gamma < 0.5:\n",
    "        done = False\n",
    "        gedaan = False\n",
    "        luchttijd.clear()\n",
    "        gooitijd.clear()\n",
    "\n",
    "        for i in range(N, len(za_data) - N):\n",
    "            # Herken wanneer dobbelsteen wanneer wordt opgepakt\n",
    "            if all(waarde > 0.1 * gamma for waarde in gooi_data['squared norm'][i - N:i + N]) and not gedaan:\n",
    "                gooitijd.append(zv_data['timestamp'][i])\n",
    "                gedaan = True\n",
    "                total_raap_duration = gooitijd[-1] - 2 * N\n",
    "                if total_raap_duration not in list(zv_data.loc[:, 'timestamp']):\n",
    "                    index = (zv_data.loc[:, 'timestamp'] - total_raap_duration).abs().argmin()\n",
    "                    total_raap_duration = zv_data.loc[index, 'timestamp']\n",
    "\n",
    "            # Herken wanneer dobbelsteen de hand verlaat\n",
    "            elif all(element < gamma for element in za_data['squared norm'][i - N:i + N]):\n",
    "                temp_luchttijd = list(zv_data['timestamp'][i - N:i + N])\n",
    "\n",
    "                # Randvoorwaarde dat de dobbelsteen minstens 0.5 secondes wordt geschud\n",
    "                if gooitijd and (temp_luchttijd[0] - gooitijd[-1]) > 500:\n",
    "                    luchttijd.extend(temp_luchttijd)\n",
    "\n",
    "                    # Continue adding timestamps while in the air\n",
    "                    for j in range(i + N, len(za_data)):\n",
    "                        if za_data['squared norm'][j] < gamma:\n",
    "                            luchttijd.append(zv_data['timestamp'][j])\n",
    "                        else:\n",
    "                            # Stop adding when a hard landing is detected\n",
    "                            if za_data['squared norm'][j] > 10 * gamma:  # A large spike indicating a hard landing\n",
    "                                break\n",
    "                            luchttijd.append(zv_data['timestamp'][j])\n",
    "\n",
    "                    gooitijd = sorted(gooitijd)\n",
    "                    luchttijd = sorted(luchttijd)\n",
    "\n",
    "                    # if gooitijd:\n",
    "                    #     total_raap_duration = gooitijd[-1] - 2 * N\n",
    "\n",
    "                    if luchttijd:\n",
    "                        land_tijd = luchttijd[-1]\n",
    "                        los_tijd = luchttijd[0]\n",
    "                        total_lucht_duration = land_tijd - los_tijd\n",
    "\n",
    "                    if gooitijd and luchttijd:\n",
    "                        total_gooi_duration = los_tijd - total_raap_duration\n",
    "                    done = True\n",
    "                    if gedaan:\n",
    "                        break\n",
    "\n",
    "        gamma += 0.005\n",
    "        if gamma > 0.5 or not gedaan:\n",
    "            print('onzeker')\n",
    "            results = pd.concat([zv_data, kalman_results, euler_df], axis=1)\n",
    "            return results\n",
    "\n",
    "        if done:\n",
    "            break\n",
    "\n",
    "\n",
    "\n",
    "    total_starttotlos = total_raap_duration + total_gooi_duration\n",
    "    total_starttotgrond = total_lucht_duration + total_raap_duration + total_gooi_duration\n",
    "\n",
    "    side = side_detector(np.mean(np.array([data_nb.loc[len(data_nb)-11:, 'x_acc'], data_nb.loc[len(data_nb)-11:, 'y_acc'], data_nb.loc[len(data_nb)-11:, 'z_acc']]).T, axis=0))\n",
    "\n",
    "    zero_acc_results = np.array([[total_raap_duration], [total_gooi_duration], [total_lucht_duration], [total_starttotlos], [total_starttotgrond], [side]]).T\n",
    "    zero_acc_df = pd.DataFrame(zero_acc_results, columns=['Raap tijd', 'Gooi tijd', 'Lucht tijd', 'Start tot los', 'Start tot grond', 'Laatste zijde'])\n",
    "\n",
    "    results = pd.concat([zv_data, kalman_results, euler_df, zero_acc_df], axis=1)\n",
    "\n",
    "    raap_index = results[results.loc[:, 'timestamp'] == results.loc[0, 'Raap tijd']].index\n",
    "    loslaat_index = results[results.loc[:, 'timestamp'] == results.loc[0, 'Start tot los']].index\n",
    "    neerkom_index = results[results.loc[:, 'timestamp'] == results.loc[0, 'Start tot grond']].index\n",
    "\n",
    "    for i in range(len(results) - 2 - N_zv, N_zv, -1):\n",
    "        if not results.loc[i, 'zero velocity']:\n",
    "            stillig_index = i + 1\n",
    "            break\n",
    "\n",
    "    an_arr = np.reshape(np.concatenate(an_list), (len(an_list), 3))\n",
    "    norm_acc = np.linalg.norm(an_arr, axis=1)\n",
    "\n",
    "    mean_acc_hand = np.mean(norm_acc[raap_index[0] : loslaat_index[0]])\n",
    "    mean_acc_roll = np.mean(norm_acc[neerkom_index[0] : stillig_index])\n",
    "    mean_acc_whole_throw = np.mean(norm_acc[raap_index[0] : stillig_index])\n",
    "    max_acc_hand = np.max(norm_acc[raap_index[0] : loslaat_index[0]])\n",
    "    max_acc_roll = np.max(norm_acc[neerkom_index[0] : stillig_index])\n",
    "    max_acc_whole_throw = np.max(norm_acc[raap_index[0] : stillig_index])\n",
    "\n",
    "    norm_acc_grav  = np.linalg.norm(np.array(results.loc[:, ['x_acc', 'y_acc', 'z_acc']]), axis=1)\n",
    "\n",
    "    mean_acc_hand_grav = np.mean(norm_acc_grav[raap_index[0] : loslaat_index[0]])\n",
    "    mean_acc_roll_grav = np.mean(norm_acc_grav[neerkom_index[0] : stillig_index])\n",
    "    mean_acc_whole_throw_grav = np.mean(norm_acc_grav[raap_index[0] : stillig_index])\n",
    "    max_acc_hand_grav = np.max(norm_acc_grav[raap_index[0] : loslaat_index[0]])\n",
    "    max_acc_roll_grav = np.max(norm_acc_grav[neerkom_index[0] : stillig_index])\n",
    "    max_acc_whole_throw_grav = np.max(norm_acc_grav[raap_index[0] : stillig_index])\n",
    "\n",
    "    column_list = ['Mean acc hand', 'Max acc hand','Mean acc roll',\n",
    "                   'Max acc roll', 'Mean acc whole throw', 'Max acc whole throw',\n",
    "                   'Mean acc hand with gravity', 'Max acc hand with gravity','Mean acc roll with gravity',\n",
    "                   'Max acc roll with gravity', 'Mean acc whole throw with gravity', 'Max acc whole throw with gravity']\n",
    "\n",
    "    mean_acc_df = pd.DataFrame(np.array([[mean_acc_hand, max_acc_hand, mean_acc_roll, max_acc_roll, mean_acc_whole_throw, max_acc_whole_throw, mean_acc_hand_grav, max_acc_hand_grav, mean_acc_roll_grav, max_acc_roll_grav, mean_acc_whole_throw_grav, max_acc_whole_throw_grav]]), columns=column_list)\n",
    "\n",
    "    results = pd.concat([results, mean_acc_df], axis=1)\n",
    "\n",
    "    if csv:\n",
    "        results.to_csv(save_path)\n",
    "    else:\n",
    "        return results"
   ],
   "metadata": {
    "collapsed": false,
    "ExecuteTime": {
     "end_time": "2024-06-11T12:25:41.885952Z",
     "start_time": "2024-06-11T12:25:41.702836Z"
    }
   },
   "id": "613c198463c4c666",
   "execution_count": 3
  },
  {
   "cell_type": "code",
   "outputs": [
    {
     "name": "stdout",
     "output_type": "stream",
     "text": [
      "Leg de dobbelsteen met nummer  1  boven\n",
      "Wacht 1 secondes\n",
      "Logging data for 2s\n",
      "Downloading data\n",
      "Done! The data is located in self.datadf\n",
      "Leg de dobbelsteen met nummer  2  boven\n",
      "Wacht 1 secondes\n",
      "Logging data for 2s\n",
      "Downloading data\n",
      "Done! The data is located in self.datadf\n",
      "Leg de dobbelsteen met nummer  3  boven\n",
      "Wacht 1 secondes\n",
      "Logging data for 2s\n",
      "Downloading data\n",
      "Done! The data is located in self.datadf\n",
      "Leg de dobbelsteen met nummer  4  boven\n",
      "Wacht 1 secondes\n",
      "Logging data for 2s\n",
      "Downloading data\n",
      "Done! The data is located in self.datadf\n",
      "Leg de dobbelsteen met nummer  5  boven\n",
      "Wacht 1 secondes\n",
      "Logging data for 2s\n",
      "Downloading data\n",
      "Done! The data is located in self.datadf\n",
      "Leg de dobbelsteen met nummer  6  boven\n",
      "Wacht 1 secondes\n",
      "Logging data for 2s\n",
      "Downloading data\n",
      "Done! The data is located in self.datadf\n"
     ]
    }
   ],
   "source": [
    "lijst1 = []\n",
    "lijst2 = []\n",
    "lijst3 = []\n",
    "lijst4 = []\n",
    "\n",
    "for column, sign, side in [(2, 1, 1), (0, 1, 2), (1, 1, 3), (1, -1, 4), (0, -1, 5), (2, -1, 6)]:\n",
    "    lijst1, lijst2, lijst3, lijst4 = cali_loop(column, sign, side, dob, 2, 1, 100, 2, 125, lijst1, lijst2, lijst3, lijst4)\n",
    "    \n",
    "cali = calibrate_rot_bias(lijst1, lijst2, lijst3, lijst4)"
   ],
   "metadata": {
    "collapsed": false,
    "ExecuteTime": {
     "end_time": "2024-06-11T12:26:15.186564Z",
     "start_time": "2024-06-11T12:25:49.330900Z"
    }
   },
   "id": "b1b4f26c91f1f61c",
   "execution_count": 4
  },
  {
   "cell_type": "code",
   "outputs": [
    {
     "name": "stdout",
     "output_type": "stream",
     "text": [
      "Leg de dobbelsteen stil\n",
      "Logging data for 3s\n",
      "Downloading data\n",
      "Done! The data is located in self.datadf\n"
     ]
    }
   ],
   "source": [
    "std_cali = cali_std(dob, 3, 400, 125)"
   ],
   "metadata": {
    "collapsed": false,
    "ExecuteTime": {
     "end_time": "2024-06-11T12:26:29.587547Z",
     "start_time": "2024-06-11T12:26:19.618477Z"
    }
   },
   "id": "e83f40a66b0bce0b",
   "execution_count": 5
  },
  {
   "cell_type": "code",
   "outputs": [
    {
     "name": "stdout",
     "output_type": "stream",
     "text": [
      "Logging data for 5s\n",
      "Downloading data\n",
      "Done! The data is located in self.datadf\n"
     ]
    }
   ],
   "source": [
    "dob.connect()\n",
    "dob.log(5, 400, 4, 500)\n",
    "dob.download()\n",
    "data = dob.datadf"
   ],
   "metadata": {
    "collapsed": false,
    "ExecuteTime": {
     "end_time": "2024-06-11T12:39:47.655768Z",
     "start_time": "2024-06-11T12:39:30.566979Z"
    }
   },
   "id": "cd445ee94a6612a1",
   "execution_count": 25
  },
  {
   "cell_type": "code",
   "outputs": [
    {
     "name": "stdout",
     "output_type": "stream",
     "text": [
      "Dobbel tijd oprapen =  1109.0\n",
      "Dobbel tijd van oprapen tot loslaten =  632.0\n",
      "Dobbel tijd in de lucht =  165.0\n",
      "Dobbel tijd tot loslaten vanaf begin programma =  1741.0\n",
      "Zijde omhoog =  4.0\n"
     ]
    },
    {
     "data": {
      "text/plain": "   timestamp     x_acc     y_acc     z_acc    x_gyro    y_gyro    z_gyro  \\\n0        0.0  0.978537  0.012991 -0.004040 -0.345573  0.535901  0.721801   \n1       31.0  0.981722  0.012892 -0.003432 -0.015971  0.124156  0.237600   \n2       33.0  0.979587  0.008738 -0.000562  0.095224  0.031694  0.238344   \n3       35.0  0.979985  0.014775 -0.001085  0.157735 -0.218735 -0.248102   \n4       38.0  0.981137  0.012244 -0.003228 -0.098851  0.224839  0.150275   \n\n   squared norm  zero velocity        px  ...  Mean acc roll  Max acc roll  \\\n0      0.927607          False  0.000000  ...       1.195655      4.291186   \n1      0.072123          False  0.006554  ...            NaN           NaN   \n2      0.066880          False  0.007416  ...            NaN           NaN   \n3      0.134280          False  0.008302  ...            NaN           NaN   \n4      0.082907          False  0.009682  ...            NaN           NaN   \n\n   Mean acc whole throw  Max acc whole throw  Mean acc hand with gravity  \\\n0              1.172123             5.394815                    1.191182   \n1                   NaN                  NaN                         NaN   \n2                   NaN                  NaN                         NaN   \n3                   NaN                  NaN                         NaN   \n4                   NaN                  NaN                         NaN   \n\n   Max acc hand with gravity  Mean acc roll with gravity  \\\n0                   5.580629                     0.94526   \n1                        NaN                         NaN   \n2                        NaN                         NaN   \n3                        NaN                         NaN   \n4                        NaN                         NaN   \n\n   Max acc roll with gravity  Mean acc whole throw with gravity  \\\n0                   4.732114                           0.958007   \n1                        NaN                                NaN   \n2                        NaN                                NaN   \n3                        NaN                                NaN   \n4                        NaN                                NaN   \n\n   Max acc whole throw with gravity  \n0                          5.580629  \n1                               NaN  \n2                               NaN  \n3                               NaN  \n4                               NaN  \n\n[5 rows x 40 columns]",
      "text/html": "<div>\n<style scoped>\n    .dataframe tbody tr th:only-of-type {\n        vertical-align: middle;\n    }\n\n    .dataframe tbody tr th {\n        vertical-align: top;\n    }\n\n    .dataframe thead th {\n        text-align: right;\n    }\n</style>\n<table border=\"1\" class=\"dataframe\">\n  <thead>\n    <tr style=\"text-align: right;\">\n      <th></th>\n      <th>timestamp</th>\n      <th>x_acc</th>\n      <th>y_acc</th>\n      <th>z_acc</th>\n      <th>x_gyro</th>\n      <th>y_gyro</th>\n      <th>z_gyro</th>\n      <th>squared norm</th>\n      <th>zero velocity</th>\n      <th>px</th>\n      <th>...</th>\n      <th>Mean acc roll</th>\n      <th>Max acc roll</th>\n      <th>Mean acc whole throw</th>\n      <th>Max acc whole throw</th>\n      <th>Mean acc hand with gravity</th>\n      <th>Max acc hand with gravity</th>\n      <th>Mean acc roll with gravity</th>\n      <th>Max acc roll with gravity</th>\n      <th>Mean acc whole throw with gravity</th>\n      <th>Max acc whole throw with gravity</th>\n    </tr>\n  </thead>\n  <tbody>\n    <tr>\n      <th>0</th>\n      <td>0.0</td>\n      <td>0.978537</td>\n      <td>0.012991</td>\n      <td>-0.004040</td>\n      <td>-0.345573</td>\n      <td>0.535901</td>\n      <td>0.721801</td>\n      <td>0.927607</td>\n      <td>False</td>\n      <td>0.000000</td>\n      <td>...</td>\n      <td>1.195655</td>\n      <td>4.291186</td>\n      <td>1.172123</td>\n      <td>5.394815</td>\n      <td>1.191182</td>\n      <td>5.580629</td>\n      <td>0.94526</td>\n      <td>4.732114</td>\n      <td>0.958007</td>\n      <td>5.580629</td>\n    </tr>\n    <tr>\n      <th>1</th>\n      <td>31.0</td>\n      <td>0.981722</td>\n      <td>0.012892</td>\n      <td>-0.003432</td>\n      <td>-0.015971</td>\n      <td>0.124156</td>\n      <td>0.237600</td>\n      <td>0.072123</td>\n      <td>False</td>\n      <td>0.006554</td>\n      <td>...</td>\n      <td>NaN</td>\n      <td>NaN</td>\n      <td>NaN</td>\n      <td>NaN</td>\n      <td>NaN</td>\n      <td>NaN</td>\n      <td>NaN</td>\n      <td>NaN</td>\n      <td>NaN</td>\n      <td>NaN</td>\n    </tr>\n    <tr>\n      <th>2</th>\n      <td>33.0</td>\n      <td>0.979587</td>\n      <td>0.008738</td>\n      <td>-0.000562</td>\n      <td>0.095224</td>\n      <td>0.031694</td>\n      <td>0.238344</td>\n      <td>0.066880</td>\n      <td>False</td>\n      <td>0.007416</td>\n      <td>...</td>\n      <td>NaN</td>\n      <td>NaN</td>\n      <td>NaN</td>\n      <td>NaN</td>\n      <td>NaN</td>\n      <td>NaN</td>\n      <td>NaN</td>\n      <td>NaN</td>\n      <td>NaN</td>\n      <td>NaN</td>\n    </tr>\n    <tr>\n      <th>3</th>\n      <td>35.0</td>\n      <td>0.979985</td>\n      <td>0.014775</td>\n      <td>-0.001085</td>\n      <td>0.157735</td>\n      <td>-0.218735</td>\n      <td>-0.248102</td>\n      <td>0.134280</td>\n      <td>False</td>\n      <td>0.008302</td>\n      <td>...</td>\n      <td>NaN</td>\n      <td>NaN</td>\n      <td>NaN</td>\n      <td>NaN</td>\n      <td>NaN</td>\n      <td>NaN</td>\n      <td>NaN</td>\n      <td>NaN</td>\n      <td>NaN</td>\n      <td>NaN</td>\n    </tr>\n    <tr>\n      <th>4</th>\n      <td>38.0</td>\n      <td>0.981137</td>\n      <td>0.012244</td>\n      <td>-0.003228</td>\n      <td>-0.098851</td>\n      <td>0.224839</td>\n      <td>0.150275</td>\n      <td>0.082907</td>\n      <td>False</td>\n      <td>0.009682</td>\n      <td>...</td>\n      <td>NaN</td>\n      <td>NaN</td>\n      <td>NaN</td>\n      <td>NaN</td>\n      <td>NaN</td>\n      <td>NaN</td>\n      <td>NaN</td>\n      <td>NaN</td>\n      <td>NaN</td>\n      <td>NaN</td>\n    </tr>\n  </tbody>\n</table>\n<p>5 rows × 40 columns</p>\n</div>"
     },
     "execution_count": 26,
     "metadata": {},
     "output_type": "execute_result"
    }
   ],
   "source": [
    "results = run_analysis(data, cali, std_cali, N=10, gamma=0.005, N_zv=5, gamma_zv=0.05)\n",
    "if len(results.columns) > 25:\n",
    "    total_raap_duration = results.loc[0, 'Raap tijd']\n",
    "    total_gooi_duration = results.loc[0, 'Gooi tijd']\n",
    "    total_lucht_duration = results.loc[0, 'Lucht tijd']\n",
    "    start_tot_loslaten = results.loc[0, 'Start tot los']\n",
    "    start_tot_grond = results.loc[0, 'Start tot grond']\n",
    "    laatste_zijde = results.loc[0, 'Laatste zijde']\n",
    "    print(\"Dobbel tijd oprapen = \", total_raap_duration)\n",
    "    print(\"Dobbel tijd van oprapen tot loslaten = \", total_gooi_duration)\n",
    "    print(\"Dobbel tijd in de lucht = \", total_lucht_duration)\n",
    "    print(\"Dobbel tijd tot loslaten vanaf begin programma = \", start_tot_loslaten)\n",
    "    print(\"Zijde omhoog = \", laatste_zijde)\n",
    "results.head()"
   ],
   "metadata": {
    "collapsed": false,
    "ExecuteTime": {
     "end_time": "2024-06-11T12:39:52.265264Z",
     "start_time": "2024-06-11T12:39:47.657776Z"
    }
   },
   "id": "1ee16b5e92351e73",
   "execution_count": 26
  },
  {
   "cell_type": "code",
   "outputs": [
    {
     "name": "stdout",
     "output_type": "stream",
     "text": [
      "740.597008643065\n"
     ]
    }
   ],
   "source": [
    "q_arr = np.array(results.loc[:, ['q0', 'q1', 'q2', 'q3']])\n",
    "total_rotation = 0\n",
    "for i in range(q_arr.shape[0]-1):\n",
    "    total_rotation += 2 * np.arccos(np.dot(q_arr[i,:], q_arr[i+1,:]))\n",
    "print(total_rotation * 180 / np.pi)"
   ],
   "metadata": {
    "collapsed": false,
    "ExecuteTime": {
     "end_time": "2024-06-11T12:39:52.279302Z",
     "start_time": "2024-06-11T12:39:52.266269Z"
    }
   },
   "id": "13bdfb87f31dde18",
   "execution_count": 27
  },
  {
   "cell_type": "code",
   "outputs": [
    {
     "data": {
      "text/plain": "<Figure size 640x480 with 1 Axes>",
      "image/png": "[encoded data removed]"
     },
     "metadata": {},
     "output_type": "display_data"
    }
   ],
   "source": [
    "# Assume data is already defined\n",
    "df = results\n",
    "\n",
    "# Plot the accelerometer values\n",
    "columns_to_plot = [col for col in df.columns if '_acc' in col]\n",
    "df.plot(x='timestamp', y=columns_to_plot, kind='line')\n",
    "\n",
    "# Vertical gray line for when the dice is picked up\n",
    "plt.axvline(x=total_raap_duration, color='gray', linestyle='--', alpha=0.5, label='Start to Pickup')\n",
    "\n",
    "# Vertical red line for when the dice leaves the hand\n",
    "plt.axvline(x=start_tot_loslaten, color='blue', linestyle='--', alpha=0.5, label='Start to Release')\n",
    "\n",
    "# Vertical blue line for when the dice hits the ground\n",
    "plt.axvline(x=start_tot_grond, color='blue', linestyle='--', alpha=0.5, label='Start to Ground')\n",
    "\n",
    "# Set labels and title\n",
    "plt.xlabel('Timestamp')\n",
    "plt.ylabel('Acceleration')\n",
    "plt.title('Acceleration Data')\n",
    "\n",
    "# Set x-axis grid with a spacing of 500 units\n",
    "plt.xticks(range(int(df['timestamp'].min()), int(df['timestamp'].max()) + 500, 500))\n",
    "\n",
    "# Show the plot\n",
    "plt.show()"
   ],
   "metadata": {
    "collapsed": false,
    "ExecuteTime": {
     "end_time": "2024-06-11T12:39:52.594655Z",
     "start_time": "2024-06-11T12:39:52.280302Z"
    }
   },
   "id": "77993e17d012cf96",
   "execution_count": 28
  },
  {
   "cell_type": "code",
   "outputs": [
    {
     "name": "stdout",
     "output_type": "stream",
     "text": [
      "we are disconnected!\n"
     ]
    }
   ],
   "source": [
    "dob.disconnect()"
   ],
   "metadata": {
    "collapsed": false,
    "ExecuteTime": {
     "end_time": "2024-06-11T11:10:43.294284Z",
     "start_time": "2024-06-11T11:10:43.279842Z"
    }
   },
   "id": "37fa2493f4fdc7e7",
   "execution_count": 23
  },
  {
   "cell_type": "code",
   "outputs": [],
   "source": [],
   "metadata": {
    "collapsed": false
   },
   "id": "4da466b6bc073443"
  }
 ],
 "metadata": {
  "kernelspec": {
   "display_name": "Python 3",
   "language": "python",
   "name": "python3"
  },
  "language_info": {
   "codemirror_mode": {
    "name": "ipython",
    "version": 2
   },
   "file_extension": ".py",
   "mimetype": "text/x-python",
   "name": "python",
   "nbconvert_exporter": "python",
   "pygments_lexer": "ipython2",
   "version": "2.7.6"
  }
 },
 "nbformat": 4,
 "nbformat_minor": 5
}
