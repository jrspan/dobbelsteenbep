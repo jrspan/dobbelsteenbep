{
 "cells": [
  {
   "cell_type": "code",
   "execution_count": 1,
   "id": "initial_id",
   "metadata": {
    "collapsed": true,
    "ExecuteTime": {
     "end_time": "2024-06-11T11:47:30.888267Z",
     "start_time": "2024-06-11T11:47:20.157043Z"
    }
   },
   "outputs": [],
   "source": [
    "from calibrator import *\n",
    "from analysis import *\n",
    "from dobbel import *\n",
    "import matplotlib.pyplot as plt\n",
    "dob = dobbellogger()"
   ]
  },
  {
   "cell_type": "code",
   "outputs": [
    {
     "name": "stdout",
     "output_type": "stream",
     "text": [
      "Leg de dobbelsteen met nummer  1  boven\n",
      "Wacht 1 secondes\n",
      "Logging data for 2s\n",
      "Downloading data\n",
      "Done! The data is located in self.datadf\n",
      "Leg de dobbelsteen met nummer  2  boven\n",
      "Wacht 1 secondes\n",
      "Logging data for 2s\n",
      "Downloading data\n",
      "Done! The data is located in self.datadf\n",
      "Leg de dobbelsteen met nummer  3  boven\n",
      "Wacht 1 secondes\n",
      "Logging data for 2s\n",
      "Downloading data\n",
      "Done! The data is located in self.datadf\n",
      "Leg de dobbelsteen met nummer  4  boven\n",
      "Wacht 1 secondes\n",
      "Logging data for 2s\n",
      "Downloading data\n",
      "Done! The data is located in self.datadf\n",
      "Leg de dobbelsteen met nummer  5  boven\n",
      "Wacht 1 secondes\n",
      "Logging data for 2s\n",
      "Downloading data\n",
      "Done! The data is located in self.datadf\n",
      "Leg de dobbelsteen met nummer  6  boven\n",
      "Wacht 1 secondes\n",
      "Logging data for 2s\n",
      "Downloading data\n",
      "Done! The data is located in self.datadf\n"
     ]
    }
   ],
   "source": [
    "lijst1 = []\n",
    "lijst2 = []\n",
    "lijst3 = []\n",
    "lijst4 = []\n",
    "\n",
    "for column, sign, side in [(2, 1, 1), (0, 1, 2), (1, 1, 3), (1, -1, 4), (0, -1, 5), (2, -1, 6)]:\n",
    "    lijst1, lijst2, lijst3, lijst4 = cali_loop(column, sign, side, dob, 2, 1, 100, 2, 125, lijst1, lijst2, lijst3, lijst4)\n",
    "    \n",
    "cali = calibrate_rot_bias(lijst1, lijst2, lijst3, lijst4)"
   ],
   "metadata": {
    "collapsed": false,
    "ExecuteTime": {
     "end_time": "2024-06-11T10:49:52.005980Z",
     "start_time": "2024-06-11T10:49:26.593196Z"
    }
   },
   "id": "b1b4f26c91f1f61c",
   "execution_count": 4
  },
  {
   "cell_type": "code",
   "outputs": [
    {
     "name": "stdout",
     "output_type": "stream",
     "text": [
      "Leg de dobbelsteen stil\n",
      "Logging data for 3s\n",
      "Downloading data\n",
      "Done! The data is located in self.datadf\n"
     ]
    }
   ],
   "source": [
    "std_cali = cali_std(dob, 3, 400, 125)"
   ],
   "metadata": {
    "collapsed": false,
    "ExecuteTime": {
     "end_time": "2024-06-11T10:51:39.792840Z",
     "start_time": "2024-06-11T10:51:29.689109Z"
    }
   },
   "id": "e83f40a66b0bce0b",
   "execution_count": 5
  },
  {
   "cell_type": "code",
   "outputs": [
    {
     "name": "stdout",
     "output_type": "stream",
     "text": [
      "Logging data for 5s\n",
      "Downloading data\n",
      "Done! The data is located in self.datadf\n"
     ]
    }
   ],
   "source": [
    "dob.connect()\n",
    "dob.log(5, 400, 4, 500)\n",
    "dob.download()\n",
    "data = dob.datadf"
   ],
   "metadata": {
    "collapsed": false,
    "ExecuteTime": {
     "end_time": "2024-06-11T11:00:01.648106Z",
     "start_time": "2024-06-11T10:59:44.939202Z"
    }
   },
   "id": "cd445ee94a6612a1",
   "execution_count": 16
  },
  {
   "cell_type": "code",
   "outputs": [
    {
     "name": "stdout",
     "output_type": "stream",
     "text": [
      "Index([467], dtype='int64') Index([692], dtype='int64') Index([717], dtype='int64')\n",
      "Dobbel tijd oprapen =  1185.0\n",
      "Dobbel tijd van oprapen tot loslaten =  555.0\n",
      "Dobbel tijd in de lucht =  63.0\n",
      "Dobbel tijd tot loslaten vanaf begin programma =  1740.0\n",
      "Zijde omhoog =  2.0\n"
     ]
    },
    {
     "data": {
      "text/plain": "   timestamp     x_acc     y_acc     z_acc    x_gyro    y_gyro    z_gyro  \\\n0        0.0  0.986567 -0.001294  0.026309 -0.789784  0.512329  0.660162   \n1       31.0  0.983022 -0.001814  0.023807 -1.029618 -0.036330  0.298447   \n2       34.0  0.981421  0.003291  0.025885 -1.061951 -0.086724  0.065473   \n3       35.0  0.987059 -0.003750  0.024430 -0.912788 -0.084409 -0.229027   \n4       38.0  0.983132  0.002928  0.026177 -1.153522  0.045193  0.233175   \n\n   squared norm  zero velocity        px  ...  Mean acc roll  Max acc roll  \\\n0      1.322054          False  0.000000  ...       0.462918       1.81131   \n1      1.150504          False  0.003300  ...            NaN           NaN   \n2      1.139547          False  0.003965  ...            NaN           NaN   \n3      0.892760          False  0.004200  ...            NaN           NaN   \n4      1.387025          False  0.004946  ...            NaN           NaN   \n\n   Mean acc whole throw  Max acc whole throw  Mean acc hand with gravity  \\\n0              0.573151             2.472129                    0.708592   \n1                   NaN                  NaN                         NaN   \n2                   NaN                  NaN                         NaN   \n3                   NaN                  NaN                         NaN   \n4                   NaN                  NaN                         NaN   \n\n   Max acc hand with gravity  Mean acc roll with gravity  \\\n0                   2.792046                    0.944314   \n1                        NaN                         NaN   \n2                        NaN                         NaN   \n3                        NaN                         NaN   \n4                        NaN                         NaN   \n\n   Max acc roll with gravity  Mean acc whole throw with gravity  \\\n0                   2.557264                           0.895739   \n1                        NaN                                NaN   \n2                        NaN                                NaN   \n3                        NaN                                NaN   \n4                        NaN                                NaN   \n\n   Max acc whole throw with gravity  \n0                          2.792046  \n1                               NaN  \n2                               NaN  \n3                               NaN  \n4                               NaN  \n\n[5 rows x 40 columns]",
      "text/html": "<div>\n<style scoped>\n    .dataframe tbody tr th:only-of-type {\n        vertical-align: middle;\n    }\n\n    .dataframe tbody tr th {\n        vertical-align: top;\n    }\n\n    .dataframe thead th {\n        text-align: right;\n    }\n</style>\n<table border=\"1\" class=\"dataframe\">\n  <thead>\n    <tr style=\"text-align: right;\">\n      <th></th>\n      <th>timestamp</th>\n      <th>x_acc</th>\n      <th>y_acc</th>\n      <th>z_acc</th>\n      <th>x_gyro</th>\n      <th>y_gyro</th>\n      <th>z_gyro</th>\n      <th>squared norm</th>\n      <th>zero velocity</th>\n      <th>px</th>\n      <th>...</th>\n      <th>Mean acc roll</th>\n      <th>Max acc roll</th>\n      <th>Mean acc whole throw</th>\n      <th>Max acc whole throw</th>\n      <th>Mean acc hand with gravity</th>\n      <th>Max acc hand with gravity</th>\n      <th>Mean acc roll with gravity</th>\n      <th>Max acc roll with gravity</th>\n      <th>Mean acc whole throw with gravity</th>\n      <th>Max acc whole throw with gravity</th>\n    </tr>\n  </thead>\n  <tbody>\n    <tr>\n      <th>0</th>\n      <td>0.0</td>\n      <td>0.986567</td>\n      <td>-0.001294</td>\n      <td>0.026309</td>\n      <td>-0.789784</td>\n      <td>0.512329</td>\n      <td>0.660162</td>\n      <td>1.322054</td>\n      <td>False</td>\n      <td>0.000000</td>\n      <td>...</td>\n      <td>0.462918</td>\n      <td>1.81131</td>\n      <td>0.573151</td>\n      <td>2.472129</td>\n      <td>0.708592</td>\n      <td>2.792046</td>\n      <td>0.944314</td>\n      <td>2.557264</td>\n      <td>0.895739</td>\n      <td>2.792046</td>\n    </tr>\n    <tr>\n      <th>1</th>\n      <td>31.0</td>\n      <td>0.983022</td>\n      <td>-0.001814</td>\n      <td>0.023807</td>\n      <td>-1.029618</td>\n      <td>-0.036330</td>\n      <td>0.298447</td>\n      <td>1.150504</td>\n      <td>False</td>\n      <td>0.003300</td>\n      <td>...</td>\n      <td>NaN</td>\n      <td>NaN</td>\n      <td>NaN</td>\n      <td>NaN</td>\n      <td>NaN</td>\n      <td>NaN</td>\n      <td>NaN</td>\n      <td>NaN</td>\n      <td>NaN</td>\n      <td>NaN</td>\n    </tr>\n    <tr>\n      <th>2</th>\n      <td>34.0</td>\n      <td>0.981421</td>\n      <td>0.003291</td>\n      <td>0.025885</td>\n      <td>-1.061951</td>\n      <td>-0.086724</td>\n      <td>0.065473</td>\n      <td>1.139547</td>\n      <td>False</td>\n      <td>0.003965</td>\n      <td>...</td>\n      <td>NaN</td>\n      <td>NaN</td>\n      <td>NaN</td>\n      <td>NaN</td>\n      <td>NaN</td>\n      <td>NaN</td>\n      <td>NaN</td>\n      <td>NaN</td>\n      <td>NaN</td>\n      <td>NaN</td>\n    </tr>\n    <tr>\n      <th>3</th>\n      <td>35.0</td>\n      <td>0.987059</td>\n      <td>-0.003750</td>\n      <td>0.024430</td>\n      <td>-0.912788</td>\n      <td>-0.084409</td>\n      <td>-0.229027</td>\n      <td>0.892760</td>\n      <td>False</td>\n      <td>0.004200</td>\n      <td>...</td>\n      <td>NaN</td>\n      <td>NaN</td>\n      <td>NaN</td>\n      <td>NaN</td>\n      <td>NaN</td>\n      <td>NaN</td>\n      <td>NaN</td>\n      <td>NaN</td>\n      <td>NaN</td>\n      <td>NaN</td>\n    </tr>\n    <tr>\n      <th>4</th>\n      <td>38.0</td>\n      <td>0.983132</td>\n      <td>0.002928</td>\n      <td>0.026177</td>\n      <td>-1.153522</td>\n      <td>0.045193</td>\n      <td>0.233175</td>\n      <td>1.387025</td>\n      <td>False</td>\n      <td>0.004946</td>\n      <td>...</td>\n      <td>NaN</td>\n      <td>NaN</td>\n      <td>NaN</td>\n      <td>NaN</td>\n      <td>NaN</td>\n      <td>NaN</td>\n      <td>NaN</td>\n      <td>NaN</td>\n      <td>NaN</td>\n      <td>NaN</td>\n    </tr>\n  </tbody>\n</table>\n<p>5 rows × 40 columns</p>\n</div>"
     },
     "execution_count": 59,
     "metadata": {},
     "output_type": "execute_result"
    }
   ],
   "source": [
    "results = run_analysis(data, cali, std_cali, N=10, gamma=0.005, N_zv=5, gamma_zv=0.05)\n",
    "if len(results.columns) > 25:\n",
    "    total_raap_duration = results.loc[0, 'Raap tijd']\n",
    "    total_gooi_duration = results.loc[0, 'Gooi tijd']\n",
    "    total_lucht_duration = results.loc[0, 'Lucht tijd']\n",
    "    start_tot_loslaten = results.loc[0, 'Start tot los']\n",
    "    start_tot_grond = results.loc[0, 'Start tot grond']\n",
    "    laatste_zijde = results.loc[0, 'Laatste zijde']\n",
    "    print(\"Dobbel tijd oprapen = \", total_raap_duration)\n",
    "    print(\"Dobbel tijd van oprapen tot loslaten = \", total_gooi_duration)\n",
    "    print(\"Dobbel tijd in de lucht = \", total_lucht_duration)\n",
    "    print(\"Dobbel tijd tot loslaten vanaf begin programma = \", start_tot_loslaten)\n",
    "    print(\"Zijde omhoog = \", laatste_zijde)\n",
    "results.head()"
   ],
   "metadata": {
    "collapsed": false,
    "ExecuteTime": {
     "end_time": "2024-06-11T11:46:59.007430Z",
     "start_time": "2024-06-11T11:46:55.623319Z"
    }
   },
   "id": "1ee16b5e92351e73",
   "execution_count": 59
  },
  {
   "cell_type": "code",
   "outputs": [
    {
     "data": {
      "text/plain": "<Figure size 640x480 with 1 Axes>",
      "image/png": "[encoded data removed]"
     },
     "metadata": {},
     "output_type": "display_data"
    }
   ],
   "source": [
    "# Assume data is already defined\n",
    "df = results\n",
    "\n",
    "# Plot the accelerometer values\n",
    "columns_to_plot = [col for col in df.columns if '_acc' in col]\n",
    "df.plot(x='timestamp', y=columns_to_plot, kind='line')\n",
    "\n",
    "# Vertical gray line for when the dice is picked up\n",
    "plt.axvline(x=total_raap_duration, color='gray', linestyle='--', alpha=0.5, label='Start to Pickup')\n",
    "\n",
    "# Vertical red line for when the dice leaves the hand\n",
    "plt.axvline(x=start_tot_loslaten, color='blue', linestyle='--', alpha=0.5, label='Start to Release')\n",
    "\n",
    "# Vertical blue line for when the dice hits the ground\n",
    "plt.axvline(x=start_tot_grond, color='blue', linestyle='--', alpha=0.5, label='Start to Ground')\n",
    "\n",
    "# Set labels and title\n",
    "plt.xlabel('Timestamp')\n",
    "plt.ylabel('Acceleration')\n",
    "plt.title('Acceleration Data')\n",
    "\n",
    "# Set x-axis grid with a spacing of 500 units\n",
    "plt.xticks(range(int(df['timestamp'].min()), int(df['timestamp'].max()) + 500, 500))\n",
    "\n",
    "# Show the plot\n",
    "plt.show()"
   ],
   "metadata": {
    "collapsed": false,
    "ExecuteTime": {
     "end_time": "2024-06-11T11:03:39.285764Z",
     "start_time": "2024-06-11T11:03:38.890904Z"
    }
   },
   "id": "77993e17d012cf96",
   "execution_count": 22
  },
  {
   "cell_type": "code",
   "outputs": [
    {
     "name": "stdout",
     "output_type": "stream",
     "text": [
      "we are disconnected!\n"
     ]
    }
   ],
   "source": [
    "dob.disconnect()"
   ],
   "metadata": {
    "collapsed": false,
    "ExecuteTime": {
     "end_time": "2024-06-11T11:10:43.294284Z",
     "start_time": "2024-06-11T11:10:43.279842Z"
    }
   },
   "id": "37fa2493f4fdc7e7",
   "execution_count": 23
  },
  {
   "cell_type": "code",
   "outputs": [],
   "source": [],
   "metadata": {
    "collapsed": false
   },
   "id": "4da466b6bc073443"
  }
 ],
 "metadata": {
  "kernelspec": {
   "display_name": "Python 3",
   "language": "python",
   "name": "python3"
  },
  "language_info": {
   "codemirror_mode": {
    "name": "ipython",
    "version": 2
   },
   "file_extension": ".py",
   "mimetype": "text/x-python",
   "name": "python",
   "nbconvert_exporter": "python",
   "pygments_lexer": "ipython2",
   "version": "2.7.6"
  }
 },
 "nbformat": 4,
 "nbformat_minor": 5
}
