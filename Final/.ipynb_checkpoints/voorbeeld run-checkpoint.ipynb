{
 "cells": [
  {
   "cell_type": "code",
   "execution_count": 1,
   "id": "initial_id",
   "metadata": {
    "ExecuteTime": {
     "end_time": "2024-06-06T11:33:27.915939Z",
     "start_time": "2024-06-06T11:33:18.424703Z"
    },
    "collapsed": true
   },
   "outputs": [],
   "source": [
    "from calibrator import *\n",
    "from analysis import *\n",
    "from dobbel import *\n",
    "dob = dobbellogger()"
   ]
  },
  {
   "cell_type": "code",
   "execution_count": 2,
   "id": "b1b4f26c91f1f61c",
   "metadata": {
    "ExecuteTime": {
     "end_time": "2024-06-06T11:33:55.293439Z",
     "start_time": "2024-06-06T11:33:31.278565Z"
    }
   },
   "outputs": [
    {
     "name": "stdout",
     "output_type": "stream",
     "text": [
      "Leg de dobbelsteen met nummer  1  boven\n",
      "Wacht 1 secondes\n",
      "Logging data for 1s\n",
      "Downloading data\n",
      "Done! The data is located in self.datadf\n",
      "Leg de dobbelsteen met nummer  2  boven\n",
      "Wacht 1 secondes\n",
      "Logging data for 1s\n",
      "Downloading data\n",
      "Done! The data is located in self.datadf\n",
      "Leg de dobbelsteen met nummer  3  boven\n",
      "Wacht 1 secondes\n",
      "Logging data for 1s\n",
      "Downloading data\n",
      "Done! The data is located in self.datadf\n",
      "Leg de dobbelsteen met nummer  4  boven\n",
      "Wacht 1 secondes\n",
      "Logging data for 1s\n",
      "Downloading data\n",
      "Done! The data is located in self.datadf\n",
      "Leg de dobbelsteen met nummer  5  boven\n",
      "Wacht 1 secondes\n",
      "Logging data for 1s\n",
      "Downloading data\n",
      "Done! The data is located in self.datadf\n",
      "Leg de dobbelsteen met nummer  6  boven\n",
      "Wacht 1 secondes\n",
      "Logging data for 1s\n",
      "Downloading data\n",
      "Done! The data is located in self.datadf\n"
     ]
    }
   ],
   "source": [
    "cali = calibrate_rot_bias(dob, 1, 1, 100, 2, 125)"
   ]
  },
  {
   "cell_type": "code",
   "execution_count": 3,
   "id": "e83f40a66b0bce0b",
   "metadata": {
    "ExecuteTime": {
     "end_time": "2024-06-06T11:34:03.517500Z",
     "start_time": "2024-06-06T11:33:55.295447Z"
    }
   },
   "outputs": [
    {
     "name": "stdout",
     "output_type": "stream",
     "text": [
      "Leg de dobbelsteen stil\n",
      "Logging data for 3s\n",
      "Downloading data\n",
      "Done! The data is located in self.datadf\n"
     ]
    }
   ],
   "source": [
    "std_cali = cali_std(dob, 3, 100, 125)"
   ]
  },
  {
   "cell_type": "code",
   "execution_count": 6,
   "id": "9c5577f052664f6a",
   "metadata": {
    "ExecuteTime": {
     "end_time": "2024-06-06T11:34:47.033651Z",
     "start_time": "2024-06-06T11:34:33.613121Z"
    }
   },
   "outputs": [
    {
     "name": "stdout",
     "output_type": "stream",
     "text": [
      "Logging data for 5s\n",
      "Downloading data\n",
      "Done! The data is located in self.datadf\n"
     ]
    }
   ],
   "source": [
    "dob.connect()\n",
    "dob.log(5, 100, 4, 1000)\n",
    "dob.download()\n",
    "data = dob.datadf"
   ]
  },
  {
   "cell_type": "code",
   "execution_count": 7,
   "id": "4e202844673f1da4",
   "metadata": {
    "ExecuteTime": {
     "end_time": "2024-06-06T11:35:07.039731Z",
     "start_time": "2024-06-06T11:34:47.035187Z"
    }
   },
   "outputs": [
    {
     "name": "stdout",
     "output_type": "stream",
     "text": [
      "Start tot oprapen =  524.0\n",
      "Oprapen tot loslaten =  784.0\n",
      "Loslaten tot grond =  191.0\n",
      "Start tot loslaten =  1308.0\n",
      "Start tot grond =  1499.0\n"
     ]
    },
    {
     "data": {
      "text/html": [
       "<div>\n",
       "<style scoped>\n",
       "    .dataframe tbody tr th:only-of-type {\n",
       "        vertical-align: middle;\n",
       "    }\n",
       "\n",
       "    .dataframe tbody tr th {\n",
       "        vertical-align: top;\n",
       "    }\n",
       "\n",
       "    .dataframe thead th {\n",
       "        text-align: right;\n",
       "    }\n",
       "</style>\n",
       "<table border=\"1\" class=\"dataframe\">\n",
       "  <thead>\n",
       "    <tr style=\"text-align: right;\">\n",
       "      <th></th>\n",
       "      <th>timestamp</th>\n",
       "      <th>x_acc</th>\n",
       "      <th>y_acc</th>\n",
       "      <th>z_acc</th>\n",
       "      <th>x_gyro</th>\n",
       "      <th>y_gyro</th>\n",
       "      <th>z_gyro</th>\n",
       "      <th>px</th>\n",
       "      <th>py</th>\n",
       "      <th>pz</th>\n",
       "      <th>...</th>\n",
       "      <th>q2</th>\n",
       "      <th>q3</th>\n",
       "      <th>psi</th>\n",
       "      <th>theta</th>\n",
       "      <th>phi</th>\n",
       "      <th>Raap tijd</th>\n",
       "      <th>Gooi tijd</th>\n",
       "      <th>Lucht tijd</th>\n",
       "      <th>Start tot los</th>\n",
       "      <th>Start tot grond</th>\n",
       "    </tr>\n",
       "  </thead>\n",
       "  <tbody>\n",
       "    <tr>\n",
       "      <th>0</th>\n",
       "      <td>0.0</td>\n",
       "      <td>-0.013671</td>\n",
       "      <td>-0.000250</td>\n",
       "      <td>-0.960509</td>\n",
       "      <td>0.123258</td>\n",
       "      <td>-0.162863</td>\n",
       "      <td>-0.003349</td>\n",
       "      <td>0.000000</td>\n",
       "      <td>0.000000e+00</td>\n",
       "      <td>0.000000</td>\n",
       "      <td>...</td>\n",
       "      <td>-0.000002</td>\n",
       "      <td>0.003696</td>\n",
       "      <td>0.000010</td>\n",
       "      <td>-0.007391</td>\n",
       "      <td>-3.140245</td>\n",
       "      <td>524.0</td>\n",
       "      <td>784.0</td>\n",
       "      <td>191.0</td>\n",
       "      <td>1308.0</td>\n",
       "      <td>1499.0</td>\n",
       "    </tr>\n",
       "    <tr>\n",
       "      <th>1</th>\n",
       "      <td>11.0</td>\n",
       "      <td>-0.016541</td>\n",
       "      <td>0.002304</td>\n",
       "      <td>-0.968329</td>\n",
       "      <td>-0.366720</td>\n",
       "      <td>-0.467343</td>\n",
       "      <td>-0.421349</td>\n",
       "      <td>0.000002</td>\n",
       "      <td>8.809149e-07</td>\n",
       "      <td>-0.000019</td>\n",
       "      <td>...</td>\n",
       "      <td>-0.000076</td>\n",
       "      <td>0.003772</td>\n",
       "      <td>0.000157</td>\n",
       "      <td>-0.007544</td>\n",
       "      <td>-3.140161</td>\n",
       "      <td>NaN</td>\n",
       "      <td>NaN</td>\n",
       "      <td>NaN</td>\n",
       "      <td>NaN</td>\n",
       "      <td>NaN</td>\n",
       "    </tr>\n",
       "    <tr>\n",
       "      <th>2</th>\n",
       "      <td>21.0</td>\n",
       "      <td>-0.014468</td>\n",
       "      <td>0.002496</td>\n",
       "      <td>-0.968331</td>\n",
       "      <td>0.029769</td>\n",
       "      <td>-0.030585</td>\n",
       "      <td>-0.030142</td>\n",
       "      <td>0.000005</td>\n",
       "      <td>1.584342e-06</td>\n",
       "      <td>-0.000068</td>\n",
       "      <td>...</td>\n",
       "      <td>-0.000078</td>\n",
       "      <td>0.003782</td>\n",
       "      <td>0.000162</td>\n",
       "      <td>-0.007565</td>\n",
       "      <td>-3.140164</td>\n",
       "      <td>NaN</td>\n",
       "      <td>NaN</td>\n",
       "      <td>NaN</td>\n",
       "      <td>NaN</td>\n",
       "      <td>NaN</td>\n",
       "    </tr>\n",
       "    <tr>\n",
       "      <th>3</th>\n",
       "      <td>31.0</td>\n",
       "      <td>-0.014441</td>\n",
       "      <td>-0.001790</td>\n",
       "      <td>-0.967227</td>\n",
       "      <td>0.090373</td>\n",
       "      <td>0.031961</td>\n",
       "      <td>-0.002202</td>\n",
       "      <td>0.000009</td>\n",
       "      <td>5.502894e-07</td>\n",
       "      <td>-0.000149</td>\n",
       "      <td>...</td>\n",
       "      <td>-0.000079</td>\n",
       "      <td>0.003788</td>\n",
       "      <td>0.000163</td>\n",
       "      <td>-0.007575</td>\n",
       "      <td>-3.140186</td>\n",
       "      <td>NaN</td>\n",
       "      <td>NaN</td>\n",
       "      <td>NaN</td>\n",
       "      <td>NaN</td>\n",
       "      <td>NaN</td>\n",
       "    </tr>\n",
       "    <tr>\n",
       "      <th>4</th>\n",
       "      <td>41.0</td>\n",
       "      <td>-0.015426</td>\n",
       "      <td>0.000841</td>\n",
       "      <td>-0.966867</td>\n",
       "      <td>0.031089</td>\n",
       "      <td>-0.040409</td>\n",
       "      <td>0.055519</td>\n",
       "      <td>0.000012</td>\n",
       "      <td>6.798473e-07</td>\n",
       "      <td>-0.000262</td>\n",
       "      <td>...</td>\n",
       "      <td>-0.000074</td>\n",
       "      <td>0.003800</td>\n",
       "      <td>0.000153</td>\n",
       "      <td>-0.007600</td>\n",
       "      <td>-3.140193</td>\n",
       "      <td>NaN</td>\n",
       "      <td>NaN</td>\n",
       "      <td>NaN</td>\n",
       "      <td>NaN</td>\n",
       "      <td>NaN</td>\n",
       "    </tr>\n",
       "  </tbody>\n",
       "</table>\n",
       "<p>5 rows × 25 columns</p>\n",
       "</div>"
      ],
      "text/plain": [
       "   timestamp     x_acc     y_acc     z_acc    x_gyro    y_gyro    z_gyro   \n",
       "0        0.0 -0.013671 -0.000250 -0.960509  0.123258 -0.162863 -0.003349  \\\n",
       "1       11.0 -0.016541  0.002304 -0.968329 -0.366720 -0.467343 -0.421349   \n",
       "2       21.0 -0.014468  0.002496 -0.968331  0.029769 -0.030585 -0.030142   \n",
       "3       31.0 -0.014441 -0.001790 -0.967227  0.090373  0.031961 -0.002202   \n",
       "4       41.0 -0.015426  0.000841 -0.966867  0.031089 -0.040409  0.055519   \n",
       "\n",
       "         px            py        pz  ...        q2        q3       psi   \n",
       "0  0.000000  0.000000e+00  0.000000  ... -0.000002  0.003696  0.000010  \\\n",
       "1  0.000002  8.809149e-07 -0.000019  ... -0.000076  0.003772  0.000157   \n",
       "2  0.000005  1.584342e-06 -0.000068  ... -0.000078  0.003782  0.000162   \n",
       "3  0.000009  5.502894e-07 -0.000149  ... -0.000079  0.003788  0.000163   \n",
       "4  0.000012  6.798473e-07 -0.000262  ... -0.000074  0.003800  0.000153   \n",
       "\n",
       "      theta       phi  Raap tijd  Gooi tijd  Lucht tijd  Start tot los   \n",
       "0 -0.007391 -3.140245      524.0      784.0       191.0         1308.0  \\\n",
       "1 -0.007544 -3.140161        NaN        NaN         NaN            NaN   \n",
       "2 -0.007565 -3.140164        NaN        NaN         NaN            NaN   \n",
       "3 -0.007575 -3.140186        NaN        NaN         NaN            NaN   \n",
       "4 -0.007600 -3.140193        NaN        NaN         NaN            NaN   \n",
       "\n",
       "   Start tot grond  \n",
       "0           1499.0  \n",
       "1              NaN  \n",
       "2              NaN  \n",
       "3              NaN  \n",
       "4              NaN  \n",
       "\n",
       "[5 rows x 25 columns]"
      ]
     },
     "execution_count": 7,
     "metadata": {},
     "output_type": "execute_result"
    }
   ],
   "source": [
    "results = run_analysis_local(data, cali, std_cali, N=10, gamma=0.001)\n",
    "results.head()"
   ]
  },
  {
   "cell_type": "code",
   "execution_count": 13,
   "id": "9808a9becb9ab9c9",
   "metadata": {
    "ExecuteTime": {
     "end_time": "2024-06-06T10:39:12.226206Z",
     "start_time": "2024-06-06T10:39:12.198030Z"
    }
   },
   "outputs": [],
   "source": []
  },
  {
   "cell_type": "code",
   "execution_count": null,
   "id": "47ff0745c67c8fc5",
   "metadata": {},
   "outputs": [],
   "source": []
  }
 ],
 "metadata": {
  "kernelspec": {
   "display_name": "Python 3 (ipykernel)",
   "language": "python",
   "name": "python3"
  },
  "language_info": {
   "codemirror_mode": {
    "name": "ipython",
    "version": 3
   },
   "file_extension": ".py",
   "mimetype": "text/x-python",
   "name": "python",
   "nbconvert_exporter": "python",
   "pygments_lexer": "ipython3",
   "version": "3.11.5"
  }
 },
 "nbformat": 4,
 "nbformat_minor": 5
}
