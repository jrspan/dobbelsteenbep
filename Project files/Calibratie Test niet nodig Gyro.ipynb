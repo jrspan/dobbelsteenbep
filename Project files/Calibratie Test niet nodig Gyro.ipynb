{
 "cells": [
  {
   "cell_type": "code",
   "execution_count": 1,
   "id": "initial_id",
   "metadata": {
    "collapsed": true,
    "ExecuteTime": {
     "end_time": "2024-05-07T09:15:10.095946Z",
     "start_time": "2024-05-07T09:15:09.531851Z"
    }
   },
   "outputs": [],
   "source": [
    "import numpy as np\n",
    "import pandas as pd\n",
    "import time\n",
    "from dobbel import dobbellogger\n",
    "import warnings\n",
    "warnings.simplefilter(action='ignore', category=FutureWarning)"
   ]
  },
  {
   "cell_type": "code",
   "outputs": [],
   "source": [
    "def remove_nan(df):\n",
    "    counter = 0\n",
    "    nan = True\n",
    "    while nan:\n",
    "        if not df.loc[counter].isna().any():\n",
    "            nan = False\n",
    "        counter += 1\n",
    "    for i in range(counter - 1):\n",
    "        df = df.drop(index=i)\n",
    "    df = df.reset_index(drop=True)\n",
    "    counter = len(df) - 1\n",
    "    nan = True\n",
    "    while nan:\n",
    "        if not df.loc[counter].isna().any():\n",
    "            nan = False\n",
    "        counter -= 1\n",
    "    maxlen = len(df)\n",
    "    for i in range(maxlen - 1, counter + 1, -1):\n",
    "        df = df.drop(index=i)\n",
    "    df = df.reset_index(drop=True)\n",
    "    for i in range(len(df)):\n",
    "        df['timestamp'][i] = df['timestamp'][i] - df['timestamp'][0]\n",
    "    for i in range(len(df)):\n",
    "        for column in df.columns:\n",
    "            if np.isnan(df[column][i]):\n",
    "                deler = (df['timestamp'][i] - df['timestamp'][i - 1]) / (df['timestamp'][i + 1] - df['timestamp'][i - 1])\n",
    "                df[column][i] = df[column][i - 1] + deler * (df[column][i + 1] - df[column][i - 1])\n",
    "    return df"
   ],
   "metadata": {
    "collapsed": false,
    "ExecuteTime": {
     "end_time": "2024-05-07T09:15:10.842513Z",
     "start_time": "2024-05-07T09:15:10.835758Z"
    }
   },
   "id": "c74a8a59f885aac0",
   "execution_count": 2
  },
  {
   "cell_type": "code",
   "outputs": [
    {
     "name": "stdout",
     "output_type": "stream",
     "text": [
      "Leg de dobbelsteen met nummer  1  boven\n",
      "Logging data for 3s\n",
      "Downloading data\n",
      "Done! The data is located in self.datadf\n",
      "1 boven: x_gyro_mean = -0.16679509968030223  y_gyro_mean =  0.46826604745298067  z_gyro_mean =  0.04395644809578231\n",
      "1 boven: x_acc_mean = -0.6523708895317414  y_acc_mean =  -0.035981081916601154  z_acc_mean =  -0.8215344570967636\n"
     ]
    }
   ],
   "source": [
    "print(\"Leg de dobbelsteen met nummer \", 1, \" boven\")\n",
    "dob = dobbellogger()\n",
    "dob.log(3, 200, 8, 125)\n",
    "dob.download()\n",
    "data = dob.datadf\n",
    "data = remove_nan(data)\n",
    "\n",
    "#output accelerometer\n",
    "x_acc = data['x_acc']\n",
    "y_acc = data['y_acc']\n",
    "z_acc = data['z_acc']\n",
    "\n",
    "# output gyro\n",
    "x_gyro = data['x_gyro']\n",
    "y_gyro = data['y_gyro']\n",
    "z_gyro = data['z_gyro']\n",
    "\n",
    "#vectorize these outputs\n",
    "gyro = np.array([x_gyro,y_gyro,z_gyro])\n",
    "acc = np.array([x_acc,y_acc,z_acc])\n",
    "\n",
    "# Calculate the  means of accelormeter\n",
    "x_acc_mean = np.mean(data['x_acc'])\n",
    "y_acc_mean = np.mean(data['y_acc'])\n",
    "z_acc_mean = np.mean(data['z_acc'])\n",
    "\n",
    "# Calculate the  gyro means\n",
    "x_gyro_mean = np.mean(data['x_gyro'])\n",
    "y_gyro_mean = np.mean(data['y_gyro'])\n",
    "z_gyro_mean = np.mean(data['z_gyro'])\n",
    "\n",
    "# # Normalise the mean\n",
    "# norm = (x_mean**2 + y_mean**2 + z_mean**2)**0.5\n",
    "# x_norm_mean = x_mean / norm\n",
    "# y_norm_mean = y_mean / norm\n",
    "# z_norm_mean = z_mean / norm\n",
    "\n",
    "# Create vectors from the accelerometer and gyro means\n",
    "acc_means = np.array([[x_acc_mean], [y_acc_mean], [z_acc_mean]])\n",
    "gyro_means = np.array([[x_gyro_mean], [y_gyro_mean], [z_gyro_mean]])\n",
    "\n",
    "print(\"1 boven: x_gyro_mean =\", x_gyro_mean, \" y_gyro_mean = \", y_gyro_mean, \" z_gyro_mean = \", z_gyro_mean)\n",
    "print(\"1 boven: x_acc_mean =\", x_acc_mean, \" y_acc_mean = \", y_acc_mean, \" z_acc_mean = \", z_acc_mean) "
   ],
   "metadata": {
    "collapsed": false,
    "ExecuteTime": {
     "end_time": "2024-05-07T09:27:13.954052Z",
     "start_time": "2024-05-07T09:26:55.117696Z"
    }
   },
   "id": "7b8ac02346120ddc",
   "execution_count": 16
  },
  {
   "cell_type": "code",
   "outputs": [
    {
     "name": "stdout",
     "output_type": "stream",
     "text": [
      "[[0]\n",
      " [0]\n",
      " [0]]\n",
      "[[1. 0. 0.]\n",
      " [0. 1. 0.]\n",
      " [0. 0. 1.]]\n",
      "[[-0.1667951 ]\n",
      " [ 0.46826605]\n",
      " [ 0.04395645]]\n",
      "[[1.00803168e-05 5.14633119e-06 4.60734536e-07]\n",
      " [5.14633119e-06 2.04282113e-05 7.60213406e-07]\n",
      " [4.60734536e-07 7.60213406e-07 1.15120514e-05]]\n",
      "[[ 0.00665623  0.00020042  0.00030583]\n",
      " [ 0.00020042  0.00434655 -0.00077061]\n",
      " [ 0.00030583 -0.00077061  0.00607711]]\n"
     ]
    }
   ],
   "source": [
    "#Define initial values\n",
    "D_0 = np.identity(3)\n",
    "b_a = np.array([[0],[0],[0]])\n",
    "b_omega = gyro_means\n",
    "cov_acc = np.cov(acc)\n",
    "cov_gyro = np.cov(gyro)\n",
    "x_0 = np.array([[1],[0],[0],[0]])\n",
    "theta = np.array([D_0])\n",
    "print(b_a)\n",
    "print(D_0)\n",
    "print(b_omega)\n",
    "print(cov_acc)\n",
    "print(cov_gyro)"
   ],
   "metadata": {
    "collapsed": false,
    "ExecuteTime": {
     "end_time": "2024-05-07T09:32:08.363855Z",
     "start_time": "2024-05-07T09:32:08.357096Z"
    }
   },
   "id": "6aefa22a5ef302f",
   "execution_count": 20
  },
  {
   "cell_type": "code",
   "outputs": [
    {
     "name": "stdout",
     "output_type": "stream",
     "text": [
      "[[-0.65234375 -0.64379883 -0.64135742 ... -0.65087891 -0.65063477\n",
      "  -0.65014648]\n",
      " [-0.03417969 -0.0390625  -0.04418945 ... -0.03686523 -0.03857422\n",
      "  -0.03662109]\n",
      " [-0.83618164 -0.82519531 -0.81860352 ... -0.8190918  -0.81665039\n",
      "  -0.81713867]]\n"
     ]
    }
   ],
   "source": [
    "for i in range (500):"
   ],
   "metadata": {
    "collapsed": false,
    "ExecuteTime": {
     "end_time": "2024-05-07T09:26:00.411303Z",
     "start_time": "2024-05-07T09:26:00.407522Z"
    }
   },
   "id": "33c1011995c010b",
   "execution_count": 14
  },
  {
   "cell_type": "code",
   "outputs": [],
   "source": [],
   "metadata": {
    "collapsed": false
   },
   "id": "9d05f8e2478ae8ca"
  }
 ],
 "metadata": {
  "kernelspec": {
   "display_name": "Python 3",
   "language": "python",
   "name": "python3"
  },
  "language_info": {
   "codemirror_mode": {
    "name": "ipython",
    "version": 2
   },
   "file_extension": ".py",
   "mimetype": "text/x-python",
   "name": "python",
   "nbconvert_exporter": "python",
   "pygments_lexer": "ipython2",
   "version": "2.7.6"
  }
 },
 "nbformat": 4,
 "nbformat_minor": 5
}
