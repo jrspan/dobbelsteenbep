{
 "cells": [
  {
   "cell_type": "code",
   "execution_count": 1,
   "id": "initial_id",
   "metadata": {
    "collapsed": true,
    "ExecuteTime": {
     "end_time": "2024-04-25T11:30:34.829260Z",
     "start_time": "2024-04-25T11:30:34.237824Z"
    }
   },
   "outputs": [],
   "source": [
    "from mbientlab.metawear import MetaWear, libmetawear, parse_value\n",
    "import mbientlab.metawear.cbindings as cbindings\n",
    "from ctypes import Structure, c_void_p, cast, POINTER, c_int, c_float\n",
    "from threading import Event\n",
    "from time import sleep\n",
    "import pandas as pd"
   ]
  },
  {
   "cell_type": "code",
   "outputs": [
    {
     "ename": "WarbleException",
     "evalue": "Failed to discover device (FromBluetoothAddressAsync returned nullptr)",
     "output_type": "error",
     "traceback": [
      "\u001B[1;31m---------------------------------------------------------------------------\u001B[0m",
      "\u001B[1;31mWarbleException\u001B[0m                           Traceback (most recent call last)",
      "Cell \u001B[1;32mIn[2], line 7\u001B[0m\n\u001B[0;32m      5\u001B[0m \u001B[38;5;66;03m# Create and connect the device\u001B[39;00m\n\u001B[0;32m      6\u001B[0m device \u001B[38;5;241m=\u001B[39m MetaWear(device_address)\n\u001B[1;32m----> 7\u001B[0m \u001B[43mdevice\u001B[49m\u001B[38;5;241;43m.\u001B[39;49m\u001B[43mconnect\u001B[49m\u001B[43m(\u001B[49m\u001B[43m)\u001B[49m\n",
      "File \u001B[1;32m~\\AppData\\Local\\Programs\\Python\\Python312\\Lib\\site-packages\\mbientlab\\metawear\\metawear.py:407\u001B[0m, in \u001B[0;36mMetaWear.connect\u001B[1;34m(self, **kwargs)\u001B[0m\n\u001B[0;32m    404\u001B[0m e\u001B[38;5;241m.\u001B[39mwait()\n\u001B[0;32m    406\u001B[0m \u001B[38;5;28;01mif\u001B[39;00m (result[\u001B[38;5;241m0\u001B[39m] \u001B[38;5;241m!=\u001B[39m \u001B[38;5;28;01mNone\u001B[39;00m):\n\u001B[1;32m--> 407\u001B[0m     \u001B[38;5;28;01mraise\u001B[39;00m result[\u001B[38;5;241m0\u001B[39m]\n",
      "\u001B[1;31mWarbleException\u001B[0m: Failed to discover device (FromBluetoothAddressAsync returned nullptr)"
     ]
    }
   ],
   "source": [
    "# MAC address of the MetaWear device\n",
    "device_address = 'D4:06:BD:85:8F:23'\n",
    "\n",
    "\n",
    "# Create and connect the device\n",
    "device = MetaWear(device_address)\n",
    "device.connect()"
   ],
   "metadata": {
    "collapsed": false,
    "ExecuteTime": {
     "end_time": "2024-04-25T11:30:36.061730Z",
     "start_time": "2024-04-25T11:30:35.550661Z"
    }
   },
   "id": "3724b5180d777af8",
   "execution_count": 2
  },
  {
   "cell_type": "code",
   "outputs": [
    {
     "ename": "NameError",
     "evalue": "name 'create_voidp' is not defined",
     "output_type": "error",
     "traceback": [
      "\u001B[1;31m---------------------------------------------------------------------------\u001B[0m",
      "\u001B[1;31mNameError\u001B[0m                                 Traceback (most recent call last)",
      "Cell \u001B[1;32mIn[3], line 6\u001B[0m\n\u001B[0;32m      4\u001B[0m signal \u001B[38;5;241m=\u001B[39m libmetawear\u001B[38;5;241m.\u001B[39mmbl_mw_acc_get_acceleration_data_signal(d\u001B[38;5;241m.\u001B[39mboard)\n\u001B[0;32m      5\u001B[0m \u001B[38;5;66;03m# Create a logger\u001B[39;00m\n\u001B[1;32m----> 6\u001B[0m logger \u001B[38;5;241m=\u001B[39m \u001B[43mcreate_voidp\u001B[49m(\u001B[38;5;28;01mlambda\u001B[39;00m fn: libmetawear\u001B[38;5;241m.\u001B[39mmbl_mw_datasignal_log(signal, \u001B[38;5;28;01mNone\u001B[39;00m, fn), resource \u001B[38;5;241m=\u001B[39m \u001B[38;5;124m\"\u001B[39m\u001B[38;5;124macc_logger\u001B[39m\u001B[38;5;124m\"\u001B[39m)\n\u001B[0;32m      8\u001B[0m \u001B[38;5;66;03m# Start logger\u001B[39;00m\n\u001B[0;32m      9\u001B[0m libmetawear\u001B[38;5;241m.\u001B[39mmbl_mw_logging_start(d\u001B[38;5;241m.\u001B[39mboard, \u001B[38;5;241m0\u001B[39m)\n",
      "\u001B[1;31mNameError\u001B[0m: name 'create_voidp' is not defined"
     ]
    }
   ],
   "source": [
    "e = Event()\n",
    "d = device\n",
    "# Get the accelerometer data signal\n",
    "signal = libmetawear.mbl_mw_acc_get_acceleration_data_signal(d.board)\n",
    "# Create a logger\n",
    "logger = create_voidp(lambda fn: libmetawear.mbl_mw_datasignal_log(signal, None, fn), resource = \"acc_logger\")\n",
    "\n",
    "# Start logger\n",
    "libmetawear.mbl_mw_logging_start(d.board, 0)\n",
    "\n",
    "# Turn on the accelerometer\n",
    "libmetawear.mbl_mw_acc_enable_acceleration_sampling(d.board)\n",
    "libmetawear.mbl_mw_acc_start(d.board)\n",
    "\n",
    "print(\"Logging data for 5s\")\n",
    "sleep(5.0)\n",
    "\n",
    "# Turn off the accelerometer\n",
    "libmetawear.mbl_mw_acc_stop(d.board)\n",
    "libmetawear.mbl_mw_acc_disable_acceleration_sampling(d.board)\n",
    "# Stop logging\n",
    "libmetawear.mbl_mw_logging_stop(d.board)\n",
    "\n",
    "print(\"Downloading data\")\n",
    "# Callback function to handle logger entries as we download them\n",
    "def progress_update_handler(context, entries_left, total_entries):\n",
    "    if (entries_left == 0):\n",
    "        e.set()\n",
    "\n",
    "# Function pointer and handlers for the logger download (LogDownloadHandler -> in the cbindings)\n",
    "fn_wrapper = FnVoid_VoidP_UInt_UInt(progress_update_handler)\n",
    "download_handler = LogDownloadHandler(context = None, received_progress_update = fn_wrapper, received_unknown_entry = cast(None, FnVoid_VoidP_UByte_Long_UByteP_UByte), received_unhandled_entry = cast(None, FnVoid_VoidP_DataP))\n",
    "callback = FnVoid_VoidP_DataP(lambda ctx, p: print(\"{epoch: %d, value: %s}\" % (p.contents.epoch, parse_value(p))))\n",
    "\n",
    "# Stop logger\n",
    "libmetawear.mbl_mw_logger_subscribe(logger, None, callback)\n",
    "\n",
    "# Download logger contents\n",
    "libmetawear.mbl_mw_logging_download(d.board, 0, byref(download_handler))\n",
    "e.wait()"
   ],
   "metadata": {
    "collapsed": false,
    "ExecuteTime": {
     "end_time": "2024-04-25T11:29:19.472109Z",
     "start_time": "2024-04-25T11:29:19.444866Z"
    }
   },
   "id": "db36e833927cad6d",
   "execution_count": 3
  },
  {
   "cell_type": "code",
   "outputs": [],
   "source": [],
   "metadata": {
    "collapsed": false,
    "ExecuteTime": {
     "end_time": "2024-04-25T09:23:43.673624Z",
     "start_time": "2024-04-25T09:23:43.671255Z"
    }
   },
   "id": "8b4c15e2aca28c7e",
   "execution_count": 8
  },
  {
   "cell_type": "code",
   "outputs": [],
   "source": [],
   "metadata": {
    "collapsed": false,
    "ExecuteTime": {
     "end_time": "2024-04-25T09:23:44.072360Z",
     "start_time": "2024-04-25T09:23:44.070133Z"
    }
   },
   "id": "9a30e711313550d1",
   "execution_count": 8
  },
  {
   "cell_type": "code",
   "outputs": [],
   "source": [
    "device.on_disconnect = lambda status: print (\"we are disconnected!\")\n",
    "device.disconnect()"
   ],
   "metadata": {
    "collapsed": false,
    "ExecuteTime": {
     "end_time": "2024-04-25T09:23:58.126957Z",
     "start_time": "2024-04-25T09:23:58.123418Z"
    }
   },
   "id": "8bd7486e879d9a6c",
   "execution_count": 9
  },
  {
   "cell_type": "code",
   "outputs": [
    {
     "ename": "OSError",
     "evalue": "[WinError -529697949] Windows Error 0xe06d7363",
     "output_type": "error",
     "traceback": [
      "\u001B[1;31m---------------------------------------------------------------------------\u001B[0m",
      "\u001B[1;31mOSError\u001B[0m                                   Traceback (most recent call last)",
      "Cell \u001B[1;32mIn[1], line 36\u001B[0m\n\u001B[0;32m     34\u001B[0m \u001B[38;5;28;01mfor\u001B[39;00m i \u001B[38;5;129;01min\u001B[39;00m \u001B[38;5;28mrange\u001B[39m(\u001B[38;5;28mlen\u001B[39m(sys\u001B[38;5;241m.\u001B[39margv) \u001B[38;5;241m-\u001B[39m \u001B[38;5;241m1\u001B[39m):\n\u001B[0;32m     35\u001B[0m     d \u001B[38;5;241m=\u001B[39m MetaWear(sys\u001B[38;5;241m.\u001B[39margv[i \u001B[38;5;241m+\u001B[39m \u001B[38;5;241m1\u001B[39m])\n\u001B[1;32m---> 36\u001B[0m     \u001B[43md\u001B[49m\u001B[38;5;241;43m.\u001B[39;49m\u001B[43mconnect\u001B[49m\u001B[43m(\u001B[49m\u001B[43m)\u001B[49m\n\u001B[0;32m     37\u001B[0m     \u001B[38;5;28mprint\u001B[39m(\u001B[38;5;124m\"\u001B[39m\u001B[38;5;124mConnected to \u001B[39m\u001B[38;5;124m\"\u001B[39m \u001B[38;5;241m+\u001B[39m d\u001B[38;5;241m.\u001B[39maddress \u001B[38;5;241m+\u001B[39m \u001B[38;5;124m\"\u001B[39m\u001B[38;5;124m over \u001B[39m\u001B[38;5;124m\"\u001B[39m \u001B[38;5;241m+\u001B[39m (\u001B[38;5;124m\"\u001B[39m\u001B[38;5;124mUSB\u001B[39m\u001B[38;5;124m\"\u001B[39m \u001B[38;5;28;01mif\u001B[39;00m d\u001B[38;5;241m.\u001B[39musb\u001B[38;5;241m.\u001B[39mis_connected \u001B[38;5;28;01melse\u001B[39;00m \u001B[38;5;124m\"\u001B[39m\u001B[38;5;124mBLE\u001B[39m\u001B[38;5;124m\"\u001B[39m))\n\u001B[0;32m     38\u001B[0m     states\u001B[38;5;241m.\u001B[39mappend(State(d))\n",
      "File \u001B[1;32m~\\AppData\\Local\\Programs\\Python\\Python312\\Lib\\site-packages\\mbientlab\\metawear\\metawear.py:403\u001B[0m, in \u001B[0;36mMetaWear.connect\u001B[1;34m(self, **kwargs)\u001B[0m\n\u001B[0;32m    400\u001B[0m     result\u001B[38;5;241m.\u001B[39mappend(error)\n\u001B[0;32m    401\u001B[0m     e\u001B[38;5;241m.\u001B[39mset()\n\u001B[1;32m--> 403\u001B[0m \u001B[38;5;28;43mself\u001B[39;49m\u001B[38;5;241;43m.\u001B[39;49m\u001B[43mconnect_async\u001B[49m\u001B[43m(\u001B[49m\u001B[43mcompleted\u001B[49m\u001B[43m)\u001B[49m\n\u001B[0;32m    404\u001B[0m e\u001B[38;5;241m.\u001B[39mwait()\n\u001B[0;32m    406\u001B[0m \u001B[38;5;28;01mif\u001B[39;00m (result[\u001B[38;5;241m0\u001B[39m] \u001B[38;5;241m!=\u001B[39m \u001B[38;5;28;01mNone\u001B[39;00m):\n",
      "File \u001B[1;32m~\\AppData\\Local\\Programs\\Python\\Python312\\Lib\\site-packages\\mbientlab\\metawear\\metawear.py:390\u001B[0m, in \u001B[0;36mMetaWear.connect_async\u001B[1;34m(self, handler, **kwargs)\u001B[0m\n\u001B[0;32m    387\u001B[0m \u001B[38;5;28;01mif\u001B[39;00m \u001B[38;5;124m'\u001B[39m\u001B[38;5;124mfirmware\u001B[39m\u001B[38;5;124m'\u001B[39m \u001B[38;5;129;01min\u001B[39;00m \u001B[38;5;28mself\u001B[39m\u001B[38;5;241m.\u001B[39minfo: \u001B[38;5;28;01mdel\u001B[39;00m \u001B[38;5;28mself\u001B[39m\u001B[38;5;241m.\u001B[39minfo[\u001B[38;5;124m'\u001B[39m\u001B[38;5;124mfirmware\u001B[39m\u001B[38;5;124m'\u001B[39m]\n\u001B[0;32m    389\u001B[0m \u001B[38;5;28mself\u001B[39m\u001B[38;5;241m.\u001B[39mconn \u001B[38;5;241m=\u001B[39m \u001B[38;5;28mself\u001B[39m\u001B[38;5;241m.\u001B[39musb \u001B[38;5;28;01mif\u001B[39;00m \u001B[38;5;28mself\u001B[39m\u001B[38;5;241m.\u001B[39musb\u001B[38;5;241m.\u001B[39mis_enumerated \u001B[38;5;28;01melse\u001B[39;00m \u001B[38;5;28mself\u001B[39m\u001B[38;5;241m.\u001B[39mwarble\n\u001B[1;32m--> 390\u001B[0m \u001B[38;5;28;43mself\u001B[39;49m\u001B[38;5;241;43m.\u001B[39;49m\u001B[43mconn\u001B[49m\u001B[38;5;241;43m.\u001B[39;49m\u001B[43mconnect_async\u001B[49m\u001B[43m(\u001B[49m\u001B[43mcompleted\u001B[49m\u001B[43m)\u001B[49m\n",
      "File \u001B[1;32m~\\AppData\\Local\\Programs\\Python\\Python312\\Lib\\site-packages\\mbientlab\\warble\\gatt.py:60\u001B[0m, in \u001B[0;36mGatt.connect_async\u001B[1;34m(self, handler)\u001B[0m\n\u001B[0;32m     57\u001B[0m         handler(WarbleException(bytes_to_str(msg)))\n\u001B[0;32m     59\u001B[0m \u001B[38;5;28mself\u001B[39m\u001B[38;5;241m.\u001B[39mconnect_handler \u001B[38;5;241m=\u001B[39m FnVoid_VoidP_WarbleGattP_CharP(completed)\n\u001B[1;32m---> 60\u001B[0m \u001B[43mlibwarble\u001B[49m\u001B[38;5;241;43m.\u001B[39;49m\u001B[43mwarble_gatt_connect_async\u001B[49m\u001B[43m(\u001B[49m\u001B[38;5;28;43mself\u001B[39;49m\u001B[38;5;241;43m.\u001B[39;49m\u001B[43mgatt\u001B[49m\u001B[43m,\u001B[49m\u001B[43m \u001B[49m\u001B[38;5;28;43;01mNone\u001B[39;49;00m\u001B[43m,\u001B[49m\u001B[43m \u001B[49m\u001B[38;5;28;43mself\u001B[39;49m\u001B[38;5;241;43m.\u001B[39;49m\u001B[43mconnect_handler\u001B[49m\u001B[43m)\u001B[49m\n",
      "\u001B[1;31mOSError\u001B[0m: [WinError -529697949] Windows Error 0xe06d7363"
     ]
    }
   ],
   "source": [
    "from __future__ import print_function\n",
    "from mbientlab.metawear import MetaWear, libmetawear, parse_value\n",
    "from mbientlab.metawear.cbindings import *\n",
    "from time import sleep\n",
    "from threading import Event\n",
    "\n",
    "import platform\n",
    "import sys\n",
    "\n",
    "if sys.version_info[0] == 2:\n",
    "    range = xrange\n",
    "\n",
    "class State:\n",
    "    # init state\n",
    "    def __init__(self, device):\n",
    "        self.device = device\n",
    "        self.samples = 0\n",
    "        self.accCallback = FnVoid_VoidP_DataP(self.acc_data_handler)\n",
    "        self.gyroCallback = FnVoid_VoidP_DataP(self.gyro_data_handler)\n",
    "\n",
    "    # acc callback function\n",
    "    def acc_data_handler(self, ctx, data):\n",
    "        print(\"ACC: %s -> %s\" % (self.device.address, parse_value(data)))\n",
    "        self.samples+= 1\n",
    "\n",
    "    # gyro callback function\n",
    "    def gyro_data_handler(self, ctx, data):\n",
    "        print(\"GYRO: %s -> %s\" % (self.device.address, parse_value(data)))\n",
    "        self.samples+= 1\n",
    "\n",
    "# init\n",
    "states = []\n",
    "# connect to all mac addresses in arg\n",
    "for i in range(len(sys.argv) - 1):\n",
    "    d = MetaWear(sys.argv[i + 1])\n",
    "    d.connect()\n",
    "    print(\"Connected to \" + d.address + \" over \" + (\"USB\" if d.usb.is_connected else \"BLE\"))\n",
    "    states.append(State(d))\n",
    "\n",
    "# configure all metawears\n",
    "for s in states:\n",
    "    print(\"Configuring device\")\n",
    "    libmetawear.mbl_mw_settings_set_connection_parameters(s.device.board, 7.5, 7.5, 0, 6000)\n",
    "    sleep(1.5)\n",
    "\n",
    "    # config acc\n",
    "    #libmetawear.mbl_mw_acc_set_odr(s.device.board, 50.0) # Generic call\n",
    "    libmetawear.mbl_mw_acc_bmi160_set_odr(s.device.board, AccBmi160Odr._50Hz) # BMI 160 specific call\n",
    "    libmetawear.mbl_mw_acc_bosch_set_range(s.device.board, AccBoschRange._4G)\n",
    "    libmetawear.mbl_mw_acc_write_acceleration_config(s.device.board)\n",
    "\n",
    "    # config gyro\n",
    "    libmetawear.mbl_mw_gyro_bmi160_set_range(s.device.board, GyroBoschRange._1000dps);\n",
    "    libmetawear.mbl_mw_gyro_bmi160_set_odr(s.device.board, GyroBoschOdr._50Hz);\n",
    "    libmetawear.mbl_mw_gyro_bmi160_write_config(s.device.board);\n",
    "\n",
    "    # get acc signal and subscribe\n",
    "    acc = libmetawear.mbl_mw_acc_get_acceleration_data_signal(s.device.board)\n",
    "    libmetawear.mbl_mw_datasignal_subscribe(acc, None, s.accCallback)\n",
    "\n",
    "    # get gyro signal and subscribe\n",
    "    gyro = libmetawear.mbl_mw_gyro_bmi160_get_rotation_data_signal(s.device.board)\n",
    "    libmetawear.mbl_mw_datasignal_subscribe(gyro, None, s.gyroCallback)\n",
    "\n",
    "    # start acc\n",
    "    libmetawear.mbl_mw_acc_enable_acceleration_sampling(s.device.board)\n",
    "    libmetawear.mbl_mw_acc_start(s.device.board)\n",
    "\n",
    "    # start gyro\n",
    "    libmetawear.mbl_mw_gyro_bmi160_enable_rotation_sampling(s.device.board)\n",
    "    libmetawear.mbl_mw_gyro_bmi160_start(s.device.board)\n",
    "\n",
    "# sleep 10 s\n",
    "sleep(10.0)\n",
    "\n",
    "# breakdown metawears\n",
    "for s in states:\n",
    "    # stop acc\n",
    "    libmetawear.mbl_mw_acc_stop(s.device.board)\n",
    "    libmetawear.mbl_mw_acc_disable_acceleration_sampling(s.device.board)\n",
    "\n",
    "    # stop gyro\n",
    "    libmetawear.mbl_mw_gyro_bmi160_stop(s.device.board)\n",
    "    libmetawear.mbl_mw_gyro_bmi160_disable_rotation_sampling(s.device.board)\n",
    "\n",
    "    # unsubscribe acc\n",
    "    acc = libmetawear.mbl_mw_acc_get_acceleration_data_signal(s.device.board)\n",
    "    libmetawear.mbl_mw_datasignal_unsubscribe(acc)\n",
    "\n",
    "    # unsubscribe gyro\n",
    "    gyro = libmetawear.mbl_mw_gyro_bmi160_get_rotation_data_signal(s.device.board)\n",
    "    libmetawear.mbl_mw_datasignal_unsubscribe(gyro)\n",
    "\n",
    "    # disconnect\n",
    "    libmetawear.mbl_mw_debug_disconnect(s.device.board)\n",
    "\n",
    "# download recap\n",
    "print(\"Total Samples Received\")\n",
    "for s in states:\n",
    "    print(\"%s -> %d\" % (s.device.address, s.samples))"
   ],
   "metadata": {
    "collapsed": false,
    "ExecuteTime": {
     "end_time": "2024-04-25T10:20:38.166213Z",
     "start_time": "2024-04-25T10:20:37.744655Z"
    }
   },
   "id": "a8ccea3884b4d939",
   "execution_count": 1
  },
  {
   "cell_type": "code",
   "outputs": [],
   "source": [],
   "metadata": {
    "collapsed": false
   },
   "id": "3e206ad60778640d"
  }
 ],
 "metadata": {
  "kernelspec": {
   "display_name": "Python 3",
   "language": "python",
   "name": "python3"
  },
  "language_info": {
   "codemirror_mode": {
    "name": "ipython",
    "version": 2
   },
   "file_extension": ".py",
   "mimetype": "text/x-python",
   "name": "python",
   "nbconvert_exporter": "python",
   "pygments_lexer": "ipython2",
   "version": "2.7.6"
  }
 },
 "nbformat": 4,
 "nbformat_minor": 5
}
