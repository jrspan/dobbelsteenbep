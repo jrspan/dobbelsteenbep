{
 "cells": [
  {
   "cell_type": "code",
   "execution_count": 1,
   "id": "initial_id",
   "metadata": {
    "collapsed": true,
    "ExecuteTime": {
     "end_time": "2024-05-14T09:55:04.493628Z",
     "start_time": "2024-05-14T09:55:04.017832Z"
    }
   },
   "outputs": [],
   "source": [
    "import numpy as np\n",
    "import pandas as pd\n",
    "import time\n",
    "from dobbel import dobbellogger\n",
    "import warnings\n",
    "warnings.simplefilter(action='ignore', category=FutureWarning)"
   ]
  },
  {
   "cell_type": "code",
   "outputs": [],
   "source": [
    "def expq(vector, multiplier=1):\n",
    "    x, y, z = vector[0] * multiplier, vector[1] * multiplier, vector[2] * multiplier\n",
    "    absq = (x ** 2 + y ** 2 + z ** 2) ** 1 / 2\n",
    "    w = np.cos(absq)\n",
    "    sinabs = np.sin(absq)\n",
    "    xq = x * sinabs / absq\n",
    "    yq = y * sinabs / absq\n",
    "    zq = z * sinabs / absq\n",
    "    return np.array([w, xq, yq, zq])\n",
    "\n",
    "\n",
    "def quat_mul(p, q):\n",
    "    p0 = p[0]\n",
    "    q0 = q[0]\n",
    "    pv = p[1:]\n",
    "    qv = q[1:]\n",
    "    out0 = p0 * q0 - np.dot(pv, qv)\n",
    "    outv = p0 * qv + q0 * pv + np.cross(pv, qv)\n",
    "    out = np.array([out0, *outv])\n",
    "    return out\n",
    "\n",
    "def quaternion_conjugate(q):\n",
    "    w, x, y, z = q\n",
    "    return np.array([w, -x, -y, -z])\n",
    "\n",
    "\n",
    "# Actual Rotation Fuction - Input = Acceleration vector = 1x3 , rotation_quaternion = 1*4\n",
    "def rotate_vector(vector, rotation_quaternion):\n",
    "    # Convert the vector to a quaternion\n",
    "    vector_quaternion = np.concatenate(([0], vector))\n",
    "\n",
    "    # Calculate the rotated quaternion\n",
    "    rotated_quaternion = quat_mul(rotation_quaternion,\n",
    "                                  quat_mul(vector_quaternion, quaternion_conjugate(rotation_quaternion)))\n",
    "\n",
    "    # Extract the rotated vector from the quaternion\n",
    "    rotated_vector = rotated_quaternion[1:]\n",
    "\n",
    "    return np.array(rotated_vector)\n",
    "\n",
    "def remove_nan(df):\n",
    "    counter = 0\n",
    "    nan = True\n",
    "    while nan:\n",
    "        if not df.loc[counter].isna().any():\n",
    "            nan = False\n",
    "        counter += 1\n",
    "    for i in range(counter - 1):\n",
    "        df = df.drop(index=i)\n",
    "    df = df.reset_index(drop=True)\n",
    "    counter = len(df) - 1\n",
    "    nan = True\n",
    "    while nan:\n",
    "        if not df.loc[counter].isna().any():\n",
    "            nan = False\n",
    "        counter -= 1\n",
    "    maxlen = len(df)\n",
    "    for i in range(maxlen - 1, counter + 1, -1):\n",
    "        df = df.drop(index=i)\n",
    "    df = df.reset_index(drop=True)\n",
    "    for i in range(len(df)):\n",
    "        df['timestamp'][i] = df['timestamp'][i] - df['timestamp'][0]\n",
    "    for i in range(len(df)):\n",
    "        for column in df.columns:\n",
    "            if np.isnan(df[column][i]):\n",
    "                deler = (df['timestamp'][i] - df['timestamp'][i - 1]) / (df['timestamp'][i + 1] - df['timestamp'][i - 1])\n",
    "                df[column][i] = df[column][i - 1] + deler * (df[column][i + 1] - df[column][i - 1])\n",
    "    return df"
   ],
   "metadata": {
    "collapsed": false,
    "ExecuteTime": {
     "end_time": "2024-05-14T09:55:06.370993Z",
     "start_time": "2024-05-14T09:55:06.361544Z"
    }
   },
   "id": "7dd48b0dc83e967a",
   "execution_count": 2
  },
  {
   "cell_type": "code",
   "outputs": [
    {
     "name": "stdout",
     "output_type": "stream",
     "text": [
      "[ 0.94264149  0.         -0.33380686  0.        ]\n"
     ]
    }
   ],
   "source": [
    "angle = np.deg2rad(-39)\n",
    "rotate_y = np.array([[np.cos(angle),0,np.sin(angle)], [0,1,0],[-np.sin(angle),0,np.cos(angle)]])\n",
    "trace = np.trace(rotate_y)\n",
    "q_0 = np.sqrt(1+trace)/2\n",
    "q_2 = 1/(4*q_0) * (np.sin(angle)+np.sin(angle))\n",
    "q_rotate = np.array([q_0,0,q_2,0])\n",
    "print(q_rotate)"
   ],
   "metadata": {
    "collapsed": false,
    "ExecuteTime": {
     "end_time": "2024-05-14T09:55:07.780508Z",
     "start_time": "2024-05-14T09:55:07.774916Z"
    }
   },
   "id": "3abc7cf65f3eedaf",
   "execution_count": 3
  },
  {
   "cell_type": "code",
   "outputs": [
    {
     "name": "stdout",
     "output_type": "stream",
     "text": [
      "Leg de dobbelsteen met nummer  1  boven\n",
      "wacht 3 secondes\n",
      "Logging data for 2s\n",
      "Downloading data\n",
      "Done! The data is located in self.datadf\n",
      "Leg de dobbelsteen met nummer  2  boven\n",
      "wacht 3 secondes\n",
      "Logging data for 2s\n",
      "Downloading data\n",
      "Done! The data is located in self.datadf\n",
      "Leg de dobbelsteen met nummer  3  boven\n",
      "wacht 3 secondes\n",
      "Logging data for 2s\n",
      "Downloading data\n",
      "Done! The data is located in self.datadf\n"
     ]
    }
   ],
   "source": [
    "# Create rotated accelerometer lists\n",
    "xr_acc_list = []\n",
    "yr_acc_list = []\n",
    "zr_acc_list = []\n",
    "xr_acc_stds_list = []\n",
    "yr_acc_stds_list = []\n",
    "zr_acc_stds_list = []\n",
    "\n",
    "# Create rotated gyroscope lists\n",
    "xr_gyro_list = []\n",
    "yr_gyro_list = []\n",
    "zr_gyro_list = []\n",
    "xr_gyro_stds_list = []\n",
    "yr_gyro_stds_list = []\n",
    "zr_gyro_stds_list = []\n",
    "\n",
    "dob = dobbellogger()\n",
    "\n",
    "for i in range(3):\n",
    "    i=i+1\n",
    "    print(\"Leg de dobbelsteen met nummer \", i, \" boven\")\n",
    "    print(\"wacht 3 secondes\")\n",
    "    time.sleep(3)\n",
    "    dob.connect()\n",
    "\n",
    "    #Log the data of the dice\n",
    "    dob.log(2, 200, 8, 125)\n",
    "    \n",
    "    # Download the logged data from the dice\n",
    "    dob.download()\n",
    "    data = dob.datadf\n",
    "    data = remove_nan(data)\n",
    "\n",
    "    # Calculate the means of the accelerometer output\n",
    "    x_acc = np.mean(data['x_acc'])\n",
    "    y_acc = np.mean(data['y_acc'])\n",
    "    z_acc = np.mean(data['z_acc'])\n",
    "    acc_means = np.array([x_acc,y_acc,z_acc])\n",
    "  \n",
    "    #Calculate the standard deviations of the accelerometer output\n",
    "    x_std = np.std(data['x_acc'])\n",
    "    y_std = np.std(data['y_acc'])\n",
    "    z_std = np.std(data['z_acc'])\n",
    "    acc_stds = np.array([x_std, y_std, z_std])\n",
    "\n",
    "    #Rotate the means and standard deviations of the accelerometer to the initial triad\n",
    "    acc_means_init = rotate_vector(acc_means, q_rotate)\n",
    "    acc_stds_init = rotate_vector(acc_stds, q_rotate)\n",
    "    \n",
    "    #Append the rotated means of the accelerometer to the list\n",
    "    xr_acc_list.append(acc_means_init[0])\n",
    "    yr_acc_list.append(acc_means_init[1])\n",
    "    zr_acc_list.append(acc_means_init[2])\n",
    "    \n",
    "    #Append the rotated standard deviations of the accelerometer to the list\n",
    "    xr_acc_stds_list.append(acc_stds_init[0])\n",
    "    yr_acc_stds_list.append(acc_stds_init[1])\n",
    "    zr_acc_stds_list.append(acc_stds_init[2])\n",
    "    \n",
    "    #Create DataFrames from the list of rotated accelerometer means and standard deviations\n",
    "    acc_means_init_df = pd.DataFrame({\"xr_acc\": xr_acc_list, \"yr_acc\": yr_acc_list, \"zr_acc\": zr_acc_list})\n",
    "    acc_stds_init_df = pd.DataFrame({\"xr_std\": xr_acc_stds_list, \"yr_std\": yr_acc_stds_list, \"zr_std\": zr_acc_stds_list})\n",
    "    \n",
    "    # Calculate the means of the gyroscope output\n",
    "    x_gyro = np.mean(data['x_gyro'])\n",
    "    y_gyro = np.mean(data['y_gyro'])\n",
    "    z_gyro = np.mean(data['z_gyro'])\n",
    "    gyro_means = np.array([x_gyro, y_gyro, z_gyro])\n",
    "    \n",
    "    # Calculate the standard deviations of the gyroscope output\n",
    "    x_gyro_std = np.std(data['x_gyro'])\n",
    "    y_gyro_std = np.std(data['y_gyro'])\n",
    "    z_gyro_std = np.std(data['z_gyro'])\n",
    "    gyro_stds = np.array([x_gyro_std, y_gyro_std, z_gyro_std])\n",
    "\n",
    "    #Rotate the means and standard deviations of the accelerometer to the initial triad\n",
    "    gyro_means_init = rotate_vector(gyro_means, q_rotate)\n",
    "    gyro_stds_init = rotate_vector(gyro_stds, q_rotate)\n",
    "    \n",
    "    # Append the rotated means of the gyroscope output to the list\n",
    "    xr_gyro_list.append(gyro_means_init[0])\n",
    "    yr_gyro_list.append(gyro_means_init[1])\n",
    "    zr_gyro_list.append(gyro_means_init[2])\n",
    "\n",
    "    # Append the rotated standard deviations of the gyroscope output to the list\n",
    "    xr_gyro_stds_list.append(gyro_stds_init[0])\n",
    "    yr_gyro_stds_list.append(gyro_stds_init[1])\n",
    "    zr_gyro_stds_list.append(gyro_stds_init[2])\n",
    "\n",
    "    # Create DataFrames from the list of gyroscope means and standard deviations\n",
    "    gyro_df = pd.DataFrame({'xr_gyro': xr_gyro_list, 'yr_gyro': yr_gyro_list, 'zr_gyro': zr_gyro_list})\n",
    "    gyro_stds_df = pd.DataFrame({'xr_gyro_std': xr_gyro_stds_list, 'yr_gyro_std': yr_gyro_stds_list, 'zr_gyro_std': zr_gyro_stds_list})\n",
    "    \n",
    "dob.reset()"
   ],
   "metadata": {
    "collapsed": false,
    "ExecuteTime": {
     "end_time": "2024-05-14T09:55:48.197055Z",
     "start_time": "2024-05-14T09:55:08.713937Z"
    }
   },
   "id": "7d88f087e2426638",
   "execution_count": 4
  },
  {
   "cell_type": "code",
   "outputs": [
    {
     "name": "stdout",
     "output_type": "stream",
     "text": [
      "accelerometer bias =  [ 0.00783369  0.0221303  -0.05069003]\n",
      "accelerometer std =  [0.00138887 0.00159395 0.00171181]\n",
      "gyroscope bias = [-0.07755316  0.47813436 -0.05260948]\n",
      "gyroscope std = [0.0226749  0.06621563 0.10385811]\n"
     ]
    }
   ],
   "source": [
    "# Calibration algorithm\n",
    "# Remove the gravity for the bias of the accelerometer\n",
    "xr_bias_acc = 1-np.abs(xr_acc_list[2])\n",
    "yr_bias_acc = 1-np.abs(yr_acc_list[1])\n",
    "zr_bias_acc = 1-np.abs(zr_acc_list[0])\n",
    "bias = np.array([xr_bias_acc, yr_bias_acc, zr_bias_acc])\n",
    "print(\"accelerometer bias = \", bias)\n",
    "\n",
    "# Accelerometer standard deviations\n",
    "xr_std = xr_acc_stds_list[2]\n",
    "yr_std = yr_acc_stds_list[1]\n",
    "zr_std = zr_acc_stds_list[0]\n",
    "acc_std = np.array([xr_std, yr_std, zr_std])\n",
    "print(\"accelerometer std = \", acc_stds)\n",
    "\n",
    "# Biases for the gyroscope\n",
    "xr_gyro_bias = np.mean(gyro_df['xr_gyro'])\n",
    "yr_gyro_bias = np.mean(gyro_df['yr_gyro'])\n",
    "zr_gyro_bias = np.mean(gyro_df['zr_gyro'])\n",
    "gyro_bias = np.array([xr_gyro_bias,yr_gyro_bias,zr_gyro_bias])\n",
    "print(\"gyroscope bias =\", gyro_bias)\n",
    "\n",
    "# Standard deviations for the gyroscope\n",
    "xr_gyro_std = np.mean(gyro_stds_df['xr_gyro_std'])\n",
    "yr_gyro_std = np.mean(gyro_stds_df['yr_gyro_std'])\n",
    "zr_gyro_std = np.mean(gyro_stds_df['zr_gyro_std'])\n",
    "gyro_std = np.array([xr_gyro_std, yr_gyro_std, zr_gyro_std])\n",
    "print(\"gyroscope std =\", gyro_std)"
   ],
   "metadata": {
    "collapsed": false,
    "ExecuteTime": {
     "end_time": "2024-05-14T10:49:35.551825Z",
     "start_time": "2024-05-14T10:49:35.543443Z"
    }
   },
   "id": "c4317efdfddc0a95",
   "execution_count": 6
  },
  {
   "cell_type": "markdown",
   "source": [],
   "metadata": {
    "collapsed": false
   },
   "id": "7207d3a183ebbcce"
  },
  {
   "cell_type": "code",
   "outputs": [
    {
     "name": "stdout",
     "output_type": "stream",
     "text": [
      "     timestamp     x_acc     y_acc     z_acc    x_gyro    y_gyro    z_gyro\n",
      "0          0.0  0.750244 -0.026123 -0.656006 -0.076220  0.278201  0.064787\n",
      "1         25.0  0.743896 -0.027344 -0.654297 -0.327744  0.342988  0.339177\n",
      "2         30.0  0.745361 -0.024658 -0.655518 -0.175305  0.541159 -0.080030\n",
      "3         35.0  0.750000 -0.025879 -0.659912  0.003811  0.506860  0.080030\n",
      "4         40.0  0.749023 -0.024902 -0.662842 -0.083841  0.499238  0.060976\n",
      "..         ...       ...       ...       ...       ...       ...       ...\n",
      "383     1869.0  0.750000 -0.025635 -0.656250 -0.045732  0.575457 -0.022866\n",
      "384     1875.0  0.748535 -0.023193 -0.653320  0.137195  0.453506 -0.038110\n",
      "385     1880.0  0.750000 -0.023193 -0.654785 -0.141006  0.445884  0.049543\n",
      "386     1886.0  0.747803 -0.024170 -0.655518 -0.209604  0.449695  0.072409\n",
      "387     1890.0  0.747070 -0.022705 -0.656494 -0.232470  0.506860  0.022866\n",
      "\n",
      "[388 rows x 7 columns]\n"
     ]
    }
   ],
   "source": [
    "print(data)"
   ],
   "metadata": {
    "collapsed": false,
    "ExecuteTime": {
     "end_time": "2024-05-14T09:41:48.242542Z",
     "start_time": "2024-05-14T09:41:48.234963Z"
    }
   },
   "id": "6c46090a1482c8e0",
   "execution_count": 14
  },
  {
   "cell_type": "code",
   "outputs": [],
   "source": [],
   "metadata": {
    "collapsed": false
   },
   "id": "306058fe6436b661"
  }
 ],
 "metadata": {
  "kernelspec": {
   "display_name": "Python 3",
   "language": "python",
   "name": "python3"
  },
  "language_info": {
   "codemirror_mode": {
    "name": "ipython",
    "version": 2
   },
   "file_extension": ".py",
   "mimetype": "text/x-python",
   "name": "python",
   "nbconvert_exporter": "python",
   "pygments_lexer": "ipython2",
   "version": "2.7.6"
  }
 },
 "nbformat": 4,
 "nbformat_minor": 5
}
