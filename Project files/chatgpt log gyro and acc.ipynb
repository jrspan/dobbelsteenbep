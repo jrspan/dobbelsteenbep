{
 "cells": [
  {
   "cell_type": "code",
   "execution_count": 1,
   "id": "initial_id",
   "metadata": {
    "collapsed": true,
    "ExecuteTime": {
     "end_time": "2024-04-23T13:06:12.197342Z",
     "start_time": "2024-04-23T13:05:53.733590Z"
    }
   },
   "outputs": [
    {
     "name": "stderr",
     "output_type": "stream",
     "text": [
      "Exception ignored on calling ctypes callback function: <function GattChar._private_write_async.<locals>.completed at 0x000002C4B49F65C0>\n",
      "Traceback (most recent call last):\n",
      "  File \"C:\\Users\\jelte\\AppData\\Local\\Programs\\Python\\Python311\\Lib\\site-packages\\mbientlab\\warble\\gattchar.py\", line 49, in completed\n",
      "    handler(WarbleException(bytes_to_str(msg)))\n",
      "                            ^^^^^^^^^^^^^^^^^\n",
      "  File \"C:\\Users\\jelte\\AppData\\Local\\Programs\\Python\\Python311\\Lib\\site-packages\\mbientlab\\warble\\__init__.py\", line 10, in bytes_to_str\n",
      "    return value if sys.version_info[0] == 2 else value.decode('utf8')\n",
      "                                                  ^^^^^^^^^^^^^^^^^^^^\n",
      "UnicodeDecodeError: 'utf-8' codec can't decode byte 0xc0 in position 0: invalid start byte\n",
      "Exception ignored on calling ctypes callback function: <function GattChar._private_write_async.<locals>.completed at 0x000002C4B49F6B60>\n",
      "Traceback (most recent call last):\n",
      "  File \"C:\\Users\\jelte\\AppData\\Local\\Programs\\Python\\Python311\\Lib\\site-packages\\mbientlab\\warble\\gattchar.py\", line 49, in completed\n",
      "    handler(WarbleException(bytes_to_str(msg)))\n",
      "                            ^^^^^^^^^^^^^^^^^\n",
      "  File \"C:\\Users\\jelte\\AppData\\Local\\Programs\\Python\\Python311\\Lib\\site-packages\\mbientlab\\warble\\__init__.py\", line 10, in bytes_to_str\n",
      "    return value if sys.version_info[0] == 2 else value.decode('utf8')\n",
      "                                                  ^^^^^^^^^^^^^^^^^^^^\n",
      "UnicodeDecodeError: 'utf-8' codec can't decode byte 0xc0 in position 0: invalid start byte\n"
     ]
    },
    {
     "name": "stdout",
     "output_type": "stream",
     "text": [
      "Downloading data...\n"
     ]
    },
    {
     "ename": "TypeError",
     "evalue": "expected CFunctionType instance, got NoneType",
     "output_type": "error",
     "traceback": [
      "\u001B[1;31m---------------------------------------------------------------------------\u001B[0m",
      "\u001B[1;31mTypeError\u001B[0m                                 Traceback (most recent call last)",
      "Cell \u001B[1;32mIn[1], line 74\u001B[0m\n\u001B[0;32m     72\u001B[0m \u001B[38;5;66;03m# Download data\u001B[39;00m\n\u001B[0;32m     73\u001B[0m \u001B[38;5;28mprint\u001B[39m(\u001B[38;5;124m\"\u001B[39m\u001B[38;5;124mDownloading data...\u001B[39m\u001B[38;5;124m\"\u001B[39m)\n\u001B[1;32m---> 74\u001B[0m download_handler \u001B[38;5;241m=\u001B[39m \u001B[43mLogDownloadHandler\u001B[49m\u001B[43m(\u001B[49m\u001B[43mcontext\u001B[49m\u001B[38;5;241;43m=\u001B[39;49m\u001B[38;5;28;43;01mNone\u001B[39;49;00m\u001B[43m,\u001B[49m\u001B[43m \u001B[49m\u001B[43mreceived_progress_update\u001B[49m\u001B[38;5;241;43m=\u001B[39;49m\u001B[43mprogress_callback\u001B[49m\u001B[43m,\u001B[49m\u001B[43m \u001B[49m\u001B[43mreceived_unknown_entry\u001B[49m\u001B[38;5;241;43m=\u001B[39;49m\u001B[38;5;28;43;01mNone\u001B[39;49;00m\u001B[43m,\u001B[49m\u001B[43m \u001B[49m\u001B[43mreceived_unhandled_entry\u001B[49m\u001B[38;5;241;43m=\u001B[39;49m\u001B[38;5;28;43;01mNone\u001B[39;49;00m\u001B[43m)\u001B[49m\n\u001B[0;32m     75\u001B[0m libmetawear\u001B[38;5;241m.\u001B[39mmbl_mw_logging_download(device\u001B[38;5;241m.\u001B[39mboard, \u001B[38;5;241m0\u001B[39m, byref(download_handler))\n\u001B[0;32m     76\u001B[0m e\u001B[38;5;241m.\u001B[39mwait()\n",
      "\u001B[1;31mTypeError\u001B[0m: expected CFunctionType instance, got NoneType"
     ]
    }
   ],
   "source": [
    "from mbientlab.metawear import MetaWear, libmetawear\n",
    "from mbientlab.metawear.cbindings import *\n",
    "from ctypes import c_void_p, POINTER, CFUNCTYPE, cast, byref, c_uint, c_ubyte, c_longlong\n",
    "from threading import Event\n",
    "import time\n",
    "import csv"
   ]
  },
  {
   "cell_type": "code",
   "outputs": [],
   "source": [
    "# Initialize device and connect\n",
    "device = MetaWear('D4:06:BD:85:8F:23')\n",
    "device.connect()\n",
    "e = Event()"
   ],
   "metadata": {
    "collapsed": false
   },
   "id": "8ac24cd0bdda8058"
  },
  {
   "cell_type": "code",
   "outputs": [
    {
     "name": "stderr",
     "output_type": "stream",
     "text": [
      "Exception ignored on calling ctypes callback function: <function GattChar._private_write_async.<locals>.completed at 0x000002C4B49F68E0>\n",
      "Traceback (most recent call last):\n",
      "  File \"C:\\Users\\jelte\\AppData\\Local\\Programs\\Python\\Python311\\Lib\\site-packages\\mbientlab\\warble\\gattchar.py\", line 49, in completed\n",
      "    handler(WarbleException(bytes_to_str(msg)))\n",
      "                            ^^^^^^^^^^^^^^^^^\n",
      "  File \"C:\\Users\\jelte\\AppData\\Local\\Programs\\Python\\Python311\\Lib\\site-packages\\mbientlab\\warble\\__init__.py\", line 10, in bytes_to_str\n",
      "    return value if sys.version_info[0] == 2 else value.decode('utf8')\n",
      "                                                  ^^^^^^^^^^^^^^^^^^^^\n",
      "UnicodeDecodeError: 'utf-8' codec can't decode byte 0xc0 in position 0: invalid start byte\n",
      "Exception ignored on calling ctypes callback function: <function GattChar._private_write_async.<locals>.completed at 0x000002C4B40202C0>\n",
      "Traceback (most recent call last):\n",
      "  File \"C:\\Users\\jelte\\AppData\\Local\\Programs\\Python\\Python311\\Lib\\site-packages\\mbientlab\\warble\\gattchar.py\", line 49, in completed\n",
      "    handler(WarbleException(bytes_to_str(msg)))\n",
      "                            ^^^^^^^^^^^^^^^^^\n",
      "  File \"C:\\Users\\jelte\\AppData\\Local\\Programs\\Python\\Python311\\Lib\\site-packages\\mbientlab\\warble\\__init__.py\", line 10, in bytes_to_str\n",
      "    return value if sys.version_info[0] == 2 else value.decode('utf8')\n",
      "                                                  ^^^^^^^^^^^^^^^^^^^^\n",
      "UnicodeDecodeError: 'utf-8' codec can't decode byte 0xc0 in position 0: invalid start byte\n"
     ]
    },
    {
     "name": "stdout",
     "output_type": "stream",
     "text": [
      "Downloading data...\n"
     ]
    },
    {
     "ename": "TypeError",
     "evalue": "incompatible types, CFunctionType instance instead of CFunctionType instance",
     "output_type": "error",
     "traceback": [
      "\u001B[1;31m---------------------------------------------------------------------------\u001B[0m",
      "\u001B[1;31mTypeError\u001B[0m                                 Traceback (most recent call last)",
      "Cell \u001B[1;32mIn[3], line 71\u001B[0m\n\u001B[0;32m     69\u001B[0m \u001B[38;5;66;03m# Download data\u001B[39;00m\n\u001B[0;32m     70\u001B[0m \u001B[38;5;28mprint\u001B[39m(\u001B[38;5;124m\"\u001B[39m\u001B[38;5;124mDownloading data...\u001B[39m\u001B[38;5;124m\"\u001B[39m)\n\u001B[1;32m---> 71\u001B[0m download_handler \u001B[38;5;241m=\u001B[39m \u001B[43mLogDownloadHandler\u001B[49m\u001B[43m(\u001B[49m\u001B[43mreceived_progress_update\u001B[49m\u001B[38;5;241;43m=\u001B[39;49m\u001B[43mprogress_callback\u001B[49m\u001B[43m,\u001B[49m\n\u001B[0;32m     72\u001B[0m \u001B[43m                                      \u001B[49m\u001B[43mreceived_unknown_entry\u001B[49m\u001B[38;5;241;43m=\u001B[39;49m\u001B[43mreceived_unknown_entry\u001B[49m\u001B[43m,\u001B[49m\n\u001B[0;32m     73\u001B[0m \u001B[43m                                      \u001B[49m\u001B[43mreceived_unhandled_entry\u001B[49m\u001B[38;5;241;43m=\u001B[39;49m\u001B[43mreceived_unhandled_entry\u001B[49m\u001B[43m)\u001B[49m\n\u001B[0;32m     74\u001B[0m libmetawear\u001B[38;5;241m.\u001B[39mmbl_mw_logging_download(device\u001B[38;5;241m.\u001B[39mboard, \u001B[38;5;241m0\u001B[39m, byref(download_handler))\n\u001B[0;32m     75\u001B[0m e\u001B[38;5;241m.\u001B[39mwait()\n",
      "\u001B[1;31mTypeError\u001B[0m: incompatible types, CFunctionType instance instead of CFunctionType instance"
     ]
    }
   ],
   "source": [
    "# Callback for data download progress\n",
    "def progress_update(context, entries_left, total_entries):\n",
    "    print(\"Progress: {}/{}\".format(total_entries - entries_left, total_entries))\n",
    "    if entries_left == 0:\n",
    "        e.set()\n",
    "\n",
    "# Define function type for progress update callback\n",
    "ProgressCallback = CFUNCTYPE(None, c_void_p, c_uint, c_uint)\n",
    "\n",
    "# Instantiate the callback\n",
    "progress_callback = ProgressCallback(progress_update)\n",
    "\n",
    "# Placeholder function for unknown and unhandled entries\n",
    "def placeholder_callback(context, entry_id, timestamp, data, length):\n",
    "    print(\"Unhandled or unknown data entry received\")\n",
    "\n",
    "# Define function type for placeholder callbacks\n",
    "PlaceholderCallback = CFUNCTYPE(None, c_void_p, c_ubyte, c_longlong, POINTER(c_ubyte), c_ubyte)\n",
    "\n",
    "# Instantiate placeholder callbacks\n",
    "received_unknown_entry = PlaceholderCallback(placeholder_callback)\n",
    "received_unhandled_entry = PlaceholderCallback(placeholder_callback)\n",
    "\n",
    "# Callback to handle downloaded data\n",
    "data_entries = []\n",
    "\n",
    "def data_handler(context, data):\n",
    "    if data.contents.type_id == DataTypeId.CARTESIAN_FLOAT:\n",
    "        entry = cast(data.contents.value, POINTER(CartesianFloat)).contents\n",
    "        epoch = data.contents.epoch\n",
    "        data_entries.append([epoch, entry.x, entry.y, entry.z])\n",
    "\n",
    "DataCallback = CFUNCTYPE(None, c_void_p, POINTER(Data))\n",
    "data_callback = DataCallback(data_handler)\n",
    "\n",
    "# Function to setup and start logger for a sensor\n",
    "def setup_sensor_logging(sensor_fn, data_signal):\n",
    "    # Callback to handle logger creation\n",
    "    def logger_created(context, new_logger):\n",
    "        if new_logger:\n",
    "            libmetawear.mbl_mw_logger_subscribe(cast(new_logger, c_void_p), None, data_callback)\n",
    "            sensor_fn(device.board)\n",
    "\n",
    "    LoggerCreatedCallback = CFUNCTYPE(None, c_void_p, c_void_p)\n",
    "    logger_callback = LoggerCreatedCallback(logger_created)\n",
    "    libmetawear.mbl_mw_datasignal_log(data_signal, None, logger_callback)\n",
    "\n",
    "# Get data signals\n",
    "acc_signal = libmetawear.mbl_mw_acc_get_acceleration_data_signal(device.board)\n",
    "gyro_signal = libmetawear.mbl_mw_gyro_bmi160_get_rotation_data_signal(device.board)\n",
    "\n",
    "# Setup logging\n",
    "setup_sensor_logging(libmetawear.mbl_mw_acc_enable_acceleration_sampling, acc_signal)\n",
    "setup_sensor_logging(libmetawear.mbl_mw_gyro_bmi160_enable_rotation_sampling, gyro_signal)\n",
    "\n",
    "# Start logging and sensors\n",
    "libmetawear.mbl_mw_logging_start(device.board, 0)\n",
    "libmetawear.mbl_mw_acc_start(device.board)\n",
    "libmetawear.mbl_mw_gyro_bmi160_start(device.board)\n",
    "\n",
    "# Log data for 10 seconds\n",
    "time.sleep(10)\n",
    "\n",
    "# Stop sensors and logging\n",
    "libmetawear.mbl_mw_acc_stop(device.board)\n",
    "libmetawear.mbl_mw_gyro_bmi160_stop(device.board)\n",
    "libmetawear.mbl_mw_logging_stop(device.board)\n",
    "\n",
    "# Download data\n",
    "print(\"Downloading data...\")\n",
    "download_handler = LogDownloadHandler(received_progress_update=progress_callback,\n",
    "                                      received_unknown_entry=received_unknown_entry,\n",
    "                                      received_unhandled_entry=received_unhandled_entry)\n",
    "libmetawear.mbl_mw_logging_download(device.board, 0, byref(download_handler))\n",
    "e.wait()\n",
    "\n",
    "# Write to CSV\n",
    "with open('sensor_data.csv', 'w', newline='') as f:\n",
    "    writer = csv.writer(f)\n",
    "    writer.writerow(['Timestamp', 'Gyroscope X', 'Gyroscope Y', 'Gyroscope Z', 'Accelerometer X', 'Accelerometer Y', 'Accelerometer Z'])\n",
    "    for entry in data_entries:\n",
    "        writer.writerow(entry)\n",
    "\n",
    "print(\"Data logged to sensor_data.csv\")\n"
   ],
   "metadata": {
    "collapsed": false,
    "ExecuteTime": {
     "end_time": "2024-04-23T13:20:52.220942Z",
     "start_time": "2024-04-23T13:20:42.189876Z"
    }
   },
   "id": "786cf673998bb744",
   "execution_count": 3
  },
  {
   "cell_type": "code",
   "outputs": [
    {
     "ename": "NameError",
     "evalue": "name 'device' is not defined",
     "output_type": "error",
     "traceback": [
      "\u001B[1;31m---------------------------------------------------------------------------\u001B[0m",
      "\u001B[1;31mNameError\u001B[0m                                 Traceback (most recent call last)",
      "Cell \u001B[1;32mIn[1], line 1\u001B[0m\n\u001B[1;32m----> 1\u001B[0m \u001B[43mdevice\u001B[49m\u001B[38;5;241m.\u001B[39mon_disconnect \u001B[38;5;241m=\u001B[39m \u001B[38;5;28;01mlambda\u001B[39;00m status: \u001B[38;5;28mprint\u001B[39m (\u001B[38;5;124m\"\u001B[39m\u001B[38;5;124mwe are disconnected!\u001B[39m\u001B[38;5;124m\"\u001B[39m)\n\u001B[0;32m      2\u001B[0m device\u001B[38;5;241m.\u001B[39mdisconnect()\n",
      "\u001B[1;31mNameError\u001B[0m: name 'device' is not defined"
     ]
    }
   ],
   "source": [
    "device.on_disconnect = lambda status: print (\"we are disconnected!\")\n",
    "device.disconnect()"
   ],
   "metadata": {
    "collapsed": false,
    "ExecuteTime": {
     "end_time": "2024-04-23T13:02:16.867057Z",
     "start_time": "2024-04-23T13:02:16.534018Z"
    }
   },
   "id": "55fd154a0bbb0390",
   "execution_count": 1
  },
  {
   "cell_type": "code",
   "outputs": [],
   "source": [],
   "metadata": {
    "collapsed": false
   },
   "id": "3d3a2cf7ef5c471d"
  }
 ],
 "metadata": {
  "kernelspec": {
   "display_name": "Python 3",
   "language": "python",
   "name": "python3"
  },
  "language_info": {
   "codemirror_mode": {
    "name": "ipython",
    "version": 2
   },
   "file_extension": ".py",
   "mimetype": "text/x-python",
   "name": "python",
   "nbconvert_exporter": "python",
   "pygments_lexer": "ipython2",
   "version": "2.7.6"
  }
 },
 "nbformat": 4,
 "nbformat_minor": 5
}
