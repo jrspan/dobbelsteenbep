{
 "cells": [
  {
   "cell_type": "code",
   "execution_count": 1,
   "id": "initial_id",
   "metadata": {
    "collapsed": true,
    "ExecuteTime": {
     "end_time": "2024-06-10T08:06:15.032856Z",
     "start_time": "2024-06-10T08:06:04.205132Z"
    }
   },
   "outputs": [],
   "source": [
    "from calibrator import *\n",
    "from analysis import *\n",
    "from dobbel import *\n",
    "import matplotlib.pyplot as plt\n",
    "dob = dobbellogger()"
   ]
  },
  {
   "cell_type": "code",
   "outputs": [
    {
     "name": "stdout",
     "output_type": "stream",
     "text": [
      "Leg de dobbelsteen met nummer  1  boven\n",
      "Wacht 1 secondes\n",
      "Logging data for 1s\n",
      "Downloading data\n",
      "Done! The data is located in self.datadf\n",
      "Leg de dobbelsteen met nummer  2  boven\n",
      "Wacht 1 secondes\n",
      "Logging data for 1s\n",
      "Downloading data\n",
      "Done! The data is located in self.datadf\n",
      "Leg de dobbelsteen met nummer  3  boven\n",
      "Wacht 1 secondes\n",
      "Logging data for 1s\n",
      "Downloading data\n",
      "Done! The data is located in self.datadf\n",
      "Leg de dobbelsteen met nummer  4  boven\n",
      "Wacht 1 secondes\n",
      "Logging data for 1s\n",
      "Downloading data\n",
      "Done! The data is located in self.datadf\n",
      "Leg de dobbelsteen met nummer  5  boven\n",
      "Wacht 1 secondes\n",
      "Logging data for 1s\n",
      "Downloading data\n",
      "Done! The data is located in self.datadf\n",
      "Leg de dobbelsteen met nummer  6  boven\n",
      "Wacht 1 secondes\n",
      "Logging data for 1s\n",
      "Downloading data\n",
      "Done! The data is located in self.datadf\n",
      "{'acc rotmat': array([[-0.00669934,  1.00001364, -0.00667175],\n",
      "       [ 0.78530767,  0.00659274, -0.61567477],\n",
      "       [-0.62286734, -0.01254053, -0.75877295]]), 'acc bias': array([[-2.69107297e-05],\n",
      "       [ 1.06172041e-02],\n",
      "       [-1.13834202e-02]]), 'gyro bias': array([-0.08444695,  0.49637725, -0.00597818]), 'rot quat gyro': array([ 0.23261889,  0.66023109,  0.67386379, -0.23641269])}\n"
     ]
    }
   ],
   "source": [
    "cali = calibrate_rot_bias(dob, 1, 1, 400, 2, 125)"
   ],
   "metadata": {
    "collapsed": false,
    "ExecuteTime": {
     "end_time": "2024-06-10T07:46:11.856559Z",
     "start_time": "2024-06-10T07:45:23.020212Z"
    }
   },
   "id": "b1b4f26c91f1f61c",
   "execution_count": 2
  },
  {
   "cell_type": "code",
   "outputs": [
    {
     "name": "stdout",
     "output_type": "stream",
     "text": [
      "Leg de dobbelsteen stil\n",
      "Logging data for 3s\n",
      "Downloading data\n",
      "Done! The data is located in self.datadf\n"
     ]
    }
   ],
   "source": [
    "std_cali = cali_std(dob, 3, 400, 125)"
   ],
   "metadata": {
    "collapsed": false,
    "ExecuteTime": {
     "end_time": "2024-06-10T07:48:28.205283Z",
     "start_time": "2024-06-10T07:48:05.603843Z"
    }
   },
   "id": "e83f40a66b0bce0b",
   "execution_count": 3
  },
  {
   "cell_type": "code",
   "outputs": [
    {
     "name": "stdout",
     "output_type": "stream",
     "text": [
      "Logging data for 4s\n",
      "Downloading data\n",
      "Done! The data is located in self.datadf\n"
     ]
    }
   ],
   "source": [
    "dob.connect()\n",
    "dob.log(5, 400, 4, 500)\n",
    "dob.download()\n",
    "data = dob.datadf"
   ],
   "metadata": {
    "collapsed": false,
    "ExecuteTime": {
     "end_time": "2024-06-10T08:11:48.716287Z",
     "start_time": "2024-06-10T08:11:31.134152Z"
    }
   },
   "id": "9c5577f052664f6a",
   "execution_count": 13
  },
  {
   "cell_type": "code",
   "outputs": [
    {
     "name": "stdout",
     "output_type": "stream",
     "text": [
      "Dobbel tijd oprapen =  960.0\n",
      "Dobbel tijd van oprapen tot loslaten =  2061.0\n",
      "Dobbel tijd in de lucht =  76.0\n",
      "Dobbel tijd tot loslaten vanaf begin programma =  3021.0\n",
      "Zijde omhoog =  6.0\n"
     ]
    }
   ],
   "source": [
    "results = run_analysis_local(data, cali, std_cali, N=10, gamma=0.005)\n",
    "total_raap_duration = results.loc[0, 'Raap tijd']\n",
    "total_gooi_duration = results.loc[0, 'Gooi tijd']\n",
    "total_lucht_duration = results.loc[0, 'Lucht tijd']\n",
    "start_tot_loslaten = results.loc[0, 'Start tot los']\n",
    "start_tot_grond = results.loc[0, 'Start tot grond']\n",
    "laatste_zijde = results.loc[0, 'Laatste zijde']\n",
    "print(\"Dobbel tijd oprapen = \", total_raap_duration)\n",
    "print(\"Dobbel tijd van oprapen tot loslaten = \", total_gooi_duration)\n",
    "print(\"Dobbel tijd in de lucht = \", total_lucht_duration)\n",
    "print(\"Dobbel tijd tot loslaten vanaf begin programma = \", start_tot_loslaten)\n",
    "print(\"Zijde omhoog = \", laatste_zijde)"
   ],
   "metadata": {
    "collapsed": false,
    "ExecuteTime": {
     "end_time": "2024-06-10T08:11:54.238224Z",
     "start_time": "2024-06-10T08:11:52.886751Z"
    }
   },
   "id": "1ee16b5e92351e73",
   "execution_count": 14
  }
 ],
 "metadata": {
  "kernelspec": {
   "display_name": "Python 3",
   "language": "python",
   "name": "python3"
  },
  "language_info": {
   "codemirror_mode": {
    "name": "ipython",
    "version": 2
   },
   "file_extension": ".py",
   "mimetype": "text/x-python",
   "name": "python",
   "nbconvert_exporter": "python",
   "pygments_lexer": "ipython2",
   "version": "2.7.6"
  }
 },
 "nbformat": 4,
 "nbformat_minor": 5
}
