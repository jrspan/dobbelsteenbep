{
 "cells": [
  {
   "cell_type": "code",
   "execution_count": 1,
   "id": "initial_id",
   "metadata": {
    "collapsed": true,
    "ExecuteTime": {
     "end_time": "2024-04-24T14:51:51.604541Z",
     "start_time": "2024-04-24T14:51:51.000249Z"
    }
   },
   "outputs": [],
   "source": [
    "from mbientlab.metawear import MetaWear, libmetawear\n",
    "from ctypes import c_void_p, cast, POINTER\n",
    "from time import sleep, time\n",
    "import sys\n",
    "import csv\n",
    "\n",
    "# Import the MetaWear C++ bindings for Python\n",
    "from mbientlab.metawear.cbindings import *"
   ]
  },
  {
   "cell_type": "code",
   "outputs": [],
   "source": [
    "# Handler for data received from the MetaWear sensors\n",
    "def data_handler(ctx, data):\n",
    "    if data.contents.type_id == DataTypeId.CARTESIAN_FLOAT:\n",
    "        value = cast(data.contents.value, POINTER(CartesianFloat)).contents\n",
    "        print(\"X: %.2f Y: %.2f Z: %.2f\" % (value.x, value.y, value.z))\n",
    "        acc_data.append([value.x, value.y, value.z])\n"
   ],
   "metadata": {
    "collapsed": false,
    "ExecuteTime": {
     "end_time": "2024-04-24T14:51:51.610308Z",
     "start_time": "2024-04-24T14:51:51.605548Z"
    }
   },
   "id": "9863623535a94a64",
   "execution_count": 2
  },
  {
   "cell_type": "code",
   "outputs": [],
   "source": [
    "# Replace 'XX:XX:XX:XX:XX:XX' with your device's MAC address\n",
    "device = MetaWear('D4:06:BD:85:8F:23')\n",
    "device.connect()"
   ],
   "metadata": {
    "collapsed": false,
    "ExecuteTime": {
     "end_time": "2024-04-24T14:51:56.820676Z",
     "start_time": "2024-04-24T14:51:52.049073Z"
    }
   },
   "id": "c000399e9cf0b6ba",
   "execution_count": 3
  },
  {
   "cell_type": "code",
   "outputs": [],
   "source": [
    "# Create a pattern\n",
    "pattern= LedPattern(repeat_count= Const.LED_REPEAT_INDEFINITELY)\n",
    "\n",
    "# Load the LED with the pattern\n",
    "libmetawear.mbl_mw_led_load_preset_pattern(byref(pattern), LedPreset.SOLID)\n",
    "libmetawear.mbl_mw_led_write_pattern(device.board, byref(pattern), LedColor.GREEN)\n",
    "# Play the pattern\n",
    "libmetawear.mbl_mw_led_play(device.board)\n",
    "sleep(5)\n",
    "# Stop and clear the pattern from memory\n",
    "libmetawear.mbl_mw_led_stop_and_clear(device.board)"
   ],
   "metadata": {
    "collapsed": false,
    "ExecuteTime": {
     "end_time": "2024-04-24T14:31:55.018940Z",
     "start_time": "2024-04-24T14:31:50.011955Z"
    }
   },
   "id": "1d17c7ddedc9cd3b",
   "execution_count": 4
  },
  {
   "cell_type": "code",
   "outputs": [
    {
     "name": "stderr",
     "output_type": "stream",
     "text": [
      "Exception ignored on calling ctypes callback function: <function GattChar.on_notification_received.<locals>.value_converter at 0x000002BB25207560>\n",
      "Traceback (most recent call last):\n",
      "  File \"C:\\Users\\jelte\\AppData\\Local\\Programs\\Python\\Python311\\Lib\\site-packages\\mbientlab\\warble\\gattchar.py\", line 123, in value_converter\n",
      "    handler([value.contents[i] for i in range(0, length)])\n",
      "  File \"C:\\Users\\jelte\\AppData\\Local\\Programs\\Python\\Python311\\Lib\\site-packages\\mbientlab\\metawear\\metawear.py\", line 464, in <lambda>\n",
      "    gatt_char.on_notification_received(lambda value: handler(caller, cast(_array_to_buffer(value), POINTER(c_ubyte)), len(value)))\n",
      "                                                     ^^^^^^^^^^^^^^^^^^^^^^^^^^^^^^^^^^^^^^^^^^^^^^^^^^^^^^^^^^^^^^^^^^^^^^^^^^^^\n",
      "OSError: [WinError -1073741795] Windows Error 0xc000001d\n"
     ]
    }
   ],
   "source": [
    "\n",
    "acc_data = []\n",
    "gyro_data = []\n",
    "\n",
    "# Accelerometer setup\n",
    "libmetawear.mbl_mw_acc_set_range(device.board, 16.0)  # +/- 16g\n",
    "libmetawear.mbl_mw_acc_set_odr(device.board, 100.0)  # 100 Hz\n",
    "libmetawear.mbl_mw_acc_write_acceleration_config(device.board)\n",
    "acc_signal = libmetawear.mbl_mw_acc_get_acceleration_data_signal(device.board)\n",
    "\n",
    "# Gyroscope setup\n",
    "gyro_signal = libmetawear.mbl_mw_gyro_bmi160_get_rotation_data_signal(device.board)\n",
    "# libmetawear.mbl_mw_gyro_bmi160_set_range(device.board, GyroBmi160Range._2000dps)  # +/- 2000 degrees per second\n",
    "# libmetawear.mbl_mw_gyro_bmi160_set_odr(device.board, GyroBmi160Odr._100Hz)  # 100 Hz\n",
    "libmetawear.mbl_mw_gyro_bmi160_write_config(device.board)\n",
    "\n",
    "# Subscribe to data\n",
    "libmetawear.mbl_mw_datasignal_subscribe(acc_signal, None, FnVoid_VoidP_DataP(data_handler))\n",
    "libmetawear.mbl_mw_datasignal_subscribe(gyro_signal, None, FnVoid_VoidP_DataP(data_handler))\n",
    "\n",
    "# Start sensors\n",
    "libmetawear.mbl_mw_acc_enable_acceleration_sampling(device.board)\n",
    "libmetawear.mbl_mw_acc_start(device.board)\n",
    "libmetawear.mbl_mw_gyro_bmi160_enable_rotation_sampling(device.board)\n",
    "libmetawear.mbl_mw_gyro_bmi160_start(device.board)\n",
    "\n",
    "# Collect data for 10 seconds\n",
    "sleep(10)\n",
    "\n",
    "# Stop sensors\n",
    "libmetawear.mbl_mw_acc_stop(device.board)\n",
    "libmetawear.mbl_mw_acc_disable_acceleration_sampling(device.board)\n",
    "libmetawear.mbl_mw_gyro_bmi160_stop(device.board)\n",
    "libmetawear.mbl_mw_gyro_bmi160_disable_rotation_sampling(device.board)\n",
    "libmetawear.mbl_mw_datasignal_unsubscribe(acc_signal)\n",
    "libmetawear.mbl_mw_datasignal_unsubscribe(gyro_signal)\n",
    "\n",
    "# Disconnec\n",
    "device.disconnect()\n",
    "\n",
    "# Writing data to a CSV file\n",
    "with open('sensor_data.csv', 'w', newline='') as file:\n",
    "    writer = csv.writer(file)\n",
    "    writer.writerow(['Timestamp', 'Acc_X', 'Acc_Y', 'Acc_Z', 'Gyro_X', 'Gyro_Y', 'Gyro_Z'])\n",
    "\n",
    "    # Since timestamps won't perfectly align, we use the closest match for simplicity\n",
    "    for acc in acc_data:\n",
    "        # Find closest timestamp in gyro_data\n",
    "        closest_gyro = min(gyro_data, key=lambda g: abs(g[0] - acc[0]))\n",
    "        writer.writerow(acc + closest_gyro[1:])  # Append gyro data excluding its own timestamp\n",
    "\n",
    "print(\"Data collection complete and saved to 'sensor_data.csv'\")\n"
   ],
   "metadata": {
    "collapsed": false,
    "ExecuteTime": {
     "start_time": "2024-04-24T14:52:02.625839Z"
    }
   },
   "id": "fdc39d4ebcb9d392",
   "execution_count": null
  },
  {
   "cell_type": "code",
   "outputs": [],
   "source": [
    "device.on_disconnect = lambda status: print (\"we are disconnected!\")\n",
    "device.disconnect()"
   ],
   "metadata": {
    "collapsed": false,
    "ExecuteTime": {
     "end_time": "2024-04-24T13:59:02.611084Z",
     "start_time": "2024-04-24T13:59:02.607441Z"
    }
   },
   "id": "60a56d8878d43d78",
   "execution_count": 3
  },
  {
   "cell_type": "code",
   "outputs": [],
   "source": [],
   "metadata": {
    "collapsed": false
   },
   "id": "a04bc820dc79dc0b"
  }
 ],
 "metadata": {
  "kernelspec": {
   "display_name": "Python 3",
   "language": "python",
   "name": "python3"
  },
  "language_info": {
   "codemirror_mode": {
    "name": "ipython",
    "version": 2
   },
   "file_extension": ".py",
   "mimetype": "text/x-python",
   "name": "python",
   "nbconvert_exporter": "python",
   "pygments_lexer": "ipython2",
   "version": "2.7.6"
  }
 },
 "nbformat": 4,
 "nbformat_minor": 5
}
