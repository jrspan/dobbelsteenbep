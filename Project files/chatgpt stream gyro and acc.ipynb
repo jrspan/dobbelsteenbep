{
 "cells": [
  {
   "cell_type": "code",
   "execution_count": 1,
   "id": "initial_id",
   "metadata": {
    "collapsed": true,
    "ExecuteTime": {
     "end_time": "2024-04-25T07:43:23.520905Z",
     "start_time": "2024-04-25T07:43:23.125851Z"
    }
   },
   "outputs": [],
   "source": [
    "from mbientlab.metawear import MetaWear, libmetawear\n",
    "from ctypes import c_void_p, cast, POINTER\n",
    "from time import sleep, time\n",
    "import sys\n",
    "import csv\n",
    "\n",
    "# Import the MetaWear C++ bindings for Python\n",
    "from mbientlab.metawear.cbindings import *"
   ]
  },
  {
   "cell_type": "code",
   "outputs": [],
   "source": [
    "# Handler for data received from the MetaWear sensors\n",
    "def data_handler(ctx, data):\n",
    "    if data.contents.type_id == DataTypeId.CARTESIAN_FLOAT:\n",
    "        value = cast(data.contents.value, POINTER(CartesianFloat)).contents\n",
    "        print(\"X: %.2f Y: %.2f Z: %.2f\" % (value.x, value.y, value.z))\n",
    "        acc_data.append([value.x, value.y, value.z])\n"
   ],
   "metadata": {
    "collapsed": false,
    "ExecuteTime": {
     "end_time": "2024-04-25T07:43:24.459295Z",
     "start_time": "2024-04-25T07:43:24.454816Z"
    }
   },
   "id": "9863623535a94a64",
   "execution_count": 2
  },
  {
   "cell_type": "code",
   "outputs": [],
   "source": [
    "# Replace 'XX:XX:XX:XX:XX:XX' with your device's MAC address\n",
    "device = MetaWear('D4:06:BD:85:8F:23')\n",
    "device.connect()"
   ],
   "metadata": {
    "collapsed": false,
    "ExecuteTime": {
     "end_time": "2024-04-25T07:43:40.726104Z",
     "start_time": "2024-04-25T07:43:37.280999Z"
    }
   },
   "id": "c000399e9cf0b6ba",
   "execution_count": 4
  },
  {
   "cell_type": "code",
   "outputs": [],
   "source": [
    "# Create a pattern\n",
    "pattern= LedPattern(repeat_count= Const.LED_REPEAT_INDEFINITELY)\n",
    "\n",
    "# Load the LED with the pattern\n",
    "libmetawear.mbl_mw_led_load_preset_pattern(byref(pattern), LedPreset.SOLID)\n",
    "libmetawear.mbl_mw_led_write_pattern(device.board, byref(pattern), LedColor.GREEN)\n",
    "# Play the pattern\n",
    "libmetawear.mbl_mw_led_play(device.board)\n",
    "sleep(5)\n",
    "# Stop and clear the pattern from memory\n",
    "libmetawear.mbl_mw_led_stop_and_clear(device.board)"
   ],
   "metadata": {
    "collapsed": false,
    "ExecuteTime": {
     "end_time": "2024-04-25T07:43:48.576576Z",
     "start_time": "2024-04-25T07:43:43.570487Z"
    }
   },
   "id": "1d17c7ddedc9cd3b",
   "execution_count": 5
  },
  {
   "cell_type": "code",
   "outputs": [],
   "source": [
    "\n",
    "acc_data = []\n",
    "gyro_data = []\n",
    "\n",
    "# Accelerometer setup\n",
    "libmetawear.mbl_mw_acc_set_range(device.board, 16.0)  # +/- 16g\n",
    "libmetawear.mbl_mw_acc_set_odr(device.board, 100.0)  # 100 Hz\n",
    "libmetawear.mbl_mw_acc_write_acceleration_config(device.board)\n",
    "acc_signal = libmetawear.mbl_mw_acc_get_acceleration_data_signal(device.board)\n",
    "\n",
    "# Gyroscope setup\n",
    "gyro_signal = libmetawear.mbl_mw_gyro_bmi160_get_rotation_data_signal(device.board)\n",
    "# libmetawear.mbl_mw_gyro_bmi160_set_range(device.board, GyroBmi160Range._2000dps)  # +/- 2000 degrees per second\n",
    "# libmetawear.mbl_mw_gyro_bmi160_set_odr(device.board, GyroBmi160Odr._100Hz)  # 100 Hz\n",
    "libmetawear.mbl_mw_gyro_bmi160_write_config(device.board)\n",
    "\n",
    "# Subscribe to data\n",
    "libmetawear.mbl_mw_datasignal_subscribe(acc_signal, None, FnVoid_VoidP_DataP(data_handler))\n",
    "libmetawear.mbl_mw_datasignal_subscribe(gyro_signal, None, FnVoid_VoidP_DataP(data_handler))\n",
    "\n",
    "# Start sensors\n",
    "libmetawear.mbl_mw_acc_enable_acceleration_sampling(device.board)\n",
    "libmetawear.mbl_mw_acc_start(device.board)\n",
    "libmetawear.mbl_mw_gyro_bmi160_enable_rotation_sampling(device.board)\n",
    "libmetawear.mbl_mw_gyro_bmi160_start(device.board)\n",
    "\n",
    "# Collect data for 10 seconds\n",
    "sleep(10)\n",
    "\n",
    "# Stop sensors\n",
    "libmetawear.mbl_mw_acc_stop(device.board)\n",
    "libmetawear.mbl_mw_acc_disable_acceleration_sampling(device.board)\n",
    "libmetawear.mbl_mw_gyro_bmi160_stop(device.board)\n",
    "libmetawear.mbl_mw_gyro_bmi160_disable_rotation_sampling(device.board)\n",
    "libmetawear.mbl_mw_datasignal_unsubscribe(acc_signal)\n",
    "libmetawear.mbl_mw_datasignal_unsubscribe(gyro_signal)\n",
    "\n",
    "# Disconnec\n",
    "device.disconnect()\n",
    "\n",
    "# Writing data to a CSV file\n",
    "with open('sensor_data.csv', 'w', newline='') as file:\n",
    "    writer = csv.writer(file)\n",
    "    writer.writerow(['Timestamp', 'Acc_X', 'Acc_Y', 'Acc_Z', 'Gyro_X', 'Gyro_Y', 'Gyro_Z'])\n",
    "\n",
    "    # Since timestamps won't perfectly align, we use the closest match for simplicity\n",
    "    for acc in acc_data:\n",
    "        # Find closest timestamp in gyro_data\n",
    "        closest_gyro = min(gyro_data, key=lambda g: abs(g[0] - acc[0]))\n",
    "        writer.writerow(acc + closest_gyro[1:])  # Append gyro data excluding its own timestamp\n",
    "\n",
    "print(\"Data collection complete and saved to 'sensor_data.csv'\")\n"
   ],
   "metadata": {
    "collapsed": false,
    "ExecuteTime": {
     "start_time": "2024-04-25T07:44:04.740833Z"
    }
   },
   "id": "fdc39d4ebcb9d392",
   "execution_count": null
  },
  {
   "cell_type": "code",
   "outputs": [
    {
     "ename": "NameError",
     "evalue": "name 'device' is not defined",
     "output_type": "error",
     "traceback": [
      "\u001B[1;31m---------------------------------------------------------------------------\u001B[0m",
      "\u001B[1;31mNameError\u001B[0m                                 Traceback (most recent call last)",
      "Cell \u001B[1;32mIn[1], line 1\u001B[0m\n\u001B[1;32m----> 1\u001B[0m \u001B[43mdevice\u001B[49m\u001B[38;5;241m.\u001B[39mon_disconnect \u001B[38;5;241m=\u001B[39m \u001B[38;5;28;01mlambda\u001B[39;00m status: \u001B[38;5;28mprint\u001B[39m (\u001B[38;5;124m\"\u001B[39m\u001B[38;5;124mwe are disconnected!\u001B[39m\u001B[38;5;124m\"\u001B[39m)\n\u001B[0;32m      2\u001B[0m device\u001B[38;5;241m.\u001B[39mdisconnect()\n",
      "\u001B[1;31mNameError\u001B[0m: name 'device' is not defined"
     ]
    }
   ],
   "source": [
    "device.on_disconnect = lambda status: print (\"we are disconnected!\")\n",
    "device.disconnect()"
   ],
   "metadata": {
    "collapsed": false,
    "ExecuteTime": {
     "end_time": "2024-04-25T07:44:45.653817Z",
     "start_time": "2024-04-25T07:44:45.243420Z"
    }
   },
   "id": "60a56d8878d43d78",
   "execution_count": 1
  },
  {
   "cell_type": "code",
   "outputs": [],
   "source": [],
   "metadata": {
    "collapsed": false
   },
   "id": "a04bc820dc79dc0b"
  }
 ],
 "metadata": {
  "kernelspec": {
   "display_name": "Python 3",
   "language": "python",
   "name": "python3"
  },
  "language_info": {
   "codemirror_mode": {
    "name": "ipython",
    "version": 2
   },
   "file_extension": ".py",
   "mimetype": "text/x-python",
   "name": "python",
   "nbconvert_exporter": "python",
   "pygments_lexer": "ipython2",
   "version": "2.7.6"
  }
 },
 "nbformat": 4,
 "nbformat_minor": 5
}
