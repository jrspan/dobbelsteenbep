{
 "cells": [
  {
   "cell_type": "code",
   "execution_count": 18,
   "id": "initial_id",
   "metadata": {
    "collapsed": true,
    "ExecuteTime": {
     "end_time": "2024-05-07T11:14:08.223637Z",
     "start_time": "2024-05-07T11:14:08.220018Z"
    }
   },
   "outputs": [],
   "source": [
    "import numpy as np\n",
    "import pandas as pd\n",
    "import time\n",
    "from dobbel import dobbellogger\n",
    "import warnings\n",
    "warnings.simplefilter(action='ignore', category=FutureWarning)"
   ]
  },
  {
   "cell_type": "code",
   "outputs": [],
   "source": [
    "def expq(vector, multiplier=1):\n",
    "    x, y, z = vector[0] * multiplier, vector[1] * multiplier, vector[2] * multiplier\n",
    "    absq = (x ** 2 + y ** 2 + z ** 2) ** 1 / 2\n",
    "    w = np.cos(absq)\n",
    "    sinabs = np.sin(absq)\n",
    "    xq = x * sinabs / absq\n",
    "    yq = y * sinabs / absq\n",
    "    zq = z * sinabs / absq\n",
    "    return np.array([w, xq, yq, zq])\n",
    "\n",
    "\n",
    "def quat_mul(p, q):\n",
    "    p0 = p[0]\n",
    "    q0 = q[0]\n",
    "    pv = p[1:]\n",
    "    qv = q[1:]\n",
    "    out0 = p0 * q0 - np.dot(pv, qv)\n",
    "    outv = p0 * qv + q0 * pv + np.cross(pv, qv)\n",
    "    out = np.array([out0, *outv])\n",
    "    return out\n",
    "\n",
    "def quaternion_conjugate(q):\n",
    "    w, x, y, z = q\n",
    "    return np.array([w, -x, -y, -z])\n",
    "\n",
    "\n",
    "# Actual Rotation Fuction - Input = Acceleration vector = 1x3 , rotation_quaternion = 1*4\n",
    "def rotate_vector(vector, rotation_quaternion):\n",
    "    # Convert the vector to a quaternion\n",
    "    vector_quaternion = np.concatenate(([0], vector))\n",
    "\n",
    "    # Calculate the rotated quaternion\n",
    "    rotated_quaternion = quat_mul(rotation_quaternion,\n",
    "                                  quat_mul(vector_quaternion, quaternion_conjugate(rotation_quaternion)))\n",
    "\n",
    "    # Extract the rotated vector from the quaternion\n",
    "    rotated_vector = rotated_quaternion[1:]\n",
    "\n",
    "    return np.array(rotated_vector)\n",
    "\n",
    "def remove_nan(df):\n",
    "    counter = 0\n",
    "    nan = True\n",
    "    while nan:\n",
    "        if not df.loc[counter].isna().any():\n",
    "            nan = False\n",
    "        counter += 1\n",
    "    for i in range(counter - 1):\n",
    "        df = df.drop(index=i)\n",
    "    df = df.reset_index(drop=True)\n",
    "    counter = len(df) - 1\n",
    "    nan = True\n",
    "    while nan:\n",
    "        if not df.loc[counter].isna().any():\n",
    "            nan = False\n",
    "        counter -= 1\n",
    "    maxlen = len(df)\n",
    "    for i in range(maxlen - 1, counter + 1, -1):\n",
    "        df = df.drop(index=i)\n",
    "    df = df.reset_index(drop=True)\n",
    "    for i in range(len(df)):\n",
    "        df['timestamp'][i] = df['timestamp'][i] - df['timestamp'][0]\n",
    "    for i in range(len(df)):\n",
    "        for column in df.columns:\n",
    "            if np.isnan(df[column][i]):\n",
    "                deler = (df['timestamp'][i] - df['timestamp'][i - 1]) / (df['timestamp'][i + 1] - df['timestamp'][i - 1])\n",
    "                df[column][i] = df[column][i - 1] + deler * (df[column][i + 1] - df[column][i - 1])\n",
    "    return df"
   ],
   "metadata": {
    "collapsed": false,
    "ExecuteTime": {
     "end_time": "2024-05-07T11:14:09.056977Z",
     "start_time": "2024-05-07T11:14:09.043175Z"
    }
   },
   "id": "7dd48b0dc83e967a",
   "execution_count": 19
  },
  {
   "cell_type": "code",
   "outputs": [
    {
     "name": "stdout",
     "output_type": "stream",
     "text": [
      "[[ 0.77714596  0.         -0.62932039]\n",
      " [ 0.          1.          0.        ]\n",
      " [ 0.62932039  0.          0.77714596]]\n",
      "[ 0.94264149  0.         -0.33380686  0.        ]\n"
     ]
    }
   ],
   "source": [
    "angle = np.deg2rad(-39)\n",
    "rotate_y = np.array([[np.cos(angle),0,np.sin(angle)], [0,1,0],[-np.sin(angle),0,np.cos(angle)]])\n",
    "trace = np.trace(rotate_y)\n",
    "q_0 = np.sqrt(1+trace)/2\n",
    "q_2 = 1/(4*q_0) * (np.sin(angle)+np.sin(angle))\n",
    "q_rotate = np.array([q_0,0,q_2,0])\n",
    "print(q_rotate)"
   ],
   "metadata": {
    "collapsed": false,
    "ExecuteTime": {
     "end_time": "2024-05-07T11:28:41.637960Z",
     "start_time": "2024-05-07T11:28:41.632129Z"
    }
   },
   "id": "3abc7cf65f3eedaf",
   "execution_count": 40
  },
  {
   "cell_type": "code",
   "outputs": [
    {
     "name": "stdout",
     "output_type": "stream",
     "text": [
      "Leg de dobbelsteen met nummer  1  boven\n",
      "Logging data for 0.5s\n",
      "Downloading data\n",
      "Done! The data is located in self.datadf\n",
      "Leg de dobbelsteen met nummer  2  boven\n",
      "Logging data for 0.5s\n",
      "Downloading data\n",
      "Done! The data is located in self.datadf\n",
      "Leg de dobbelsteen met nummer  3  boven\n",
      "Logging data for 0.5s\n",
      "Downloading data\n",
      "Done! The data is located in self.datadf\n",
      "     x_mean    y_mean    z_mean\n",
      "0 -0.650241 -0.035717 -0.824671\n",
      "1 -0.034077  0.981861 -0.029833\n",
      "2  0.754264 -0.019119 -0.660251\n",
      "     xr_acc    yr_acc    zr_acc\n",
      "0  0.013650 -0.035717 -1.050100\n",
      "1 -0.007708  0.981861 -0.044630\n",
      "2  1.001683 -0.019119 -0.038437\n",
      "     x_gyro    y_gyro    z_gyro\n",
      "0 -0.125452  0.464463  0.038810\n",
      "1 -0.139159  0.448288  0.044044\n",
      "2 -0.136275  0.463099  0.053844\n"
     ]
    }
   ],
   "source": [
    "x_means_list = []\n",
    "y_means_list = []\n",
    "z_means_list = []\n",
    "x_gyro_list = []\n",
    "y_gyro_list = []\n",
    "z_gyro_list = []\n",
    "\n",
    "#rotated accelerometer lists\n",
    "xr_acc_list = []\n",
    "yr_acc_list = []\n",
    "zr_acc_list = []\n",
    "\n",
    "for i in range(3):\n",
    "    i=i+1\n",
    "    print(\"Leg de dobbelsteen met nummer \", i, \" boven\")\n",
    "    dob = dobbellogger()\n",
    "    dob.log(0.5, 200, 8, 125)\n",
    "    dob.download()\n",
    "    data = dob.datadf\n",
    "    data = remove_nan(data)\n",
    "\n",
    "    x_acc = data['x_acc']\n",
    "    y_acc = data['y_acc']\n",
    "    z_acc = data['z_acc']\n",
    "    \n",
    "    # Calculate the  mean\n",
    "    x_mean = np.mean(data['x_acc'])\n",
    "    y_mean = np.mean(data['y_acc'])\n",
    "    z_mean = np.mean(data['z_acc'])\n",
    "    \n",
    "    # Append the mean to the list\n",
    "    x_means_list.append(x_mean)\n",
    "    y_means_list.append(y_mean)\n",
    "    z_means_list.append(z_mean)\n",
    "    \n",
    "    # Create a DataFrame from the list of means\n",
    "    means_df = pd.DataFrame({'x_mean': x_means_list, 'y_mean': y_means_list, 'z_mean': z_means_list})\n",
    "    means = np.array([x_mean,y_mean,z_mean])\n",
    "  \n",
    "    # Calculate the  mean\n",
    "    x_gyro = np.mean(data['x_gyro'])\n",
    "    y_gyro = np.mean(data['y_gyro'])\n",
    "    z_gyro = np.mean(data['z_gyro'])\n",
    "\n",
    "    # Append the mean to the list\n",
    "    x_gyro_list.append(x_gyro)\n",
    "    y_gyro_list.append(y_gyro)\n",
    "    z_gyro_list.append(z_gyro)\n",
    "\n",
    "    # Create a DataFrame from the list of means\n",
    "    gyro_df = pd.DataFrame({'x_gyro': x_gyro_list, 'y_gyro': y_gyro_list, 'z_gyro': z_gyro_list})\n",
    "\n",
    "    #rotate the means to the initial triad\n",
    "    init = rotate_vector(means, q_rotate)\n",
    "\n",
    "    #append the rotated means to the list\n",
    "    xr_acc_list.append(init[0])\n",
    "    yr_acc_list.append(init[1])\n",
    "    zr_acc_list.append(init[2])\n",
    "    \n",
    "    #Create a DataFrame from the list of rotated means\n",
    "    init_df = pd.DataFrame({'xr_acc': xr_acc_list, 'yr_acc': yr_acc_list, 'zr_acc': zr_acc_list})\n",
    "\n",
    "print(means_df)\n",
    "print(init_df)\n",
    "print(gyro_df)"
   ],
   "metadata": {
    "collapsed": false,
    "ExecuteTime": {
     "end_time": "2024-05-07T12:09:06.262743Z",
     "start_time": "2024-05-07T12:08:23.610659Z"
    }
   },
   "id": "7d88f087e2426638",
   "execution_count": 72
  },
  {
   "cell_type": "code",
   "outputs": [
    {
     "name": "stdout",
     "output_type": "stream",
     "text": [
      "[-0.1336287   0.4586165   0.04556584]\n"
     ]
    }
   ],
   "source": [
    "#Calibration algorithm\n",
    "x_gyro_bias = np.mean(gyro_df['x_gyro'])\n",
    "y_gyro_bias = np.mean(gyro_df['y_gyro'])\n",
    "z_gyro_bias = np.mean(gyro_df['z_gyro'])\n",
    "gyro_bias = np.array([x_gyro_bias,y_gyro_bias,z_gyro_bias])\n",
    "print(gyro_bias)"
   ],
   "metadata": {
    "collapsed": false,
    "ExecuteTime": {
     "end_time": "2024-05-07T12:09:56.769995Z",
     "start_time": "2024-05-07T12:09:56.764728Z"
    }
   },
   "id": "c4317efdfddc0a95",
   "execution_count": 75
  },
  {
   "cell_type": "code",
   "outputs": [
    {
     "name": "stdout",
     "output_type": "stream",
     "text": [
      "[-0.00254135  0.02432477  0.01098907]\n"
     ]
    }
   ],
   "source": [
    "#remove the gravity for the bias\n",
    "xr_bias_acc_list = np.array([-xr_acc_list[0],-xr_acc_list[1],1-xr_acc_list[2]])\n",
    "xr_bias_acc = np.mean(xr_bias_acc_list)\n",
    "\n",
    "yr_bias_acc_list = np.array([-yr_acc_list[0],1-yr_acc_list[1],-yr_acc_list[2]])\n",
    "yr_bias_acc = np.mean(yr_bias_acc_list)\n",
    "\n",
    "zr_bias_acc_list = np.array([1+zr_acc_list[0],-zr_acc_list[1],-zr_acc_list[2]])\n",
    "zr_bias_acc = np.mean(zr_bias_acc_list)\n",
    "\n",
    "bias = np.array([xr_bias_acc, yr_bias_acc, zr_bias_acc])\n",
    "print(bias)"
   ],
   "metadata": {
    "collapsed": false,
    "ExecuteTime": {
     "end_time": "2024-05-07T12:09:27.476163Z",
     "start_time": "2024-05-07T12:09:27.471032Z"
    }
   },
   "id": "be9e5e1054b16a38",
   "execution_count": 74
  }
 ],
 "metadata": {
  "kernelspec": {
   "display_name": "Python 3",
   "language": "python",
   "name": "python3"
  },
  "language_info": {
   "codemirror_mode": {
    "name": "ipython",
    "version": 2
   },
   "file_extension": ".py",
   "mimetype": "text/x-python",
   "name": "python",
   "nbconvert_exporter": "python",
   "pygments_lexer": "ipython2",
   "version": "2.7.6"
  }
 },
 "nbformat": 4,
 "nbformat_minor": 5
}
