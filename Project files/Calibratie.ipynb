{
 "cells": [
  {
   "cell_type": "code",
   "execution_count": 1,
   "id": "initial_id",
   "metadata": {
    "collapsed": true,
    "ExecuteTime": {
     "end_time": "2024-05-08T12:19:32.641261Z",
     "start_time": "2024-05-08T12:19:32.167780Z"
    }
   },
   "outputs": [],
   "source": [
    "import numpy as np\n",
    "import pandas as pd\n",
    "import time\n",
    "from dobbel import dobbellogger\n",
    "import warnings\n",
    "warnings.simplefilter(action='ignore', category=FutureWarning)"
   ]
  },
  {
   "cell_type": "code",
   "outputs": [],
   "source": [
    "def expq(vector, multiplier=1):\n",
    "    x, y, z = vector[0] * multiplier, vector[1] * multiplier, vector[2] * multiplier\n",
    "    absq = (x ** 2 + y ** 2 + z ** 2) ** 1 / 2\n",
    "    w = np.cos(absq)\n",
    "    sinabs = np.sin(absq)\n",
    "    xq = x * sinabs / absq\n",
    "    yq = y * sinabs / absq\n",
    "    zq = z * sinabs / absq\n",
    "    return np.array([w, xq, yq, zq])\n",
    "\n",
    "\n",
    "def quat_mul(p, q):\n",
    "    p0 = p[0]\n",
    "    q0 = q[0]\n",
    "    pv = p[1:]\n",
    "    qv = q[1:]\n",
    "    out0 = p0 * q0 - np.dot(pv, qv)\n",
    "    outv = p0 * qv + q0 * pv + np.cross(pv, qv)\n",
    "    out = np.array([out0, *outv])\n",
    "    return out\n",
    "\n",
    "def quaternion_conjugate(q):\n",
    "    w, x, y, z = q\n",
    "    return np.array([w, -x, -y, -z])\n",
    "\n",
    "\n",
    "# Actual Rotation Fuction - Input = Acceleration vector = 1x3 , rotation_quaternion = 1*4\n",
    "def rotate_vector(vector, rotation_quaternion):\n",
    "    # Convert the vector to a quaternion\n",
    "    vector_quaternion = np.concatenate(([0], vector))\n",
    "\n",
    "    # Calculate the rotated quaternion\n",
    "    rotated_quaternion = quat_mul(rotation_quaternion,\n",
    "                                  quat_mul(vector_quaternion, quaternion_conjugate(rotation_quaternion)))\n",
    "\n",
    "    # Extract the rotated vector from the quaternion\n",
    "    rotated_vector = rotated_quaternion[1:]\n",
    "\n",
    "    return np.array(rotated_vector)\n",
    "\n",
    "def remove_nan(df):\n",
    "    counter = 0\n",
    "    nan = True\n",
    "    while nan:\n",
    "        if not df.loc[counter].isna().any():\n",
    "            nan = False\n",
    "        counter += 1\n",
    "    for i in range(counter - 1):\n",
    "        df = df.drop(index=i)\n",
    "    df = df.reset_index(drop=True)\n",
    "    counter = len(df) - 1\n",
    "    nan = True\n",
    "    while nan:\n",
    "        if not df.loc[counter].isna().any():\n",
    "            nan = False\n",
    "        counter -= 1\n",
    "    maxlen = len(df)\n",
    "    for i in range(maxlen - 1, counter + 1, -1):\n",
    "        df = df.drop(index=i)\n",
    "    df = df.reset_index(drop=True)\n",
    "    for i in range(len(df)):\n",
    "        df['timestamp'][i] = df['timestamp'][i] - df['timestamp'][0]\n",
    "    for i in range(len(df)):\n",
    "        for column in df.columns:\n",
    "            if np.isnan(df[column][i]):\n",
    "                deler = (df['timestamp'][i] - df['timestamp'][i - 1]) / (df['timestamp'][i + 1] - df['timestamp'][i - 1])\n",
    "                df[column][i] = df[column][i - 1] + deler * (df[column][i + 1] - df[column][i - 1])\n",
    "    return df"
   ],
   "metadata": {
    "collapsed": false,
    "ExecuteTime": {
     "end_time": "2024-05-08T12:19:33.708627Z",
     "start_time": "2024-05-08T12:19:33.698526Z"
    }
   },
   "id": "7dd48b0dc83e967a",
   "execution_count": 2
  },
  {
   "cell_type": "code",
   "outputs": [
    {
     "name": "stdout",
     "output_type": "stream",
     "text": [
      "[ 0.94264149  0.         -0.33380686  0.        ]\n"
     ]
    }
   ],
   "source": [
    "angle = np.deg2rad(-39)\n",
    "rotate_y = np.array([[np.cos(angle),0,np.sin(angle)], [0,1,0],[-np.sin(angle),0,np.cos(angle)]])\n",
    "trace = np.trace(rotate_y)\n",
    "q_0 = np.sqrt(1+trace)/2\n",
    "q_2 = 1/(4*q_0) * (np.sin(angle)+np.sin(angle))\n",
    "q_rotate = np.array([q_0,0,q_2,0])\n",
    "print(q_rotate)"
   ],
   "metadata": {
    "collapsed": false,
    "ExecuteTime": {
     "end_time": "2024-05-08T12:19:34.793690Z",
     "start_time": "2024-05-08T12:19:34.789066Z"
    }
   },
   "id": "3abc7cf65f3eedaf",
   "execution_count": 3
  },
  {
   "cell_type": "code",
   "outputs": [
    {
     "name": "stdout",
     "output_type": "stream",
     "text": [
      "Leg de dobbelsteen met nummer  1  boven\n",
      "Logging data for 0.5s\n",
      "Downloading data\n",
      "Done! The data is located in self.datadf\n",
      "Leg de dobbelsteen met nummer  2  boven\n",
      "Logging data for 0.5s\n",
      "Downloading data\n",
      "Done! The data is located in self.datadf\n",
      "Leg de dobbelsteen met nummer  3  boven\n",
      "Logging data for 0.5s\n",
      "Downloading data\n",
      "Done! The data is located in self.datadf\n",
      "     x_mean    y_mean    z_mean\n",
      "0 -0.648555 -0.040088 -0.826647\n",
      "1 -0.037405  0.983096 -0.026762\n",
      "2  0.746616 -0.017889 -0.656170\n",
      "     xr_acc    yr_acc    zr_acc\n",
      "0  0.016204 -0.040088 -1.050574\n",
      "1 -0.012227  0.983096 -0.044338\n",
      "2  0.993171 -0.017889 -0.040079\n",
      "     x_gyro    y_gyro    z_gyro\n",
      "0 -0.185389  0.439104  0.025100\n",
      "1 -0.226630  0.455859 -0.004417\n",
      "2 -0.202218  0.457571  0.019405\n",
      "   x_gyro_std  y_gyro_std  z_gyro_std\n",
      "0    0.081106    0.070282    0.113690\n",
      "1    0.087918    0.062620    0.092937\n",
      "2    0.078456    0.052383    0.059175\n",
      "     xr_std    yr_std    zr_std\n",
      "0  0.001172  0.005151  0.004525\n",
      "1  0.000683  0.001804  0.003200\n",
      "2 -0.000141  0.001404  0.002614\n"
     ]
    }
   ],
   "source": [
    "x_means_list = []\n",
    "y_means_list = []\n",
    "z_means_list = []\n",
    "x_gyro_list = []\n",
    "y_gyro_list = []\n",
    "z_gyro_list = []\n",
    "x_gyro_std_list = []\n",
    "y_gyro_std_list = []\n",
    "z_gyro_std_list = []\n",
    "# x_mag_list = []\n",
    "# y_mag_list = []\n",
    "# z_mag_list = []\n",
    "\n",
    "#rotated accelerometer lists\n",
    "xr_acc_list = []\n",
    "yr_acc_list = []\n",
    "zr_acc_list = []\n",
    "xr_std_list = []\n",
    "yr_std_list = []\n",
    "zr_std_list = []\n",
    "\n",
    "for i in range(3):\n",
    "    i=i+1\n",
    "    print(\"Leg de dobbelsteen met nummer \", i, \" boven\")\n",
    "    dob = dobbellogger()\n",
    "    dob.log(0.5, 200, 8, 125)\n",
    "    dob.download()\n",
    "    data = dob.datadf\n",
    "    data = remove_nan(data)\n",
    "\n",
    "    x_acc = data['x_acc']\n",
    "    y_acc = data['y_acc']\n",
    "    z_acc = data['z_acc']\n",
    "\n",
    "    # Calculate the  mean\n",
    "    x_mean = np.mean(x_acc)\n",
    "    y_mean = np.mean(y_acc)\n",
    "    z_mean = np.mean(z_acc)\n",
    "    \n",
    "    # Append the mean to the list\n",
    "    x_means_list.append(x_mean)\n",
    "    y_means_list.append(y_mean)\n",
    "    z_means_list.append(z_mean)\n",
    "    \n",
    "    # Create a DataFrame from the list of means\n",
    "    means_df = pd.DataFrame({'x_mean': x_means_list, 'y_mean': y_means_list, 'z_mean': z_means_list})\n",
    "    means = np.array([x_mean,y_mean,z_mean])\n",
    "  \n",
    "    #calculate the std\n",
    "    x_std = np.std(x_acc)\n",
    "    y_std = np.std(y_acc)\n",
    "    z_std = np.std(z_acc)\n",
    "    # stds_df = pd.DataFrame({'x_std': x_std_list, 'y_std': y_std_list, 'z_std': z_std_list})\n",
    "    stds = np.array([x_std, y_std, z_std])\n",
    "\n",
    "    #rotate the means to the initial triad\n",
    "    init = rotate_vector(means, q_rotate)\n",
    "    std_init = rotate_vector(stds, q_rotate)\n",
    "    \n",
    "    #append the rotated means to the list\n",
    "    xr_acc_list.append(init[0])\n",
    "    yr_acc_list.append(init[1])\n",
    "    zr_acc_list.append(init[2])\n",
    "\n",
    "    xr_std_list.append(std_init[0])\n",
    "    yr_std_list.append(std_init[1])\n",
    "    zr_std_list.append(std_init[2])\n",
    "    \n",
    "    #Create a DataFrame from the list of rotated means\n",
    "    init_df = pd.DataFrame({\"xr_acc\": xr_acc_list, \"yr_acc\": yr_acc_list, \"zr_acc\": zr_acc_list})\n",
    "    init_std_df = pd.DataFrame({\"xr_std\": xr_std_list, \"yr_std\": yr_std_list, \"zr_std\": zr_std_list})\n",
    "    \n",
    "    # Calculate the  mean\n",
    "    x_gyro = np.mean(data['x_gyro'])\n",
    "    y_gyro = np.mean(data['y_gyro'])\n",
    "    z_gyro = np.mean(data['z_gyro'])\n",
    "    \n",
    "    #calculate the std\n",
    "    x_gyro_std = np.std(data['x_gyro'])\n",
    "    y_gyro_std = np.std(data['y_gyro'])\n",
    "    z_gyro_std = np.std(data['z_gyro'])\n",
    "\n",
    "    # Append the mean to the list\n",
    "    x_gyro_list.append(x_gyro)\n",
    "    y_gyro_list.append(y_gyro)\n",
    "    z_gyro_list.append(z_gyro)\n",
    "\n",
    "    x_gyro_std_list.append(x_gyro_std)\n",
    "    y_gyro_std_list.append(y_gyro_std)\n",
    "    z_gyro_std_list.append(z_gyro_std)\n",
    "\n",
    "    # Create a DataFrame from the list of means\n",
    "    gyro_df = pd.DataFrame({'x_gyro': x_gyro_list, 'y_gyro': y_gyro_list, 'z_gyro': z_gyro_list})\n",
    "    gyro_std_df = pd.DataFrame({'x_gyro_std': x_gyro_std_list, 'y_gyro_std': y_gyro_std_list, 'z_gyro_std': z_gyro_std_list})\n",
    "\n",
    "    #\n",
    "    # x_mag = np.mean(data['x_mag'])\n",
    "    # y_mag = np.mean(data['y_mag'])\n",
    "    # z_mag = np.mean(data['z_mag'])\n",
    "    \n",
    "    # x_mag_list.append(x_mag)\n",
    "    # y_mag_list.append(y_mag)\n",
    "    # z_mag_list.append(z_mag)\n",
    "    # \n",
    "    # mag_df = pd.DataFrame({'x_mag': x_mag_list, 'y_mag': y_mag_list, 'z_mag': z_mag_list})\n",
    "    \n",
    "\n",
    "print(means_df)\n",
    "print(init_df)\n",
    "print(gyro_df)\n",
    "print(gyro_std_df)\n",
    "print(init_std_df)\n",
    "# print(mag_df)"
   ],
   "metadata": {
    "collapsed": false,
    "ExecuteTime": {
     "end_time": "2024-05-08T13:06:38.412208Z",
     "start_time": "2024-05-08T13:06:03.572071Z"
    }
   },
   "id": "7d88f087e2426638",
   "execution_count": 32
  },
  {
   "cell_type": "code",
   "outputs": [
    {
     "name": "stdout",
     "output_type": "stream",
     "text": [
      "gyro bias = [-0.14534332  0.46132693  0.01679937]\n",
      "gyro std = [0.07661315 0.06601597 0.01679937]\n"
     ]
    }
   ],
   "source": [
    "#Calibration algorithm\n",
    "x_gyro_bias = np.mean(gyro_df['x_gyro'])\n",
    "y_gyro_bias = np.mean(gyro_df['y_gyro'])\n",
    "z_gyro_bias = np.mean(gyro_df['z_gyro'])\n",
    "gyro_bias = np.array([x_gyro_bias,y_gyro_bias,z_gyro_bias])\n",
    "print(\"gyro bias =\", gyro_bias)\n",
    "\n",
    "x_gyro_std = np.mean(gyro_std_df['x_gyro_std'])\n",
    "y_gyro_std = np.mean(gyro_std_df['y_gyro_std'])\n",
    "z_gyro_std = np.mean(gyro_std_df['z_gyro_std'])\n",
    "gyro_std = np.array([x_gyro_std, y_gyro_std, z_gyro_bias])\n",
    "print(\"gyro std =\", gyro_std)"
   ],
   "metadata": {
    "collapsed": false,
    "ExecuteTime": {
     "end_time": "2024-05-08T12:40:26.132933Z",
     "start_time": "2024-05-08T12:40:26.127278Z"
    }
   },
   "id": "c4317efdfddc0a95",
   "execution_count": 18
  },
  {
   "cell_type": "code",
   "outputs": [
    {
     "name": "stdout",
     "output_type": "stream",
     "text": [
      "accelerometer bias =  [ 0.00682937  0.0169035  -0.05057431]\n",
      "accelerometer std =  [-0.00014147  0.00180437  0.00452501]\n"
     ]
    }
   ],
   "source": [
    "#remove the gravity for the bias\n",
    "xr_bias_acc = 1-np.abs(xr_acc_list[2])\n",
    "yr_bias_acc = 1-np.abs(yr_acc_list[1])\n",
    "zr_bias_acc = 1-np.abs(zr_acc_list[0])\n",
    "bias = np.array([xr_bias_acc, yr_bias_acc, zr_bias_acc])\n",
    "print(\"accelerometer bias = \", bias)\n",
    "\n",
    "xr_std = xr_std_list[2]\n",
    "yr_std = yr_std_list[1]\n",
    "zr_std = zr_std_list[0]\n",
    "acc_std = np.array([xr_std, yr_std, zr_std])\n",
    "print(\"accelerometer std = \", acc_std)"
   ],
   "metadata": {
    "collapsed": false,
    "ExecuteTime": {
     "end_time": "2024-05-08T13:08:15.578645Z",
     "start_time": "2024-05-08T13:08:15.573582Z"
    }
   },
   "id": "be9e5e1054b16a38",
   "execution_count": 36
  },
  {
   "cell_type": "code",
   "outputs": [
    {
     "name": "stdout",
     "output_type": "stream",
     "text": [
      "     xr_std    yr_std    zr_std\n",
      "0  0.000613  0.001716  0.003413\n"
     ]
    }
   ],
   "source": [
    "print(std_init_df)"
   ],
   "metadata": {
    "collapsed": false,
    "ExecuteTime": {
     "end_time": "2024-05-08T13:08:42.543464Z",
     "start_time": "2024-05-08T13:08:42.539096Z"
    }
   },
   "id": "f13f708ceba3375d",
   "execution_count": 37
  },
  {
   "cell_type": "code",
   "outputs": [],
   "source": [],
   "metadata": {
    "collapsed": false
   },
   "id": "d2ac1c53f202e651"
  }
 ],
 "metadata": {
  "kernelspec": {
   "display_name": "Python 3",
   "language": "python",
   "name": "python3"
  },
  "language_info": {
   "codemirror_mode": {
    "name": "ipython",
    "version": 2
   },
   "file_extension": ".py",
   "mimetype": "text/x-python",
   "name": "python",
   "nbconvert_exporter": "python",
   "pygments_lexer": "ipython2",
   "version": "2.7.6"
  }
 },
 "nbformat": 4,
 "nbformat_minor": 5
}
