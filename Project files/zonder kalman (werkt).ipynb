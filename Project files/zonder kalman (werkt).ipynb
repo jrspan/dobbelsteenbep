{
 "cells": [
  {
   "cell_type": "code",
   "execution_count": 1,
   "id": "initial_id",
   "metadata": {
    "collapsed": true,
    "jupyter": {
     "outputs_hidden": true
    },
    "ExecuteTime": {
     "end_time": "2024-05-23T13:22:06.796524Z",
     "start_time": "2024-05-23T13:21:49.406768Z"
    }
   },
   "outputs": [],
   "source": [
    "import numpy as np\n",
    "from dobbel import dobbellogger\n",
    "from help_functies import *\n",
    "from calibrator import calibrate\n",
    "import matplotlib.pyplot as plt\n",
    "dob = dobbellogger()"
   ]
  },
  {
   "cell_type": "code",
   "outputs": [
    {
     "name": "stdout",
     "output_type": "stream",
     "text": [
      "Leg de dobbelsteen met nummer  1  boven\n",
      "wacht 3 secondes\n",
      "Logging data for 2s\n",
      "Downloading data\n",
      "Done! The data is located in self.datadf\n",
      "Leg de dobbelsteen met nummer  2  boven\n",
      "wacht 3 secondes\n",
      "Logging data for 2s\n",
      "Downloading data\n",
      "Done! The data is located in self.datadf\n",
      "Leg de dobbelsteen met nummer  3  boven\n",
      "wacht 3 secondes\n",
      "Logging data for 2s\n",
      "Downloading data\n",
      "Done! The data is located in self.datadf\n"
     ]
    }
   ],
   "source": [
    "cali = calibrate(dob)\n",
    "gyro_bias = cali['gyro bias']\n",
    "acc_bias = cali['acc bias']\n",
    "acc_std = cali['acc std']\n",
    "gyro_std = cali['gyro std']"
   ],
   "metadata": {
    "collapsed": false,
    "ExecuteTime": {
     "end_time": "2024-05-23T13:22:43.705976Z",
     "start_time": "2024-05-23T13:22:08.785870Z"
    }
   },
   "id": "5334b23a2d7607fe",
   "execution_count": 2
  },
  {
   "cell_type": "code",
   "outputs": [
    {
     "name": "stdout",
     "output_type": "stream",
     "text": [
      "Logging data for 5s\n",
      "Downloading data\n",
      "Done! The data is located in self.datadf\n"
     ]
    }
   ],
   "source": [
    "dob.connect()\n",
    "dob.log(5, 100, 4, 2000)\n",
    "dob.download()\n",
    "data = dob.datadf"
   ],
   "metadata": {
    "collapsed": false,
    "ExecuteTime": {
     "end_time": "2024-05-23T13:24:27.971316Z",
     "start_time": "2024-05-23T13:24:14.912033Z"
    }
   },
   "id": "84daf50c308afb41",
   "execution_count": 14
  },
  {
   "cell_type": "code",
   "outputs": [],
   "source": [
    "# Deze code niet vaker dan 1 keer uitvoeren!\n",
    "data = remove_nan(data)\n",
    "data = rotate_data(data)\n",
    "\n",
    "data['x_gyro'] = data['x_gyro'] - gyro_bias[0]\n",
    "data['y_gyro'] = data['y_gyro'] - gyro_bias[1]\n",
    "data['z_gyro'] = data['z_gyro'] - gyro_bias[2]\n",
    "data['x_acc'] = data['x_acc'] - acc_bias[0]\n",
    "data['y_acc'] = data['y_acc'] - acc_bias[1]\n",
    "data['z_acc'] = data['z_acc'] - acc_bias[2]"
   ],
   "metadata": {
    "collapsed": false,
    "ExecuteTime": {
     "end_time": "2024-05-23T13:24:29.567151Z",
     "start_time": "2024-05-23T13:24:29.108672Z"
    }
   },
   "id": "c912a89defe75b36",
   "execution_count": 15
  },
  {
   "cell_type": "code",
   "outputs": [
    {
     "data": {
      "text/plain": "     timestamp     x_acc     y_acc     z_acc    x_gyro    y_gyro    z_gyro\n0          0.0 -0.020741 -0.034873  1.018865  0.121451 -0.208874 -0.122897\n1         10.0 -0.016242 -0.033286  1.025335  0.399078 -0.147899 -0.368846\n2         21.0 -0.008769 -0.029990  1.022120  0.139479 -0.025947  0.048623\n3         29.0 -0.004956 -0.028648  1.022066 -0.032041 -0.086923  0.066650\n4         40.0 -0.003678 -0.031821  1.025143  0.139479  0.035028  0.048623\n..         ...       ...       ...       ...       ...       ...       ...\n503     4887.0 -0.010035 -0.033530  1.026592  0.002494 -0.019850  0.024002\n504     4888.0 -0.010025 -0.033591  1.026600  0.006332 -0.025947  0.019263\n505     4897.0 -0.009940 -0.034141  1.026669 -0.041055 -0.086923 -0.019110\n506     4907.0 -0.009524 -0.033897  1.027320 -0.032041 -0.147899  0.066650\n507     4918.0 -0.008236 -0.032920  1.025535  0.006332 -0.086923  0.019263\n\n[508 rows x 7 columns]",
      "text/html": "<div>\n<style scoped>\n    .dataframe tbody tr th:only-of-type {\n        vertical-align: middle;\n    }\n\n    .dataframe tbody tr th {\n        vertical-align: top;\n    }\n\n    .dataframe thead th {\n        text-align: right;\n    }\n</style>\n<table border=\"1\" class=\"dataframe\">\n  <thead>\n    <tr style=\"text-align: right;\">\n      <th></th>\n      <th>timestamp</th>\n      <th>x_acc</th>\n      <th>y_acc</th>\n      <th>z_acc</th>\n      <th>x_gyro</th>\n      <th>y_gyro</th>\n      <th>z_gyro</th>\n    </tr>\n  </thead>\n  <tbody>\n    <tr>\n      <th>0</th>\n      <td>0.0</td>\n      <td>-0.020741</td>\n      <td>-0.034873</td>\n      <td>1.018865</td>\n      <td>0.121451</td>\n      <td>-0.208874</td>\n      <td>-0.122897</td>\n    </tr>\n    <tr>\n      <th>1</th>\n      <td>10.0</td>\n      <td>-0.016242</td>\n      <td>-0.033286</td>\n      <td>1.025335</td>\n      <td>0.399078</td>\n      <td>-0.147899</td>\n      <td>-0.368846</td>\n    </tr>\n    <tr>\n      <th>2</th>\n      <td>21.0</td>\n      <td>-0.008769</td>\n      <td>-0.029990</td>\n      <td>1.022120</td>\n      <td>0.139479</td>\n      <td>-0.025947</td>\n      <td>0.048623</td>\n    </tr>\n    <tr>\n      <th>3</th>\n      <td>29.0</td>\n      <td>-0.004956</td>\n      <td>-0.028648</td>\n      <td>1.022066</td>\n      <td>-0.032041</td>\n      <td>-0.086923</td>\n      <td>0.066650</td>\n    </tr>\n    <tr>\n      <th>4</th>\n      <td>40.0</td>\n      <td>-0.003678</td>\n      <td>-0.031821</td>\n      <td>1.025143</td>\n      <td>0.139479</td>\n      <td>0.035028</td>\n      <td>0.048623</td>\n    </tr>\n    <tr>\n      <th>...</th>\n      <td>...</td>\n      <td>...</td>\n      <td>...</td>\n      <td>...</td>\n      <td>...</td>\n      <td>...</td>\n      <td>...</td>\n    </tr>\n    <tr>\n      <th>503</th>\n      <td>4887.0</td>\n      <td>-0.010035</td>\n      <td>-0.033530</td>\n      <td>1.026592</td>\n      <td>0.002494</td>\n      <td>-0.019850</td>\n      <td>0.024002</td>\n    </tr>\n    <tr>\n      <th>504</th>\n      <td>4888.0</td>\n      <td>-0.010025</td>\n      <td>-0.033591</td>\n      <td>1.026600</td>\n      <td>0.006332</td>\n      <td>-0.025947</td>\n      <td>0.019263</td>\n    </tr>\n    <tr>\n      <th>505</th>\n      <td>4897.0</td>\n      <td>-0.009940</td>\n      <td>-0.034141</td>\n      <td>1.026669</td>\n      <td>-0.041055</td>\n      <td>-0.086923</td>\n      <td>-0.019110</td>\n    </tr>\n    <tr>\n      <th>506</th>\n      <td>4907.0</td>\n      <td>-0.009524</td>\n      <td>-0.033897</td>\n      <td>1.027320</td>\n      <td>-0.032041</td>\n      <td>-0.147899</td>\n      <td>0.066650</td>\n    </tr>\n    <tr>\n      <th>507</th>\n      <td>4918.0</td>\n      <td>-0.008236</td>\n      <td>-0.032920</td>\n      <td>1.025535</td>\n      <td>0.006332</td>\n      <td>-0.086923</td>\n      <td>0.019263</td>\n    </tr>\n  </tbody>\n</table>\n<p>508 rows × 7 columns</p>\n</div>"
     },
     "execution_count": 16,
     "metadata": {},
     "output_type": "execute_result"
    }
   ],
   "source": [
    "data.head(1000)"
   ],
   "metadata": {
    "collapsed": false,
    "ExecuteTime": {
     "end_time": "2024-05-23T13:24:30.195679Z",
     "start_time": "2024-05-23T13:24:30.182631Z"
    }
   },
   "id": "50081c8fb2bf2871",
   "execution_count": 16
  },
  {
   "cell_type": "code",
   "outputs": [],
   "source": [
    "y11 = np.array([data['x_acc'][0], data['y_acc'][0], data['z_acc'][0]])\n",
    "gb = y11 / np.linalg.norm(y11)\n",
    "gn = np.array([0, 0, 1])\n",
    "mn = np.array([1, 0, 0])\n",
    "mb = np.array([1, 0, 0])\n",
    "mb = np.cross(gb, np.cross(np.array([1,1,1]) / np.linalg.norm(np.array([1,1,1])), gb))\n",
    "\n",
    "A = - np.matmul(left_quat_mul(np.array([0, *gn])), right_quat_mul(np.array([0, *gb]))) - np.matmul(left_quat_mul(np.array([0, *mn])), right_quat_mul(np.array([0, *mb])))\n",
    "\n",
    "# Compute eigenvalues and eigenvectors\n",
    "eigenvalues, eigenvectors = np.linalg.eigh(A)\n",
    "\n",
    "# Eigenvalues are sorted in ascending order by np.linalg.eigh, \n",
    "# and the corresponding eigenvectors are columns of 'eigenvectors'\n",
    "max_eigenvalue_index = np.argmax(eigenvalues)\n",
    "max_eigenvector = eigenvectors[:, max_eigenvalue_index]"
   ],
   "metadata": {
    "collapsed": false,
    "ExecuteTime": {
     "end_time": "2024-05-23T13:24:32.618506Z",
     "start_time": "2024-05-23T13:24:32.611602Z"
    }
   },
   "id": "4a968a2b84632909",
   "execution_count": 17
  },
  {
   "cell_type": "code",
   "outputs": [],
   "source": [
    "q11 = max_eigenvector"
   ],
   "metadata": {
    "collapsed": false,
    "ExecuteTime": {
     "end_time": "2024-05-23T13:24:33.594334Z",
     "start_time": "2024-05-23T13:24:33.590869Z"
    }
   },
   "id": "c02ce52458be9a35",
   "execution_count": 18
  },
  {
   "cell_type": "code",
   "outputs": [
    {
     "name": "stdout",
     "output_type": "stream",
     "text": [
      "[-6.59194921e-17 -3.46944695e-18  1.01967236e+00]\n"
     ]
    }
   ],
   "source": [
    "print(rotate_vector(np.array([data['x_acc'][0], data['y_acc'][0], data['z_acc'][0]]), q11))"
   ],
   "metadata": {
    "collapsed": false,
    "ExecuteTime": {
     "end_time": "2024-05-23T13:24:34.074088Z",
     "start_time": "2024-05-23T13:24:34.070121Z"
    }
   },
   "id": "52bd92e8c13d2e7e",
   "execution_count": 19
  },
  {
   "cell_type": "code",
   "execution_count": 20,
   "id": "a502aec344638953",
   "metadata": {
    "collapsed": false,
    "ExecuteTime": {
     "end_time": "2024-05-23T13:24:34.760410Z",
     "start_time": "2024-05-23T13:24:34.707596Z"
    }
   },
   "outputs": [],
   "source": [
    "q = np.reshape(q11, 4)\n",
    "q_list = [q]\n",
    "\n",
    "\n",
    "for i in range(1, len(data['timestamp'])):\n",
    "    dt = (data['timestamp'][i] - data['timestamp'][i - 1]) / 1000\n",
    "    gyro_measurement = np.array([data['x_gyro'][i], data['y_gyro'][i], data['z_gyro'][i]])\n",
    "    omega = gyro_measurement\n",
    "    expq_omega = expq(omega, 0.5 * dt * np.pi / 180)\n",
    "    q = quat_mul(q, expq_omega)\n",
    "    q_list.append(q)\n",
    "\n",
    "    "
   ]
  },
  {
   "cell_type": "code",
   "outputs": [
    {
     "name": "stdout",
     "output_type": "stream",
     "text": [
      "[-0.92243544  0.01185638 -0.01598245  0.38563824] [-0.92245519  0.01220543 -0.01558229  0.38559648]\n"
     ]
    }
   ],
   "source": [
    "print(q_list[0], q_list[-1])"
   ],
   "metadata": {
    "collapsed": false,
    "ExecuteTime": {
     "end_time": "2024-05-23T13:24:39.837660Z",
     "start_time": "2024-05-23T13:24:39.834065Z"
    }
   },
   "id": "77a16ce9fe811744",
   "execution_count": 21
  },
  {
   "cell_type": "code",
   "outputs": [],
   "source": [
    "euler_x = []\n",
    "euler_y = []\n",
    "euler_z = []\n",
    "\n",
    "for q, timestamp in zip(q_list, data['timestamp']):\n",
    "    euler = quat_to_euler(q) * 180 / np.pi\n",
    "    euler_x.append(euler[0])\n",
    "    euler_y.append(euler[1])\n",
    "    euler_z.append(euler[2])"
   ],
   "metadata": {
    "collapsed": false,
    "ExecuteTime": {
     "end_time": "2024-05-23T13:24:40.700290Z",
     "start_time": "2024-05-23T13:24:40.691407Z"
    }
   },
   "id": "94f1f83b60df1513",
   "execution_count": 22
  },
  {
   "cell_type": "code",
   "outputs": [
    {
     "data": {
      "text/plain": "[<matplotlib.lines.Line2D at 0x134b0e37a50>]"
     },
     "execution_count": 23,
     "metadata": {},
     "output_type": "execute_result"
    },
    {
     "data": {
      "text/plain": "<Figure size 640x480 with 1 Axes>",
      "image/png": "[encoded data removed]"
     },
     "metadata": {},
     "output_type": "display_data"
    }
   ],
   "source": [
    "plt.plot(euler_x)\n",
    "plt.plot(euler_y)\n",
    "plt.plot(euler_z)"
   ],
   "metadata": {
    "collapsed": false,
    "ExecuteTime": {
     "end_time": "2024-05-23T13:24:41.469650Z",
     "start_time": "2024-05-23T13:24:41.306095Z"
    }
   },
   "id": "8c72a98eafe2207",
   "execution_count": 23
  },
  {
   "cell_type": "code",
   "outputs": [],
   "source": [
    "def Somega(omega):\n",
    "    x, y, z = np.reshape(omega, 3)\n",
    "    out = np.array([\n",
    "        [0,-x,-y,-z],\n",
    "        [x,0,x,-y],\n",
    "        [y,-z,0,x],\n",
    "        [z,y,-x,0]\n",
    "    ])\n",
    "    return out\n",
    "\n",
    "def Sq(q):\n",
    "    q0, q1, q2, q3 = np.reshape(q, 4)\n",
    "    out = np.array([\n",
    "        [-q1,-q2,-q3],\n",
    "        [q0,-q3,q2],\n",
    "        [q3,q0,-q1],\n",
    "        [-q2,q1,q0]\n",
    "    ])\n",
    "    return out"
   ],
   "metadata": {
    "collapsed": false,
    "ExecuteTime": {
     "end_time": "2024-05-22T08:38:48.655056Z",
     "start_time": "2024-05-22T08:38:48.650188Z"
    }
   },
   "id": "6636a59de1228017",
   "execution_count": 42
  },
  {
   "cell_type": "code",
   "outputs": [],
   "source": [
    "q = np.reshape(q11, (4, 1))\n",
    "q_list = [q]\n",
    "I4 = np.array([\n",
    "    [1,0,0,0],\n",
    "    [0,1,0,0],\n",
    "    [0,0,1,0],\n",
    "    [0,0,0,1]\n",
    "])\n",
    "\n",
    "for i in range(1, len(data['timestamp'])):\n",
    "    dt = (data['timestamp'][i] - data['timestamp'][i - 1]) / 1000\n",
    "    omega = np.array([data['x_gyro'][i], data['y_gyro'][i], data['z_gyro'][i]]) * np.pi / 180\n",
    "    q = np.matmul(I4 + 0.5 * Somega(omega) * dt, q) + 0.5 * dt * np.matmul(Sq(q), np.reshape(omega, (3, 1)))\n",
    "    q = np.reshape(q, (4, 1))\n",
    "    q_list.append(q)\n",
    "\n",
    "    "
   ],
   "metadata": {
    "collapsed": false,
    "ExecuteTime": {
     "end_time": "2024-05-22T08:38:48.695867Z",
     "start_time": "2024-05-22T08:38:48.656065Z"
    }
   },
   "id": "c7621e38cc526c7e",
   "execution_count": 43
  },
  {
   "cell_type": "code",
   "outputs": [
    {
     "data": {
      "text/plain": "<Figure size 640x480 with 1 Axes>",
      "image/png": "[encoded data removed]"
     },
     "metadata": {},
     "output_type": "display_data"
    }
   ],
   "source": [
    "euler_x = []\n",
    "euler_y = []\n",
    "euler_z = []\n",
    "\n",
    "for q, timestamp in zip(q_list, data['timestamp']):\n",
    "    q = np.reshape(q, 4)\n",
    "    euler = quat_to_euler(q) * 180 / np.pi\n",
    "    euler_x.append(euler[0])\n",
    "    euler_y.append(euler[1])\n",
    "    euler_z.append(euler[2])\n",
    "\n",
    "plt.plot(euler_x)\n",
    "plt.plot(euler_y)\n",
    "plt.plot(euler_z)\n",
    "plt.show()"
   ],
   "metadata": {
    "collapsed": false,
    "ExecuteTime": {
     "end_time": "2024-05-22T08:38:48.832474Z",
     "start_time": "2024-05-22T08:38:48.696874Z"
    }
   },
   "id": "d0859608b20bdd06",
   "execution_count": 44
  },
  {
   "cell_type": "code",
   "outputs": [],
   "source": [],
   "metadata": {
    "collapsed": false,
    "ExecuteTime": {
     "end_time": "2024-05-21T12:06:16.982659Z",
     "start_time": "2024-05-21T12:06:16.978534Z"
    }
   },
   "id": "8e40a095563d7d66",
   "execution_count": 80
  },
  {
   "cell_type": "code",
   "outputs": [],
   "source": [],
   "metadata": {
    "collapsed": false
   },
   "id": "8af3bb5d3337361f"
  }
 ],
 "metadata": {
  "kernelspec": {
   "display_name": "Python 3 (ipykernel)",
   "language": "python",
   "name": "python3"
  },
  "language_info": {
   "codemirror_mode": {
    "name": "ipython",
    "version": 3
   },
   "file_extension": ".py",
   "mimetype": "text/x-python",
   "name": "python",
   "nbconvert_exporter": "python",
   "pygments_lexer": "ipython3",
   "version": "3.10.13"
  }
 },
 "nbformat": 4,
 "nbformat_minor": 5
}
