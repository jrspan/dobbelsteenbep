{
 "cells": [
  {
   "cell_type": "code",
   "execution_count": 1,
   "id": "initial_id",
   "metadata": {
    "collapsed": true,
    "jupyter": {
     "outputs_hidden": true
    },
    "ExecuteTime": {
     "end_time": "2024-05-19T18:00:27.867066Z",
     "start_time": "2024-05-19T18:00:21.158996Z"
    }
   },
   "outputs": [],
   "source": [
    "from dobbel import dobbellogger\n",
    "from help_functies import *\n",
    "dob = dobbellogger()"
   ]
  },
  {
   "cell_type": "code",
   "execution_count": 2,
   "id": "3102bebf332b7735",
   "metadata": {
    "collapsed": false,
    "ExecuteTime": {
     "end_time": "2024-05-19T18:00:44.991932Z",
     "start_time": "2024-05-19T18:00:31.129743Z"
    }
   },
   "outputs": [
    {
     "name": "stdout",
     "output_type": "stream",
     "text": [
      "Logging data for 5s\n",
      "Downloading data\n",
      "Done! The data is located in self.datadf\n"
     ]
    }
   ],
   "source": [
    "dob.connect()\n",
    "dob.log(5, 100, 4, 250)\n",
    "dob.download()\n",
    "data = dob.datadf"
   ]
  },
  {
   "cell_type": "code",
   "outputs": [],
   "source": [
    "# Deze code niet vaker dan 1 keer uitvoeren!\n",
    "data = remove_nan(data)\n",
    "data = rotate_data(data)\n",
    "\n",
    "gyro_bias = [-0.10488443, 0.48133019, -0.05951701]\n",
    "acc_bias = [0.00462698, 0.02152201, -0.04949736]\n",
    "\n",
    "data['x_gyro'] = data['x_gyro'] - gyro_bias[0]\n",
    "data['y_gyro'] = data['y_gyro'] - gyro_bias[1]\n",
    "data['z_gyro'] = data['z_gyro'] - gyro_bias[2]\n",
    "data['x_acc'] = data['x_acc'] - acc_bias[0]\n",
    "data['y_acc'] = data['y_acc'] - acc_bias[1]\n",
    "data['z_acc'] = data['z_acc'] - acc_bias[2]"
   ],
   "metadata": {
    "collapsed": false,
    "ExecuteTime": {
     "end_time": "2024-05-19T18:00:49.007119Z",
     "start_time": "2024-05-19T18:00:48.443873Z"
    }
   },
   "id": "c912a89defe75b36",
   "execution_count": 11
  },
  {
   "cell_type": "code",
   "outputs": [],
   "source": [
    "y11 = np.array([data['x_acc'][0], data['y_acc'][0], data['z_acc'][0]])\n",
    "gb = y11 / np.linalg.norm(y11)\n",
    "gn = np.array([0, 0, 1])\n",
    "mn = np.array([1, 0, 0])\n",
    "mb = np.array([1, 0, 0])\n",
    "\n",
    "A = - np.matmul(left_quat_mul(np.array([0, *gn])), right_quat_mul(np.array([0, *gb]))) #- np.matmul(left_quat_mul(np.array([0, *mn])), right_quat_mul(np.array([0, *mb])))\n",
    "\n",
    "# Compute eigenvalues and eigenvectors\n",
    "eigenvalues, eigenvectors = np.linalg.eigh(A)\n",
    "\n",
    "# Eigenvalues are sorted in ascending order by np.linalg.eigh, \n",
    "# and the corresponding eigenvectors are columns of 'eigenvectors'\n",
    "max_eigenvalue_index = np.argmax(eigenvalues)\n",
    "max_eigenvector = eigenvectors[:, max_eigenvalue_index]"
   ],
   "metadata": {
    "collapsed": false,
    "ExecuteTime": {
     "end_time": "2024-05-19T18:24:13.276916Z",
     "start_time": "2024-05-19T18:24:13.271297Z"
    }
   },
   "id": "4a968a2b84632909",
   "execution_count": 23
  },
  {
   "cell_type": "code",
   "outputs": [],
   "source": [
    "q11 = max_eigenvector\n",
    "\n",
    "dqde = np.array([\n",
    "    [0,0,0],\n",
    "    [1,0,0],\n",
    "    [0,1,0],\n",
    "    [0,0,1]\n",
    "])\n",
    "\n",
    "sigma_etha = np.array([\n",
    "    [(np.pi / 9) ** 2, 0, 0],\n",
    "    [0, (np.pi / 9) ** 2, 0],\n",
    "    [0, 0, (np.pi / 9) ** 2]\n",
    "])\n",
    "\n",
    "P11 = 0.25 * np.matmul(np.matmul(np.matmul(np.matmul(right_quat_mul(q11), dqde), sigma_etha), dqde.T), right_quat_mul(q11))"
   ],
   "metadata": {
    "collapsed": false,
    "ExecuteTime": {
     "end_time": "2024-05-19T18:24:13.588111Z",
     "start_time": "2024-05-19T18:24:13.583333Z"
    }
   },
   "id": "c02ce52458be9a35",
   "execution_count": 24
  },
  {
   "cell_type": "code",
   "execution_count": 25,
   "id": "a502aec344638953",
   "metadata": {
    "collapsed": false,
    "ExecuteTime": {
     "end_time": "2024-05-19T18:24:14.409845Z",
     "start_time": "2024-05-19T18:24:14.116371Z"
    }
   },
   "outputs": [],
   "source": [
    "q = np.reshape(q11, 4)\n",
    "q_list = [q]\n",
    "\n",
    "\n",
    "for i in range(1, len(data['timestamp'])):\n",
    "    dt = (data['timestamp'][i] - data['timestamp'][i - 1]) / 1000\n",
    "    gyro_measurement = np.array([data['x_gyro'][i], data['y_gyro'][i], data['z_gyro'][i]])\n",
    "    omega = gyro_measurement\n",
    "    expq_omega = expq(omega, 0.5 * dt * np.pi / 180)\n",
    "    q = quat_mul(q, expq_omega)\n",
    "    q_list.append(q)\n",
    "\n",
    "    "
   ]
  },
  {
   "cell_type": "code",
   "outputs": [
    {
     "name": "stderr",
     "output_type": "stream",
     "text": [
      "C:\\Users\\jelte\\AppData\\Local\\Temp\\ipykernel_16032\\2508345014.py:3: RuntimeWarning: invalid value encountered in scalar divide\n",
      "  psi = np.arctan((2*x*y-2*w*z)/((2*w**2)+(2*x**2)-1))\n",
      "C:\\Users\\jelte\\AppData\\Local\\Temp\\ipykernel_16032\\2508345014.py:5: RuntimeWarning: invalid value encountered in scalar divide\n",
      "  phi = np.arctan((2*y*z-2*w*x)/((2*w**2)+(2*z**2)-1))\n",
      "C:\\Users\\jelte\\AppData\\Local\\Temp\\ipykernel_16032\\2508345014.py:4: RuntimeWarning: invalid value encountered in arcsin\n",
      "  theta = -np.arcsin(2*x*z+2*w*y)\n"
     ]
    }
   ],
   "source": [
    "euler_x = []\n",
    "euler_y = []\n",
    "euler_z = []\n",
    "\n",
    "for q, timestamp in zip(q_list, data['timestamp']):\n",
    "    euler = quat_to_euler(q) * 180 / np.pi\n",
    "    euler_x.append(euler[0])\n",
    "    euler_y.append(euler[1])\n",
    "    euler_z.append(euler[2])"
   ],
   "metadata": {
    "collapsed": false,
    "ExecuteTime": {
     "end_time": "2024-05-19T18:24:14.721847Z",
     "start_time": "2024-05-19T18:24:14.694563Z"
    }
   },
   "id": "94f1f83b60df1513",
   "execution_count": 26
  },
  {
   "cell_type": "code",
   "outputs": [
    {
     "data": {
      "text/plain": "[<matplotlib.lines.Line2D at 0x2dbc67551d0>]"
     },
     "execution_count": 27,
     "metadata": {},
     "output_type": "execute_result"
    },
    {
     "data": {
      "text/plain": "<Figure size 640x480 with 1 Axes>",
      "image/png": "[encoded data removed]"
     },
     "metadata": {},
     "output_type": "display_data"
    }
   ],
   "source": [
    "import matplotlib.pyplot as plt\n",
    "\n",
    "plt.plot(euler_x)\n",
    "plt.plot(euler_y)\n",
    "plt.plot(euler_z)"
   ],
   "metadata": {
    "collapsed": false,
    "ExecuteTime": {
     "end_time": "2024-05-19T18:24:23.345260Z",
     "start_time": "2024-05-19T18:24:23.064053Z"
    }
   },
   "id": "8c72a98eafe2207",
   "execution_count": 27
  },
  {
   "cell_type": "code",
   "outputs": [],
   "source": [],
   "metadata": {
    "collapsed": false,
    "ExecuteTime": {
     "end_time": "2024-05-19T15:45:39.295372Z",
     "start_time": "2024-05-19T15:45:39.295372Z"
    }
   },
   "id": "6636a59de1228017",
   "execution_count": null
  }
 ],
 "metadata": {
  "kernelspec": {
   "display_name": "Python 3 (ipykernel)",
   "language": "python",
   "name": "python3"
  },
  "language_info": {
   "codemirror_mode": {
    "name": "ipython",
    "version": 3
   },
   "file_extension": ".py",
   "mimetype": "text/x-python",
   "name": "python",
   "nbconvert_exporter": "python",
   "pygments_lexer": "ipython3",
   "version": "3.10.13"
  }
 },
 "nbformat": 4,
 "nbformat_minor": 5
}
