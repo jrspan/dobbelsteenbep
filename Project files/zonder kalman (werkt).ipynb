{
 "cells": [
  {
   "cell_type": "code",
   "execution_count": 1,
   "id": "initial_id",
   "metadata": {
    "collapsed": true,
    "jupyter": {
     "outputs_hidden": true
    },
    "ExecuteTime": {
     "end_time": "2024-05-21T12:38:50.211229Z",
     "start_time": "2024-05-21T12:38:42.828036Z"
    }
   },
   "outputs": [],
   "source": [
    "import numpy as np\n",
    "from dobbel import dobbellogger\n",
    "from help_functies import *\n",
    "import matplotlib.pyplot as plt\n",
    "dob = dobbellogger()"
   ]
  },
  {
   "cell_type": "code",
   "execution_count": 246,
   "id": "3102bebf332b7735",
   "metadata": {
    "collapsed": false,
    "ExecuteTime": {
     "end_time": "2024-05-21T14:00:40.446583Z",
     "start_time": "2024-05-21T14:00:26.961116Z"
    }
   },
   "outputs": [
    {
     "name": "stdout",
     "output_type": "stream",
     "text": [
      "Logging data for 5s\n",
      "Downloading data\n",
      "Done! The data is located in self.datadf\n"
     ]
    }
   ],
   "source": [
    "dob.connect()\n",
    "dob.log(5, 100, 4, 2000)\n",
    "dob.download()\n",
    "data = dob.datadf"
   ]
  },
  {
   "cell_type": "code",
   "outputs": [],
   "source": [
    "# Deze code niet vaker dan 1 keer uitvoeren!\n",
    "data = remove_nan(data)\n",
    "data = rotate_data(data)\n",
    "\n",
    "gyro_bias = [-0.10488443, 0.48133019, -0.05951701]\n",
    "acc_bias = [0.00462698, 0.02152201, -0.04949736]\n",
    "\n",
    "data['x_gyro'] = data['x_gyro'] - gyro_bias[0]\n",
    "data['y_gyro'] = data['y_gyro'] - gyro_bias[1]\n",
    "data['z_gyro'] = data['z_gyro'] - gyro_bias[2]\n",
    "data['x_acc'] = data['x_acc'] - acc_bias[0]\n",
    "data['y_acc'] = data['y_acc'] - acc_bias[1]\n",
    "data['z_acc'] = data['z_acc'] - acc_bias[2]"
   ],
   "metadata": {
    "collapsed": false,
    "ExecuteTime": {
     "end_time": "2024-05-21T14:00:40.785539Z",
     "start_time": "2024-05-21T14:00:40.448590Z"
    }
   },
   "id": "c912a89defe75b36",
   "execution_count": 247
  },
  {
   "cell_type": "code",
   "outputs": [
    {
     "data": {
      "text/plain": "   timestamp     x_acc     y_acc     z_acc    x_gyro    y_gyro    z_gyro\n0        0.0  0.016836 -0.042396 -0.999820 -0.152396 -0.054501  0.086558\n1       20.0  0.017590 -0.044105 -0.998423 -0.323916  0.189402  0.104586\n2       31.0  0.014215 -0.043861 -0.995031 -0.057622 -0.054501  0.163305\n3       41.0  0.012828 -0.041786 -0.995840 -0.028263 -0.054501  0.030158\n4       50.0  0.011210 -0.042762 -0.996364 -0.084663 -0.054501 -0.093976",
      "text/html": "<div>\n<style scoped>\n    .dataframe tbody tr th:only-of-type {\n        vertical-align: middle;\n    }\n\n    .dataframe tbody tr th {\n        vertical-align: top;\n    }\n\n    .dataframe thead th {\n        text-align: right;\n    }\n</style>\n<table border=\"1\" class=\"dataframe\">\n  <thead>\n    <tr style=\"text-align: right;\">\n      <th></th>\n      <th>timestamp</th>\n      <th>x_acc</th>\n      <th>y_acc</th>\n      <th>z_acc</th>\n      <th>x_gyro</th>\n      <th>y_gyro</th>\n      <th>z_gyro</th>\n    </tr>\n  </thead>\n  <tbody>\n    <tr>\n      <th>0</th>\n      <td>0.0</td>\n      <td>0.016836</td>\n      <td>-0.042396</td>\n      <td>-0.999820</td>\n      <td>-0.152396</td>\n      <td>-0.054501</td>\n      <td>0.086558</td>\n    </tr>\n    <tr>\n      <th>1</th>\n      <td>20.0</td>\n      <td>0.017590</td>\n      <td>-0.044105</td>\n      <td>-0.998423</td>\n      <td>-0.323916</td>\n      <td>0.189402</td>\n      <td>0.104586</td>\n    </tr>\n    <tr>\n      <th>2</th>\n      <td>31.0</td>\n      <td>0.014215</td>\n      <td>-0.043861</td>\n      <td>-0.995031</td>\n      <td>-0.057622</td>\n      <td>-0.054501</td>\n      <td>0.163305</td>\n    </tr>\n    <tr>\n      <th>3</th>\n      <td>41.0</td>\n      <td>0.012828</td>\n      <td>-0.041786</td>\n      <td>-0.995840</td>\n      <td>-0.028263</td>\n      <td>-0.054501</td>\n      <td>0.030158</td>\n    </tr>\n    <tr>\n      <th>4</th>\n      <td>50.0</td>\n      <td>0.011210</td>\n      <td>-0.042762</td>\n      <td>-0.996364</td>\n      <td>-0.084663</td>\n      <td>-0.054501</td>\n      <td>-0.093976</td>\n    </tr>\n  </tbody>\n</table>\n</div>"
     },
     "execution_count": 248,
     "metadata": {},
     "output_type": "execute_result"
    }
   ],
   "source": [
    "data.head()"
   ],
   "metadata": {
    "collapsed": false,
    "ExecuteTime": {
     "end_time": "2024-05-21T14:00:40.797291Z",
     "start_time": "2024-05-21T14:00:40.786547Z"
    }
   },
   "id": "50081c8fb2bf2871",
   "execution_count": 248
  },
  {
   "cell_type": "code",
   "outputs": [],
   "source": [
    "y11 = np.array([data['x_acc'][0], data['y_acc'][0], data['z_acc'][0]])\n",
    "gb = y11 / np.linalg.norm(y11)\n",
    "gn = np.array([0, 0, 1])\n",
    "mn = np.array([1, 0, 0])\n",
    "mb = np.array([1, 0, 0])\n",
    "\n",
    "A = - np.matmul(left_quat_mul(np.array([0, *gn])), right_quat_mul(np.array([0, *gb]))) - np.matmul(left_quat_mul(np.array([0, *mn])), right_quat_mul(np.array([0, *mb])))\n",
    "\n",
    "# Compute eigenvalues and eigenvectors\n",
    "eigenvalues, eigenvectors = np.linalg.eigh(A)\n",
    "\n",
    "# Eigenvalues are sorted in ascending order by np.linalg.eigh, \n",
    "# and the corresponding eigenvectors are columns of 'eigenvectors'\n",
    "max_eigenvalue_index = np.argmax(eigenvalues)\n",
    "max_eigenvector = eigenvectors[:, max_eigenvalue_index]"
   ],
   "metadata": {
    "collapsed": false,
    "ExecuteTime": {
     "end_time": "2024-05-21T14:00:40.805838Z",
     "start_time": "2024-05-21T14:00:40.800304Z"
    }
   },
   "id": "4a968a2b84632909",
   "execution_count": 249
  },
  {
   "cell_type": "code",
   "outputs": [],
   "source": [
    "q11 = max_eigenvector"
   ],
   "metadata": {
    "collapsed": false,
    "ExecuteTime": {
     "end_time": "2024-05-21T14:00:40.811769Z",
     "start_time": "2024-05-21T14:00:40.806857Z"
    }
   },
   "id": "c02ce52458be9a35",
   "execution_count": 250
  },
  {
   "cell_type": "code",
   "outputs": [
    {
     "name": "stdout",
     "output_type": "stream",
     "text": [
      "[8.41826047e-03 1.38777878e-17 1.00082429e+00]\n"
     ]
    }
   ],
   "source": [
    "print(rotate_vector(np.array([data['x_acc'][0], data['y_acc'][0], data['z_acc'][0]]), q11))"
   ],
   "metadata": {
    "collapsed": false,
    "ExecuteTime": {
     "end_time": "2024-05-21T14:00:40.820186Z",
     "start_time": "2024-05-21T14:00:40.812774Z"
    }
   },
   "id": "52bd92e8c13d2e7e",
   "execution_count": 251
  },
  {
   "cell_type": "code",
   "execution_count": 252,
   "id": "a502aec344638953",
   "metadata": {
    "collapsed": false,
    "ExecuteTime": {
     "end_time": "2024-05-21T14:00:40.864668Z",
     "start_time": "2024-05-21T14:00:40.821192Z"
    }
   },
   "outputs": [],
   "source": [
    "q = np.reshape(q11, 4)\n",
    "q_list = [q]\n",
    "\n",
    "\n",
    "for i in range(1, len(data['timestamp'])):\n",
    "    dt = (data['timestamp'][i] - data['timestamp'][i - 1]) / 1000\n",
    "    gyro_measurement = np.array([data['x_gyro'][i], data['y_gyro'][i], data['z_gyro'][i]])\n",
    "    omega = gyro_measurement\n",
    "    expq_omega = expq(omega, 0.5 * dt * np.pi / 180)\n",
    "    q = quat_mul(q, expq_omega)\n",
    "    q_list.append(q)\n",
    "\n",
    "    "
   ]
  },
  {
   "cell_type": "code",
   "outputs": [],
   "source": [
    "euler_x = []\n",
    "euler_y = []\n",
    "euler_z = []\n",
    "\n",
    "for q, timestamp in zip(q_list, data['timestamp']):\n",
    "    euler = quat_to_euler(q) * 180 / np.pi\n",
    "    euler_x.append(euler[0])\n",
    "    euler_y.append(euler[1])\n",
    "    euler_z.append(euler[2])"
   ],
   "metadata": {
    "collapsed": false,
    "ExecuteTime": {
     "end_time": "2024-05-21T14:00:40.874656Z",
     "start_time": "2024-05-21T14:00:40.865674Z"
    }
   },
   "id": "94f1f83b60df1513",
   "execution_count": 253
  },
  {
   "cell_type": "code",
   "outputs": [
    {
     "data": {
      "text/plain": "[<matplotlib.lines.Line2D at 0x24028c1d110>]"
     },
     "execution_count": 254,
     "metadata": {},
     "output_type": "execute_result"
    },
    {
     "data": {
      "text/plain": "<Figure size 640x480 with 1 Axes>",
      "image/png": "[encoded data removed]"
     },
     "metadata": {},
     "output_type": "display_data"
    }
   ],
   "source": [
    "plt.plot(euler_x)\n",
    "plt.plot(euler_y)\n",
    "plt.plot(euler_z)"
   ],
   "metadata": {
    "collapsed": false,
    "ExecuteTime": {
     "end_time": "2024-05-21T14:00:41.045439Z",
     "start_time": "2024-05-21T14:00:40.875664Z"
    }
   },
   "id": "8c72a98eafe2207",
   "execution_count": 254
  },
  {
   "cell_type": "code",
   "outputs": [],
   "source": [
    "def Somega(omega):\n",
    "    x, y, z = np.reshape(omega, 3)\n",
    "    out = np.array([\n",
    "        [0,-x,-y,-z],\n",
    "        [x,0,x,-y],\n",
    "        [y,-z,0,x],\n",
    "        [z,y,-x,0]\n",
    "    ])\n",
    "    return out\n",
    "\n",
    "def Sq(q):\n",
    "    q0, q1, q2, q3 = np.reshape(q, 4)\n",
    "    out = np.array([\n",
    "        [-q1,-q2,-q3],\n",
    "        [q0,-q3,q2],\n",
    "        [q3,q0,-q1],\n",
    "        [-q2,q1,q0]\n",
    "    ])\n",
    "    return out"
   ],
   "metadata": {
    "collapsed": false,
    "ExecuteTime": {
     "end_time": "2024-05-21T12:27:57.880453Z",
     "start_time": "2024-05-21T12:27:57.872183Z"
    }
   },
   "id": "6636a59de1228017",
   "execution_count": 190
  },
  {
   "cell_type": "code",
   "outputs": [],
   "source": [
    "q = np.reshape(q11, (4, 1))\n",
    "q_list = [q]\n",
    "I4 = np.array([\n",
    "    [1,0,0,0],\n",
    "    [0,1,0,0],\n",
    "    [0,0,1,0],\n",
    "    [0,0,0,1]\n",
    "])\n",
    "\n",
    "for i in range(1, len(data['timestamp'])):\n",
    "    dt = (data['timestamp'][i] - data['timestamp'][i - 1]) / 1000\n",
    "    omega = np.array([data['x_gyro'][i], data['y_gyro'][i], data['z_gyro'][i]]) * np.pi / 180\n",
    "    q = np.matmul(I4 + 0.5 * Somega(omega) * dt, q) + 0.5 * dt * np.matmul(Sq(q), np.reshape(omega, (3, 1)))\n",
    "    q = np.reshape(q, (4, 1))\n",
    "    q_list.append(q)\n",
    "\n",
    "    "
   ],
   "metadata": {
    "collapsed": false,
    "ExecuteTime": {
     "end_time": "2024-05-21T12:27:58.571704Z",
     "start_time": "2024-05-21T12:27:58.509927Z"
    }
   },
   "id": "c7621e38cc526c7e",
   "execution_count": 191
  },
  {
   "cell_type": "code",
   "outputs": [
    {
     "data": {
      "text/plain": "<Figure size 640x480 with 1 Axes>",
      "image/png": "[encoded data removed]"
     },
     "metadata": {},
     "output_type": "display_data"
    }
   ],
   "source": [
    "euler_x = []\n",
    "euler_y = []\n",
    "euler_z = []\n",
    "\n",
    "for q, timestamp in zip(q_list, data['timestamp']):\n",
    "    q = np.reshape(q, 4)\n",
    "    euler = quat_to_euler(q) * 180 / np.pi\n",
    "    euler_x.append(euler[0])\n",
    "    euler_y.append(euler[1])\n",
    "    euler_z.append(euler[2])\n",
    "\n",
    "plt.plot(euler_x)\n",
    "plt.plot(euler_y)\n",
    "plt.plot(euler_z)\n",
    "plt.show()"
   ],
   "metadata": {
    "collapsed": false,
    "ExecuteTime": {
     "end_time": "2024-05-21T12:27:59.559098Z",
     "start_time": "2024-05-21T12:27:59.181851Z"
    }
   },
   "id": "d0859608b20bdd06",
   "execution_count": 192
  },
  {
   "cell_type": "code",
   "outputs": [],
   "source": [],
   "metadata": {
    "collapsed": false,
    "ExecuteTime": {
     "end_time": "2024-05-21T12:06:16.982659Z",
     "start_time": "2024-05-21T12:06:16.978534Z"
    }
   },
   "id": "8e40a095563d7d66",
   "execution_count": 80
  },
  {
   "cell_type": "code",
   "outputs": [],
   "source": [],
   "metadata": {
    "collapsed": false
   },
   "id": "8af3bb5d3337361f"
  }
 ],
 "metadata": {
  "kernelspec": {
   "display_name": "Python 3 (ipykernel)",
   "language": "python",
   "name": "python3"
  },
  "language_info": {
   "codemirror_mode": {
    "name": "ipython",
    "version": 3
   },
   "file_extension": ".py",
   "mimetype": "text/x-python",
   "name": "python",
   "nbconvert_exporter": "python",
   "pygments_lexer": "ipython3",
   "version": "3.10.13"
  }
 },
 "nbformat": 4,
 "nbformat_minor": 5
}
