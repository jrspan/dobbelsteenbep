{
 "cells": [
  {
   "cell_type": "code",
   "execution_count": 1,
   "id": "initial_id",
   "metadata": {
    "collapsed": true,
    "ExecuteTime": {
     "end_time": "2024-06-03T08:10:13.147519Z",
     "start_time": "2024-06-03T08:10:12.553082Z"
    }
   },
   "outputs": [],
   "source": [
    "import sympy as sp\n",
    "import numpy as np\n",
    "\n",
    "px, py, pz, vx, vy, vz, q0, q1, q2, q3 = sp.symbols('px py pz vx vy vz q0 q1 q2 q3')\n",
    "ax, ay, az, ox, oy, oz, T = sp.symbols('ax ay az ox oy oz T')\n",
    "pex, pey, pez, vex, vey, vez, omex, omey, omez = sp.symbols('pex pey pez vex vey vez ex, ey, ez')"
   ]
  },
  {
   "cell_type": "code",
   "outputs": [],
   "source": [
    "def expq_sp(vec):\n",
    "    x, y, z = vec\n",
    "    absq = (x ** 2 + y ** 2 + z ** 2) ** 0.5\n",
    "    out = sp.Matrix([\n",
    "        [sp.cos(absq)],\n",
    "        [x * sp.sin(absq) / absq],\n",
    "        [y * sp.sin(absq) / absq],\n",
    "        [z * sp.sin(absq) / absq]\n",
    "    ])\n",
    "    return out\n",
    "\n",
    "def quat_mul_sp(p, q):\n",
    "    p0 = p[0]\n",
    "    q0 = q[0]\n",
    "    pv = sp.Matrix(p[1:])\n",
    "    qv = sp.Matrix(q[1:])\n",
    "    out0 = p0 * q0 - pv.dot(qv)\n",
    "    outv = p0 * qv + q0 * pv + pv.cross(qv)\n",
    "    out = sp.Matrix([\n",
    "        [out0],\n",
    "        [outv]\n",
    "    ])\n",
    "    return out\n",
    "\n",
    "def left_quat_mul_sp(q):\n",
    "    q0, q1, q2, q3 = q\n",
    "    lqm = sp.Matrix([\n",
    "        [q0, -q1, -q2, -q3],\n",
    "        [q1, q0, -q3, q2],\n",
    "        [q2, q3, q0, -q1],\n",
    "        [q3, -q2, q1, q0]\n",
    "    ])\n",
    "    return lqm"
   ],
   "metadata": {
    "collapsed": false,
    "ExecuteTime": {
     "end_time": "2024-06-03T08:10:13.155498Z",
     "start_time": "2024-06-03T08:10:13.148531Z"
    }
   },
   "id": "49c4a36b1db58b75",
   "execution_count": 2
  },
  {
   "cell_type": "code",
   "outputs": [],
   "source": [
    "R = sp.Matrix([\n",
    "    [2*q0**2 + 2*q1**2 - 1, 2*q1*q2 - 2*q0*q3, 2*q1*q3 + 2*q0*q2],\n",
    "    [2*q1*q2 + 2*q0*q3, 2*q0**2 + 2*q2**2 - 1, 2*q2*q3 - 2*q0*q1],\n",
    "    [2*q1*q3 - 2*q0*q2, 2*q2*q3 + 2*q0*q1, 2*q0**2 + 2*q3**2 - 1]\n",
    "])\n",
    "\n",
    "q = sp.Matrix([\n",
    "    [q0],\n",
    "    [q1],\n",
    "    [q2],\n",
    "    [q3]\n",
    "])\n",
    "\n",
    "y_acc = sp.Matrix([\n",
    "    [ax],\n",
    "    [ay],\n",
    "    [az]\n",
    "])\n",
    "\n",
    "y_omega = sp.Matrix([\n",
    "    [ox],\n",
    "    [oy],\n",
    "    [oz]\n",
    "])\n",
    "\n",
    "p = sp.Matrix([\n",
    "    [px],\n",
    "    [py],\n",
    "    [pz]\n",
    "])\n",
    "\n",
    "v = sp.Matrix([\n",
    "    [vx],\n",
    "    [vy],\n",
    "    [vz]\n",
    "])\n",
    "\n",
    "gn_sp = sp.Matrix([\n",
    "    [0],\n",
    "    [0],\n",
    "    [1]\n",
    "])\n",
    "\n",
    "ep = sp.Matrix([\n",
    "    [pex],\n",
    "    [pey],\n",
    "    [pez]\n",
    "])\n",
    "\n",
    "ev = sp.Matrix([\n",
    "    [vex],\n",
    "    [vey],\n",
    "    [vez]\n",
    "])\n",
    "\n",
    "eom = sp.Matrix([\n",
    "    [omex],\n",
    "    [omey],\n",
    "    [omez]\n",
    "])\n",
    "dqdeom = sp.Matrix([\n",
    "    [0,0,0],\n",
    "    [1,0,0],\n",
    "    [0,1,0],\n",
    "    [0,0,1]\n",
    "])"
   ],
   "metadata": {
    "collapsed": false,
    "ExecuteTime": {
     "end_time": "2024-06-03T08:10:15.326530Z",
     "start_time": "2024-06-03T08:10:15.228083Z"
    }
   },
   "id": "b25ec99bd4bdacb0",
   "execution_count": 3
  },
  {
   "cell_type": "code",
   "outputs": [],
   "source": [
    "f = sp.Matrix([\n",
    "    [p + T * v + 0.5 * T**2 * (R * y_acc - gn_sp)],\n",
    "    [v + T * (R * y_acc - gn_sp)],\n",
    "    [quat_mul_sp(q, 0.5 * T * expq_sp(y_omega))]\n",
    "])\n",
    "F = f.jacobian([px, py, pz, vx, vy, vz, q0, q1, q2, q3])\n",
    "F_numeric = sp.lambdify([px, py, pz, vx, vy, vz, q0, q1, q2, q3, ax, ay, az, ox, oy, oz, T], F, 'numpy')\n",
    "\n",
    "\n",
    "\n",
    "T_omega = -0.5 * T * left_quat_mul_sp(q) * dqdeom\n",
    "pv = sp.Matrix([\n",
    "    [p + T * v + 0.5 * T**2 * (R * y_acc - gn_sp + ep)],\n",
    "    [v + T * (R * y_acc - gn_sp + ev)]\n",
    "])\n",
    "values = {pex: 0, pey: 0, pez: 0, vex: 0, vey: 0, vez: 0, omex: 0, omey: 0, omez: 0}\n",
    "dpvde = pv.jacobian([pex, pey, pez, vex, vey, vez, omex, omey, omez])\n",
    "dpvde = dpvde.subs(values)\n",
    "G = sp.Matrix([\n",
    "    [dpvde],\n",
    "    [sp.zeros(4, 6),T_omega]\n",
    "])\n",
    "G_numeric = sp.lambdify([px, py, pz, vx, vy, vz, q0, q1, q2, q3, T], G, 'numpy')\n",
    "\n",
    "\n",
    "large_H_upperleft = sp.Matrix([[pz], [vx], [vy], [vz]]).jacobian([px, py, pz, vx, vy, vz])\n",
    "H_lowerright = 2 * sp.Matrix([\n",
    "    [-q2, q3, -q0, q1],\n",
    "    [q1, q0, q3, q2],\n",
    "    [2 * q0, 0, 0, 2 * q3]\n",
    "])\n",
    "large_H = sp.Matrix([\n",
    "    [large_H_upperleft, sp.zeros(4,4)],\n",
    "    [sp.zeros(3,6), H_lowerright]\n",
    "])\n",
    "large_H_numeric = sp.lambdify([px, py, pz, vx, vy, vz, q0, q1, q2, q3], large_H, 'numpy')\n",
    "small_H = sp.Matrix([[sp.zeros(3,6), H_lowerright]])\n",
    "small_H_numeric = sp.lambdify([px, py, pz, vx, vy, vz, q0, q1, q2, q3], small_H, 'numpy')\n"
   ],
   "metadata": {
    "collapsed": false,
    "ExecuteTime": {
     "end_time": "2024-06-03T08:10:16.149346Z",
     "start_time": "2024-06-03T08:10:15.792194Z"
    }
   },
   "id": "a342adf690a91ae7",
   "execution_count": 4
  },
  {
   "cell_type": "code",
   "outputs": [],
   "source": [
    "def calculate_F(state, y_omega, y_acc, dt):\n",
    "    pxnum, pynum, pznum, vxnum, vynum, vznum, q0num, q1num, q2num, q3num = state\n",
    "    ax_num, ay_num, az_num = y_acc\n",
    "    ox_num, oy_num, oz_num = y_omega\n",
    "    return F_numeric(pxnum, pynum, pznum, vxnum, vynum, vznum, q0num, q1num, q2num, q3num, ax_num, ay_num, az_num, ox_num, oy_num, oz_num, dt)\n",
    "\n",
    "def calculate_G(state, dt):\n",
    "    pxnum, pynum, pznum, vxnum, vynum, vznum, q0num, q1num, q2num, q3num = state\n",
    "    return G_numeric(pxnum, pynum, pznum, vxnum, vynum, vznum, q0num, q1num, q2num, q3num, dt)\n",
    "\n",
    "def calculate_small_H(state):\n",
    "    pxnum, pynum, pznum, vxnum, vynum, vznum, q0num, q1num, q2num, q3num = state\n",
    "    return small_H_numeric(pxnum, pynum, pznum, vxnum, vynum, vznum, q0num, q1num, q2num, q3num)\n",
    "\n",
    "def calculate_large_H(state):\n",
    "    pxnum, pynum, pznum, vxnum, vynum, vznum, q0num, q1num, q2num, q3num = state\n",
    "    return large_H_numeric(pxnum, pynum, pznum, vxnum, vynum, vznum, q0num, q1num, q2num, q3num)"
   ],
   "metadata": {
    "collapsed": false,
    "ExecuteTime": {
     "end_time": "2024-06-03T08:10:16.785079Z",
     "start_time": "2024-06-03T08:10:16.724895Z"
    }
   },
   "id": "a29012db22e5e628",
   "execution_count": 5
  },
  {
   "cell_type": "code",
   "outputs": [
    {
     "data": {
      "text/plain": "Matrix([\n[1, 0, 0, T, 0, 0,                                  0.5*T**2*(4*ax*q0 - 2*ay*q3 + 2*az*q2),                                   0.5*T**2*(4*ax*q1 + 2*ay*q2 + 2*az*q3),                                             0.5*T**2*(2*ay*q1 + 2*az*q0),                                            0.5*T**2*(-2*ay*q0 + 2*az*q1)],\n[0, 1, 0, 0, T, 0,                                  0.5*T**2*(2*ax*q3 + 4*ay*q0 - 2*az*q1),                                             0.5*T**2*(2*ax*q2 - 2*az*q0),                                   0.5*T**2*(2*ax*q1 + 4*ay*q2 + 2*az*q3),                                             0.5*T**2*(2*ax*q0 + 2*az*q2)],\n[0, 0, 1, 0, 0, T,                                 0.5*T**2*(-2*ax*q2 + 2*ay*q1 + 4*az*q0),                                             0.5*T**2*(2*ax*q3 + 2*ay*q0),                                            0.5*T**2*(-2*ax*q0 + 2*ay*q3),                                   0.5*T**2*(2*ax*q1 + 2*ay*q2 + 4*az*q3)],\n[0, 0, 0, 1, 0, 0,                                         T*(4*ax*q0 - 2*ay*q3 + 2*az*q2),                                          T*(4*ax*q1 + 2*ay*q2 + 2*az*q3),                                                    T*(2*ay*q1 + 2*az*q0),                                                   T*(-2*ay*q0 + 2*az*q1)],\n[0, 0, 0, 0, 1, 0,                                         T*(2*ax*q3 + 4*ay*q0 - 2*az*q1),                                                    T*(2*ax*q2 - 2*az*q0),                                          T*(2*ax*q1 + 4*ay*q2 + 2*az*q3),                                                    T*(2*ax*q0 + 2*az*q2)],\n[0, 0, 0, 0, 0, 1,                                        T*(-2*ax*q2 + 2*ay*q1 + 4*az*q0),                                                    T*(2*ax*q3 + 2*ay*q0),                                                   T*(-2*ax*q0 + 2*ay*q3),                                          T*(2*ax*q1 + 2*ay*q2 + 4*az*q3)],\n[0, 0, 0, 0, 0, 0,                                 0.5*T*cos((ox**2 + oy**2 + oz**2)**0.5), -0.5*T*ox*sin((ox**2 + oy**2 + oz**2)**0.5)/(ox**2 + oy**2 + oz**2)**0.5, -0.5*T*oy*sin((ox**2 + oy**2 + oz**2)**0.5)/(ox**2 + oy**2 + oz**2)**0.5, -0.5*T*oz*sin((ox**2 + oy**2 + oz**2)**0.5)/(ox**2 + oy**2 + oz**2)**0.5],\n[0, 0, 0, 0, 0, 0, 0.5*T*ox*sin((ox**2 + oy**2 + oz**2)**0.5)/(ox**2 + oy**2 + oz**2)**0.5,                                  0.5*T*cos((ox**2 + oy**2 + oz**2)**0.5),  0.5*T*oz*sin((ox**2 + oy**2 + oz**2)**0.5)/(ox**2 + oy**2 + oz**2)**0.5, -0.5*T*oy*sin((ox**2 + oy**2 + oz**2)**0.5)/(ox**2 + oy**2 + oz**2)**0.5],\n[0, 0, 0, 0, 0, 0, 0.5*T*oy*sin((ox**2 + oy**2 + oz**2)**0.5)/(ox**2 + oy**2 + oz**2)**0.5, -0.5*T*oz*sin((ox**2 + oy**2 + oz**2)**0.5)/(ox**2 + oy**2 + oz**2)**0.5,                                  0.5*T*cos((ox**2 + oy**2 + oz**2)**0.5),  0.5*T*ox*sin((ox**2 + oy**2 + oz**2)**0.5)/(ox**2 + oy**2 + oz**2)**0.5],\n[0, 0, 0, 0, 0, 0, 0.5*T*oz*sin((ox**2 + oy**2 + oz**2)**0.5)/(ox**2 + oy**2 + oz**2)**0.5,  0.5*T*oy*sin((ox**2 + oy**2 + oz**2)**0.5)/(ox**2 + oy**2 + oz**2)**0.5, -0.5*T*ox*sin((ox**2 + oy**2 + oz**2)**0.5)/(ox**2 + oy**2 + oz**2)**0.5,                                  0.5*T*cos((ox**2 + oy**2 + oz**2)**0.5)]])",
      "text/latex": "$\\displaystyle \\left[\\begin{matrix}1 & 0 & 0 & T & 0 & 0 & 0.5 T^{2} \\cdot \\left(4 ax q_{0} - 2 ay q_{3} + 2 az q_{2}\\right) & 0.5 T^{2} \\cdot \\left(4 ax q_{1} + 2 ay q_{2} + 2 az q_{3}\\right) & 0.5 T^{2} \\cdot \\left(2 ay q_{1} + 2 az q_{0}\\right) & 0.5 T^{2} \\left(- 2 ay q_{0} + 2 az q_{1}\\right)\\\\0 & 1 & 0 & 0 & T & 0 & 0.5 T^{2} \\cdot \\left(2 ax q_{3} + 4 ay q_{0} - 2 az q_{1}\\right) & 0.5 T^{2} \\cdot \\left(2 ax q_{2} - 2 az q_{0}\\right) & 0.5 T^{2} \\cdot \\left(2 ax q_{1} + 4 ay q_{2} + 2 az q_{3}\\right) & 0.5 T^{2} \\cdot \\left(2 ax q_{0} + 2 az q_{2}\\right)\\\\0 & 0 & 1 & 0 & 0 & T & 0.5 T^{2} \\left(- 2 ax q_{2} + 2 ay q_{1} + 4 az q_{0}\\right) & 0.5 T^{2} \\cdot \\left(2 ax q_{3} + 2 ay q_{0}\\right) & 0.5 T^{2} \\left(- 2 ax q_{0} + 2 ay q_{3}\\right) & 0.5 T^{2} \\cdot \\left(2 ax q_{1} + 2 ay q_{2} + 4 az q_{3}\\right)\\\\0 & 0 & 0 & 1 & 0 & 0 & T \\left(4 ax q_{0} - 2 ay q_{3} + 2 az q_{2}\\right) & T \\left(4 ax q_{1} + 2 ay q_{2} + 2 az q_{3}\\right) & T \\left(2 ay q_{1} + 2 az q_{0}\\right) & T \\left(- 2 ay q_{0} + 2 az q_{1}\\right)\\\\0 & 0 & 0 & 0 & 1 & 0 & T \\left(2 ax q_{3} + 4 ay q_{0} - 2 az q_{1}\\right) & T \\left(2 ax q_{2} - 2 az q_{0}\\right) & T \\left(2 ax q_{1} + 4 ay q_{2} + 2 az q_{3}\\right) & T \\left(2 ax q_{0} + 2 az q_{2}\\right)\\\\0 & 0 & 0 & 0 & 0 & 1 & T \\left(- 2 ax q_{2} + 2 ay q_{1} + 4 az q_{0}\\right) & T \\left(2 ax q_{3} + 2 ay q_{0}\\right) & T \\left(- 2 ax q_{0} + 2 ay q_{3}\\right) & T \\left(2 ax q_{1} + 2 ay q_{2} + 4 az q_{3}\\right)\\\\0 & 0 & 0 & 0 & 0 & 0 & 0.5 T \\cos{\\left(\\left(ox^{2} + oy^{2} + oz^{2}\\right)^{0.5} \\right)} & - \\frac{0.5 T ox \\sin{\\left(\\left(ox^{2} + oy^{2} + oz^{2}\\right)^{0.5} \\right)}}{\\left(ox^{2} + oy^{2} + oz^{2}\\right)^{0.5}} & - \\frac{0.5 T oy \\sin{\\left(\\left(ox^{2} + oy^{2} + oz^{2}\\right)^{0.5} \\right)}}{\\left(ox^{2} + oy^{2} + oz^{2}\\right)^{0.5}} & - \\frac{0.5 T oz \\sin{\\left(\\left(ox^{2} + oy^{2} + oz^{2}\\right)^{0.5} \\right)}}{\\left(ox^{2} + oy^{2} + oz^{2}\\right)^{0.5}}\\\\0 & 0 & 0 & 0 & 0 & 0 & \\frac{0.5 T ox \\sin{\\left(\\left(ox^{2} + oy^{2} + oz^{2}\\right)^{0.5} \\right)}}{\\left(ox^{2} + oy^{2} + oz^{2}\\right)^{0.5}} & 0.5 T \\cos{\\left(\\left(ox^{2} + oy^{2} + oz^{2}\\right)^{0.5} \\right)} & \\frac{0.5 T oz \\sin{\\left(\\left(ox^{2} + oy^{2} + oz^{2}\\right)^{0.5} \\right)}}{\\left(ox^{2} + oy^{2} + oz^{2}\\right)^{0.5}} & - \\frac{0.5 T oy \\sin{\\left(\\left(ox^{2} + oy^{2} + oz^{2}\\right)^{0.5} \\right)}}{\\left(ox^{2} + oy^{2} + oz^{2}\\right)^{0.5}}\\\\0 & 0 & 0 & 0 & 0 & 0 & \\frac{0.5 T oy \\sin{\\left(\\left(ox^{2} + oy^{2} + oz^{2}\\right)^{0.5} \\right)}}{\\left(ox^{2} + oy^{2} + oz^{2}\\right)^{0.5}} & - \\frac{0.5 T oz \\sin{\\left(\\left(ox^{2} + oy^{2} + oz^{2}\\right)^{0.5} \\right)}}{\\left(ox^{2} + oy^{2} + oz^{2}\\right)^{0.5}} & 0.5 T \\cos{\\left(\\left(ox^{2} + oy^{2} + oz^{2}\\right)^{0.5} \\right)} & \\frac{0.5 T ox \\sin{\\left(\\left(ox^{2} + oy^{2} + oz^{2}\\right)^{0.5} \\right)}}{\\left(ox^{2} + oy^{2} + oz^{2}\\right)^{0.5}}\\\\0 & 0 & 0 & 0 & 0 & 0 & \\frac{0.5 T oz \\sin{\\left(\\left(ox^{2} + oy^{2} + oz^{2}\\right)^{0.5} \\right)}}{\\left(ox^{2} + oy^{2} + oz^{2}\\right)^{0.5}} & \\frac{0.5 T oy \\sin{\\left(\\left(ox^{2} + oy^{2} + oz^{2}\\right)^{0.5} \\right)}}{\\left(ox^{2} + oy^{2} + oz^{2}\\right)^{0.5}} & - \\frac{0.5 T ox \\sin{\\left(\\left(ox^{2} + oy^{2} + oz^{2}\\right)^{0.5} \\right)}}{\\left(ox^{2} + oy^{2} + oz^{2}\\right)^{0.5}} & 0.5 T \\cos{\\left(\\left(ox^{2} + oy^{2} + oz^{2}\\right)^{0.5} \\right)}\\end{matrix}\\right]$"
     },
     "execution_count": 6,
     "metadata": {},
     "output_type": "execute_result"
    }
   ],
   "source": [
    "F"
   ],
   "metadata": {
    "collapsed": false,
    "ExecuteTime": {
     "end_time": "2024-06-03T08:10:24.024038Z",
     "start_time": "2024-06-03T08:10:23.728647Z"
    }
   },
   "id": "b4fc1cbddf584f7c",
   "execution_count": 6
  },
  {
   "cell_type": "code",
   "outputs": [
    {
     "data": {
      "text/plain": "Matrix([\n[0.5*T**2,        0,        0, 0, 0, 0,         0,         0,         0],\n[       0, 0.5*T**2,        0, 0, 0, 0,         0,         0,         0],\n[       0,        0, 0.5*T**2, 0, 0, 0,         0,         0,         0],\n[       0,        0,        0, T, 0, 0,         0,         0,         0],\n[       0,        0,        0, 0, T, 0,         0,         0,         0],\n[       0,        0,        0, 0, 0, T,         0,         0,         0],\n[       0,        0,        0, 0, 0, 0,  0.5*T*q1,  0.5*T*q2,  0.5*T*q3],\n[       0,        0,        0, 0, 0, 0, -0.5*T*q0,  0.5*T*q3, -0.5*T*q2],\n[       0,        0,        0, 0, 0, 0, -0.5*T*q3, -0.5*T*q0,  0.5*T*q1],\n[       0,        0,        0, 0, 0, 0,  0.5*T*q2, -0.5*T*q1, -0.5*T*q0]])",
      "text/latex": "$\\displaystyle \\left[\\begin{matrix}0.5 T^{2} & 0 & 0 & 0 & 0 & 0 & 0 & 0 & 0\\\\0 & 0.5 T^{2} & 0 & 0 & 0 & 0 & 0 & 0 & 0\\\\0 & 0 & 0.5 T^{2} & 0 & 0 & 0 & 0 & 0 & 0\\\\0 & 0 & 0 & T & 0 & 0 & 0 & 0 & 0\\\\0 & 0 & 0 & 0 & T & 0 & 0 & 0 & 0\\\\0 & 0 & 0 & 0 & 0 & T & 0 & 0 & 0\\\\0 & 0 & 0 & 0 & 0 & 0 & 0.5 T q_{1} & 0.5 T q_{2} & 0.5 T q_{3}\\\\0 & 0 & 0 & 0 & 0 & 0 & - 0.5 T q_{0} & 0.5 T q_{3} & - 0.5 T q_{2}\\\\0 & 0 & 0 & 0 & 0 & 0 & - 0.5 T q_{3} & - 0.5 T q_{0} & 0.5 T q_{1}\\\\0 & 0 & 0 & 0 & 0 & 0 & 0.5 T q_{2} & - 0.5 T q_{1} & - 0.5 T q_{0}\\end{matrix}\\right]$"
     },
     "execution_count": 7,
     "metadata": {},
     "output_type": "execute_result"
    }
   ],
   "source": [
    "G"
   ],
   "metadata": {
    "collapsed": false,
    "ExecuteTime": {
     "end_time": "2024-06-03T08:10:27.013135Z",
     "start_time": "2024-06-03T08:10:27.002170Z"
    }
   },
   "id": "d7a249e0d2e45bc6",
   "execution_count": 7
  },
  {
   "cell_type": "code",
   "outputs": [],
   "source": [
    "    H = 2 * np.array([\n",
    "    [-q2, q3, -q0, q1],\n",
    "    [q1, q0, q3, q2],\n",
    "    [2 * q0, 0, 0, 2 * q3]\n",
    "])"
   ],
   "metadata": {
    "collapsed": false
   },
   "id": "a4a915c562185441"
  },
  {
   "cell_type": "code",
   "outputs": [
    {
     "data": {
      "text/plain": "Matrix([\n[0, 0, 0, 0, 0, 0, -2*q2, 2*q3, -2*q0, 2*q1],\n[0, 0, 0, 0, 0, 0,  2*q1, 2*q0,  2*q3, 2*q2],\n[0, 0, 0, 0, 0, 0,  4*q0,    0,     0, 4*q3]])",
      "text/latex": "$\\displaystyle \\left[\\begin{matrix}0 & 0 & 0 & 0 & 0 & 0 & - 2 q_{2} & 2 q_{3} & - 2 q_{0} & 2 q_{1}\\\\0 & 0 & 0 & 0 & 0 & 0 & 2 q_{1} & 2 q_{0} & 2 q_{3} & 2 q_{2}\\\\0 & 0 & 0 & 0 & 0 & 0 & 4 q_{0} & 0 & 0 & 4 q_{3}\\end{matrix}\\right]$"
     },
     "execution_count": 8,
     "metadata": {},
     "output_type": "execute_result"
    }
   ],
   "source": [
    "small_H"
   ],
   "metadata": {
    "collapsed": false,
    "ExecuteTime": {
     "end_time": "2024-06-03T08:10:30.342504Z",
     "start_time": "2024-06-03T08:10:30.334919Z"
    }
   },
   "id": "2a12c3cd9199944d",
   "execution_count": 8
  },
  {
   "cell_type": "markdown",
   "source": [],
   "metadata": {
    "collapsed": false
   },
   "id": "7d07d00aedd034ba"
  },
  {
   "cell_type": "code",
   "outputs": [
    {
     "data": {
      "text/plain": "Matrix([\n[0, 0, 1, 0, 0, 0,     0,    0,     0,    0],\n[0, 0, 0, 1, 0, 0,     0,    0,     0,    0],\n[0, 0, 0, 0, 1, 0,     0,    0,     0,    0],\n[0, 0, 0, 0, 0, 1,     0,    0,     0,    0],\n[0, 0, 0, 0, 0, 0, -2*q2, 2*q3, -2*q0, 2*q1],\n[0, 0, 0, 0, 0, 0,  2*q1, 2*q0,  2*q3, 2*q2],\n[0, 0, 0, 0, 0, 0,  4*q0,    0,     0, 4*q3]])",
      "text/latex": "$\\displaystyle \\left[\\begin{matrix}0 & 0 & 1 & 0 & 0 & 0 & 0 & 0 & 0 & 0\\\\0 & 0 & 0 & 1 & 0 & 0 & 0 & 0 & 0 & 0\\\\0 & 0 & 0 & 0 & 1 & 0 & 0 & 0 & 0 & 0\\\\0 & 0 & 0 & 0 & 0 & 1 & 0 & 0 & 0 & 0\\\\0 & 0 & 0 & 0 & 0 & 0 & - 2 q_{2} & 2 q_{3} & - 2 q_{0} & 2 q_{1}\\\\0 & 0 & 0 & 0 & 0 & 0 & 2 q_{1} & 2 q_{0} & 2 q_{3} & 2 q_{2}\\\\0 & 0 & 0 & 0 & 0 & 0 & 4 q_{0} & 0 & 0 & 4 q_{3}\\end{matrix}\\right]$"
     },
     "execution_count": 9,
     "metadata": {},
     "output_type": "execute_result"
    }
   ],
   "source": [
    "large_H"
   ],
   "metadata": {
    "collapsed": false,
    "ExecuteTime": {
     "end_time": "2024-06-03T08:10:36.079942Z",
     "start_time": "2024-06-03T08:10:36.071834Z"
    }
   },
   "id": "85609b2d6b6da13",
   "execution_count": 9
  }
 ],
 "metadata": {
  "kernelspec": {
   "display_name": "Python 3",
   "language": "python",
   "name": "python3"
  },
  "language_info": {
   "codemirror_mode": {
    "name": "ipython",
    "version": 2
   },
   "file_extension": ".py",
   "mimetype": "text/x-python",
   "name": "python",
   "nbconvert_exporter": "python",
   "pygments_lexer": "ipython2",
   "version": "2.7.6"
  }
 },
 "nbformat": 4,
 "nbformat_minor": 5
}
