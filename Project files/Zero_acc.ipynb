{
 "cells": [
  {
   "cell_type": "code",
   "execution_count": 1,
   "id": "initial_id",
   "metadata": {
    "collapsed": true,
    "ExecuteTime": {
     "end_time": "2024-06-04T12:51:31.282810Z",
     "start_time": "2024-06-04T12:51:23.051294Z"
    }
   },
   "outputs": [],
   "source": [
    "import numpy as np\n",
    "from dobbel import dobbellogger\n",
    "from help_functies import *\n",
    "from calibrator3 import calibrate\n",
    "import matplotlib.pyplot as pltd\n",
    "dob = dobbellogger()"
   ]
  },
  {
   "cell_type": "code",
   "outputs": [],
   "source": [
    "import matplotlib.pyplot as plt"
   ],
   "metadata": {
    "collapsed": false,
    "ExecuteTime": {
     "end_time": "2024-06-04T12:59:32.873929Z",
     "start_time": "2024-06-04T12:59:32.869883Z"
    }
   },
   "id": "cec95d480db847f6",
   "execution_count": 21
  },
  {
   "cell_type": "code",
   "outputs": [],
   "source": [
    "cali = {'gyro bias': np.array([ 0.5007456 , -0.113276  ,  0.01238024]), 'gyro std': np.array([0.08902153, 0.09786986, 0.11230942]), 'acc values': np.array([ 0.99164924, -1.00316003,  1.00062089, -0.99832454,  1.01896869, -1.00376521]), 'acc std': np.array([0.00355673, 0.00311978, 0.00605471])}\n",
    "q_rot = np.array([0.23289724, 0.6497377, 0.66263071, -0.2907238])"
   ],
   "metadata": {
    "collapsed": false,
    "ExecuteTime": {
     "end_time": "2024-06-04T12:51:33.932701Z",
     "start_time": "2024-06-04T12:51:33.928033Z"
    }
   },
   "id": "73e36be19716a73c",
   "execution_count": 2
  },
  {
   "cell_type": "code",
   "outputs": [
    {
     "name": "stdout",
     "output_type": "stream",
     "text": [
      "Logging data for 5s\n",
      "Downloading data\n",
      "Done! The data is located in self.datadf\n"
     ]
    }
   ],
   "source": [
    "dob.connect()\n",
    "dob.log(5, 400, 8, 2000)\n",
    "dob.download()\n",
    "data = dob.datadf\n",
    "\n",
    "# Deze code niet vaker dan 1 keer uitvoeren!\n",
    "data = remove_nan(data)\n",
    "data = rotate_data(data, q_rot)\n",
    "data = remove_bias(data, cali)"
   ],
   "metadata": {
    "collapsed": false,
    "ExecuteTime": {
     "end_time": "2024-06-04T12:52:15.352253Z",
     "start_time": "2024-06-04T12:51:37.870499Z"
    }
   },
   "id": "25591c4ce4d1068d",
   "execution_count": 3
  },
  {
   "cell_type": "code",
   "outputs": [
    {
     "data": {
      "text/plain": "      timestamp     x_acc     y_acc     z_acc    x_gyro    y_gyro    z_gyro\n0           0.0  0.063915  0.096408  1.018855 -0.350645 -0.114190  0.358640\n1          32.0  0.068270  0.091328  1.018880 -0.448211  0.052926  0.630842\n2          35.0  0.062512  0.093903  1.023015  0.074482 -0.144251 -0.413001\n3          36.0  0.062738  0.093634  1.019906  0.067010 -0.162562 -0.254187\n4          38.0  0.063402  0.089492  1.014830  0.052067 -0.199185  0.063441\n...         ...       ...       ...       ...       ...       ...       ...\n1992     4950.0  0.048692  0.074508  1.019515  0.111288 -0.069558  0.018744\n1993     4953.0  0.048944  0.071281  1.017182 -0.069861  0.235715 -0.001403\n1994     4955.0  0.046889  0.073868  1.018617  0.046311 -0.110691 -0.020271\n1995     4957.0  0.052189  0.072354  1.020544  0.043433 -0.066443 -0.062127\n1996     4960.0  0.052655  0.070966  1.020469 -0.023085  0.022866 -0.140800\n\n[1997 rows x 7 columns]",
      "text/html": "<div>\n<style scoped>\n    .dataframe tbody tr th:only-of-type {\n        vertical-align: middle;\n    }\n\n    .dataframe tbody tr th {\n        vertical-align: top;\n    }\n\n    .dataframe thead th {\n        text-align: right;\n    }\n</style>\n<table border=\"1\" class=\"dataframe\">\n  <thead>\n    <tr style=\"text-align: right;\">\n      <th></th>\n      <th>timestamp</th>\n      <th>x_acc</th>\n      <th>y_acc</th>\n      <th>z_acc</th>\n      <th>x_gyro</th>\n      <th>y_gyro</th>\n      <th>z_gyro</th>\n    </tr>\n  </thead>\n  <tbody>\n    <tr>\n      <th>0</th>\n      <td>0.0</td>\n      <td>0.063915</td>\n      <td>0.096408</td>\n      <td>1.018855</td>\n      <td>-0.350645</td>\n      <td>-0.114190</td>\n      <td>0.358640</td>\n    </tr>\n    <tr>\n      <th>1</th>\n      <td>32.0</td>\n      <td>0.068270</td>\n      <td>0.091328</td>\n      <td>1.018880</td>\n      <td>-0.448211</td>\n      <td>0.052926</td>\n      <td>0.630842</td>\n    </tr>\n    <tr>\n      <th>2</th>\n      <td>35.0</td>\n      <td>0.062512</td>\n      <td>0.093903</td>\n      <td>1.023015</td>\n      <td>0.074482</td>\n      <td>-0.144251</td>\n      <td>-0.413001</td>\n    </tr>\n    <tr>\n      <th>3</th>\n      <td>36.0</td>\n      <td>0.062738</td>\n      <td>0.093634</td>\n      <td>1.019906</td>\n      <td>0.067010</td>\n      <td>-0.162562</td>\n      <td>-0.254187</td>\n    </tr>\n    <tr>\n      <th>4</th>\n      <td>38.0</td>\n      <td>0.063402</td>\n      <td>0.089492</td>\n      <td>1.014830</td>\n      <td>0.052067</td>\n      <td>-0.199185</td>\n      <td>0.063441</td>\n    </tr>\n    <tr>\n      <th>...</th>\n      <td>...</td>\n      <td>...</td>\n      <td>...</td>\n      <td>...</td>\n      <td>...</td>\n      <td>...</td>\n      <td>...</td>\n    </tr>\n    <tr>\n      <th>1992</th>\n      <td>4950.0</td>\n      <td>0.048692</td>\n      <td>0.074508</td>\n      <td>1.019515</td>\n      <td>0.111288</td>\n      <td>-0.069558</td>\n      <td>0.018744</td>\n    </tr>\n    <tr>\n      <th>1993</th>\n      <td>4953.0</td>\n      <td>0.048944</td>\n      <td>0.071281</td>\n      <td>1.017182</td>\n      <td>-0.069861</td>\n      <td>0.235715</td>\n      <td>-0.001403</td>\n    </tr>\n    <tr>\n      <th>1994</th>\n      <td>4955.0</td>\n      <td>0.046889</td>\n      <td>0.073868</td>\n      <td>1.018617</td>\n      <td>0.046311</td>\n      <td>-0.110691</td>\n      <td>-0.020271</td>\n    </tr>\n    <tr>\n      <th>1995</th>\n      <td>4957.0</td>\n      <td>0.052189</td>\n      <td>0.072354</td>\n      <td>1.020544</td>\n      <td>0.043433</td>\n      <td>-0.066443</td>\n      <td>-0.062127</td>\n    </tr>\n    <tr>\n      <th>1996</th>\n      <td>4960.0</td>\n      <td>0.052655</td>\n      <td>0.070966</td>\n      <td>1.020469</td>\n      <td>-0.023085</td>\n      <td>0.022866</td>\n      <td>-0.140800</td>\n    </tr>\n  </tbody>\n</table>\n<p>1997 rows × 7 columns</p>\n</div>"
     },
     "execution_count": 4,
     "metadata": {},
     "output_type": "execute_result"
    }
   ],
   "source": [
    "data.head(2000)\n",
    "# # Create the plot\n",
    "# plt.figure(figsize=(10, 6))\n",
    "# plt.plot(data['timestamp'], data['x_acc'], label='x_acc', color='orange')\n",
    "# plt.plot(data['timestamp'], data['y_acc'], label='y_acc', color='red')\n",
    "# plt.plot(data['timestamp'], data['z_acc'], label='z_acc', color='pink')\n",
    "# \n",
    "# # Add labels and legend\n",
    "# plt.xlabel('Timestamp')\n",
    "# plt.ylabel('Acceleration (m/s^2)')\n",
    "# plt.title('Acceleration Data Over Time')\n",
    "# plt.legend()\n",
    "# plt.grid(True)\n",
    "# \n",
    "# # Display the plot\n",
    "# plt.show()"
   ],
   "metadata": {
    "collapsed": false,
    "ExecuteTime": {
     "end_time": "2024-06-04T12:52:16.690662Z",
     "start_time": "2024-06-04T12:52:16.677313Z"
    }
   },
   "id": "8681669ab07d0731",
   "execution_count": 4
  },
  {
   "cell_type": "code",
   "outputs": [],
   "source": [
    "# De tijd die het duurt tussen het loslaten van de dobbelsteen en het neerkomen van de dobbelsteen\n",
    "def gooi_checker(data, N, gamma, first_last=False):\n",
    "    luchttijd = set()\n",
    "    za_data = data.copy()\n",
    "    za_data['squared norm'] = data['x_acc'] ** 2 + data['y_acc'] ** 2 + data['z_acc'] ** 2\n",
    "    za = [0] * len(za_data)\n",
    "\n",
    "    gooitijd = []\n",
    "    verg_data = data.copy() - data.iloc[0]\n",
    "    gooi_data = data.copy()\n",
    "    gooi_data['squared norm'] = verg_data['x_acc'] ** 2 + verg_data['y_acc'] ** 2 + verg_data['z_acc'] ** 2\n",
    "    gooi = [0] * len(gooi_data)\n",
    "    \n",
    "    gedaan = False\n",
    "    voltooid = False\n",
    "    \n",
    "    for i in range(N, len(za_data) - N):\n",
    "        if all([True if waarde > 0.01 * gamma else False for waarde in gooi_data['squared norm'][i-N:i+N]]) and not gedaan:\n",
    "            gooitijd.append(data['timestamp'][i])\n",
    "            gooi[i] = 1\n",
    "            gedaan = True\n",
    "        elif all([True if element < gamma else False for element in za_data['squared norm'][i-N:i+N]]) and not voltooid:\n",
    "            luchttijd.update(data['timestamp'][i-N:i+N])\n",
    "            za[i] = 1\n",
    "            gooitijd = sorted(gooitijd)\n",
    "            voltooid = True\n",
    "\n",
    "    luchttijd = sorted(luchttijd)\n",
    "    \n",
    "    total_gooi_duration = luchttijd[0] - gooitijd[-1]\n",
    "    total_lucht_duration = luchttijd[-1] - luchttijd[0]\n",
    "    total_raap_duration = gooitijd[-1]\n",
    "    za_data = za\n",
    "    gooi_data = gooi\n",
    "    \n",
    "    print(\"Dobbel tijd oprapen = \", total_raap_duration)\n",
    "    print(\"Dobbel tijd van oprapen tot loslaten = \", total_gooi_duration)\n",
    "    print(\"Dobbel tijd in de lucht = \", total_lucht_duration)\n",
    "    print(\"Dobbel tijd tot loslaten vanaf begin programma = \", total_raap_duration + total_gooi_duration)\n",
    "    return total_lucht_duration, total_gooi_duration, total_raap_duration, za_data, gooi_data"
   ],
   "metadata": {
    "collapsed": false,
    "ExecuteTime": {
     "end_time": "2024-06-04T13:13:31.660Z",
     "start_time": "2024-06-04T13:13:31.653030Z"
    }
   },
   "id": "60d90d777ede4925",
   "execution_count": 30
  },
  {
   "cell_type": "code",
   "outputs": [
    {
     "name": "stdout",
     "output_type": "stream",
     "text": [
      "Logging data for 5s\n",
      "Downloading data\n",
      "Done! The data is located in self.datadf\n"
     ]
    }
   ],
   "source": [
    "dob.connect()\n",
    "dob.log(5, 400, 8, 2000)\n",
    "dob.download()\n",
    "data = dob.datadf\n",
    "\n",
    "# Deze code niet vaker dan 1 keer uitvoeren!\n",
    "data = remove_nan(data)\n",
    "data = rotate_data(data, q_rot)\n",
    "data = remove_bias(data, cali)"
   ],
   "metadata": {
    "collapsed": false,
    "ExecuteTime": {
     "end_time": "2024-06-04T13:15:34.159641Z",
     "start_time": "2024-06-04T13:14:55.321816Z"
    }
   },
   "id": "46a07acd544f2560",
   "execution_count": 34
  },
  {
   "cell_type": "code",
   "outputs": [
    {
     "data": {
      "text/plain": "      timestamp     x_acc     y_acc     z_acc    x_gyro    y_gyro    z_gyro\n0           0.0 -1.013765  0.027651  0.070958 -0.431147 -0.236916  0.145610\n1          31.0 -1.014270  0.028455  0.073591 -0.180075  0.276991  0.138638\n2          34.0 -1.015603  0.029571  0.078012 -0.017328 -0.065629 -0.057088\n3          35.0 -1.013575  0.031581  0.072589  0.173590 -0.200814  0.053363\n4          38.0 -1.016833  0.031553  0.068913 -0.044364  0.270761  0.300379\n...         ...       ...       ...       ...       ...       ...       ...\n1992     4951.0  0.987036 -0.040265 -0.051622  0.063377 -0.159539  0.193404\n1993     4953.0  0.984123 -0.043972 -0.053539 -0.066780 -0.025168  0.077914\n1994     4955.0  0.986537 -0.040081 -0.051748  0.000872  0.188353  0.121324\n1995     4958.0  0.987915 -0.039108 -0.050121  0.036137  0.152493 -0.185497\n1996     4961.0  0.988229 -0.036456 -0.052646  0.036137  0.152493 -0.185497\n\n[1997 rows x 7 columns]",
      "text/html": "<div>\n<style scoped>\n    .dataframe tbody tr th:only-of-type {\n        vertical-align: middle;\n    }\n\n    .dataframe tbody tr th {\n        vertical-align: top;\n    }\n\n    .dataframe thead th {\n        text-align: right;\n    }\n</style>\n<table border=\"1\" class=\"dataframe\">\n  <thead>\n    <tr style=\"text-align: right;\">\n      <th></th>\n      <th>timestamp</th>\n      <th>x_acc</th>\n      <th>y_acc</th>\n      <th>z_acc</th>\n      <th>x_gyro</th>\n      <th>y_gyro</th>\n      <th>z_gyro</th>\n    </tr>\n  </thead>\n  <tbody>\n    <tr>\n      <th>0</th>\n      <td>0.0</td>\n      <td>-1.013765</td>\n      <td>0.027651</td>\n      <td>0.070958</td>\n      <td>-0.431147</td>\n      <td>-0.236916</td>\n      <td>0.145610</td>\n    </tr>\n    <tr>\n      <th>1</th>\n      <td>31.0</td>\n      <td>-1.014270</td>\n      <td>0.028455</td>\n      <td>0.073591</td>\n      <td>-0.180075</td>\n      <td>0.276991</td>\n      <td>0.138638</td>\n    </tr>\n    <tr>\n      <th>2</th>\n      <td>34.0</td>\n      <td>-1.015603</td>\n      <td>0.029571</td>\n      <td>0.078012</td>\n      <td>-0.017328</td>\n      <td>-0.065629</td>\n      <td>-0.057088</td>\n    </tr>\n    <tr>\n      <th>3</th>\n      <td>35.0</td>\n      <td>-1.013575</td>\n      <td>0.031581</td>\n      <td>0.072589</td>\n      <td>0.173590</td>\n      <td>-0.200814</td>\n      <td>0.053363</td>\n    </tr>\n    <tr>\n      <th>4</th>\n      <td>38.0</td>\n      <td>-1.016833</td>\n      <td>0.031553</td>\n      <td>0.068913</td>\n      <td>-0.044364</td>\n      <td>0.270761</td>\n      <td>0.300379</td>\n    </tr>\n    <tr>\n      <th>...</th>\n      <td>...</td>\n      <td>...</td>\n      <td>...</td>\n      <td>...</td>\n      <td>...</td>\n      <td>...</td>\n      <td>...</td>\n    </tr>\n    <tr>\n      <th>1992</th>\n      <td>4951.0</td>\n      <td>0.987036</td>\n      <td>-0.040265</td>\n      <td>-0.051622</td>\n      <td>0.063377</td>\n      <td>-0.159539</td>\n      <td>0.193404</td>\n    </tr>\n    <tr>\n      <th>1993</th>\n      <td>4953.0</td>\n      <td>0.984123</td>\n      <td>-0.043972</td>\n      <td>-0.053539</td>\n      <td>-0.066780</td>\n      <td>-0.025168</td>\n      <td>0.077914</td>\n    </tr>\n    <tr>\n      <th>1994</th>\n      <td>4955.0</td>\n      <td>0.986537</td>\n      <td>-0.040081</td>\n      <td>-0.051748</td>\n      <td>0.000872</td>\n      <td>0.188353</td>\n      <td>0.121324</td>\n    </tr>\n    <tr>\n      <th>1995</th>\n      <td>4958.0</td>\n      <td>0.987915</td>\n      <td>-0.039108</td>\n      <td>-0.050121</td>\n      <td>0.036137</td>\n      <td>0.152493</td>\n      <td>-0.185497</td>\n    </tr>\n    <tr>\n      <th>1996</th>\n      <td>4961.0</td>\n      <td>0.988229</td>\n      <td>-0.036456</td>\n      <td>-0.052646</td>\n      <td>0.036137</td>\n      <td>0.152493</td>\n      <td>-0.185497</td>\n    </tr>\n  </tbody>\n</table>\n<p>1997 rows × 7 columns</p>\n</div>"
     },
     "execution_count": 35,
     "metadata": {},
     "output_type": "execute_result"
    }
   ],
   "source": [
    "data.head(2000)"
   ],
   "metadata": {
    "collapsed": false,
    "ExecuteTime": {
     "end_time": "2024-06-04T13:15:37.081560Z",
     "start_time": "2024-06-04T13:15:37.070760Z"
    }
   },
   "id": "76f82d7e7571c48c",
   "execution_count": 35
  },
  {
   "cell_type": "code",
   "outputs": [
    {
     "name": "stdout",
     "output_type": "stream",
     "text": [
      "Dobbel tijd oprapen =  423.0\n",
      "Dobbel tijd van oprapen tot loslaten =  1377.0\n",
      "Dobbel tijd in de lucht =  49.0\n",
      "Dobbel tijd tot loslaten vanaf begin programma =  1800.0\n"
     ]
    },
    {
     "data": {
      "text/plain": "[<matplotlib.lines.Line2D at 0x129ce34acc0>]"
     },
     "execution_count": 36,
     "metadata": {},
     "output_type": "execute_result"
    },
    {
     "data": {
      "text/plain": "<Figure size 640x480 with 1 Axes>",
      "image/png": "[encoded data removed]"
     },
     "metadata": {},
     "output_type": "display_data"
    }
   ],
   "source": [
    "total_lucht_duration, total_gooi_duration, total_raap_duration, za_data, gooi_data = gooi_checker(data, 10, 0.15)\n",
    "plt.plot(za_data)\n",
    "plt.plot(gooi_data)"
   ],
   "metadata": {
    "collapsed": false,
    "ExecuteTime": {
     "end_time": "2024-06-04T13:17:26.123897Z",
     "start_time": "2024-06-04T13:17:25.924428Z"
    }
   },
   "id": "f840f6f3559f7ce3",
   "execution_count": 36
  },
  {
   "cell_type": "code",
   "outputs": [
    {
     "name": "stdout",
     "output_type": "stream",
     "text": [
      "Logging data for 5s\n",
      "Downloading data\n",
      "Done! The data is located in self.datadf\n"
     ]
    }
   ],
   "source": [
    "dob.connect()\n",
    "dob.log(5, 400, 8, 2000)\n",
    "dob.download()\n",
    "data = dob.datadf\n",
    "\n",
    "# Deze code niet vaker dan 1 keer uitvoeren!\n",
    "data = remove_nan(data)\n",
    "data = rotate_data(data, q_rot)\n",
    "data = remove_bias(data, cali)"
   ],
   "metadata": {
    "collapsed": false,
    "ExecuteTime": {
     "end_time": "2024-06-04T13:24:12.371165Z",
     "start_time": "2024-06-04T13:23:33.162933Z"
    }
   },
   "id": "2a5172d22aa72e82",
   "execution_count": 42
  },
  {
   "cell_type": "code",
   "outputs": [
    {
     "data": {
      "text/plain": "      timestamp     x_acc     y_acc     z_acc    x_gyro    y_gyro    z_gyro\n0           0.0  0.060513  0.096471  1.025131 -0.078090 -0.064814 -0.052049\n1          30.0  0.060411  0.098262  1.029470 -0.295639 -0.026510  0.269889\n2          32.0  0.059034  0.089035  1.026254 -0.056809 -0.071715  0.205680\n3          35.0  0.061137  0.087527  1.016448  0.090007 -0.062657 -0.238985\n4          37.0  0.061843  0.091441  1.018378 -0.054336  0.317309  0.172614\n...         ...       ...       ...       ...       ...       ...       ...\n1988     4948.0  0.983531 -0.032329 -0.062434 -0.004479 -0.156424  0.112534\n1989     4951.0  0.983985 -0.031803 -0.062971 -0.119111  0.059541  0.171060\n1990     4953.0  0.985287 -0.033831 -0.058848 -0.003141 -0.070229  0.114731\n1991     4956.0  0.985571 -0.035951 -0.063896  0.101317 -0.023011 -0.109022\n1992     4959.0  0.984917 -0.033613 -0.060354  0.119923 -0.202300  0.144311\n\n[1993 rows x 7 columns]",
      "text/html": "<div>\n<style scoped>\n    .dataframe tbody tr th:only-of-type {\n        vertical-align: middle;\n    }\n\n    .dataframe tbody tr th {\n        vertical-align: top;\n    }\n\n    .dataframe thead th {\n        text-align: right;\n    }\n</style>\n<table border=\"1\" class=\"dataframe\">\n  <thead>\n    <tr style=\"text-align: right;\">\n      <th></th>\n      <th>timestamp</th>\n      <th>x_acc</th>\n      <th>y_acc</th>\n      <th>z_acc</th>\n      <th>x_gyro</th>\n      <th>y_gyro</th>\n      <th>z_gyro</th>\n    </tr>\n  </thead>\n  <tbody>\n    <tr>\n      <th>0</th>\n      <td>0.0</td>\n      <td>0.060513</td>\n      <td>0.096471</td>\n      <td>1.025131</td>\n      <td>-0.078090</td>\n      <td>-0.064814</td>\n      <td>-0.052049</td>\n    </tr>\n    <tr>\n      <th>1</th>\n      <td>30.0</td>\n      <td>0.060411</td>\n      <td>0.098262</td>\n      <td>1.029470</td>\n      <td>-0.295639</td>\n      <td>-0.026510</td>\n      <td>0.269889</td>\n    </tr>\n    <tr>\n      <th>2</th>\n      <td>32.0</td>\n      <td>0.059034</td>\n      <td>0.089035</td>\n      <td>1.026254</td>\n      <td>-0.056809</td>\n      <td>-0.071715</td>\n      <td>0.205680</td>\n    </tr>\n    <tr>\n      <th>3</th>\n      <td>35.0</td>\n      <td>0.061137</td>\n      <td>0.087527</td>\n      <td>1.016448</td>\n      <td>0.090007</td>\n      <td>-0.062657</td>\n      <td>-0.238985</td>\n    </tr>\n    <tr>\n      <th>4</th>\n      <td>37.0</td>\n      <td>0.061843</td>\n      <td>0.091441</td>\n      <td>1.018378</td>\n      <td>-0.054336</td>\n      <td>0.317309</td>\n      <td>0.172614</td>\n    </tr>\n    <tr>\n      <th>...</th>\n      <td>...</td>\n      <td>...</td>\n      <td>...</td>\n      <td>...</td>\n      <td>...</td>\n      <td>...</td>\n      <td>...</td>\n    </tr>\n    <tr>\n      <th>1988</th>\n      <td>4948.0</td>\n      <td>0.983531</td>\n      <td>-0.032329</td>\n      <td>-0.062434</td>\n      <td>-0.004479</td>\n      <td>-0.156424</td>\n      <td>0.112534</td>\n    </tr>\n    <tr>\n      <th>1989</th>\n      <td>4951.0</td>\n      <td>0.983985</td>\n      <td>-0.031803</td>\n      <td>-0.062971</td>\n      <td>-0.119111</td>\n      <td>0.059541</td>\n      <td>0.171060</td>\n    </tr>\n    <tr>\n      <th>1990</th>\n      <td>4953.0</td>\n      <td>0.985287</td>\n      <td>-0.033831</td>\n      <td>-0.058848</td>\n      <td>-0.003141</td>\n      <td>-0.070229</td>\n      <td>0.114731</td>\n    </tr>\n    <tr>\n      <th>1991</th>\n      <td>4956.0</td>\n      <td>0.985571</td>\n      <td>-0.035951</td>\n      <td>-0.063896</td>\n      <td>0.101317</td>\n      <td>-0.023011</td>\n      <td>-0.109022</td>\n    </tr>\n    <tr>\n      <th>1992</th>\n      <td>4959.0</td>\n      <td>0.984917</td>\n      <td>-0.033613</td>\n      <td>-0.060354</td>\n      <td>0.119923</td>\n      <td>-0.202300</td>\n      <td>0.144311</td>\n    </tr>\n  </tbody>\n</table>\n<p>1993 rows × 7 columns</p>\n</div>"
     },
     "execution_count": 43,
     "metadata": {},
     "output_type": "execute_result"
    }
   ],
   "source": [
    "data.head(2500)"
   ],
   "metadata": {
    "collapsed": false,
    "ExecuteTime": {
     "end_time": "2024-06-04T13:24:44.237662Z",
     "start_time": "2024-06-04T13:24:44.226399Z"
    }
   },
   "id": "79bd195011b8ad2c",
   "execution_count": 43
  },
  {
   "cell_type": "code",
   "outputs": [
    {
     "name": "stdout",
     "output_type": "stream",
     "text": [
      "Dobbel tijd oprapen =  1970.0\n",
      "Dobbel tijd van oprapen tot loslaten =  1804.0\n",
      "Dobbel tijd in de lucht =  45.0\n",
      "Dobbel tijd tot loslaten vanaf begin programma =  3774.0\n"
     ]
    },
    {
     "data": {
      "text/plain": "[<matplotlib.lines.Line2D at 0x129ce8ad8e0>]"
     },
     "execution_count": 44,
     "metadata": {},
     "output_type": "execute_result"
    },
    {
     "data": {
      "text/plain": "<Figure size 640x480 with 1 Axes>",
      "image/png": "[encoded data removed]"
     },
     "metadata": {},
     "output_type": "display_data"
    }
   ],
   "source": [
    "total_lucht_duration, total_gooi_duration, total_raap_duration, za_data, gooi_data = gooi_checker(data, 10, 0.15)\n",
    "plt.plot(za_data)\n",
    "plt.plot(gooi_data)"
   ],
   "metadata": {
    "collapsed": false,
    "ExecuteTime": {
     "end_time": "2024-06-04T13:25:10.495246Z",
     "start_time": "2024-06-04T13:25:10.295599Z"
    }
   },
   "id": "1e9f4f5d470bfa98",
   "execution_count": 44
  },
  {
   "cell_type": "code",
   "outputs": [
    {
     "name": "stdout",
     "output_type": "stream",
     "text": [
      "Logging data for 5s\n",
      "Downloading data\n",
      "Done! The data is located in self.datadf\n"
     ]
    }
   ],
   "source": [
    "dob.connect()\n",
    "dob.log(5, 400, 8, 2000)\n",
    "dob.download()\n",
    "data = dob.datadf\n",
    "\n",
    "# Deze code niet vaker dan 1 keer uitvoeren!\n",
    "data = remove_nan(data)\n",
    "data = rotate_data(data, q_rot)\n",
    "data = remove_bias(data, cali)"
   ],
   "metadata": {
    "collapsed": false,
    "ExecuteTime": {
     "end_time": "2024-06-04T13:29:29.029230Z",
     "start_time": "2024-06-04T13:28:51.929941Z"
    }
   },
   "id": "ebefdfafc2393f8a",
   "execution_count": 45
  },
  {
   "cell_type": "code",
   "outputs": [
    {
     "data": {
      "text/plain": "      timestamp     x_acc     y_acc     z_acc    x_gyro    y_gyro    z_gyro\n0           0.0 -0.089903 -0.083047 -0.968565  0.338609  0.303220  0.486017\n1          35.0 -0.091237 -0.084057 -0.975508  0.077765 -0.621769 -0.296223\n2          38.0 -0.091048 -0.088577 -0.981297  0.006831 -0.116777  0.242497\n3          40.0 -0.090328 -0.086576 -0.978904 -0.070996 -0.067115  0.033861\n4          43.0 -0.090990 -0.081112 -0.975964 -0.028638 -0.105275 -0.187051\n...         ...       ...       ...       ...       ...       ...       ...\n1974     4896.0 -0.020826 -1.013241  0.115388 -0.192519 -0.065485  0.043939\n1975     4899.0 -0.019883 -1.014360  0.118023  0.096898  0.151678 -0.190536\n1976     4900.0 -0.019442 -1.005404  0.118909 -0.135974 -0.108247 -0.005154\n1977     4903.0 -0.020310 -1.006837  0.114659 -0.181210 -0.025839  0.173902\n1978     4906.0 -0.021483 -1.008397  0.115569 -0.065443  0.061026  0.080112\n\n[1979 rows x 7 columns]",
      "text/html": "<div>\n<style scoped>\n    .dataframe tbody tr th:only-of-type {\n        vertical-align: middle;\n    }\n\n    .dataframe tbody tr th {\n        vertical-align: top;\n    }\n\n    .dataframe thead th {\n        text-align: right;\n    }\n</style>\n<table border=\"1\" class=\"dataframe\">\n  <thead>\n    <tr style=\"text-align: right;\">\n      <th></th>\n      <th>timestamp</th>\n      <th>x_acc</th>\n      <th>y_acc</th>\n      <th>z_acc</th>\n      <th>x_gyro</th>\n      <th>y_gyro</th>\n      <th>z_gyro</th>\n    </tr>\n  </thead>\n  <tbody>\n    <tr>\n      <th>0</th>\n      <td>0.0</td>\n      <td>-0.089903</td>\n      <td>-0.083047</td>\n      <td>-0.968565</td>\n      <td>0.338609</td>\n      <td>0.303220</td>\n      <td>0.486017</td>\n    </tr>\n    <tr>\n      <th>1</th>\n      <td>35.0</td>\n      <td>-0.091237</td>\n      <td>-0.084057</td>\n      <td>-0.975508</td>\n      <td>0.077765</td>\n      <td>-0.621769</td>\n      <td>-0.296223</td>\n    </tr>\n    <tr>\n      <th>2</th>\n      <td>38.0</td>\n      <td>-0.091048</td>\n      <td>-0.088577</td>\n      <td>-0.981297</td>\n      <td>0.006831</td>\n      <td>-0.116777</td>\n      <td>0.242497</td>\n    </tr>\n    <tr>\n      <th>3</th>\n      <td>40.0</td>\n      <td>-0.090328</td>\n      <td>-0.086576</td>\n      <td>-0.978904</td>\n      <td>-0.070996</td>\n      <td>-0.067115</td>\n      <td>0.033861</td>\n    </tr>\n    <tr>\n      <th>4</th>\n      <td>43.0</td>\n      <td>-0.090990</td>\n      <td>-0.081112</td>\n      <td>-0.975964</td>\n      <td>-0.028638</td>\n      <td>-0.105275</td>\n      <td>-0.187051</td>\n    </tr>\n    <tr>\n      <th>...</th>\n      <td>...</td>\n      <td>...</td>\n      <td>...</td>\n      <td>...</td>\n      <td>...</td>\n      <td>...</td>\n      <td>...</td>\n    </tr>\n    <tr>\n      <th>1974</th>\n      <td>4896.0</td>\n      <td>-0.020826</td>\n      <td>-1.013241</td>\n      <td>0.115388</td>\n      <td>-0.192519</td>\n      <td>-0.065485</td>\n      <td>0.043939</td>\n    </tr>\n    <tr>\n      <th>1975</th>\n      <td>4899.0</td>\n      <td>-0.019883</td>\n      <td>-1.014360</td>\n      <td>0.118023</td>\n      <td>0.096898</td>\n      <td>0.151678</td>\n      <td>-0.190536</td>\n    </tr>\n    <tr>\n      <th>1976</th>\n      <td>4900.0</td>\n      <td>-0.019442</td>\n      <td>-1.005404</td>\n      <td>0.118909</td>\n      <td>-0.135974</td>\n      <td>-0.108247</td>\n      <td>-0.005154</td>\n    </tr>\n    <tr>\n      <th>1977</th>\n      <td>4903.0</td>\n      <td>-0.020310</td>\n      <td>-1.006837</td>\n      <td>0.114659</td>\n      <td>-0.181210</td>\n      <td>-0.025839</td>\n      <td>0.173902</td>\n    </tr>\n    <tr>\n      <th>1978</th>\n      <td>4906.0</td>\n      <td>-0.021483</td>\n      <td>-1.008397</td>\n      <td>0.115569</td>\n      <td>-0.065443</td>\n      <td>0.061026</td>\n      <td>0.080112</td>\n    </tr>\n  </tbody>\n</table>\n<p>1979 rows × 7 columns</p>\n</div>"
     },
     "execution_count": 46,
     "metadata": {},
     "output_type": "execute_result"
    }
   ],
   "source": [
    "data.head(2500)"
   ],
   "metadata": {
    "collapsed": false,
    "ExecuteTime": {
     "end_time": "2024-06-04T13:29:34.608977Z",
     "start_time": "2024-06-04T13:29:34.598296Z"
    }
   },
   "id": "a6c42d88c963cab7",
   "execution_count": 46
  },
  {
   "cell_type": "code",
   "outputs": [
    {
     "name": "stdout",
     "output_type": "stream",
     "text": [
      "Dobbel tijd oprapen =  880.0\n",
      "Dobbel tijd van oprapen tot loslaten =  1265.0\n",
      "Dobbel tijd in de lucht =  45.0\n",
      "Dobbel tijd tot loslaten vanaf begin programma =  2145.0\n"
     ]
    },
    {
     "data": {
      "text/plain": "[<matplotlib.lines.Line2D at 0x129ceb388c0>]"
     },
     "execution_count": 47,
     "metadata": {},
     "output_type": "execute_result"
    },
    {
     "data": {
      "text/plain": "<Figure size 640x480 with 1 Axes>",
      "image/png": "[encoded data removed]"
     },
     "metadata": {},
     "output_type": "display_data"
    }
   ],
   "source": [
    "total_lucht_duration, total_gooi_duration, total_raap_duration, za_data, gooi_data = gooi_checker(data, 10, 0.15)\n",
    "plt.plot(za_data)\n",
    "plt.plot(gooi_data)"
   ],
   "metadata": {
    "collapsed": false,
    "ExecuteTime": {
     "end_time": "2024-06-04T13:29:58.442287Z",
     "start_time": "2024-06-04T13:29:58.092881Z"
    }
   },
   "id": "96cc08ccf42caeb7",
   "execution_count": 47
  },
  {
   "cell_type": "code",
   "outputs": [],
   "source": [],
   "metadata": {
    "collapsed": false
   },
   "id": "304be969a2b0bcda"
  }
 ],
 "metadata": {
  "kernelspec": {
   "display_name": "Python 3",
   "language": "python",
   "name": "python3"
  },
  "language_info": {
   "codemirror_mode": {
    "name": "ipython",
    "version": 2
   },
   "file_extension": ".py",
   "mimetype": "text/x-python",
   "name": "python",
   "nbconvert_exporter": "python",
   "pygments_lexer": "ipython2",
   "version": "2.7.6"
  }
 },
 "nbformat": 4,
 "nbformat_minor": 5
}
