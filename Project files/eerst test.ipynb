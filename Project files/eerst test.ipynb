{
 "cells": [
  {
   "cell_type": "code",
   "execution_count": 1,
   "id": "initial_id",
   "metadata": {
    "collapsed": true,
    "ExecuteTime": {
     "end_time": "2024-04-23T11:21:01.965953Z",
     "start_time": "2024-04-23T11:21:01.799137Z"
    }
   },
   "outputs": [],
   "source": [
    "from mbientlab.warble import *\n",
    "from mbientlab.metawear import *\n",
    "from threading import Event\n",
    "import time"
   ]
  },
  {
   "cell_type": "code",
   "outputs": [],
   "source": [
    "e = Event()\n",
    "address = None\n",
    "def device_discover_task(result):\n",
    "    global address\n",
    "    if (result.has_service_uuid(MetaWear.GATT_SERVICE)):\n",
    "        # grab the first discovered metawear device\n",
    "        address = result.mac\n",
    "        e.set()\n",
    "\n",
    "BleScanner.set_handler(device_discover_task)\n",
    "BleScanner.start()\n",
    "e.wait()\n",
    "\n",
    "BleScanner.stop()"
   ],
   "metadata": {
    "collapsed": false,
    "ExecuteTime": {
     "end_time": "2024-04-23T11:21:06.632922Z",
     "start_time": "2024-04-23T11:21:02.829676Z"
    }
   },
   "id": "5e6cbb3a5f7d77d0",
   "execution_count": 2
  },
  {
   "cell_type": "code",
   "outputs": [
    {
     "name": "stdout",
     "output_type": "stream",
     "text": [
      "D4:06:BD:85:8F:23\n"
     ]
    }
   ],
   "source": [],
   "metadata": {
    "collapsed": false,
    "ExecuteTime": {
     "end_time": "2024-04-23T11:17:19.805595Z",
     "start_time": "2024-04-23T11:17:19.801450Z"
    }
   },
   "id": "9a20f0e045a68611",
   "execution_count": 5
  },
  {
   "cell_type": "code",
   "outputs": [],
   "source": [
    "device = MetaWear(address)\n",
    "device.connect()"
   ],
   "metadata": {
    "collapsed": false,
    "ExecuteTime": {
     "end_time": "2024-04-23T11:21:11.095349Z",
     "start_time": "2024-04-23T11:21:08.183254Z"
    }
   },
   "id": "e9fba1de88a37a2a",
   "execution_count": 3
  },
  {
   "cell_type": "code",
   "outputs": [],
   "source": [
    "# Create a pattern\n",
    "pattern= LedPattern(repeat_count= Const.LED_REPEAT_INDEFINITELY)\n",
    "\n",
    "# Load the LED with the pattern\n",
    "libmetawear.mbl_mw_led_load_preset_pattern(byref(pattern), LedPreset.SOLID)\n",
    "libmetawear.mbl_mw_led_write_pattern(device.board, byref(pattern), LedColor.GREEN)\n",
    "# Play the pattern\n",
    "libmetawear.mbl_mw_led_play(device.board)\n",
    "time.sleep(5)\n",
    "# Stop and clear the pattern from memory\n",
    "libmetawear.mbl_mw_led_stop_and_clear(device.board)"
   ],
   "metadata": {
    "collapsed": false,
    "ExecuteTime": {
     "end_time": "2024-04-23T11:21:56.339993Z",
     "start_time": "2024-04-23T11:21:51.334832Z"
    }
   },
   "id": "c670c347cde5554b",
   "execution_count": 5
  },
  {
   "cell_type": "code",
   "outputs": [
    {
     "name": "stdout",
     "output_type": "stream",
     "text": [
      "we are disconnected!\n"
     ]
    }
   ],
   "source": [
    "device.on_disconnect = lambda status: print (\"we are disconnected!\")\n",
    "device.disconnect()"
   ],
   "metadata": {
    "collapsed": false,
    "ExecuteTime": {
     "end_time": "2024-04-23T11:20:10.764786Z",
     "start_time": "2024-04-23T11:20:10.753731Z"
    }
   },
   "id": "f6996eba8bea7595",
   "execution_count": 9
  },
  {
   "cell_type": "code",
   "outputs": [],
   "source": [],
   "metadata": {
    "collapsed": false
   },
   "id": "26e19f13ca7d8598"
  }
 ],
 "metadata": {
  "kernelspec": {
   "display_name": "Python 3",
   "language": "python",
   "name": "python3"
  },
  "language_info": {
   "codemirror_mode": {
    "name": "ipython",
    "version": 2
   },
   "file_extension": ".py",
   "mimetype": "text/x-python",
   "name": "python",
   "nbconvert_exporter": "python",
   "pygments_lexer": "ipython2",
   "version": "2.7.6"
  }
 },
 "nbformat": 4,
 "nbformat_minor": 5
}
print("penis")