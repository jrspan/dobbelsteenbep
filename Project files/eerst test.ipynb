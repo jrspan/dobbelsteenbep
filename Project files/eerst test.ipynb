{
 "cells": [
  {
   "cell_type": "code",
   "execution_count": 1,
   "id": "initial_id",
   "metadata": {
    "collapsed": true,
    "ExecuteTime": {
     "end_time": "2024-04-23T11:13:22.288005Z",
     "start_time": "2024-04-23T11:13:22.070925Z"
    }
   },
   "outputs": [],
   "source": [
    "from mbientlab.warble import *\n",
    "from mbientlab.metawear import *\n",
    "from threading import Event\n",
    "import time"
   ]
  },
  {
   "cell_type": "code",
   "outputs": [],
   "source": [
    "e = Event()\n",
    "address = None\n",
    "def device_discover_task(result):\n",
    "    global address\n",
    "    if (result.has_service_uuid(MetaWear.GATT_SERVICE)):\n",
    "        # grab the first discovered metawear device\n",
    "        address = result.mac\n",
    "        e.set()\n",
    "\n",
    "BleScanner.set_handler(device_discover_task)\n",
    "BleScanner.start()\n",
    "e.wait()\n",
    "\n",
    "BleScanner.stop()"
   ],
   "metadata": {
    "collapsed": false,
    "ExecuteTime": {
     "end_time": "2024-04-23T10:56:22.682028Z",
     "start_time": "2024-04-23T10:56:20.919332Z"
    }
   },
   "id": "5e6cbb3a5f7d77d0",
   "execution_count": 2
  },
  {
   "cell_type": "code",
   "outputs": [],
   "source": [
    "device = MetaWear(address)\n",
    "device.connect()"
   ],
   "metadata": {
    "collapsed": false,
    "ExecuteTime": {
     "end_time": "2024-04-23T10:56:30.368891Z",
     "start_time": "2024-04-23T10:56:24.461605Z"
    }
   },
   "id": "3a82d9085e1e9efb",
   "execution_count": 3
  },
  {
   "cell_type": "code",
   "outputs": [
    {
     "name": "stderr",
     "output_type": "stream",
     "text": [
      "Exception ignored on calling ctypes callback function: <function create_voidp.<locals>.handler at 0x0000023A8D9DC9A0>\n",
      "Traceback (most recent call last):\n",
      "  File \"C:\\Users\\jelte\\AppData\\Local\\Programs\\Python\\Python311\\Lib\\site-packages\\mbientlab\\metawear\\__init__.py\", line 75, in handler\n",
      "    result[0] = RuntimeError(\"Could not create \" + (kwargs['resource'] if 'resource' in kwarg else \"resource\") ) if pointer == None else pointer\n",
      "                                                                                        ^^^^^\n",
      "NameError: name 'kwarg' is not defined\n"
     ]
    }
   ],
   "source": [
    "d = device\n",
    "e = Event()\n",
    "# Get the accelerometer data signal\n",
    "signal = libmetawear.mbl_mw_acc_get_acceleration_data_signal(d.board)\n",
    "# Create a logger\n",
    "logger = create_voidp(lambda fn: libmetawear.mbl_mw_datasignal_log(signal, None, fn), resource = \"acc_logger\")\n",
    "\n",
    "# Start logger\n",
    "libmetawear.mbl_mw_logging_start(d.board, 0)\n",
    "# Turn on the accelerometer\n",
    "libmetawear.mbl_mw_acc_enable_acceleration_sampling(d.board)\n",
    "libmetawear.mbl_mw_acc_start(d.board)\n",
    "\n",
    "print(\"Logging data for 5s\")\n",
    "time.sleep(5.0)\n",
    "\n",
    "# Turn off the accelerometer\n",
    "libmetawear.mbl_mw_acc_stop(d.board)\n",
    "libmetawear.mbl_mw_acc_disable_acceleration_sampling(d.board)\n",
    "# Stop logging\n",
    "libmetawear.mbl_mw_logging_stop(d.board)\n",
    "\n",
    "print(\"Downloading data\")\n",
    "# Callback function to handle logger entries as we download them\n",
    "def progress_update_handler(context, entries_left, total_entries):\n",
    "    if (entries_left == 0):\n",
    "        e.set()\n",
    "\n",
    "# Function pointer and handlers for the logger download (LogDownloadHandler -> in the cbindings)\n",
    "fn_wrapper = FnVoid_VoidP_UInt_UInt(progress_update_handler)\n",
    "download_handler = LogDownloadHandler(context = None, received_progress_update = fn_wrapper, received_unknown_entry = cast(None, FnVoid_VoidP_UByte_Long_UByteP_UByte), received_unhandled_entry = cast(None, FnVoid_VoidP_DataP))\n",
    "callback = FnVoid_VoidP_DataP(lambda ctx, p: print(\"{epoch: %d, value: %s}\" % (p.contents.epoch, parse_value(p))))\n",
    "\n",
    "# Stop logger\n",
    "libmetawear.mbl_mw_logger_subscribe(logger, None, callback)\n",
    "\n",
    "# Download logger contents\n",
    "libmetawear.mbl_mw_logging_download(d.board, 0, byref(download_handler))\n",
    "e.wait()"
   ],
   "metadata": {
    "collapsed": false,
    "ExecuteTime": {
     "start_time": "2024-04-23T10:56:33.190026Z"
    }
   },
   "id": "e9fba1de88a37a2a",
   "execution_count": null
  },
  {
   "cell_type": "code",
   "outputs": [],
   "source": [
    "device.on_disconnect = lambda status: print \"we are disconnected!\"\n",
    "device.disconnect()"
   ],
   "metadata": {
    "collapsed": false
   },
   "id": "87341bc30b15a39c"
  },
  {
   "cell_type": "code",
   "outputs": [],
   "source": [],
   "metadata": {
    "collapsed": false
   },
   "id": "ffa79214745724be"
  }
 ],
 "metadata": {
  "kernelspec": {
   "display_name": "Python 3",
   "language": "python",
   "name": "python3"
  },
  "language_info": {
   "codemirror_mode": {
    "name": "ipython",
    "version": 2
   },
   "file_extension": ".py",
   "mimetype": "text/x-python",
   "name": "python",
   "nbconvert_exporter": "python",
   "pygments_lexer": "ipython2",
   "version": "2.7.6"
  }
 },
 "nbformat": 4,
 "nbformat_minor": 5
}
