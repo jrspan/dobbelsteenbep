{
 "cells": [
  {
   "cell_type": "code",
   "execution_count": 1,
   "id": "initial_id",
   "metadata": {
    "collapsed": true,
    "ExecuteTime": {
     "end_time": "2024-04-29T08:10:21.011080Z",
     "start_time": "2024-04-29T08:10:20.033647Z"
    }
   },
   "outputs": [],
   "source": [
    "from mbientlab.warble import *\n",
    "from mbientlab.metawear import *\n",
    "from ctypes import cast, byref\n",
    "from threading import Event\n",
    "from time import sleep\n",
    "import pandas as pd\n",
    "from math import nan"
   ]
  },
  {
   "cell_type": "code",
   "outputs": [],
   "source": [
    "e = Event()\n",
    "address = None\n",
    "def device_discover_task(result):\n",
    "    global address\n",
    "    if (result.has_service_uuid(MetaWear.GATT_SERVICE)):\n",
    "        # grab the first discovered metawear device\n",
    "        address = result.mac\n",
    "        e.set()\n",
    "\n",
    "BleScanner.set_handler(device_discover_task)\n",
    "BleScanner.start()\n",
    "e.wait()\n",
    "\n",
    "BleScanner.stop()"
   ],
   "metadata": {
    "collapsed": false,
    "ExecuteTime": {
     "end_time": "2024-04-29T08:10:21.230554Z",
     "start_time": "2024-04-29T08:10:21.012087Z"
    }
   },
   "id": "5629ddfd39c9b72b",
   "execution_count": 2
  },
  {
   "cell_type": "code",
   "outputs": [],
   "source": [
    "# Initialize d and connect\n",
    "d = MetaWear(address)\n",
    "d.connect()\n",
    "e = Event()"
   ],
   "metadata": {
    "collapsed": false,
    "ExecuteTime": {
     "end_time": "2024-04-29T08:10:26.695483Z",
     "start_time": "2024-04-29T08:10:21.426936Z"
    }
   },
   "id": "8ac24cd0bdda8058",
   "execution_count": 3
  },
  {
   "cell_type": "code",
   "outputs": [
    {
     "name": "stderr",
     "output_type": "stream",
     "text": [
      "Exception ignored on calling ctypes callback function: <function create_voidp.<locals>.handler at 0x0000021118A0B6A0>\n",
      "Traceback (most recent call last):\n",
      "  File \"C:\\Users\\jelte\\AppData\\Local\\Programs\\Python\\Python311\\Lib\\site-packages\\mbientlab\\metawear\\__init__.py\", line 75, in handler\n",
      "    result[0] = RuntimeError(\"Could not create \" + (kwargs['resource'] if 'resource' in kwarg else \"resource\") ) if pointer == None else pointer\n",
      "                                                                                        ^^^^^\n",
      "NameError: name 'kwarg' is not defined\n"
     ]
    }
   ],
   "source": [
    "freq = 100\n",
    "acc_range = 16\n",
    "gyro_range = 2000\n",
    "\n",
    "libmetawear.mbl_mw_acc_set_odr(d.board, freq)\n",
    "libmetawear.mbl_mw_acc_set_range(d.board, acc_range)\n",
    "libmetawear.mbl_mw_acc_write_acceleration_config(d.board)\n",
    "\n",
    "if freq == 800:\n",
    "    gyro_freq = GyroBoschOdr._800Hz\n",
    "elif freq == 400:\n",
    "    gyro_freq = GyroBoschOdr._400Hz\n",
    "elif freq == 200:\n",
    "    gyro_freq = GyroBoschOdr._200Hz\n",
    "elif freq == 100:\n",
    "    gyro_freq = GyroBoschOdr._100Hz\n",
    "elif freq == 50:\n",
    "    gyro_freq = GyroBoschOdr._50Hz\n",
    "elif freq == 25:\n",
    "    gyro_freq = GyroBoschOdr._25Hz\n",
    "else:\n",
    "    gyro_freq = GyroBoschOdr._100Hz\n",
    "    \n",
    "if gyro_range == 2000:\n",
    "    gyro_ra = GyroBoschRange._2000dps\n",
    "elif gyro_range == 1000:\n",
    "    gyro_ra = GyroBoschRange._1000dps\n",
    "elif gyro_range == 500:\n",
    "    gyro_ra = GyroBoschRange._500dps\n",
    "elif gyro_range == 250:\n",
    "    gyro_ra = GyroBoschRange._250dps\n",
    "elif gyro_range == 125:\n",
    "    gyro_ra = GyroBoschRange._125dps\n",
    "else:\n",
    "    gyro_ra = GyroBoschRange._2000dps\n",
    "    \n",
    "libmetawear.mbl_mw_gyro_bmi160_set_odr(d.board, gyro_freq)\n",
    "libmetawear.mbl_mw_gyro_bmi160_set_range(d.board, gyro_ra)\n",
    "libmetawear.mbl_mw_gyro_bmi160_write_config(d.board)\n",
    "\n",
    "# Acc and gyro signals\n",
    "acc = libmetawear.mbl_mw_acc_get_acceleration_data_signal(d.board)\n",
    "gyro = libmetawear.mbl_mw_gyro_bmi160_get_rotation_data_signal(d.board)\n",
    "\n",
    "# Create a logger\n",
    "acc_logger = create_voidp(lambda fn: libmetawear.mbl_mw_datasignal_log(acc, None, fn), resource = \"acc_logger\")\n",
    "gyro_logger = create_voidp(lambda fn: libmetawear.mbl_mw_datasignal_log(gyro, None, fn), resource = \"gyro_logger\")\n",
    "\n",
    "# Start logger\n",
    "libmetawear.mbl_mw_logging_start(d.board, 0)\n",
    "# Turn on the accelerometer\n",
    "libmetawear.mbl_mw_acc_enable_acceleration_sampling(d.board)\n",
    "libmetawear.mbl_mw_gyro_bmi160_enable_rotation_sampling(d.board)\n",
    "libmetawear.mbl_mw_acc_start(d.board)\n",
    "libmetawear.mbl_mw_gyro_bmi160_start(d.board)\n",
    "\n",
    "\n",
    "print(\"Logging data for 5s\")\n",
    "sleep(5.0)\n",
    "\n",
    "# Turn off the accelerometer\n",
    "libmetawear.mbl_mw_acc_stop(d.board)\n",
    "libmetawear.mbl_mw_gyro_bmi160_stop(d.board)\n",
    "libmetawear.mbl_mw_acc_disable_acceleration_sampling(d.board)\n",
    "libmetawear.mbl_mw_gyro_bmi160_disable_rotation_sampling(d.board)\n",
    "# Stop logging\n",
    "libmetawear.mbl_mw_logging_stop(d.board)\n",
    "\n",
    "print(\"Downloading data\")\n",
    "# Callback function to handle logger entries as we download them\n",
    "def progress_update_handler(context, entries_left, total_entries):\n",
    "    if (entries_left == 0):\n",
    "        e.set()\n",
    "\n",
    "# Function pointer and handlers for the logger download (LogDownloadHandler -> in the cbindings)\n",
    "fn_wrapper = FnVoid_VoidP_UInt_UInt(progress_update_handler)\n",
    "download_handler = LogDownloadHandler(context = None, received_progress_update = fn_wrapper, received_unknown_entry = cast(None, FnVoid_VoidP_UByte_Long_UByteP_UByte), received_unhandled_entry = cast(None, FnVoid_VoidP_DataP))\n",
    "\n",
    "acc_data = {}\n",
    "gyro_data = {}\n",
    "\n",
    "def acc_data_handler(context, p):\n",
    "    parsed = parse_value(p)\n",
    "    acc_data[int(p.contents.epoch)] = {'x': parsed.x, 'y': parsed.y, 'z': parsed.z}\n",
    "    print(f'Sensor: acc, epoch: {p.contents.epoch}, values: {parsed}')\n",
    "\n",
    "def gyro_data_handler(context, p):\n",
    "    parsed = parse_value(p)\n",
    "    gyro_data[int(p.contents.epoch)] = {'x': parsed.x, 'y': parsed.y, 'z': parsed.z}\n",
    "    print(f'Sensor: gyro, epoch: {p.contents.epoch}, values: {parse_value(p)}')\n",
    "    \n",
    "acc_callback = FnVoid_VoidP_DataP(acc_data_handler)\n",
    "gyro_callback = FnVoid_VoidP_DataP(gyro_data_handler)\n",
    "\n",
    "# Stop logger\n",
    "libmetawear.mbl_mw_logger_subscribe(acc_logger, None, acc_callback)\n",
    "libmetawear.mbl_mw_logger_subscribe(gyro_logger, None, gyro_callback)\n",
    "\n",
    "# Download logger contents\n",
    "libmetawear.mbl_mw_logging_download(d.board, 0, byref(download_handler))\n",
    "e.wait()\n",
    "\n",
    "libmetawear.mbl_mw_logging_clear_entries(d.board)\n"
   ],
   "metadata": {
    "collapsed": false,
    "ExecuteTime": {
     "start_time": "2024-04-29T08:08:37.245688Z"
    }
   },
   "id": "1466360909699a4",
   "execution_count": null
  },
  {
   "cell_type": "code",
   "outputs": [
    {
     "name": "stdout",
     "output_type": "stream",
     "text": [
      "we are disconnected!\n"
     ]
    }
   ],
   "source": [
    "d.on_disconnect = lambda status: print (\"we are disconnected!\")\n",
    "d.disconnect()"
   ],
   "metadata": {
    "collapsed": false,
    "ExecuteTime": {
     "end_time": "2024-04-26T13:46:49.240803Z",
     "start_time": "2024-04-26T13:46:49.227458Z"
    }
   },
   "id": "55fd154a0bbb0390",
   "execution_count": 11
  },
  {
   "cell_type": "code",
   "outputs": [
    {
     "data": {
      "text/plain": "    Timestamp     x_acc     y_acc     z_acc    x_gyro    y_gyro    z_gyro\n0         0.0 -0.649902 -0.076172 -0.798340       NaN       NaN       NaN\n1        10.0 -0.656250 -0.075195 -0.807129  0.243902  0.609756  0.060976\n2        20.0 -0.655273 -0.072754 -0.805176 -0.182927  0.426829  0.304878\n3        29.0 -0.652344 -0.072266 -0.804688       NaN       NaN       NaN\n4        31.0       NaN       NaN       NaN -0.182927  0.548781  0.000000\n..        ...       ...       ...       ...       ...       ...       ...\n95      905.0 -0.650879 -0.074219 -0.807129 -0.182927  0.487805  0.060976\n96      915.0 -0.653320 -0.074707 -0.809082 -0.060976  0.426829  0.060976\n97      926.0 -0.653320 -0.074707 -0.809082 -0.121951  0.548781  0.060976\n98      934.0 -0.651367 -0.074219 -0.807617 -0.121951  0.609756  0.060976\n99      945.0 -0.651855 -0.075195 -0.807129 -0.060976  0.609756  0.121951\n\n[100 rows x 7 columns]",
      "text/html": "<div>\n<style scoped>\n    .dataframe tbody tr th:only-of-type {\n        vertical-align: middle;\n    }\n\n    .dataframe tbody tr th {\n        vertical-align: top;\n    }\n\n    .dataframe thead th {\n        text-align: right;\n    }\n</style>\n<table border=\"1\" class=\"dataframe\">\n  <thead>\n    <tr style=\"text-align: right;\">\n      <th></th>\n      <th>Timestamp</th>\n      <th>x_acc</th>\n      <th>y_acc</th>\n      <th>z_acc</th>\n      <th>x_gyro</th>\n      <th>y_gyro</th>\n      <th>z_gyro</th>\n    </tr>\n  </thead>\n  <tbody>\n    <tr>\n      <th>0</th>\n      <td>0.0</td>\n      <td>-0.649902</td>\n      <td>-0.076172</td>\n      <td>-0.798340</td>\n      <td>NaN</td>\n      <td>NaN</td>\n      <td>NaN</td>\n    </tr>\n    <tr>\n      <th>1</th>\n      <td>10.0</td>\n      <td>-0.656250</td>\n      <td>-0.075195</td>\n      <td>-0.807129</td>\n      <td>0.243902</td>\n      <td>0.609756</td>\n      <td>0.060976</td>\n    </tr>\n    <tr>\n      <th>2</th>\n      <td>20.0</td>\n      <td>-0.655273</td>\n      <td>-0.072754</td>\n      <td>-0.805176</td>\n      <td>-0.182927</td>\n      <td>0.426829</td>\n      <td>0.304878</td>\n    </tr>\n    <tr>\n      <th>3</th>\n      <td>29.0</td>\n      <td>-0.652344</td>\n      <td>-0.072266</td>\n      <td>-0.804688</td>\n      <td>NaN</td>\n      <td>NaN</td>\n      <td>NaN</td>\n    </tr>\n    <tr>\n      <th>4</th>\n      <td>31.0</td>\n      <td>NaN</td>\n      <td>NaN</td>\n      <td>NaN</td>\n      <td>-0.182927</td>\n      <td>0.548781</td>\n      <td>0.000000</td>\n    </tr>\n    <tr>\n      <th>...</th>\n      <td>...</td>\n      <td>...</td>\n      <td>...</td>\n      <td>...</td>\n      <td>...</td>\n      <td>...</td>\n      <td>...</td>\n    </tr>\n    <tr>\n      <th>95</th>\n      <td>905.0</td>\n      <td>-0.650879</td>\n      <td>-0.074219</td>\n      <td>-0.807129</td>\n      <td>-0.182927</td>\n      <td>0.487805</td>\n      <td>0.060976</td>\n    </tr>\n    <tr>\n      <th>96</th>\n      <td>915.0</td>\n      <td>-0.653320</td>\n      <td>-0.074707</td>\n      <td>-0.809082</td>\n      <td>-0.060976</td>\n      <td>0.426829</td>\n      <td>0.060976</td>\n    </tr>\n    <tr>\n      <th>97</th>\n      <td>926.0</td>\n      <td>-0.653320</td>\n      <td>-0.074707</td>\n      <td>-0.809082</td>\n      <td>-0.121951</td>\n      <td>0.548781</td>\n      <td>0.060976</td>\n    </tr>\n    <tr>\n      <th>98</th>\n      <td>934.0</td>\n      <td>-0.651367</td>\n      <td>-0.074219</td>\n      <td>-0.807617</td>\n      <td>-0.121951</td>\n      <td>0.609756</td>\n      <td>0.060976</td>\n    </tr>\n    <tr>\n      <th>99</th>\n      <td>945.0</td>\n      <td>-0.651855</td>\n      <td>-0.075195</td>\n      <td>-0.807129</td>\n      <td>-0.060976</td>\n      <td>0.609756</td>\n      <td>0.121951</td>\n    </tr>\n  </tbody>\n</table>\n<p>100 rows × 7 columns</p>\n</div>"
     },
     "execution_count": 10,
     "metadata": {},
     "output_type": "execute_result"
    }
   ],
   "source": [
    "all_epochs = sorted(set(list(acc_data.keys()) + list(gyro_data.keys())))\n",
    "data_df = pd.DataFrame(columns=['Timestamp', 'x_acc', 'y_acc', 'z_acc', 'x_gyro', 'y_gyro', 'z_gyro'])\n",
    "\n",
    "for epoch in all_epochs:\n",
    "    row = [float(epoch - all_epochs[0])]\n",
    "    if epoch in acc_data.keys() and epoch in gyro_data.keys():\n",
    "        row += [acc_data[epoch]['x'], acc_data[epoch]['y'], acc_data[epoch]['z'], gyro_data[epoch]['x'], gyro_data[epoch]['y'], gyro_data[epoch]['z']]\n",
    "    elif epoch in acc_data.keys():\n",
    "        row += [acc_data[epoch]['x'], acc_data[epoch]['y'], acc_data[epoch]['z'], nan, nan, nan]\n",
    "    else:\n",
    "        row += [nan, nan, nan, gyro_data[epoch]['x'], gyro_data[epoch]['y'], gyro_data[epoch]['z']]\n",
    "    data_df.loc[len(data_df)] = row\n",
    "    \n",
    "data_df.head(100)"
   ],
   "metadata": {
    "collapsed": false,
    "ExecuteTime": {
     "end_time": "2024-04-26T13:25:42.588050Z",
     "start_time": "2024-04-26T13:25:42.202172Z"
    }
   },
   "id": "14925c987c221048",
   "execution_count": 10
  },
  {
   "cell_type": "code",
   "outputs": [],
   "source": [
    "# d.connect()\n",
    "# # Stops data logging\n",
    "# libmetawear.mbl_mw_logging_stop(d.board)\n",
    "# # Clear the logger of saved entries\n",
    "# libmetawear.mbl_mw_logging_clear_entries(d.board)\n",
    "# Remove all macros on the flash memory\n",
    "libmetawear.mbl_mw_macro_erase_all(d.board)\n",
    "# Restarts the board after performing garbage collection\n",
    "libmetawear.mbl_mw_debug_reset_after_gc(d.board)\n",
    "print(\"Erase logger, state, and macros\")\n",
    "libmetawear.mbl_mw_debug_disconnect(d.board)\n",
    "d.disconnect()\n",
    "print(\"Disconnected\")"
   ],
   "metadata": {
    "collapsed": false,
    "ExecuteTime": {
     "start_time": "2024-04-29T08:02:35.643154Z"
    }
   },
   "id": "3d3a2cf7ef5c471d",
   "execution_count": null
  },
  {
   "cell_type": "code",
   "outputs": [],
   "source": [
    "libmetawear.mbl_mw_macro_erase_all(d.board)\n",
    "print(1)\n",
    "libmetawear.mbl_mw_debug_disconnect(d.board)\n",
    "print(2)\n",
    "d.disconnect()\n",
    "print(3)"
   ],
   "metadata": {
    "collapsed": false,
    "ExecuteTime": {
     "start_time": "2024-04-29T08:10:48.933332Z"
    }
   },
   "id": "3c506ef95a02bfd8",
   "execution_count": null
  },
  {
   "cell_type": "code",
   "outputs": [],
   "source": [],
   "metadata": {
    "collapsed": false
   },
   "id": "21ee5f334ad99095"
  }
 ],
 "metadata": {
  "kernelspec": {
   "display_name": "Python 3",
   "language": "python",
   "name": "python3"
  },
  "language_info": {
   "codemirror_mode": {
    "name": "ipython",
    "version": 2
   },
   "file_extension": ".py",
   "mimetype": "text/x-python",
   "name": "python",
   "nbconvert_exporter": "python",
   "pygments_lexer": "ipython2",
   "version": "2.7.6"
  }
 },
 "nbformat": 4,
 "nbformat_minor": 5
}
