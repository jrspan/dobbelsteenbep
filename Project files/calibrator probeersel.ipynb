{
 "cells": [
  {
   "cell_type": "code",
   "execution_count": 6,
   "id": "initial_id",
   "metadata": {
    "collapsed": true,
    "ExecuteTime": {
     "end_time": "2024-06-04T09:51:53.299443Z",
     "start_time": "2024-06-04T09:51:46.239751Z"
    }
   },
   "outputs": [],
   "source": [
    "import numpy as np\n",
    "from dobbel import dobbellogger\n",
    "from help_functies import *\n",
    "from calibrator3 import calibrate\n",
    "from matrix_helper import *\n",
    "import matplotlib.pyplot as plt\n",
    "import pandas as pd\n",
    "import time\n",
    "dob = dobbellogger()"
   ]
  },
  {
   "cell_type": "code",
   "outputs": [],
   "source": [
    "def calibrate(dob, logtime, waittime, freq, acc_range, gyro_range):\n",
    "    measurements = []\n",
    "    Y_list = []\n",
    "    for i, (column, sign) in zip(range(6), [(2, 1), (0, 1), (1, 1), (1, -1), (0, -1), (2, -1)]):\n",
    "        print(\"Leg de dobbelsteen met nummer \", i + 1, \" boven\")\n",
    "        print(f\"Wacht {waittime} secondes\")\n",
    "        time.sleep(waittime)\n",
    "        dob.connect()\n",
    "\n",
    "        #Log the data of the dice\n",
    "        dob.log(logtime, freq, acc_range, gyro_range)\n",
    "\n",
    "        # Download the logged data from the dice\n",
    "        dob.download()\n",
    "        data = dob.datadf\n",
    "        data = remove_nan(data)\n",
    "        data_arr = np.array([data['x_acc'], data['y_acc'], data['z_acc']])\n",
    "        measurements.append(data_arr.T)\n",
    "        y_arr = np.zeros((data_arr.shape[1], 3))\n",
    "        y_arr[:, column] = sign\n",
    "        Y_list.append(y_arr)\n",
    "    \n",
    "    Y = np.concatenate(Y_list)\n",
    "    \n",
    "    w = np.concatenate(measurements)\n",
    "    w = np.hstack((w, np.ones((w.shape[0], 1))))\n",
    "    \n",
    "    print(w.shape, Y.shape)\n",
    "    \n",
    "    X = np.matmul(np.matmul(np.linalg.inv(np.matmul(w.T, w)), w.T), Y)\n",
    "    \n",
    "    acc_bias = np.reshape(X[3, :], (3, 1))\n",
    "    acc_rotmat = X[0:3, :].T\n",
    "    \n",
    "    cali = {\n",
    "        'acc rotmat': acc_rotmat,\n",
    "        'acc bias': acc_bias\n",
    "    }\n",
    "\n",
    "    return cali"
   ],
   "metadata": {
    "collapsed": false,
    "ExecuteTime": {
     "end_time": "2024-06-04T10:02:22.166380Z",
     "start_time": "2024-06-04T10:02:22.158896Z"
    }
   },
   "id": "4cea0d7c85eef505",
   "execution_count": 19
  },
  {
   "cell_type": "code",
   "outputs": [
    {
     "name": "stdout",
     "output_type": "stream",
     "text": [
      "Leg de dobbelsteen met nummer  1  boven\n",
      "Wacht 1 secondes\n",
      "Logging data for 3s\n",
      "Downloading data\n",
      "Done! The data is located in self.datadf\n",
      "Leg de dobbelsteen met nummer  2  boven\n",
      "Wacht 1 secondes\n",
      "Logging data for 3s\n",
      "Downloading data\n",
      "Done! The data is located in self.datadf\n",
      "Leg de dobbelsteen met nummer  3  boven\n",
      "Wacht 1 secondes\n",
      "Logging data for 3s\n",
      "Downloading data\n",
      "Done! The data is located in self.datadf\n",
      "Leg de dobbelsteen met nummer  4  boven\n",
      "Wacht 1 secondes\n",
      "Logging data for 3s\n",
      "Downloading data\n",
      "Done! The data is located in self.datadf\n",
      "Leg de dobbelsteen met nummer  5  boven\n",
      "Wacht 1 secondes\n",
      "Logging data for 3s\n",
      "Downloading data\n",
      "Done! The data is located in self.datadf\n",
      "Leg de dobbelsteen met nummer  6  boven\n",
      "Wacht 1 secondes\n",
      "Logging data for 3s\n",
      "Downloading data\n",
      "Done! The data is located in self.datadf\n",
      "(1840, 4) (1840, 3)\n"
     ]
    }
   ],
   "source": [
    "cali = calibrate(dob, 3, 1, 100, 2, 125)"
   ],
   "metadata": {
    "collapsed": false,
    "ExecuteTime": {
     "end_time": "2024-06-04T10:03:53.541336Z",
     "start_time": "2024-06-04T10:02:23.263036Z"
    }
   },
   "id": "c5d57619b7cd2626",
   "execution_count": 20
  },
  {
   "cell_type": "code",
   "outputs": [
    {
     "name": "stdout",
     "output_type": "stream",
     "text": [
      "[[1 2]\n",
      " [3 4]\n",
      " [1 2]\n",
      " [3 4]\n",
      " [5 6]]\n"
     ]
    }
   ],
   "source": [
    "print(np.concatenate([np.array([[1,2],[3,4]]), np.array([[1,2],[3,4],[5,6]])]))"
   ],
   "metadata": {
    "collapsed": false,
    "ExecuteTime": {
     "end_time": "2024-06-04T09:54:38.234493Z",
     "start_time": "2024-06-04T09:54:38.229956Z"
    }
   },
   "id": "e225503b3fbf8f7d",
   "execution_count": 9
  },
  {
   "cell_type": "code",
   "outputs": [
    {
     "name": "stdout",
     "output_type": "stream",
     "text": [
      "[[-0.02536098  0.99892451  0.00277794]\n",
      " [ 0.77247654  0.02525039 -0.63044882]\n",
      " [-0.62355458 -0.01429244 -0.75850794]]\n",
      "[ 0.0153939   0.00340093 -0.01406814]\n"
     ]
    }
   ],
   "source": [
    "print(cali['acc rotmat'])\n",
    "print(cali['acc bias'])"
   ],
   "metadata": {
    "collapsed": false,
    "ExecuteTime": {
     "end_time": "2024-06-04T10:04:21.073608Z",
     "start_time": "2024-06-04T10:04:21.069212Z"
    }
   },
   "id": "68c92cd179d76891",
   "execution_count": 22
  },
  {
   "cell_type": "code",
   "outputs": [
    {
     "name": "stdout",
     "output_type": "stream",
     "text": [
      "Logging data for 5s\n",
      "Downloading data\n",
      "Done! The data is located in self.datadf\n"
     ]
    }
   ],
   "source": [
    "dob.connect()\n",
    "dob.log(5, 100, 4, 2000)\n",
    "dob.download()\n",
    "data = dob.datadf"
   ],
   "metadata": {
    "collapsed": false,
    "ExecuteTime": {
     "end_time": "2024-06-03T12:00:18.984166Z",
     "start_time": "2024-06-03T12:00:05.410681Z"
    }
   },
   "id": "4d63dd422fe42a36",
   "execution_count": 26
  },
  {
   "cell_type": "code",
   "outputs": [
    {
     "name": "stdout",
     "output_type": "stream",
     "text": [
      "timestamp 2490.2848605577688\n",
      "x_acc -0.6494816079255422\n",
      "y_acc -0.048303558670148954\n",
      "z_acc -0.8202234010513344\n",
      "x_gyro -0.1532727220931894\n",
      "y_gyro 0.4462615277641107\n",
      "z_gyro 0.04379267955400598\n"
     ]
    }
   ],
   "source": [
    "data = remove_nan(data)\n",
    "for column in data.columns:\n",
    "    print(column, np.mean(data[column]))"
   ],
   "metadata": {
    "collapsed": false,
    "ExecuteTime": {
     "end_time": "2024-06-03T12:00:19.055718Z",
     "start_time": "2024-06-03T12:00:18.985128Z"
    }
   },
   "id": "7c95354b64fa29ae",
   "execution_count": 27
  },
  {
   "cell_type": "code",
   "outputs": [
    {
     "data": {
      "text/plain": "     timestamp     x_acc     y_acc     z_acc    x_gyro    y_gyro    z_gyro\n0          0.0 -0.649048 -0.047852 -0.818848 -0.365854  0.731707  0.365854\n1         61.0 -0.648315 -0.047241 -0.822510 -0.304878  0.731707 -0.426829\n2         72.0 -0.648682 -0.046143 -0.822754 -0.121951  0.304878  0.121951\n3         81.0 -0.649048 -0.047852 -0.820435 -0.121951  0.548781  0.000000\n4         91.0 -0.651123 -0.049561 -0.821411 -0.121951  0.426829  0.060976\n..         ...       ...       ...       ...       ...       ...       ...\n497     4888.0 -0.650269 -0.048584 -0.820923 -0.182927  0.487805  0.060976\n498     4898.0 -0.650513 -0.049561 -0.818115 -0.060976  0.426829  0.000000\n499     4909.0 -0.648071 -0.050171 -0.818970 -0.182927  0.548781  0.121951\n500     4917.0 -0.650757 -0.050537 -0.820923 -0.060976  0.487805  0.000000\n501     4929.0 -0.650513 -0.048096 -0.819336 -0.060976  0.365854  0.060976\n\n[502 rows x 7 columns]",
      "text/html": "<div>\n<style scoped>\n    .dataframe tbody tr th:only-of-type {\n        vertical-align: middle;\n    }\n\n    .dataframe tbody tr th {\n        vertical-align: top;\n    }\n\n    .dataframe thead th {\n        text-align: right;\n    }\n</style>\n<table border=\"1\" class=\"dataframe\">\n  <thead>\n    <tr style=\"text-align: right;\">\n      <th></th>\n      <th>timestamp</th>\n      <th>x_acc</th>\n      <th>y_acc</th>\n      <th>z_acc</th>\n      <th>x_gyro</th>\n      <th>y_gyro</th>\n      <th>z_gyro</th>\n    </tr>\n  </thead>\n  <tbody>\n    <tr>\n      <th>0</th>\n      <td>0.0</td>\n      <td>-0.649048</td>\n      <td>-0.047852</td>\n      <td>-0.818848</td>\n      <td>-0.365854</td>\n      <td>0.731707</td>\n      <td>0.365854</td>\n    </tr>\n    <tr>\n      <th>1</th>\n      <td>61.0</td>\n      <td>-0.648315</td>\n      <td>-0.047241</td>\n      <td>-0.822510</td>\n      <td>-0.304878</td>\n      <td>0.731707</td>\n      <td>-0.426829</td>\n    </tr>\n    <tr>\n      <th>2</th>\n      <td>72.0</td>\n      <td>-0.648682</td>\n      <td>-0.046143</td>\n      <td>-0.822754</td>\n      <td>-0.121951</td>\n      <td>0.304878</td>\n      <td>0.121951</td>\n    </tr>\n    <tr>\n      <th>3</th>\n      <td>81.0</td>\n      <td>-0.649048</td>\n      <td>-0.047852</td>\n      <td>-0.820435</td>\n      <td>-0.121951</td>\n      <td>0.548781</td>\n      <td>0.000000</td>\n    </tr>\n    <tr>\n      <th>4</th>\n      <td>91.0</td>\n      <td>-0.651123</td>\n      <td>-0.049561</td>\n      <td>-0.821411</td>\n      <td>-0.121951</td>\n      <td>0.426829</td>\n      <td>0.060976</td>\n    </tr>\n    <tr>\n      <th>...</th>\n      <td>...</td>\n      <td>...</td>\n      <td>...</td>\n      <td>...</td>\n      <td>...</td>\n      <td>...</td>\n      <td>...</td>\n    </tr>\n    <tr>\n      <th>497</th>\n      <td>4888.0</td>\n      <td>-0.650269</td>\n      <td>-0.048584</td>\n      <td>-0.820923</td>\n      <td>-0.182927</td>\n      <td>0.487805</td>\n      <td>0.060976</td>\n    </tr>\n    <tr>\n      <th>498</th>\n      <td>4898.0</td>\n      <td>-0.650513</td>\n      <td>-0.049561</td>\n      <td>-0.818115</td>\n      <td>-0.060976</td>\n      <td>0.426829</td>\n      <td>0.000000</td>\n    </tr>\n    <tr>\n      <th>499</th>\n      <td>4909.0</td>\n      <td>-0.648071</td>\n      <td>-0.050171</td>\n      <td>-0.818970</td>\n      <td>-0.182927</td>\n      <td>0.548781</td>\n      <td>0.121951</td>\n    </tr>\n    <tr>\n      <th>500</th>\n      <td>4917.0</td>\n      <td>-0.650757</td>\n      <td>-0.050537</td>\n      <td>-0.820923</td>\n      <td>-0.060976</td>\n      <td>0.487805</td>\n      <td>0.000000</td>\n    </tr>\n    <tr>\n      <th>501</th>\n      <td>4929.0</td>\n      <td>-0.650513</td>\n      <td>-0.048096</td>\n      <td>-0.819336</td>\n      <td>-0.060976</td>\n      <td>0.365854</td>\n      <td>0.060976</td>\n    </tr>\n  </tbody>\n</table>\n<p>502 rows × 7 columns</p>\n</div>"
     },
     "execution_count": 28,
     "metadata": {},
     "output_type": "execute_result"
    }
   ],
   "source": [
    "data.head(1000)"
   ],
   "metadata": {
    "collapsed": false,
    "ExecuteTime": {
     "end_time": "2024-06-03T12:03:13.258237Z",
     "start_time": "2024-06-03T12:03:13.242844Z"
    }
   },
   "id": "46a81a0873b3d83d",
   "execution_count": 28
  },
  {
   "cell_type": "code",
   "outputs": [],
   "source": [
    "data['x_acc'] = data['x_acc'] - cali['acc bias'][0]\n",
    "data['y_acc'] = data['y_acc'] - cali['acc bias'][1]\n",
    "data['z_acc'] = data['z_acc'] - cali['acc bias'][2]"
   ],
   "metadata": {
    "collapsed": false,
    "ExecuteTime": {
     "end_time": "2024-06-03T12:03:15.710312Z",
     "start_time": "2024-06-03T12:03:15.705491Z"
    }
   },
   "id": "40cd1884669cde55",
   "execution_count": 29
  },
  {
   "cell_type": "code",
   "outputs": [
    {
     "data": {
      "text/plain": "     timestamp     x_acc     y_acc     z_acc    x_gyro    y_gyro    z_gyro\n0          0.0 -0.645060 -0.034433 -0.813114 -0.365854  0.731707  0.365854\n1         61.0 -0.644328 -0.033823 -0.816777 -0.304878  0.731707 -0.426829\n2         72.0 -0.644694 -0.032724 -0.817021 -0.121951  0.304878  0.121951\n3         81.0 -0.645060 -0.034433 -0.814701 -0.121951  0.548781  0.000000\n4         91.0 -0.647136 -0.036142 -0.815678 -0.121951  0.426829  0.060976\n..         ...       ...       ...       ...       ...       ...       ...\n497     4888.0 -0.646281 -0.035165 -0.815190 -0.182927  0.487805  0.060976\n498     4898.0 -0.646525 -0.036142 -0.812382 -0.060976  0.426829  0.000000\n499     4909.0 -0.644084 -0.036752 -0.813236 -0.182927  0.548781  0.121951\n500     4917.0 -0.646769 -0.037119 -0.815190 -0.060976  0.487805  0.000000\n501     4929.0 -0.646525 -0.034677 -0.813603 -0.060976  0.365854  0.060976\n\n[502 rows x 7 columns]",
      "text/html": "<div>\n<style scoped>\n    .dataframe tbody tr th:only-of-type {\n        vertical-align: middle;\n    }\n\n    .dataframe tbody tr th {\n        vertical-align: top;\n    }\n\n    .dataframe thead th {\n        text-align: right;\n    }\n</style>\n<table border=\"1\" class=\"dataframe\">\n  <thead>\n    <tr style=\"text-align: right;\">\n      <th></th>\n      <th>timestamp</th>\n      <th>x_acc</th>\n      <th>y_acc</th>\n      <th>z_acc</th>\n      <th>x_gyro</th>\n      <th>y_gyro</th>\n      <th>z_gyro</th>\n    </tr>\n  </thead>\n  <tbody>\n    <tr>\n      <th>0</th>\n      <td>0.0</td>\n      <td>-0.645060</td>\n      <td>-0.034433</td>\n      <td>-0.813114</td>\n      <td>-0.365854</td>\n      <td>0.731707</td>\n      <td>0.365854</td>\n    </tr>\n    <tr>\n      <th>1</th>\n      <td>61.0</td>\n      <td>-0.644328</td>\n      <td>-0.033823</td>\n      <td>-0.816777</td>\n      <td>-0.304878</td>\n      <td>0.731707</td>\n      <td>-0.426829</td>\n    </tr>\n    <tr>\n      <th>2</th>\n      <td>72.0</td>\n      <td>-0.644694</td>\n      <td>-0.032724</td>\n      <td>-0.817021</td>\n      <td>-0.121951</td>\n      <td>0.304878</td>\n      <td>0.121951</td>\n    </tr>\n    <tr>\n      <th>3</th>\n      <td>81.0</td>\n      <td>-0.645060</td>\n      <td>-0.034433</td>\n      <td>-0.814701</td>\n      <td>-0.121951</td>\n      <td>0.548781</td>\n      <td>0.000000</td>\n    </tr>\n    <tr>\n      <th>4</th>\n      <td>91.0</td>\n      <td>-0.647136</td>\n      <td>-0.036142</td>\n      <td>-0.815678</td>\n      <td>-0.121951</td>\n      <td>0.426829</td>\n      <td>0.060976</td>\n    </tr>\n    <tr>\n      <th>...</th>\n      <td>...</td>\n      <td>...</td>\n      <td>...</td>\n      <td>...</td>\n      <td>...</td>\n      <td>...</td>\n      <td>...</td>\n    </tr>\n    <tr>\n      <th>497</th>\n      <td>4888.0</td>\n      <td>-0.646281</td>\n      <td>-0.035165</td>\n      <td>-0.815190</td>\n      <td>-0.182927</td>\n      <td>0.487805</td>\n      <td>0.060976</td>\n    </tr>\n    <tr>\n      <th>498</th>\n      <td>4898.0</td>\n      <td>-0.646525</td>\n      <td>-0.036142</td>\n      <td>-0.812382</td>\n      <td>-0.060976</td>\n      <td>0.426829</td>\n      <td>0.000000</td>\n    </tr>\n    <tr>\n      <th>499</th>\n      <td>4909.0</td>\n      <td>-0.644084</td>\n      <td>-0.036752</td>\n      <td>-0.813236</td>\n      <td>-0.182927</td>\n      <td>0.548781</td>\n      <td>0.121951</td>\n    </tr>\n    <tr>\n      <th>500</th>\n      <td>4917.0</td>\n      <td>-0.646769</td>\n      <td>-0.037119</td>\n      <td>-0.815190</td>\n      <td>-0.060976</td>\n      <td>0.487805</td>\n      <td>0.000000</td>\n    </tr>\n    <tr>\n      <th>501</th>\n      <td>4929.0</td>\n      <td>-0.646525</td>\n      <td>-0.034677</td>\n      <td>-0.813603</td>\n      <td>-0.060976</td>\n      <td>0.365854</td>\n      <td>0.060976</td>\n    </tr>\n  </tbody>\n</table>\n<p>502 rows × 7 columns</p>\n</div>"
     },
     "execution_count": 30,
     "metadata": {},
     "output_type": "execute_result"
    }
   ],
   "source": [
    "data.head(1000)"
   ],
   "metadata": {
    "collapsed": false,
    "ExecuteTime": {
     "end_time": "2024-06-03T12:03:19.333386Z",
     "start_time": "2024-06-03T12:03:19.322491Z"
    }
   },
   "id": "fbdc83dcf211e300",
   "execution_count": 30
  },
  {
   "cell_type": "code",
   "outputs": [
    {
     "name": "stdout",
     "output_type": "stream",
     "text": [
      "Logging data for 3s\n",
      "Downloading data\n",
      "Done! The data is located in self.datadf\n"
     ]
    }
   ],
   "source": [
    "dob.connect()\n",
    "dob.log(3, 100, 2, 125)\n",
    "dob.download()\n",
    "data = dob.datadf\n",
    "data = remove_nan(data)\n",
    "data['x_acc'] = data['x_acc'] - cali['acc bias'][0]\n",
    "data['y_acc'] = data['y_acc'] - cali['acc bias'][1]\n",
    "data['z_acc'] = data['z_acc'] - cali['acc bias'][2]\n",
    "y_mean_1 = np.mean(np.array([data['x_acc'], data['y_acc'], data['z_acc']]), axis=1)"
   ],
   "metadata": {
    "collapsed": false,
    "ExecuteTime": {
     "end_time": "2024-06-03T12:19:18.880387Z",
     "start_time": "2024-06-03T12:19:10.492491Z"
    }
   },
   "id": "dfaefcea204ed022",
   "execution_count": 52
  },
  {
   "cell_type": "code",
   "outputs": [
    {
     "name": "stdout",
     "output_type": "stream",
     "text": [
      "Logging data for 10s\n",
      "Downloading data\n",
      "Done! The data is located in self.datadf\n"
     ]
    }
   ],
   "source": [
    "dob.connect()\n",
    "dob.log(3, 100, 2, 125)\n",
    "dob.download()\n",
    "data = dob.datadf\n",
    "data = remove_nan(data)\n",
    "data['x_acc'] = data['x_acc'] - cali['acc bias'][0]\n",
    "data['y_acc'] = data['y_acc'] - cali['acc bias'][1]\n",
    "data['z_acc'] = data['z_acc'] - cali['acc bias'][2]\n",
    "y_mean_2 = np.mean(np.array([data['x_acc'], data['y_acc'], data['z_acc']]), axis=1)"
   ],
   "metadata": {
    "collapsed": false,
    "ExecuteTime": {
     "end_time": "2024-06-03T12:20:03.512192Z",
     "start_time": "2024-06-03T12:19:20.959363Z"
    }
   },
   "id": "7397abf100b220df",
   "execution_count": 53
  },
  {
   "cell_type": "code",
   "outputs": [],
   "source": [
    "gb = y_mean_1 / np.linalg.norm(y_mean_1)\n",
    "gn = np.array([0, 0, 1])\n",
    "mb = np.cross(gb, np.cross(y_mean_2 / np.linalg.norm(y_mean_2), gb))\n",
    "mn = np.array([1, 0, 0])\n",
    "\n",
    "A = - np.matmul(left_quat_mul(np.array([0, *gn])), right_quat_mul(np.array([0, *gb]))) - np.matmul(left_quat_mul(np.array([0, *mn])), right_quat_mul(np.array([0, *mb])))\n",
    "eigenvalues, eigenvectors = np.linalg.eigh(A)\n",
    "max_eigenvalue_index = np.argmax(eigenvalues)\n",
    "max_eigenvector = eigenvectors[:, max_eigenvalue_index]\n",
    "q1 = max_eigenvector"
   ],
   "metadata": {
    "collapsed": false,
    "ExecuteTime": {
     "end_time": "2024-06-03T12:20:03.518707Z",
     "start_time": "2024-06-03T12:20:03.513193Z"
    }
   },
   "id": "b653c2fef444bec1",
   "execution_count": 54
  },
  {
   "cell_type": "code",
   "outputs": [
    {
     "name": "stdout",
     "output_type": "stream",
     "text": [
      "[-0.22690776 -0.66348662 -0.67259935  0.23644974]\n"
     ]
    }
   ],
   "source": [
    "print(q1)"
   ],
   "metadata": {
    "collapsed": false,
    "ExecuteTime": {
     "end_time": "2024-06-03T12:20:03.526371Z",
     "start_time": "2024-06-03T12:20:03.519230Z"
    }
   },
   "id": "b55d26fcd2a9a67c",
   "execution_count": 55
  },
  {
   "cell_type": "code",
   "outputs": [
    {
     "name": "stdout",
     "output_type": "stream",
     "text": [
      "Logging data for 5s\n",
      "Downloading data\n",
      "Done! The data is located in self.datadf\n"
     ]
    }
   ],
   "source": [
    "dob.connect()\n",
    "dob.log(5, 100, 4, 500)\n",
    "dob.download()\n",
    "data = dob.datadf"
   ],
   "metadata": {
    "collapsed": false,
    "ExecuteTime": {
     "end_time": "2024-06-03T12:20:17.016973Z",
     "start_time": "2024-06-03T12:20:03.528371Z"
    }
   },
   "id": "b3b417130e7f96f7",
   "execution_count": 56
  },
  {
   "cell_type": "code",
   "outputs": [],
   "source": [
    "data['x_acc'] = data['x_acc'] - cali['acc bias'][0]\n",
    "data['y_acc'] = data['y_acc'] - cali['acc bias'][1]\n",
    "data['z_acc'] = data['z_acc'] - cali['acc bias'][2]"
   ],
   "metadata": {
    "collapsed": false,
    "ExecuteTime": {
     "end_time": "2024-06-03T12:20:17.023422Z",
     "start_time": "2024-06-03T12:20:17.017969Z"
    }
   },
   "id": "ebe7699dfec96cbd",
   "execution_count": 57
  },
  {
   "cell_type": "code",
   "outputs": [],
   "source": [
    "rot_data = rotate_data(data, q1)"
   ],
   "metadata": {
    "collapsed": false,
    "ExecuteTime": {
     "end_time": "2024-06-03T12:20:17.385471Z",
     "start_time": "2024-06-03T12:20:17.024422Z"
    }
   },
   "id": "72ada7df62acb8c",
   "execution_count": 58
  },
  {
   "cell_type": "code",
   "outputs": [
    {
     "name": "stdout",
     "output_type": "stream",
     "text": [
      "timestamp 2466.753968253968\n",
      "x_acc 0.9851213054082968\n",
      "y_acc -0.012294273545748042\n",
      "z_acc 0.017233311226701728\n",
      "x_gyro 0.45262506757465343\n",
      "y_gyro -0.12986940928525784\n",
      "z_gyro 0.04092281887050569\n"
     ]
    }
   ],
   "source": [
    "rot_data = remove_nan(rot_data)\n",
    "for column in rot_data.columns:\n",
    "    print(column, np.mean(rot_data[column]))"
   ],
   "metadata": {
    "collapsed": false,
    "ExecuteTime": {
     "end_time": "2024-06-03T12:20:17.452469Z",
     "start_time": "2024-06-03T12:20:17.387469Z"
    }
   },
   "id": "b65b6a7a9b99006c",
   "execution_count": 59
  },
  {
   "cell_type": "code",
   "outputs": [],
   "source": [],
   "metadata": {
    "collapsed": false
   },
   "id": "582b2417891ee996"
  }
 ],
 "metadata": {
  "kernelspec": {
   "display_name": "Python 3",
   "language": "python",
   "name": "python3"
  },
  "language_info": {
   "codemirror_mode": {
    "name": "ipython",
    "version": 2
   },
   "file_extension": ".py",
   "mimetype": "text/x-python",
   "name": "python",
   "nbconvert_exporter": "python",
   "pygments_lexer": "ipython2",
   "version": "2.7.6"
  }
 },
 "nbformat": 4,
 "nbformat_minor": 5
}
