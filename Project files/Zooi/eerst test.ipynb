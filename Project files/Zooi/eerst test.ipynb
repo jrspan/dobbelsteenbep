{
 "cells": [
  {
   "cell_type": "code",
   "execution_count": 1,
   "id": "initial_id",
   "metadata": {
    "collapsed": true,
    "ExecuteTime": {
     "end_time": "2024-04-25T07:45:09.907086Z",
     "start_time": "2024-04-25T07:45:09.699595Z"
    }
   },
   "outputs": [],
   "source": [
    "from mbientlab.warble import *\n",
    "from mbientlab.metawear import *\n",
    "from threading import Event\n",
    "import time"
   ]
  },
  {
   "cell_type": "code",
   "outputs": [],
   "source": [
    "e = Event()\n",
    "address = None\n",
    "def device_discover_task(result):\n",
    "    global address\n",
    "    if (result.has_service_uuid(MetaWear.GATT_SERVICE)):\n",
    "        # grab the first discovered metawear device\n",
    "        address = result.mac\n",
    "        e.set()\n",
    "\n",
    "BleScanner.set_handler(device_discover_task)\n",
    "BleScanner.start()\n",
    "e.wait()\n",
    "\n",
    "BleScanner.stop()"
   ],
   "metadata": {
    "collapsed": false,
    "ExecuteTime": {
     "start_time": "2024-04-25T07:45:12.115902Z"
    }
   },
   "id": "5e6cbb3a5f7d77d0",
   "execution_count": null
  },
  {
   "cell_type": "code",
   "outputs": [],
   "source": [
    "print(address)"
   ],
   "metadata": {
    "collapsed": false
   },
   "id": "9a20f0e045a68611",
   "execution_count": null
  },
  {
   "cell_type": "code",
   "outputs": [
    {
     "ename": "WarbleException",
     "evalue": "Failed to discover gatt services (status = 1)",
     "output_type": "error",
     "traceback": [
      "\u001B[1;31m---------------------------------------------------------------------------\u001B[0m",
      "\u001B[1;31mWarbleException\u001B[0m                           Traceback (most recent call last)",
      "Cell \u001B[1;32mIn[4], line 2\u001B[0m\n\u001B[0;32m      1\u001B[0m device \u001B[38;5;241m=\u001B[39m MetaWear(address)\n\u001B[1;32m----> 2\u001B[0m \u001B[43mdevice\u001B[49m\u001B[38;5;241;43m.\u001B[39;49m\u001B[43mconnect\u001B[49m\u001B[43m(\u001B[49m\u001B[43m)\u001B[49m\n",
      "File \u001B[1;32m~\\AppData\\Local\\Programs\\Python\\Python311\\Lib\\site-packages\\mbientlab\\metawear\\metawear.py:407\u001B[0m, in \u001B[0;36mMetaWear.connect\u001B[1;34m(self, **kwargs)\u001B[0m\n\u001B[0;32m    404\u001B[0m e\u001B[38;5;241m.\u001B[39mwait()\n\u001B[0;32m    406\u001B[0m \u001B[38;5;28;01mif\u001B[39;00m (result[\u001B[38;5;241m0\u001B[39m] \u001B[38;5;241m!=\u001B[39m \u001B[38;5;28;01mNone\u001B[39;00m):\n\u001B[1;32m--> 407\u001B[0m     \u001B[38;5;28;01mraise\u001B[39;00m result[\u001B[38;5;241m0\u001B[39m]\n",
      "\u001B[1;31mWarbleException\u001B[0m: Failed to discover gatt services (status = 1)"
     ]
    }
   ],
   "source": [
    "device = MetaWear(address)\n",
    "device.connect()"
   ],
   "metadata": {
    "collapsed": false,
    "ExecuteTime": {
     "end_time": "2024-04-23T13:03:45.691638Z",
     "start_time": "2024-04-23T13:03:27.646187Z"
    }
   },
   "id": "e9fba1de88a37a2a",
   "execution_count": 4
  },
  {
   "cell_type": "code",
   "outputs": [],
   "source": [
    "# Create a pattern\n",
    "pattern= LedPattern(repeat_count= Const.LED_REPEAT_INDEFINITELY)\n",
    "\n",
    "# Load the LED with the pattern\n",
    "libmetawear.mbl_mw_led_load_preset_pattern(byref(pattern), LedPreset.SOLID)\n",
    "libmetawear.mbl_mw_led_write_pattern(device.board, byref(pattern), LedColor.GREEN)\n",
    "# Play the pattern\n",
    "libmetawear.mbl_mw_led_play(device.board)\n",
    "time.sleep(5)\n",
    "# Stop and clear the pattern from memory\n",
    "libmetawear.mbl_mw_led_stop_and_clear(device.board)"
   ],
   "metadata": {
    "collapsed": false,
    "ExecuteTime": {
     "end_time": "2024-04-23T11:58:04.758548Z",
     "start_time": "2024-04-23T11:57:59.752376Z"
    }
   },
   "id": "c670c347cde5554b",
   "execution_count": 6
  },
  {
   "cell_type": "code",
   "outputs": [
    {
     "ename": "NameError",
     "evalue": "name 'self' is not defined",
     "output_type": "error",
     "traceback": [
      "\u001B[1;31m---------------------------------------------------------------------------\u001B[0m",
      "\u001B[1;31mNameError\u001B[0m                                 Traceback (most recent call last)",
      "Cell \u001B[1;32mIn[7], line 2\u001B[0m\n\u001B[0;32m      1\u001B[0m \u001B[38;5;66;03m# Callback function pointer\u001B[39;00m\n\u001B[1;32m----> 2\u001B[0m callback \u001B[38;5;241m=\u001B[39m FnVoid_VoidP_DataP(\u001B[38;5;28;43mself\u001B[39;49m\u001B[38;5;241m.\u001B[39mdata_handler)\n\u001B[0;32m      4\u001B[0m \u001B[38;5;66;03m# Callback function to process/parse the gyroscope data\u001B[39;00m\n\u001B[0;32m      5\u001B[0m \u001B[38;5;28;01mdef\u001B[39;00m \u001B[38;5;21mdata_handler\u001B[39m(\u001B[38;5;28mself\u001B[39m, ctx, data):\n",
      "\u001B[1;31mNameError\u001B[0m: name 'self' is not defined"
     ]
    }
   ],
   "source": [
    "# Callback function pointer\n",
    "callback = FnVoid_VoidP_DataP(self.data_handler)\n",
    "\n",
    "# Callback function to process/parse the gyroscope data\n",
    "def data_handler(self, ctx, data):\n",
    "    print(\"%s -> %s\" % (self.device.address, parse_value(data)))\n",
    "\n",
    "# Setup the accelerometer sample frequency and range\n",
    "libmetawear.mbl_mw_acc_set_odr(device.board, 100.0)\n",
    "libmetawear.mbl_mw_acc_set_range(device.board, 16.0)\n",
    "libmetawear.mbl_mw_acc_write_acceleration_config(device.board)\n",
    "\n",
    "# Get the accelerometer data signal\n",
    "signal = libmetawear.mbl_mw_acc_get_acceleration_data_signal(device.board)\n",
    "# Subscribe to it\n",
    "libmetawear.mbl_mw_datasignal_subscribe(signal, None, callback)\n",
    "\n",
    "# Enable the accelerometer\n",
    "libmetawear.mbl_mw_acc_enable_acceleration_sampling(device.board)\n",
    "libmetawear.mbl_mw_acc_start(device.board)\n",
    "\n",
    "...\n",
    "\n",
    "# Disable the accelerometer\n",
    "libmetawear.mbl_mw_acc_stop(device.board)\n",
    "libmetawear.mbl_mw_acc_disable_acceleration_sampling(device.board)\n",
    "\n",
    "# Unsubscribe to it\n",
    "signal = libmetawear.mbl_mw_acc_get_acceleration_data_signal(device.board)\n",
    "libmetawear.mbl_mw_datasignal_unsubscribe(signal)\n",
    "libmetawear.mbl_mw_debug_disconnect(device.board)"
   ],
   "metadata": {
    "collapsed": false,
    "ExecuteTime": {
     "end_time": "2024-04-23T11:58:07.106474Z",
     "start_time": "2024-04-23T11:58:06.681076Z"
    }
   },
   "id": "dd3e3b242b995164",
   "execution_count": 7
  },
  {
   "cell_type": "code",
   "outputs": [],
   "source": [
    "device.on_disconnect = lambda status: print (\"we are disconnected!\")\n",
    "device.disconnect()"
   ],
   "metadata": {
    "collapsed": false,
    "ExecuteTime": {
     "end_time": "2024-04-23T13:04:25.547980Z",
     "start_time": "2024-04-23T13:04:25.544467Z"
    }
   },
   "id": "f6996eba8bea7595",
   "execution_count": 6
  },
  {
   "cell_type": "code",
   "outputs": [],
   "source": [],
   "metadata": {
    "collapsed": false
   },
   "id": "26e19f13ca7d8598"
  }
 ],
 "metadata": {
  "kernelspec": {
   "display_name": "Python 3",
   "language": "python",
   "name": "python3"
  },
  "language_info": {
   "codemirror_mode": {
    "name": "ipython",
    "version": 2
   },
   "file_extension": ".py",
   "mimetype": "text/x-python",
   "name": "python",
   "nbconvert_exporter": "python",
   "pygments_lexer": "ipython2",
   "version": "2.7.6"
  }
 },
 "nbformat": 4,
 "nbformat_minor": 5
}
