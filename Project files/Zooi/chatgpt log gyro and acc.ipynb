{
 "cells": [
  {
   "cell_type": "code",
   "execution_count": 1,
   "id": "initial_id",
   "metadata": {
    "collapsed": true,
    "ExecuteTime": {
     "end_time": "2024-04-26T10:47:44.138192Z",
     "start_time": "2024-04-26T10:47:43.843414Z"
    }
   },
   "outputs": [],
   "source": [
    "from mbientlab.metawear import MetaWear, libmetawear, parse_value, create_voidp, create_voidp_int\n",
    "from mbientlab.metawear.cbindings import *\n",
    "from ctypes import c_void_p, POINTER, CFUNCTYPE, cast, byref, c_uint, c_ubyte, c_longlong\n",
    "from threading import Event\n",
    "from time import sleep"
   ]
  },
  {
   "cell_type": "code",
   "outputs": [],
   "source": [
    "# Initialize device and connect\n",
    "d = MetaWear('D4:06:BD:85:8F:23')\n",
    "d.connect()\n",
    "e = Event()"
   ],
   "metadata": {
    "collapsed": false,
    "ExecuteTime": {
     "end_time": "2024-04-26T10:47:51.566283Z",
     "start_time": "2024-04-26T10:47:49.159300Z"
    }
   },
   "id": "8ac24cd0bdda8058",
   "execution_count": 3
  },
  {
   "cell_type": "code",
   "outputs": [
    {
     "data": {
      "text/plain": "True"
     },
     "execution_count": 4,
     "metadata": {},
     "output_type": "execute_result"
    }
   ],
   "source": [
    "def processor_created(context, pointer):\n",
    "    global processor\n",
    "    processor = pointer\n",
    "    e.set()\n",
    "\n",
    "# Function pointer\n",
    "fn_wrapper = FnVoid_VoidP_VoidP(processor_created)\n",
    "\n",
    "# Acc and gyro signals\n",
    "acc = libmetawear.mbl_mw_acc_get_acceleration_data_signal(d.board)\n",
    "gyro = libmetawear.mbl_mw_gyro_bmi160_get_rotation_data_signal(d.board)\n",
    "\n",
    "# Fuse the signals together\n",
    "signals = (c_void_p * 1)()\n",
    "signals[0] = gyro\n",
    "libmetawear.mbl_mw_dataprocessor_fuser_create(acc, signals, 1, None, fn_wrapper)\n",
    "e.wait()"
   ],
   "metadata": {
    "collapsed": false,
    "ExecuteTime": {
     "end_time": "2024-04-26T10:47:53.547555Z",
     "start_time": "2024-04-26T10:47:53.348488Z"
    }
   },
   "id": "a9e2196028da32b8",
   "execution_count": 4
  },
  {
   "cell_type": "code",
   "outputs": [
    {
     "name": "stderr",
     "output_type": "stream",
     "text": [
      "Exception ignored on calling ctypes callback function: <function create_voidp.<locals>.handler at 0x0000019E2DA6F9C0>\n",
      "Traceback (most recent call last):\n",
      "  File \"C:\\Users\\jelte\\AppData\\Local\\Programs\\Python\\Python311\\Lib\\site-packages\\mbientlab\\metawear\\__init__.py\", line 75, in handler\n",
      "    result[0] = RuntimeError(\"Could not create \" + (kwargs['resource'] if 'resource' in kwarg else \"resource\") ) if pointer == None else pointer\n",
      "                                                                                        ^^^^^\n",
      "NameError: name 'kwarg' is not defined\n"
     ]
    }
   ],
   "source": [
    "# Create a logger\n",
    "logger = create_voidp(lambda fn: libmetawear.mbl_mw_datasignal_log(processor, None, fn), resource = \"acc_gyro_logger\")\n",
    "\n",
    "# Start logger\n",
    "libmetawear.mbl_mw_logging_start(d.board, 0)\n",
    "# Turn on the accelerometer\n",
    "libmetawear.mbl_mw_acc_enable_acceleration_sampling(d.board)\n",
    "libmetawear.mbl_mw_gyro_bmi160_enable_rotation_sampling(d.board)\n",
    "libmetawear.mbl_mw_acc_start(d.board)\n",
    "libmetawear.mbl_mw_gyro_bmi160_start(d.board)\n",
    "\n",
    "\n",
    "print(\"Logging data for 5s\")\n",
    "sleep(5.0)\n",
    "\n",
    "# Turn off the accelerometer\n",
    "libmetawear.mbl_mw_acc_stop(d.board)\n",
    "libmetawear.mbl_mw_gyro_bmi160_stop(d.board)\n",
    "libmetawear.mbl_mw_acc_disable_acceleration_sampling(d.board)\n",
    "libmetawear.mbl_mw_gyro_bmi160_disable_rotation_sampling(d.board)\n",
    "# Stop logging\n",
    "libmetawear.mbl_mw_logging_stop(d.board)\n",
    "\n",
    "print(\"Downloading data\")\n",
    "# Callback function to handle logger entries as we download them\n",
    "def progress_update_handler(context, entries_left, total_entries):\n",
    "    if (entries_left == 0):\n",
    "        e.set()\n",
    "\n",
    "# Function pointer and handlers for the logger download (LogDownloadHandler -> in the cbindings)\n",
    "fn_wrapper2 = FnVoid_VoidP_UInt_UInt(progress_update_handler)\n",
    "download_handler = LogDownloadHandler(context = None, received_progress_update = fn_wrapper2, received_unknown_entry = cast(None, FnVoid_VoidP_UByte_Long_UByteP_UByte), received_unhandled_entry = cast(None, FnVoid_VoidP_DataP))\n",
    "callback = FnVoid_VoidP_DataP(lambda ctx, p: print(\"{epoch: %d, value: %s}\" % (p.contents.epoch, parse_value(p))))\n",
    "\n",
    "# Stop logger\n",
    "libmetawear.mbl_mw_logger_subscribe(logger, None, callback)\n",
    "\n",
    "# Download logger contents\n",
    "libmetawear.mbl_mw_logging_download(d.board, 0, byref(download_handler))\n",
    "e.wait()"
   ],
   "metadata": {
    "collapsed": false,
    "ExecuteTime": {
     "start_time": "2024-04-26T10:47:56.206019Z"
    }
   },
   "id": "1466360909699a4",
   "execution_count": null
  },
  {
   "cell_type": "code",
   "outputs": [
    {
     "name": "stdout",
     "output_type": "stream",
     "text": [
      "we are disconnected!\n"
     ]
    }
   ],
   "source": [
    "d.on_disconnect = lambda status: print (\"we are disconnected!\")\n",
    "d.disconnect()"
   ],
   "metadata": {
    "collapsed": false,
    "ExecuteTime": {
     "end_time": "2024-04-26T10:47:19.062847Z",
     "start_time": "2024-04-26T10:47:19.049683Z"
    }
   },
   "id": "55fd154a0bbb0390",
   "execution_count": 5
  },
  {
   "cell_type": "code",
   "outputs": [],
   "source": [],
   "metadata": {
    "collapsed": false
   },
   "id": "3d3a2cf7ef5c471d"
  }
 ],
 "metadata": {
  "kernelspec": {
   "display_name": "Python 3",
   "language": "python",
   "name": "python3"
  },
  "language_info": {
   "codemirror_mode": {
    "name": "ipython",
    "version": 2
   },
   "file_extension": ".py",
   "mimetype": "text/x-python",
   "name": "python",
   "nbconvert_exporter": "python",
   "pygments_lexer": "ipython2",
   "version": "2.7.6"
  }
 },
 "nbformat": 4,
 "nbformat_minor": 5
}
