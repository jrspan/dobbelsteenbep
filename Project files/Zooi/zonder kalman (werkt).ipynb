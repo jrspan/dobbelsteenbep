{
 "cells": [
  {
   "cell_type": "code",
   "execution_count": 1,
   "id": "initial_id",
   "metadata": {
    "collapsed": true,
    "jupyter": {
     "outputs_hidden": true
    },
    "ExecuteTime": {
     "end_time": "2024-05-28T09:13:16.145244Z",
     "start_time": "2024-05-28T09:13:05.379283Z"
    }
   },
   "outputs": [],
   "source": [
    "import numpy as np\n",
    "from dobbel import dobbellogger\n",
    "from help_functies import *\n",
    "from calibrator3 import calibrate\n",
    "import matplotlib.pyplot as plt\n",
    "dob = dobbellogger()"
   ]
  },
  {
   "cell_type": "code",
   "outputs": [
    {
     "name": "stdout",
     "output_type": "stream",
     "text": [
      "Leg de dobbelsteen met nummer  1  boven\n",
      "Wacht 1 secondes\n",
      "Logging data for 5s\n",
      "Downloading data\n",
      "Done! The data is located in self.datadf\n",
      "Leg de dobbelsteen met nummer  2  boven\n",
      "Wacht 1 secondes\n",
      "Logging data for 5s\n",
      "Downloading data\n",
      "Done! The data is located in self.datadf\n",
      "Leg de dobbelsteen met nummer  3  boven\n",
      "Wacht 1 secondes\n",
      "Logging data for 5s\n",
      "Downloading data\n",
      "Done! The data is located in self.datadf\n",
      "Leg de dobbelsteen met nummer  4  boven\n",
      "Wacht 1 secondes\n",
      "Logging data for 5s\n",
      "Downloading data\n",
      "Done! The data is located in self.datadf\n",
      "Leg de dobbelsteen met nummer  5  boven\n",
      "Wacht 1 secondes\n",
      "Logging data for 5s\n",
      "Downloading data\n",
      "Done! The data is located in self.datadf\n",
      "Leg de dobbelsteen met nummer  6  boven\n",
      "Wacht 1 secondes\n",
      "Logging data for 5s\n",
      "Downloading data\n",
      "Done! The data is located in self.datadf\n",
      "we are disconnected!\n"
     ]
    }
   ],
   "source": [
    "q_rot = np.array([-0.22710037, -0.65414379, -0.67313464, 0.25963642])\n",
    "cali = calibrate(dob, 5, 1, 400, 4, 125, q_rot)\n",
    "acc_std = cali['acc std']\n",
    "gyro_std = cali['gyro std']"
   ],
   "metadata": {
    "collapsed": false,
    "ExecuteTime": {
     "end_time": "2024-05-28T09:10:25.375543Z",
     "start_time": "2024-05-28T09:06:33.174136Z"
    }
   },
   "id": "ea941cea4a5d9d3b",
   "execution_count": 37
  },
  {
   "cell_type": "code",
   "outputs": [
    {
     "name": "stdout",
     "output_type": "stream",
     "text": [
      "{'gyro bias': array([ 0.51281181, -0.10657424,  0.02106275]), 'gyro std': array([0.08843774, 0.09883527, 0.0960409 ]), 'acc values': array([ 0.97569917, -1.01376193,  0.9979883 , -0.99747956,  1.04635858,\n",
      "       -0.97767413]), 'acc std': array([0.00271329, 0.00259782, 0.00238607])}\n"
     ]
    }
   ],
   "source": [
    "print(cali)"
   ],
   "metadata": {
    "collapsed": false,
    "ExecuteTime": {
     "end_time": "2024-05-28T09:10:29.148989Z",
     "start_time": "2024-05-28T09:10:29.145028Z"
    }
   },
   "id": "3409c9c80750f6fa",
   "execution_count": 38
  },
  {
   "cell_type": "code",
   "outputs": [
    {
     "name": "stdout",
     "output_type": "stream",
     "text": [
      "{'gyro bias': array([ 0.51281181, -0.10657424,  0.02106275]), 'gyro std': array([0.08843774, 0.09883527, 0.0960409 ]), 'acc values': array([ 0.97569917, -1.01376193,  0.9979883 , -0.99747956,  1.04635858,\n",
      "       -0.97767413]), 'acc std': array([0.00271329, 0.00259782, 0.00238607])}\n"
     ]
    }
   ],
   "source": [
    "cali = {'gyro bias': np.array([ 0.51281181, -0.10657424,  0.02106275]), 'gyro std': np.array([0.08843774, 0.09883527, 0.0960409 ]), 'acc values': np.array([ 0.97569917, -1.01376193,  0.9979883 , -0.99747956,  1.04635858, -0.97767413]), 'acc std': np.array([0.00271329, 0.00259782, 0.00238607])}\n",
    "print(cali)"
   ],
   "metadata": {
    "collapsed": false,
    "ExecuteTime": {
     "end_time": "2024-05-28T09:15:39.934611Z",
     "start_time": "2024-05-28T09:15:39.929298Z"
    }
   },
   "id": "85d007d230be13fc",
   "execution_count": 7
  },
  {
   "cell_type": "code",
   "outputs": [
    {
     "name": "stdout",
     "output_type": "stream",
     "text": [
      "Logging data for 30s\n"
     ]
    }
   ],
   "source": [
    "dob.connect()\n",
    "dob.log(30, 100, 4, 2000)\n",
    "dob.download()\n",
    "data = dob.datadf"
   ],
   "metadata": {
    "collapsed": false,
    "ExecuteTime": {
     "start_time": "2024-05-28T09:15:50.465983Z"
    }
   },
   "id": "84daf50c308afb41",
   "execution_count": null
  },
  {
   "cell_type": "code",
   "outputs": [],
   "source": [
    "# Deze code niet vaker dan 1 keer uitvoeren!\n",
    "data = remove_nan(data)\n",
    "q_rot = np.array([-0.22710037, -0.65414379, -0.67313464, 0.25963642])\n",
    "data = rotate_data(data, q_rot)"
   ],
   "metadata": {
    "collapsed": false,
    "ExecuteTime": {
     "end_time": "2024-05-28T09:15:44.842928Z",
     "start_time": "2024-05-28T09:15:42.790137Z"
    }
   },
   "id": "c912a89defe75b36",
   "execution_count": 8
  },
  {
   "cell_type": "code",
   "outputs": [
    {
     "ename": "NameError",
     "evalue": "name 'cali' is not defined",
     "output_type": "error",
     "traceback": [
      "\u001B[1;31m---------------------------------------------------------------------------\u001B[0m",
      "\u001B[1;31mNameError\u001B[0m                                 Traceback (most recent call last)",
      "Cell \u001B[1;32mIn[4], line 1\u001B[0m\n\u001B[1;32m----> 1\u001B[0m data_nb \u001B[38;5;241m=\u001B[39m remove_bias(data, \u001B[43mcali\u001B[49m)\n\u001B[0;32m      2\u001B[0m \u001B[38;5;28;01mfor\u001B[39;00m column \u001B[38;5;129;01min\u001B[39;00m data\u001B[38;5;241m.\u001B[39mcolumns:\n\u001B[0;32m      3\u001B[0m     \u001B[38;5;28mprint\u001B[39m(column, np\u001B[38;5;241m.\u001B[39mmean(data[column]))\n",
      "\u001B[1;31mNameError\u001B[0m: name 'cali' is not defined"
     ]
    }
   ],
   "source": [
    "data_nb = remove_bias(data, cali)\n",
    "for column in data.columns:\n",
    "    print(column, np.mean(data[column]))\n",
    "for column in data_nb.columns:\n",
    "    print(column, np.mean(data_nb[column]))"
   ],
   "metadata": {
    "collapsed": false,
    "ExecuteTime": {
     "end_time": "2024-05-28T09:15:18.203240Z",
     "start_time": "2024-05-28T09:15:17.569858Z"
    }
   },
   "id": "50081c8fb2bf2871",
   "execution_count": 4
  },
  {
   "cell_type": "code",
   "outputs": [],
   "source": [
    "y11 = np.array([data['x_acc'][0], data['y_acc'][0], data['z_acc'][0]])\n",
    "gb = y11 / np.linalg.norm(y11)\n",
    "gn = np.array([0, 0, 1])\n",
    "mn = np.array([1, 0, 0])\n",
    "mb = np.array([1, 0, 0])\n",
    "mb = np.cross(gb, np.cross(np.array([1,1,1]) / np.linalg.norm(np.array([1,1,1])), gb))\n",
    "\n",
    "A = - np.matmul(left_quat_mul(np.array([0, *gn])), right_quat_mul(np.array([0, *gb]))) - np.matmul(left_quat_mul(np.array([0, *mn])), right_quat_mul(np.array([0, *mb])))\n",
    "\n",
    "# Compute eigenvalues and eigenvectors\n",
    "eigenvalues, eigenvectors = np.linalg.eigh(A)\n",
    "\n",
    "# Eigenvalues are sorted in ascending order by np.linalg.eigh, \n",
    "# and the corresponding eigenvectors are columns of 'eigenvectors'\n",
    "max_eigenvalue_index = np.argmax(eigenvalues)\n",
    "max_eigenvector = eigenvectors[:, max_eigenvalue_index]"
   ],
   "metadata": {
    "collapsed": false
   },
   "id": "4a968a2b84632909",
   "execution_count": null
  },
  {
   "cell_type": "code",
   "outputs": [],
   "source": [
    "q11 = max_eigenvector"
   ],
   "metadata": {
    "collapsed": false
   },
   "id": "c02ce52458be9a35",
   "execution_count": null
  },
  {
   "cell_type": "code",
   "outputs": [],
   "source": [
    "print(rotate_vector(np.array([data['x_acc'][0], data['y_acc'][0], data['z_acc'][0]]), q11))"
   ],
   "metadata": {
    "collapsed": false,
    "ExecuteTime": {
     "start_time": "2024-05-28T09:15:18.208250Z"
    }
   },
   "id": "52bd92e8c13d2e7e",
   "execution_count": null
  },
  {
   "cell_type": "code",
   "execution_count": 6,
   "id": "a502aec344638953",
   "metadata": {
    "collapsed": false,
    "ExecuteTime": {
     "end_time": "2024-05-28T09:15:25.721880Z",
     "start_time": "2024-05-28T09:15:25.696895Z"
    }
   },
   "outputs": [
    {
     "ename": "NameError",
     "evalue": "name 'q11' is not defined",
     "output_type": "error",
     "traceback": [
      "\u001B[1;31m---------------------------------------------------------------------------\u001B[0m",
      "\u001B[1;31mNameError\u001B[0m                                 Traceback (most recent call last)",
      "Cell \u001B[1;32mIn[6], line 1\u001B[0m\n\u001B[1;32m----> 1\u001B[0m q \u001B[38;5;241m=\u001B[39m np\u001B[38;5;241m.\u001B[39mreshape(\u001B[43mq11\u001B[49m, \u001B[38;5;241m4\u001B[39m)\n\u001B[0;32m      2\u001B[0m q_list \u001B[38;5;241m=\u001B[39m [q]\n\u001B[0;32m      5\u001B[0m \u001B[38;5;28;01mfor\u001B[39;00m i \u001B[38;5;129;01min\u001B[39;00m \u001B[38;5;28mrange\u001B[39m(\u001B[38;5;241m1\u001B[39m, \u001B[38;5;28mlen\u001B[39m(data[\u001B[38;5;124m'\u001B[39m\u001B[38;5;124mtimestamp\u001B[39m\u001B[38;5;124m'\u001B[39m])):\n",
      "\u001B[1;31mNameError\u001B[0m: name 'q11' is not defined"
     ]
    }
   ],
   "source": [
    "q = np.reshape(q11, 4)\n",
    "q_list = [q]\n",
    "\n",
    "\n",
    "for i in range(1, len(data['timestamp'])):\n",
    "    dt = (data['timestamp'][i] - data['timestamp'][i - 1]) / 1000\n",
    "    gyro_measurement = np.array([data['x_gyro'][i], data['y_gyro'][i], data['z_gyro'][i]])\n",
    "    omega = gyro_measurement\n",
    "    expq_omega = expq(omega, 0.5 * dt * np.pi / 180)\n",
    "    q = quat_mul(q, expq_omega)\n",
    "    q_list.append(q)\n",
    "\n",
    "    "
   ]
  },
  {
   "cell_type": "code",
   "outputs": [],
   "source": [
    "print(q_list[0], q_list[-1])"
   ],
   "metadata": {
    "collapsed": false
   },
   "id": "77a16ce9fe811744",
   "execution_count": null
  },
  {
   "cell_type": "code",
   "outputs": [
    {
     "ename": "NameError",
     "evalue": "name 'q_list' is not defined",
     "output_type": "error",
     "traceback": [
      "\u001B[1;31m---------------------------------------------------------------------------\u001B[0m",
      "\u001B[1;31mNameError\u001B[0m                                 Traceback (most recent call last)",
      "Cell \u001B[1;32mIn[5], line 5\u001B[0m\n\u001B[0;32m      2\u001B[0m euler_y \u001B[38;5;241m=\u001B[39m []\n\u001B[0;32m      3\u001B[0m euler_z \u001B[38;5;241m=\u001B[39m []\n\u001B[1;32m----> 5\u001B[0m \u001B[38;5;28;01mfor\u001B[39;00m q, timestamp \u001B[38;5;129;01min\u001B[39;00m \u001B[38;5;28mzip\u001B[39m(\u001B[43mq_list\u001B[49m, data[\u001B[38;5;124m'\u001B[39m\u001B[38;5;124mtimestamp\u001B[39m\u001B[38;5;124m'\u001B[39m]):\n\u001B[0;32m      6\u001B[0m     euler \u001B[38;5;241m=\u001B[39m quaternion_to_euler(q) \u001B[38;5;241m*\u001B[39m \u001B[38;5;241m180\u001B[39m \u001B[38;5;241m/\u001B[39m np\u001B[38;5;241m.\u001B[39mpi\n\u001B[0;32m      7\u001B[0m     euler_x\u001B[38;5;241m.\u001B[39mappend(euler[\u001B[38;5;241m0\u001B[39m])\n",
      "\u001B[1;31mNameError\u001B[0m: name 'q_list' is not defined"
     ]
    }
   ],
   "source": [
    "euler_x = []\n",
    "euler_y = []\n",
    "euler_z = []\n",
    "\n",
    "for q, timestamp in zip(q_list, data['timestamp']):\n",
    "    euler = quaternion_to_euler(q) * 180 / np.pi\n",
    "    euler_x.append(euler[0])\n",
    "    euler_y.append(euler[1])\n",
    "    euler_z.append(euler[2])"
   ],
   "metadata": {
    "collapsed": false,
    "ExecuteTime": {
     "end_time": "2024-05-28T09:15:18.915543Z",
     "start_time": "2024-05-28T09:15:18.889992Z"
    }
   },
   "id": "94f1f83b60df1513",
   "execution_count": 5
  },
  {
   "cell_type": "code",
   "outputs": [],
   "source": [
    "plot3 = euler_x"
   ],
   "metadata": {
    "collapsed": false,
    "ExecuteTime": {
     "end_time": "2024-05-28T09:05:14.755847Z",
     "start_time": "2024-05-28T09:05:14.752841Z"
    }
   },
   "id": "d36dd255b9269cb",
   "execution_count": 35
  },
  {
   "cell_type": "code",
   "outputs": [
    {
     "data": {
      "text/plain": "[<matplotlib.lines.Line2D at 0x178eaf13350>]"
     },
     "execution_count": 36,
     "metadata": {},
     "output_type": "execute_result"
    },
    {
     "data": {
      "text/plain": "<Figure size 640x480 with 1 Axes>",
      "image/png": "[encoded data removed]"
     },
     "metadata": {},
     "output_type": "display_data"
    }
   ],
   "source": [
    "plt.plot(plot1)\n",
    "plt.plot(plot2)\n",
    "plt.plot(plot3)\n",
    "# plt.plot(euler_y)\n",
    "# plt.plot(euler_z)"
   ],
   "metadata": {
    "collapsed": false,
    "ExecuteTime": {
     "end_time": "2024-05-28T09:05:15.754097Z",
     "start_time": "2024-05-28T09:05:15.498492Z"
    }
   },
   "id": "8c72a98eafe2207",
   "execution_count": 36
  },
  {
   "cell_type": "code",
   "outputs": [],
   "source": [
    "def Somega(omega):\n",
    "    x, y, z = np.reshape(omega, 3)\n",
    "    out = np.array([\n",
    "        [0,-x,-y,-z],\n",
    "        [x,0,x,-y],\n",
    "        [y,-z,0,x],\n",
    "        [z,y,-x,0]\n",
    "    ])\n",
    "    return out\n",
    "\n",
    "def Sq(q):\n",
    "    q0, q1, q2, q3 = np.reshape(q, 4)\n",
    "    out = np.array([\n",
    "        [-q1,-q2,-q3],\n",
    "        [q0,-q3,q2],\n",
    "        [q3,q0,-q1],\n",
    "        [-q2,q1,q0]\n",
    "    ])\n",
    "    return out"
   ],
   "metadata": {
    "collapsed": false,
    "ExecuteTime": {
     "end_time": "2024-05-22T08:38:48.655056Z",
     "start_time": "2024-05-22T08:38:48.650188Z"
    }
   },
   "id": "6636a59de1228017",
   "execution_count": 42
  },
  {
   "cell_type": "code",
   "outputs": [],
   "source": [
    "q = np.reshape(q11, (4, 1))\n",
    "q_list = [q]\n",
    "I4 = np.array([\n",
    "    [1,0,0,0],\n",
    "    [0,1,0,0],\n",
    "    [0,0,1,0],\n",
    "    [0,0,0,1]\n",
    "])\n",
    "\n",
    "for i in range(1, len(data['timestamp'])):\n",
    "    dt = (data['timestamp'][i] - data['timestamp'][i - 1]) / 1000\n",
    "    omega = np.array([data['x_gyro'][i], data['y_gyro'][i], data['z_gyro'][i]]) * np.pi / 180\n",
    "    q = np.matmul(I4 + 0.5 * Somega(omega) * dt, q) + 0.5 * dt * np.matmul(Sq(q), np.reshape(omega, (3, 1)))\n",
    "    q = np.reshape(q, (4, 1))\n",
    "    q_list.append(q)\n",
    "\n",
    "    "
   ],
   "metadata": {
    "collapsed": false,
    "ExecuteTime": {
     "end_time": "2024-05-22T08:38:48.695867Z",
     "start_time": "2024-05-22T08:38:48.656065Z"
    }
   },
   "id": "c7621e38cc526c7e",
   "execution_count": 43
  },
  {
   "cell_type": "code",
   "outputs": [
    {
     "data": {
      "text/plain": "<Figure size 640x480 with 1 Axes>",
      "image/png": "[encoded data removed]"
     },
     "metadata": {},
     "output_type": "display_data"
    }
   ],
   "source": [
    "euler_x = []\n",
    "euler_y = []\n",
    "euler_z = []\n",
    "\n",
    "for q, timestamp in zip(q_list, data['timestamp']):\n",
    "    q = np.reshape(q, 4)\n",
    "    euler = quat_to_euler(q) * 180 / np.pi\n",
    "    euler_x.append(euler[0])\n",
    "    euler_y.append(euler[1])\n",
    "    euler_z.append(euler[2])\n",
    "\n",
    "plt.plot(euler_x)\n",
    "plt.plot(euler_y)\n",
    "plt.plot(euler_z)\n",
    "plt.show()"
   ],
   "metadata": {
    "collapsed": false,
    "ExecuteTime": {
     "end_time": "2024-05-22T08:38:48.832474Z",
     "start_time": "2024-05-22T08:38:48.696874Z"
    }
   },
   "id": "d0859608b20bdd06",
   "execution_count": 44
  },
  {
   "cell_type": "code",
   "outputs": [],
   "source": [],
   "metadata": {
    "collapsed": false,
    "ExecuteTime": {
     "end_time": "2024-05-21T12:06:16.982659Z",
     "start_time": "2024-05-21T12:06:16.978534Z"
    }
   },
   "id": "8e40a095563d7d66",
   "execution_count": 80
  },
  {
   "cell_type": "code",
   "outputs": [],
   "source": [],
   "metadata": {
    "collapsed": false
   },
   "id": "8af3bb5d3337361f"
  }
 ],
 "metadata": {
  "kernelspec": {
   "display_name": "Python 3 (ipykernel)",
   "language": "python",
   "name": "python3"
  },
  "language_info": {
   "codemirror_mode": {
    "name": "ipython",
    "version": 3
   },
   "file_extension": ".py",
   "mimetype": "text/x-python",
   "name": "python",
   "nbconvert_exporter": "python",
   "pygments_lexer": "ipython3",
   "version": "3.10.13"
  }
 },
 "nbformat": 4,
 "nbformat_minor": 5
}
