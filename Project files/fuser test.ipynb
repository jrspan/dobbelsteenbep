{
 "cells": [
  {
   "cell_type": "code",
   "execution_count": 38,
   "id": "initial_id",
   "metadata": {
    "collapsed": true,
    "ExecuteTime": {
     "end_time": "2024-04-25T09:15:27.573795Z",
     "start_time": "2024-04-25T09:15:27.569767Z"
    }
   },
   "outputs": [],
   "source": [
    "from mbientlab.metawear import MetaWear, libmetawear\n",
    "import mbientlab.metawear.cbindings as cbindings\n",
    "from ctypes import Structure, c_void_p, cast, POINTER, c_int, c_float\n",
    "from threading import Event\n",
    "from time import sleep"
   ]
  },
  {
   "cell_type": "code",
   "outputs": [],
   "source": [
    "# MAC address of the MetaWear device\n",
    "device_address = 'D4:06:BD:85:8F:23'\n",
    "\n",
    "# Create and connect the device\n",
    "device = MetaWear(device_address)\n",
    "device.connect()"
   ],
   "metadata": {
    "collapsed": false,
    "ExecuteTime": {
     "end_time": "2024-04-25T09:14:40.841981Z",
     "start_time": "2024-04-25T09:14:37.793129Z"
    }
   },
   "id": "8356ecdc5c8c5981",
   "execution_count": 36
  },
  {
   "cell_type": "code",
   "outputs": [],
   "source": [
    "class Data_array(Structure):\n",
    "    _fields_ = [(\"count\", c_int),\n",
    "                (\"values\", POINTER(c_float))]\n",
    "\n",
    "# Callback for data handling\n",
    "def data_handler(context, data):\n",
    "    value = cast(data.contents.value, POINTER(Data_array)).contents\n",
    "    print(value)\n"
   ],
   "metadata": {
    "collapsed": false,
    "ExecuteTime": {
     "end_time": "2024-04-25T09:15:29.471998Z",
     "start_time": "2024-04-25T09:15:29.467194Z"
    }
   },
   "id": "a2b0ca160b05e515",
   "execution_count": 39
  },
  {
   "cell_type": "code",
   "outputs": [
    {
     "ename": "OSError",
     "evalue": "exception: access violation reading 0x0000000000000000",
     "output_type": "error",
     "traceback": [
      "\u001B[1;31m---------------------------------------------------------------------------\u001B[0m",
      "\u001B[1;31mOSError\u001B[0m                                   Traceback (most recent call last)",
      "Cell \u001B[1;32mIn[40], line 24\u001B[0m\n\u001B[0;32m     21\u001B[0m e\u001B[38;5;241m.\u001B[39mwait()\n\u001B[0;32m     23\u001B[0m \u001B[38;5;66;03m# Subscribe to it\u001B[39;00m\n\u001B[1;32m---> 24\u001B[0m \u001B[43mlibmetawear\u001B[49m\u001B[38;5;241;43m.\u001B[39;49m\u001B[43mmbl_mw_datasignal_subscribe\u001B[49m\u001B[43m(\u001B[49m\u001B[43mprocessor\u001B[49m\u001B[43m,\u001B[49m\u001B[43m \u001B[49m\u001B[38;5;28;43;01mNone\u001B[39;49;00m\u001B[43m,\u001B[49m\u001B[43m \u001B[49m\u001B[43mcallback\u001B[49m\u001B[43m)\u001B[49m\n\u001B[0;32m     26\u001B[0m \u001B[38;5;66;03m# Start the gyro and acc\u001B[39;00m\n\u001B[0;32m     27\u001B[0m libmetawear\u001B[38;5;241m.\u001B[39mmbl_mw_gyro_bmi160_enable_rotation_sampling(device\u001B[38;5;241m.\u001B[39mboard)\n",
      "\u001B[1;31mOSError\u001B[0m: exception: access violation reading 0x0000000000000000"
     ]
    }
   ],
   "source": [
    "e = Event()\n",
    "callback = cbindings.FnVoid_VoidP_DataP(data_handler)\n",
    "\n",
    "# Callback for processor creation\n",
    "def processor_created(context, pointer):\n",
    "    global processor\n",
    "    processor = pointer\n",
    "    e.set()\n",
    "\n",
    "# Function pointer\n",
    "fn_wrapper = cbindings.FnVoid_VoidP_VoidP(processor_created)\n",
    "\n",
    "# Acc and gyro signals\n",
    "acc = libmetawear.mbl_mw_acc_get_acceleration_data_signal(device.board)\n",
    "gyro = libmetawear.mbl_mw_gyro_bmi160_get_rotation_data_signal(device.board)\n",
    "\n",
    "# Fuse the signals together\n",
    "signals = (c_void_p * 1)()\n",
    "signals[0] = gyro\n",
    "libmetawear.mbl_mw_dataprocessor_fuser_create(acc, signals, 1, None, fn_wrapper)\n",
    "e.wait()\n",
    "\n",
    "# Subscribe to it\n",
    "libmetawear.mbl_mw_datasignal_subscribe(processor, None, callback)\n",
    "\n",
    "# Start the gyro and acc\n",
    "libmetawear.mbl_mw_gyro_bmi160_enable_rotation_sampling(device.board)\n",
    "libmetawear.mbl_mw_acc_enable_acceleration_sampling(device.board)\n",
    "libmetawear.mbl_mw_gyro_bmi160_start(device.board)\n",
    "libmetawear.mbl_mw_acc_start(device.board)\n",
    "\n",
    "# Stream data for a duration (e.g., 30 seconds)\n",
    "sleep(5)\n",
    "\n",
    "# Stop and clean up\n",
    "libmetawear.mbl_mw_acc_stop(device.board)\n",
    "libmetawear.mbl_mw_acc_disable_acceleration_sampling(device.board)\n",
    "libmetawear.mbl_mw_datasignal_unsubscribe(processor)\n",
    "libmetawear.mbl_mw_debug_disconnect(device.board)\n",
    "print(\"Disconnected and cleaned up\")"
   ],
   "metadata": {
    "collapsed": false,
    "ExecuteTime": {
     "end_time": "2024-04-25T09:15:35.387295Z",
     "start_time": "2024-04-25T09:15:34.257849Z"
    }
   },
   "id": "6c43f826df570e57",
   "execution_count": 40
  },
  {
   "cell_type": "code",
   "outputs": [
    {
     "name": "stdout",
     "output_type": "stream",
     "text": [
      "we are disconnected!\n"
     ]
    }
   ],
   "source": [
    "device.on_disconnect = lambda status: print (\"we are disconnected!\")\n",
    "device.disconnect()"
   ],
   "metadata": {
    "collapsed": false,
    "ExecuteTime": {
     "end_time": "2024-04-25T09:14:21.797295Z",
     "start_time": "2024-04-25T09:14:21.792232Z"
    }
   },
   "id": "95844a5ae8c68495",
   "execution_count": 34
  },
  {
   "cell_type": "code",
   "outputs": [
    {
     "name": "stdout",
     "output_type": "stream",
     "text": [
      "2\n"
     ]
    }
   ],
   "source": [
    "print(cbindings.DataTypeId.CARTESIAN_FLOAT)"
   ],
   "metadata": {
    "collapsed": false,
    "ExecuteTime": {
     "end_time": "2024-04-25T08:47:56.617359Z",
     "start_time": "2024-04-25T08:47:56.613711Z"
    }
   },
   "id": "4162e79e9bebd46d",
   "execution_count": 14
  },
  {
   "cell_type": "code",
   "outputs": [],
   "source": [],
   "metadata": {
    "collapsed": false
   },
   "id": "91c9691a4462dca9"
  }
 ],
 "metadata": {
  "kernelspec": {
   "display_name": "Python 3",
   "language": "python",
   "name": "python3"
  },
  "language_info": {
   "codemirror_mode": {
    "name": "ipython",
    "version": 2
   },
   "file_extension": ".py",
   "mimetype": "text/x-python",
   "name": "python",
   "nbconvert_exporter": "python",
   "pygments_lexer": "ipython2",
   "version": "2.7.6"
  }
 },
 "nbformat": 4,
 "nbformat_minor": 5
}
