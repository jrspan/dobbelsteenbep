{
 "cells": [
  {
   "cell_type": "code",
   "execution_count": 1,
   "id": "initial_id",
   "metadata": {
    "collapsed": true,
    "ExecuteTime": {
     "end_time": "2024-05-28T09:26:19.094310Z",
     "start_time": "2024-05-28T09:26:11.682287Z"
    }
   },
   "outputs": [],
   "source": [
    "import numpy as np\n",
    "from dobbel import dobbellogger\n",
    "from help_functies import *\n",
    "from calibrator3 import calibrate\n",
    "import matplotlib.pyplot as plt\n",
    "dob = dobbellogger()"
   ]
  },
  {
   "cell_type": "code",
   "outputs": [
    {
     "name": "stdout",
     "output_type": "stream",
     "text": [
      "[ 0.23289724  0.6497377   0.66263071 -0.2907238 ]\n"
     ]
    }
   ],
   "source": [
    "q_rot = quat_mul(np.array([-0.22710037, -0.65414379, -0.67313464, 0.25963642]), np.array([-0.99943511, -0.01886059, 0.02776712, 0.00164969]))\n",
    "print(q_rot)"
   ],
   "metadata": {
    "collapsed": false,
    "ExecuteTime": {
     "end_time": "2024-05-28T09:32:30.043953Z",
     "start_time": "2024-05-28T09:32:30.040088Z"
    }
   },
   "id": "5105c108941adb3e",
   "execution_count": 9
  },
  {
   "cell_type": "code",
   "outputs": [
    {
     "name": "stdout",
     "output_type": "stream",
     "text": [
      "Leg de dobbelsteen met nummer  1  boven\n",
      "Wacht 2 secondes\n",
      "Logging data for 1s\n",
      "Downloading data\n",
      "Done! The data is located in self.datadf\n",
      "Leg de dobbelsteen met nummer  2  boven\n",
      "Wacht 2 secondes\n",
      "Logging data for 1s\n",
      "Downloading data\n",
      "Done! The data is located in self.datadf\n",
      "Leg de dobbelsteen met nummer  3  boven\n",
      "Wacht 2 secondes\n",
      "Logging data for 1s\n",
      "Downloading data\n",
      "Done! The data is located in self.datadf\n",
      "Leg de dobbelsteen met nummer  4  boven\n",
      "Wacht 2 secondes\n",
      "Logging data for 1s\n",
      "Downloading data\n",
      "Done! The data is located in self.datadf\n",
      "Leg de dobbelsteen met nummer  5  boven\n",
      "Wacht 2 secondes\n",
      "Logging data for 1s\n",
      "Downloading data\n",
      "Done! The data is located in self.datadf\n",
      "Leg de dobbelsteen met nummer  6  boven\n",
      "Wacht 2 secondes\n",
      "Logging data for 1s\n",
      "Downloading data\n",
      "Done! The data is located in self.datadf\n",
      "[array([0.1479903 , 0.14522   , 0.15095166]), array([0.14299344, 0.13460067, 0.1416334 ]), array([0.15063018, 0.14968696, 0.14627701]), array([0.13428895, 0.15150251, 0.14072514]), array([0.13556282, 0.15363444, 0.14541095]), array([0.13434471, 0.13610126, 0.12753081])]\n"
     ]
    }
   ],
   "source": [
    "q_rot = np.array([-0.22710037, -0.65414379, -0.67313464, 0.25963642])\n",
    "cali = calibrate(dob, 1, 2, 200, 4, 125, q_rot)"
   ],
   "metadata": {
    "collapsed": false,
    "ExecuteTime": {
     "end_time": "2024-05-27T13:50:32.453475Z",
     "start_time": "2024-05-27T13:49:38.271655Z"
    }
   },
   "id": "2efd569b5883c1e6",
   "execution_count": 4
  },
  {
   "cell_type": "code",
   "outputs": [],
   "source": [
    "cali = {'gyro bias': np.array([ 0.51281181, -0.10657424,  0.02106275]), 'gyro std': np.array([0.08843774, 0.09883527, 0.0960409 ]), 'acc values': np.array([ 0.97569917, -1.01376193,  0.9979883 , -0.99747956,  1.04635858, -0.97767413]), 'acc std': np.array([0.00271329, 0.00259782, 0.00238607])}\n",
    "q_rot = np.array([-0.22710037, -0.65414379, -0.67313464, 0.25963642])"
   ],
   "metadata": {
    "collapsed": false,
    "ExecuteTime": {
     "end_time": "2024-05-28T09:26:22.218839Z",
     "start_time": "2024-05-28T09:26:22.213839Z"
    }
   },
   "id": "e6392299a9461ad5",
   "execution_count": 2
  },
  {
   "cell_type": "code",
   "outputs": [
    {
     "name": "stdout",
     "output_type": "stream",
     "text": [
      "Logging data for 5s\n",
      "Downloading data\n",
      "Done! The data is located in self.datadf\n"
     ]
    }
   ],
   "source": [
    "dob.connect()\n",
    "dob.log(5, 100, 4, 2000)\n",
    "dob.download()\n",
    "data = dob.datadf\n",
    "data = remove_nan(data)"
   ],
   "metadata": {
    "collapsed": false,
    "ExecuteTime": {
     "end_time": "2024-05-27T13:51:03.268731Z",
     "start_time": "2024-05-27T13:50:42.607993Z"
    }
   },
   "id": "ef38fe3a86172c48",
   "execution_count": 5
  },
  {
   "cell_type": "code",
   "outputs": [
    {
     "name": "stdout",
     "output_type": "stream",
     "text": [
      "{'gyro bias': array([0.1409684 , 0.14512431, 0.14208816]), 'gyro std': array([0.27713381, 0.27749443, 0.2735894 ]), 'acc values': array([ 0.9746951 , -1.01509137,  0.99849026, -0.99695857,  1.04746421,\n",
      "       -0.97615529]), 'acc std': array([0.0019507 , 0.00161066, 0.00185445])}\n"
     ]
    }
   ],
   "source": [
    "print(cali)"
   ],
   "metadata": {
    "collapsed": false,
    "ExecuteTime": {
     "end_time": "2024-05-27T13:51:04.782969Z",
     "start_time": "2024-05-27T13:51:04.778221Z"
    }
   },
   "id": "f89c6f23e766a569",
   "execution_count": 6
  },
  {
   "cell_type": "code",
   "outputs": [
    {
     "data": {
      "text/plain": "     timestamp     x_acc     y_acc     z_acc    x_gyro    y_gyro    z_gyro\n0          0.0 -0.044208 -0.038586 -0.992335 -0.094467 -0.275780 -0.283180\n1         10.0 -0.045331 -0.039772 -1.002059  0.223600  0.174962  0.040313\n2         20.0 -0.045888 -0.041507 -0.998999  0.393512 -0.443085 -0.322975\n3         31.0 -0.046156 -0.041560 -0.999418  0.215417 -0.451877 -0.227565\n4         40.0 -0.047465 -0.039323 -0.998225  0.149523 -0.359433 -0.303078\n..         ...       ...       ...       ...       ...       ...       ...\n507     4878.0 -0.046270 -0.040462 -0.999066  0.339265 -0.411304 -0.187494\n508     4888.0 -0.045835 -0.041314 -1.000272  0.280878 -0.458383 -0.144942\n509     4897.0 -0.045728 -0.041032 -1.000512  0.214984 -0.365939 -0.220455\n510     4907.0 -0.046399 -0.040263 -1.001443  0.273803 -0.404798 -0.270117\n511     4917.0 -0.046046 -0.039211 -1.001547  0.215417 -0.451877 -0.227565\n\n[512 rows x 7 columns]",
      "text/html": "<div>\n<style scoped>\n    .dataframe tbody tr th:only-of-type {\n        vertical-align: middle;\n    }\n\n    .dataframe tbody tr th {\n        vertical-align: top;\n    }\n\n    .dataframe thead th {\n        text-align: right;\n    }\n</style>\n<table border=\"1\" class=\"dataframe\">\n  <thead>\n    <tr style=\"text-align: right;\">\n      <th></th>\n      <th>timestamp</th>\n      <th>x_acc</th>\n      <th>y_acc</th>\n      <th>z_acc</th>\n      <th>x_gyro</th>\n      <th>y_gyro</th>\n      <th>z_gyro</th>\n    </tr>\n  </thead>\n  <tbody>\n    <tr>\n      <th>0</th>\n      <td>0.0</td>\n      <td>-0.044208</td>\n      <td>-0.038586</td>\n      <td>-0.992335</td>\n      <td>-0.094467</td>\n      <td>-0.275780</td>\n      <td>-0.283180</td>\n    </tr>\n    <tr>\n      <th>1</th>\n      <td>10.0</td>\n      <td>-0.045331</td>\n      <td>-0.039772</td>\n      <td>-1.002059</td>\n      <td>0.223600</td>\n      <td>0.174962</td>\n      <td>0.040313</td>\n    </tr>\n    <tr>\n      <th>2</th>\n      <td>20.0</td>\n      <td>-0.045888</td>\n      <td>-0.041507</td>\n      <td>-0.998999</td>\n      <td>0.393512</td>\n      <td>-0.443085</td>\n      <td>-0.322975</td>\n    </tr>\n    <tr>\n      <th>3</th>\n      <td>31.0</td>\n      <td>-0.046156</td>\n      <td>-0.041560</td>\n      <td>-0.999418</td>\n      <td>0.215417</td>\n      <td>-0.451877</td>\n      <td>-0.227565</td>\n    </tr>\n    <tr>\n      <th>4</th>\n      <td>40.0</td>\n      <td>-0.047465</td>\n      <td>-0.039323</td>\n      <td>-0.998225</td>\n      <td>0.149523</td>\n      <td>-0.359433</td>\n      <td>-0.303078</td>\n    </tr>\n    <tr>\n      <th>...</th>\n      <td>...</td>\n      <td>...</td>\n      <td>...</td>\n      <td>...</td>\n      <td>...</td>\n      <td>...</td>\n      <td>...</td>\n    </tr>\n    <tr>\n      <th>507</th>\n      <td>4878.0</td>\n      <td>-0.046270</td>\n      <td>-0.040462</td>\n      <td>-0.999066</td>\n      <td>0.339265</td>\n      <td>-0.411304</td>\n      <td>-0.187494</td>\n    </tr>\n    <tr>\n      <th>508</th>\n      <td>4888.0</td>\n      <td>-0.045835</td>\n      <td>-0.041314</td>\n      <td>-1.000272</td>\n      <td>0.280878</td>\n      <td>-0.458383</td>\n      <td>-0.144942</td>\n    </tr>\n    <tr>\n      <th>509</th>\n      <td>4897.0</td>\n      <td>-0.045728</td>\n      <td>-0.041032</td>\n      <td>-1.000512</td>\n      <td>0.214984</td>\n      <td>-0.365939</td>\n      <td>-0.220455</td>\n    </tr>\n    <tr>\n      <th>510</th>\n      <td>4907.0</td>\n      <td>-0.046399</td>\n      <td>-0.040263</td>\n      <td>-1.001443</td>\n      <td>0.273803</td>\n      <td>-0.404798</td>\n      <td>-0.270117</td>\n    </tr>\n    <tr>\n      <th>511</th>\n      <td>4917.0</td>\n      <td>-0.046046</td>\n      <td>-0.039211</td>\n      <td>-1.001547</td>\n      <td>0.215417</td>\n      <td>-0.451877</td>\n      <td>-0.227565</td>\n    </tr>\n  </tbody>\n</table>\n<p>512 rows × 7 columns</p>\n</div>"
     },
     "execution_count": 7,
     "metadata": {},
     "output_type": "execute_result"
    }
   ],
   "source": [
    "data = rotate_data(data, q_rot)\n",
    "data_no_bias = remove_bias(data, cali)\n",
    "data_no_bias.head(2000)"
   ],
   "metadata": {
    "collapsed": false,
    "ExecuteTime": {
     "end_time": "2024-05-27T13:51:11.707063Z",
     "start_time": "2024-05-27T13:51:11.313505Z"
    }
   },
   "id": "e2954bd07a9ff072",
   "execution_count": 7
  },
  {
   "cell_type": "code",
   "outputs": [
    {
     "name": "stdout",
     "output_type": "stream",
     "text": [
      "-0.04480233226641969 -0.04055992958937724 -1.0005573618530466\n",
      "1.0023808613611567\n"
     ]
    }
   ],
   "source": [
    "print(np.mean(data_no_bias['x_acc']), np.mean(data_no_bias['y_acc']), np.mean(data_no_bias['z_acc']))\n",
    "print(np.linalg.norm(np.array([np.mean(data_no_bias['x_acc']), np.mean(data_no_bias['y_acc']), np.mean(data_no_bias['z_acc'])])))"
   ],
   "metadata": {
    "collapsed": false,
    "ExecuteTime": {
     "end_time": "2024-05-27T13:51:23.369772Z",
     "start_time": "2024-05-27T13:51:23.363487Z"
    }
   },
   "id": "cfc1173bd3b9b422",
   "execution_count": 8
  },
  {
   "cell_type": "code",
   "outputs": [
    {
     "name": "stdout",
     "output_type": "stream",
     "text": [
      "Logging data for 10s\n",
      "Downloading data\n",
      "Done! The data is located in self.datadf\n"
     ]
    }
   ],
   "source": [
    "dob.connect()\n",
    "dob.log(10, 200, 2, 125)\n",
    "dob.download()\n",
    "data = dob.datadf\n",
    "data = remove_nan(data)\n",
    "data = rotate_data(data, q_rot)\n",
    "data = remove_bias(data, cali)\n",
    "y_mean_1 = np.mean(np.array([data['x_acc'], data['y_acc'], data['z_acc']]), axis=1)"
   ],
   "metadata": {
    "collapsed": false,
    "ExecuteTime": {
     "end_time": "2024-05-28T09:29:35.227298Z",
     "start_time": "2024-05-28T09:28:24.424474Z"
    }
   },
   "id": "d44a0c3d20f5bd4e",
   "execution_count": 4
  },
  {
   "cell_type": "code",
   "outputs": [
    {
     "name": "stdout",
     "output_type": "stream",
     "text": [
      "Logging data for 10s\n",
      "Downloading data\n",
      "Done! The data is located in self.datadf\n"
     ]
    }
   ],
   "source": [
    "dob.connect()\n",
    "dob.log(10, 200, 2, 125)\n",
    "dob.download()\n",
    "data = dob.datadf\n",
    "data = remove_nan(data)\n",
    "data = rotate_data(data, q_rot)\n",
    "data = remove_bias(data, cali)\n",
    "y_mean_2 = np.mean(np.array([data['x_acc'], data['y_acc'], data['z_acc']]), axis=1)"
   ],
   "metadata": {
    "collapsed": false,
    "ExecuteTime": {
     "end_time": "2024-05-28T09:31:31.940739Z",
     "start_time": "2024-05-28T09:30:07.854675Z"
    }
   },
   "id": "88a7e09bfd96d831",
   "execution_count": 5
  },
  {
   "cell_type": "code",
   "outputs": [],
   "source": [
    "gb = y_mean_1 / np.linalg.norm(y_mean_1)\n",
    "gn = np.array([0, 0, 1])\n",
    "mb = np.cross(gb, np.cross(y_mean_2 / np.linalg.norm(y_mean_2), gb))\n",
    "mn = np.array([1, 0, 0])\n",
    "\n",
    "A = - np.matmul(left_quat_mul(np.array([0, *gn])), right_quat_mul(np.array([0, *gb]))) - np.matmul(left_quat_mul(np.array([0, *mn])), right_quat_mul(np.array([0, *mb])))\n",
    "eigenvalues, eigenvectors = np.linalg.eigh(A)\n",
    "max_eigenvalue_index = np.argmax(eigenvalues)\n",
    "max_eigenvector = eigenvectors[:, max_eigenvalue_index]\n",
    "q1 = max_eigenvector"
   ],
   "metadata": {
    "collapsed": false,
    "ExecuteTime": {
     "end_time": "2024-05-28T09:31:35.203460Z",
     "start_time": "2024-05-28T09:31:35.197713Z"
    }
   },
   "id": "3ce55d4733989c5",
   "execution_count": 6
  },
  {
   "cell_type": "code",
   "outputs": [
    {
     "name": "stdout",
     "output_type": "stream",
     "text": [
      "[-0.99943511 -0.01886059  0.02776712  0.00164969]\n"
     ]
    }
   ],
   "source": [
    "print(q1)"
   ],
   "metadata": {
    "collapsed": false,
    "ExecuteTime": {
     "end_time": "2024-05-28T09:31:37.439659Z",
     "start_time": "2024-05-28T09:31:37.435779Z"
    }
   },
   "id": "3d6973bf78826bd9",
   "execution_count": 7
  },
  {
   "cell_type": "code",
   "outputs": [
    {
     "name": "stdout",
     "output_type": "stream",
     "text": [
      "[ 0.12912106 -3.18528593 -2.1586388 ]\n"
     ]
    }
   ],
   "source": [
    "print(quaternion_to_euler(q1) * 180 / np.pi)"
   ],
   "metadata": {
    "collapsed": false,
    "ExecuteTime": {
     "end_time": "2024-05-28T09:31:38.611097Z",
     "start_time": "2024-05-28T09:31:38.606263Z"
    }
   },
   "id": "6b4d284d00c1e0cf",
   "execution_count": 8
  },
  {
   "cell_type": "code",
   "outputs": [
    {
     "name": "stdout",
     "output_type": "stream",
     "text": [
      "Logging data for 5s\n",
      "Downloading data\n",
      "Done! The data is located in self.datadf\n"
     ]
    }
   ],
   "source": [
    "dob.connect()\n",
    "dob.log(5, 100, 4, 2000)\n",
    "dob.download()\n",
    "data = dob.datadf\n",
    "data = remove_nan(data)"
   ],
   "metadata": {
    "collapsed": false,
    "ExecuteTime": {
     "end_time": "2024-05-27T10:25:28.731376Z",
     "start_time": "2024-05-27T10:25:08.367581Z"
    }
   },
   "id": "3848a9d8660da7a5",
   "execution_count": 10
  },
  {
   "cell_type": "code",
   "outputs": [],
   "source": [
    "for i, row in data.iterrows():\n",
    "    data.loc[i, 'x_acc'], data.loc[i, 'y_acc'], data.loc[i, 'z_acc'] = rotate_vector(np.array([row['x_acc'], row['y_acc'], row['z_acc']]), q_cali)\n",
    "    data.loc[i, 'x_gyro'], data.loc[i, 'y_gyro'], data.loc[i, 'z_gyro'] = rotate_vector(np.array([row['x_gyro'], row['y_gyro'], row['z_gyro']]), q_cali)\n",
    "\n",
    "for i, row in data.iterrows():\n",
    "    data.loc[i, 'x_acc'], data.loc[i, 'y_acc'], data.loc[i, 'z_acc'] = rotate_vector(np.array([row['x_acc'], row['y_acc'], row['z_acc']]), q1)\n",
    "    data.loc[i, 'x_gyro'], data.loc[i, 'y_gyro'], data.loc[i, 'z_gyro'] = rotate_vector(np.array([row['x_gyro'], row['y_gyro'], row['z_gyro']]), q1)"
   ],
   "metadata": {
    "collapsed": false,
    "ExecuteTime": {
     "end_time": "2024-05-27T10:25:30.936990Z",
     "start_time": "2024-05-27T10:25:30.274003Z"
    }
   },
   "id": "75cac2975aca6189",
   "execution_count": 11
  },
  {
   "cell_type": "code",
   "outputs": [
    {
     "name": "stdout",
     "output_type": "stream",
     "text": [
      "[ 0.4069107   0.68120302 -0.60237636]\n"
     ]
    }
   ],
   "source": [
    "y_mean = np.mean(np.array([data['x_acc'], data['y_acc'], data['z_acc']]), axis=1)\n",
    "print(y_mean)"
   ],
   "metadata": {
    "collapsed": false,
    "ExecuteTime": {
     "end_time": "2024-05-27T10:25:31.545004Z",
     "start_time": "2024-05-27T10:25:31.540342Z"
    }
   },
   "id": "bbfd0ddda84c25f1",
   "execution_count": 12
  },
  {
   "cell_type": "code",
   "outputs": [],
   "source": [],
   "metadata": {
    "collapsed": false
   },
   "id": "f460274eae55fb88"
  },
  {
   "cell_type": "code",
   "outputs": [],
   "source": [],
   "metadata": {
    "collapsed": false
   },
   "id": "ed8bf6729303be1"
  },
  {
   "cell_type": "code",
   "outputs": [],
   "source": [],
   "metadata": {
    "collapsed": false
   },
   "id": "fe10d794d5ea9e29"
  }
 ],
 "metadata": {
  "kernelspec": {
   "display_name": "Python 3",
   "language": "python",
   "name": "python3"
  },
  "language_info": {
   "codemirror_mode": {
    "name": "ipython",
    "version": 2
   },
   "file_extension": ".py",
   "mimetype": "text/x-python",
   "name": "python",
   "nbconvert_exporter": "python",
   "pygments_lexer": "ipython2",
   "version": "2.7.6"
  }
 },
 "nbformat": 4,
 "nbformat_minor": 5
}
