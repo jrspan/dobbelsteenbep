{
 "cells": [
  {
   "cell_type": "code",
   "execution_count": 1,
   "id": "initial_id",
   "metadata": {
    "collapsed": true,
    "ExecuteTime": {
     "end_time": "2024-05-23T08:35:11.231166Z",
     "start_time": "2024-05-23T08:35:10.938038Z"
    }
   },
   "outputs": [],
   "source": [
    "import numpy as np\n",
    "from help_functies import *"
   ]
  },
  {
   "cell_type": "code",
   "outputs": [],
   "source": [
    "def quat_to_rotmat(q):\n",
    "    q0, q1, q2, q3 = q\n",
    "    mat = np.array([\n",
    "        [2*q0**2+2*q1**2-1, 2*q1*q2-2*q0*q3, 2*q1*q3+2*q0*q2],\n",
    "        [2*q1*q2+2*q0*q3, 2*q0**2+2*q2**2-1, 2*q2*q3-2*q0*q1],\n",
    "        [2*q1*q3-2*q0*q2, 2*q2*q3+2*q0*q1, 2*q0**2+2*q3**2-1]\n",
    "    ])\n",
    "    return mat"
   ],
   "metadata": {
    "collapsed": false,
    "ExecuteTime": {
     "end_time": "2024-05-23T08:35:15.941653Z",
     "start_time": "2024-05-23T08:35:15.935929Z"
    }
   },
   "id": "1ead800ecba374cc",
   "execution_count": 2
  },
  {
   "cell_type": "code",
   "outputs": [
    {
     "name": "stdout",
     "output_type": "stream",
     "text": [
      "[ 0.98058067 -0.19611612  0.        ]\n",
      "(3,)\n"
     ]
    }
   ],
   "source": [
    "quat = np.array([0.20490834, -0.67676626, -0.20490834, -0.67676626])\n",
    "vec = np.array([0, 0.5*2**0.5, 0.5*2**0.5])\n",
    "print(rotate_vector(vec, quat))\n",
    "print(np.matmul(quat_to_rotmat(quat), vec).shape)"
   ],
   "metadata": {
    "collapsed": false,
    "ExecuteTime": {
     "end_time": "2024-05-23T08:38:45.686545Z",
     "start_time": "2024-05-23T08:38:45.681856Z"
    }
   },
   "id": "68a77790cea06fda",
   "execution_count": 4
  },
  {
   "cell_type": "code",
   "outputs": [],
   "source": [],
   "metadata": {
    "collapsed": false
   },
   "id": "e7ae223639ed57e6"
  }
 ],
 "metadata": {
  "kernelspec": {
   "display_name": "Python 3",
   "language": "python",
   "name": "python3"
  },
  "language_info": {
   "codemirror_mode": {
    "name": "ipython",
    "version": 2
   },
   "file_extension": ".py",
   "mimetype": "text/x-python",
   "name": "python",
   "nbconvert_exporter": "python",
   "pygments_lexer": "ipython2",
   "version": "2.7.6"
  }
 },
 "nbformat": 4,
 "nbformat_minor": 5
}
