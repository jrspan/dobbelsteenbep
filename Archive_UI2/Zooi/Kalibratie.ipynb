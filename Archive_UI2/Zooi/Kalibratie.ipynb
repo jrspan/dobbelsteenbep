{
 "cells": [
  {
   "cell_type": "code",
   "execution_count": 1,
   "id": "initial_id",
   "metadata": {
    "collapsed": true,
    "ExecuteTime": {
     "end_time": "2024-05-19T13:48:43.320645Z",
     "start_time": "2024-05-19T13:48:42.581503Z"
    }
   },
   "outputs": [],
   "source": [
    "import numpy as np\n",
    "import pandas as pd\n",
    "import time\n",
    "from dobbel import dobbellogger\n",
    "import warnings\n",
    "warnings.simplefilter(action='ignore', category=FutureWarning)"
   ]
  },
  {
   "cell_type": "code",
   "outputs": [],
   "source": [
    "def expq(vector, multiplier=1):\n",
    "    x, y, z = vector[0] * multiplier, vector[1] * multiplier, vector[2] * multiplier\n",
    "    absq = (x ** 2 + y ** 2 + z ** 2) ** 1 / 2\n",
    "    w = np.cos(absq)\n",
    "    sinabs = np.sin(absq)\n",
    "    xq = x * sinabs / absq\n",
    "    yq = y * sinabs / absq\n",
    "    zq = z * sinabs / absq\n",
    "    return np.array([w, xq, yq, zq])\n",
    "\n",
    "\n",
    "def quat_mul(p, q):\n",
    "    p0 = p[0]\n",
    "    q0 = q[0]\n",
    "    pv = p[1:]\n",
    "    qv = q[1:]\n",
    "    out0 = p0 * q0 - np.dot(pv, qv)\n",
    "    outv = p0 * qv + q0 * pv + np.cross(pv, qv)\n",
    "    out = np.array([out0, *outv])\n",
    "    return out\n",
    "\n",
    "def quaternion_conjugate(q):\n",
    "    w, x, y, z = q\n",
    "    return np.array([w, -x, -y, -z])\n",
    "\n",
    "\n",
    "# Actual Rotation Fuction - Input = Acceleration vector = 1x3 , rotation_quaternion = 1*4\n",
    "def rotate_vector(vector, rotation_quaternion):\n",
    "    # Convert the vector to a quaternion\n",
    "    vector_quaternion = np.concatenate(([0], vector))\n",
    "\n",
    "    # Calculate the rotated quaternion\n",
    "    rotated_quaternion = quat_mul(rotation_quaternion,\n",
    "                                  quat_mul(vector_quaternion, quaternion_conjugate(rotation_quaternion)))\n",
    "\n",
    "    # Extract the rotated vector from the quaternion\n",
    "    rotated_vector = rotated_quaternion[1:]\n",
    "\n",
    "    return np.array(rotated_vector)\n",
    "\n",
    "def remove_nan(df):\n",
    "    counter = 0\n",
    "    nan = True\n",
    "    while nan:\n",
    "        if not df.loc[counter].isna().any():\n",
    "            nan = False\n",
    "        counter += 1\n",
    "    for i in range(counter - 1):\n",
    "        df = df.drop(index=i)\n",
    "    df = df.reset_index(drop=True)\n",
    "    counter = len(df) - 1\n",
    "    nan = True\n",
    "    while nan:\n",
    "        if not df.loc[counter].isna().any():\n",
    "            nan = False\n",
    "        counter -= 1\n",
    "    maxlen = len(df)\n",
    "    for i in range(maxlen - 1, counter + 1, -1):\n",
    "        df = df.drop(index=i)\n",
    "    df = df.reset_index(drop=True)\n",
    "    for i in range(len(df)):\n",
    "        df['timestamp'][i] = df['timestamp'][i] - df['timestamp'][0]\n",
    "    for i in range(len(df)):\n",
    "        for column in df.columns:\n",
    "            if np.isnan(df[column][i]):\n",
    "                deler = (df['timestamp'][i] - df['timestamp'][i - 1]) / (df['timestamp'][i + 1] - df['timestamp'][i - 1])\n",
    "                df[column][i] = df[column][i - 1] + deler * (df[column][i + 1] - df[column][i - 1])\n",
    "    return df"
   ],
   "metadata": {
    "collapsed": false,
    "ExecuteTime": {
     "end_time": "2024-05-19T13:48:43.336704Z",
     "start_time": "2024-05-19T13:48:43.322651Z"
    }
   },
   "id": "7dd48b0dc83e967a",
   "execution_count": 2
  },
  {
   "cell_type": "code",
   "outputs": [],
   "source": [
    "def rotate_data(data):\n",
    "    angle = np.deg2rad(-39)\n",
    "    rotate_y = np.array([[np.cos(angle),0,np.sin(angle)], [0,1,0],[-np.sin(angle),0,np.cos(angle)]])\n",
    "    trace = np.trace(rotate_y)\n",
    "    q_0 = np.sqrt(1+trace)/2\n",
    "    q_2 = 1/(4*q_0) * (np.sin(angle)+np.sin(angle))\n",
    "    q_rotate = np.array([q_0,0,q_2,0])\n",
    "    for i, row in data.iterrows():\n",
    "        data.loc[i, 'x_acc'], data.loc[i, 'y_acc'], data.loc[i, 'z_acc'] = rotate_vector(np.array([row['x_acc'], row['y_acc'], row['z_acc']]), q_rotate)\n",
    "        data.loc[i, 'x_gyro'], data.loc[i, 'y_gyro'], data.loc[i, 'z_gyro'] = rotate_vector(np.array([row['x_gyro'], row['y_gyro'], row['z_gyro']]), q_rotate)\n",
    "    return data"
   ],
   "metadata": {
    "collapsed": false,
    "ExecuteTime": {
     "end_time": "2024-05-19T13:48:43.344462Z",
     "start_time": "2024-05-19T13:48:43.337713Z"
    }
   },
   "id": "3abc7cf65f3eedaf",
   "execution_count": 3
  },
  {
   "cell_type": "code",
   "outputs": [],
   "source": [
    "dob = dobbellogger()"
   ],
   "metadata": {
    "collapsed": false,
    "ExecuteTime": {
     "end_time": "2024-05-19T13:49:15.657808Z",
     "start_time": "2024-05-19T13:49:06.707562Z"
    }
   },
   "id": "67a131985dc89656",
   "execution_count": 5
  },
  {
   "cell_type": "code",
   "outputs": [
    {
     "name": "stdout",
     "output_type": "stream",
     "text": [
      "Leg de dobbelsteen met nummer  1  boven\n",
      "wacht 3 secondes\n",
      "Logging data for 2s\n",
      "Downloading data\n",
      "Done! The data is located in self.datadf\n",
      "Leg de dobbelsteen met nummer  2  boven\n",
      "wacht 3 secondes\n",
      "Logging data for 2s\n",
      "Downloading data\n",
      "Done! The data is located in self.datadf\n",
      "Leg de dobbelsteen met nummer  3  boven\n",
      "wacht 3 secondes\n",
      "Logging data for 2s\n",
      "Downloading data\n",
      "Done! The data is located in self.datadf\n"
     ]
    }
   ],
   "source": [
    "# Create rotated accelerometer lists\n",
    "xr_acc_list = []\n",
    "yr_acc_list = []\n",
    "zr_acc_list = []\n",
    "xr_acc_stds_list = []\n",
    "yr_acc_stds_list = []\n",
    "zr_acc_stds_list = []\n",
    "\n",
    "# Create rotated gyroscope lists\n",
    "xr_gyro_list = []\n",
    "yr_gyro_list = []\n",
    "zr_gyro_list = []\n",
    "xr_gyro_stds_list = []\n",
    "yr_gyro_stds_list = []\n",
    "zr_gyro_stds_list = []\n",
    "\n",
    "for i in range(1, 4):\n",
    "    print(\"Leg de dobbelsteen met nummer \", i, \" boven\")\n",
    "    print(\"wacht 3 secondes\")\n",
    "    time.sleep(3)\n",
    "    dob.connect()\n",
    "\n",
    "    #Log the data of the dice\n",
    "    dob.log(2, 200, 8, 125)\n",
    "    \n",
    "    # Download the logged data from the dice\n",
    "    dob.download()\n",
    "    data = dob.datadf\n",
    "    data = remove_nan(data)\n",
    "    data = rotate_data(data)\n",
    "\n",
    "    # Calculate the means of the accelerometer output\n",
    "    x_acc = np.mean(data['x_acc'])\n",
    "    y_acc = np.mean(data['y_acc'])\n",
    "    z_acc = np.mean(data['z_acc'])\n",
    "    acc_means = np.array([x_acc,y_acc,z_acc])\n",
    "  \n",
    "    #Calculate the standard deviations of the accelerometer output\n",
    "    x_std = np.std(data['x_acc'])\n",
    "    y_std = np.std(data['y_acc'])\n",
    "    z_std = np.std(data['z_acc'])\n",
    "    acc_stds = np.array([x_std, y_std, z_std])\n",
    "    \n",
    "    #Append the rotated means of the accelerometer to the list\n",
    "    xr_acc_list.append(acc_means[0])\n",
    "    yr_acc_list.append(acc_means[1])\n",
    "    zr_acc_list.append(acc_means[2])\n",
    "    \n",
    "    #Append the rotated standard deviations of the accelerometer to the list\n",
    "    xr_acc_stds_list.append(acc_stds[0])\n",
    "    yr_acc_stds_list.append(acc_stds[1])\n",
    "    zr_acc_stds_list.append(acc_stds[2])\n",
    "    \n",
    "    # Calculate the means of the gyroscope output\n",
    "    x_gyro = np.mean(data['x_gyro'])\n",
    "    y_gyro = np.mean(data['y_gyro'])\n",
    "    z_gyro = np.mean(data['z_gyro'])\n",
    "    gyro_means = np.array([x_gyro, y_gyro, z_gyro])\n",
    "    \n",
    "    # Calculate the standard deviations of the gyroscope output\n",
    "    x_gyro_std = np.std(data['x_gyro'])\n",
    "    y_gyro_std = np.std(data['y_gyro'])\n",
    "    z_gyro_std = np.std(data['z_gyro'])\n",
    "    gyro_stds = np.array([x_gyro_std, y_gyro_std, z_gyro_std])\n",
    "    \n",
    "    # Append the rotated means of the gyroscope output to the list\n",
    "    xr_gyro_list.append(gyro_means[0])\n",
    "    yr_gyro_list.append(gyro_means[1])\n",
    "    zr_gyro_list.append(gyro_means[2])\n",
    "\n",
    "    # Append the rotated standard deviations of the gyroscope output to the list\n",
    "    xr_gyro_stds_list.append(gyro_stds[0])\n",
    "    yr_gyro_stds_list.append(gyro_stds[1])\n",
    "    zr_gyro_stds_list.append(gyro_stds[2])\n",
    "\n",
    "#Create DataFrames from the list of rotated accelerometer means and standard deviations\n",
    "acc_means_init_df = pd.DataFrame({\"xr_acc\": xr_acc_list, \"yr_acc\": yr_acc_list, \"zr_acc\": zr_acc_list})\n",
    "acc_stds_init_df = pd.DataFrame({\"xr_std\": xr_acc_stds_list, \"yr_std\": yr_acc_stds_list, \"zr_std\": zr_acc_stds_list})\n",
    "\n",
    "# Create DataFrames from the list of gyroscope means and standard deviations\n",
    "gyro_df = pd.DataFrame({'xr_gyro': xr_gyro_list, 'yr_gyro': yr_gyro_list, 'zr_gyro': zr_gyro_list})\n",
    "gyro_stds_df = pd.DataFrame({'xr_gyro_std': xr_gyro_stds_list, 'yr_gyro_std': yr_gyro_stds_list, 'zr_gyro_std': zr_gyro_stds_list})\n",
    "    \n",
    "dob.reset()"
   ],
   "metadata": {
    "collapsed": false,
    "ExecuteTime": {
     "end_time": "2024-05-19T13:49:54.020197Z",
     "start_time": "2024-05-19T13:49:18.257125Z"
    }
   },
   "id": "7d88f087e2426638",
   "execution_count": 6
  },
  {
   "cell_type": "code",
   "outputs": [
    {
     "name": "stdout",
     "output_type": "stream",
     "text": [
      "accelerometer bias =  [ 0.00462698  0.02152201 -0.04949736]\n",
      "accelerometer std =  [0.00175222 0.00147331 0.00173477]\n",
      "gyroscope bias = [-0.10488443  0.48133019 -0.05951701]\n",
      "gyroscope std = [0.07516983 0.06670297 0.07491398]\n"
     ]
    }
   ],
   "source": [
    "# Calibration algorithm\n",
    "# Remove the gravity for the bias of the accelerometer\n",
    "xr_bias_acc = 1-np.abs(xr_acc_list[2])\n",
    "yr_bias_acc = 1-np.abs(yr_acc_list[1])\n",
    "zr_bias_acc = 1-np.abs(zr_acc_list[0])\n",
    "bias = np.array([xr_bias_acc, yr_bias_acc, zr_bias_acc])\n",
    "print(\"accelerometer bias = \", bias)\n",
    "\n",
    "# Accelerometer standard deviations\n",
    "xr_std = xr_acc_stds_list[2]\n",
    "yr_std = yr_acc_stds_list[1]\n",
    "zr_std = zr_acc_stds_list[0]\n",
    "acc_std = np.array([xr_std, yr_std, zr_std])\n",
    "print(\"accelerometer std = \", acc_stds)\n",
    "\n",
    "# Biases for the gyroscope\n",
    "xr_gyro_bias = np.mean(gyro_df['xr_gyro'])\n",
    "yr_gyro_bias = np.mean(gyro_df['yr_gyro'])\n",
    "zr_gyro_bias = np.mean(gyro_df['zr_gyro'])\n",
    "gyro_bias = np.array([xr_gyro_bias,yr_gyro_bias,zr_gyro_bias])\n",
    "print(\"gyroscope bias =\", gyro_bias)\n",
    "\n",
    "# Standard deviations for the gyroscope\n",
    "xr_gyro_std = np.mean(gyro_stds_df['xr_gyro_std'])\n",
    "yr_gyro_std = np.mean(gyro_stds_df['yr_gyro_std'])\n",
    "zr_gyro_std = np.mean(gyro_stds_df['zr_gyro_std'])\n",
    "gyro_std = np.array([xr_gyro_std, yr_gyro_std, zr_gyro_std])\n",
    "print(\"gyroscope std =\", gyro_std)"
   ],
   "metadata": {
    "collapsed": false,
    "ExecuteTime": {
     "end_time": "2024-05-19T13:50:17.071504Z",
     "start_time": "2024-05-19T13:50:17.061548Z"
    }
   },
   "id": "c4317efdfddc0a95",
   "execution_count": 7
  },
  {
   "cell_type": "markdown",
   "source": [],
   "metadata": {
    "collapsed": false
   },
   "id": "7207d3a183ebbcce"
  },
  {
   "cell_type": "code",
   "outputs": [],
   "source": [
    "print(data)"
   ],
   "metadata": {
    "collapsed": false
   },
   "id": "6c46090a1482c8e0",
   "execution_count": null
  },
  {
   "cell_type": "code",
   "outputs": [],
   "source": [],
   "metadata": {
    "collapsed": false
   },
   "id": "306058fe6436b661",
   "execution_count": null
  }
 ],
 "metadata": {
  "kernelspec": {
   "display_name": "Python 3",
   "language": "python",
   "name": "python3"
  },
  "language_info": {
   "codemirror_mode": {
    "name": "ipython",
    "version": 2
   },
   "file_extension": ".py",
   "mimetype": "text/x-python",
   "name": "python",
   "nbconvert_exporter": "python",
   "pygments_lexer": "ipython2",
   "version": "2.7.6"
  }
 },
 "nbformat": 4,
 "nbformat_minor": 5
}
